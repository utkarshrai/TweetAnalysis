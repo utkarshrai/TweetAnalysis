{
 "cells": [
  {
   "cell_type": "markdown",
   "metadata": {},
   "source": [
    "# Step by Step Tweet Sentiment Analysis using Pattern.web and Graphlab"
   ]
  },
  {
   "cell_type": "markdown",
   "metadata": {},
   "source": [
    "This is a simple tutorial for anyone who is attempting their initial Tweet analysis.\n",
    "We're breaking it down into neat steps.\n",
    "\n",
    "Essentially any machine prediction requires data and one human judgement to make the predictions using an algorithm.\n",
    "\n",
    "The human judgement could be inbuilt in a library itself,( for example several libraries have a pre-built list of positive and negative words) or you may have define a 1 and 0 yourself. We're following the latter approach in this example (though we're also using a classifier)."
   ]
  },
  {
   "cell_type": "markdown",
   "metadata": {},
   "source": [
    "STEP 1: Import the required modules.\n",
    "Perform: pip install pattern and it'll install the package.\n",
    "You'll need to install Graphlab. It was open source but has now been acquired by Apple, it's still free for all non-commercial sources. Check if you need a key."
   ]
  },
  {
   "cell_type": "code",
   "execution_count": 1,
   "metadata": {
    "collapsed": true
   },
   "outputs": [],
   "source": [
    "import graphlab"
   ]
  },
  {
   "cell_type": "markdown",
   "metadata": {},
   "source": [
    "NOTE: pattern.web only works on python2 for now, the team is working on upgrading to python3, so keep that in mind."
   ]
  },
  {
   "cell_type": "code",
   "execution_count": 2,
   "metadata": {
    "collapsed": true
   },
   "outputs": [],
   "source": [
    "from pattern.web import Twitter, plaintext"
   ]
  },
  {
   "cell_type": "markdown",
   "metadata": {},
   "source": [
    "I'll set the language to English so that I can later apply a linear classifier. It gets really messy with other unicode characters."
   ]
  },
  {
   "cell_type": "code",
   "execution_count": 3,
   "metadata": {
    "collapsed": true
   },
   "outputs": [],
   "source": [
    "twitter=Twitter(language='en')"
   ]
  },
  {
   "cell_type": "markdown",
   "metadata": {},
   "source": [
    "STEP2: I hope you have an understanding of loops(please!) and the following is clear. We've saved 100 tweets of a hastag in an Excel file on our compter."
   ]
  },
  {
   "cell_type": "code",
   "execution_count": 4,
   "metadata": {
    "collapsed": true
   },
   "outputs": [],
   "source": [
    "from openpyxl import Workbook\n",
    "\n",
    "wb = Workbook()\n",
    "\n",
    "ws = wb.active\n",
    "\n",
    "row_cell = 2\n",
    "\n",
    "for tweet in twitter.search('\"#BanABVP\"', start=1, count=100, cached=False):\n",
    "    column_cell = 'A'\n",
    "    ws[column_cell+str(row_cell+1)] = tweet.text\n",
    "    row_cell=row_cell+1\n",
    "wb.save(\"row_creation_loop.xlsx\")"
   ]
  },
  {
   "cell_type": "markdown",
   "metadata": {},
   "source": [
    "Even if you're reading the word pandas for the first time, chuck it, the only purpose of using it was to assist in making SFrames later. Manipulating pandas is really easy and ir's a fun library to learn. For now, think of it as a mediator in converting excel to Sframes."
   ]
  },
  {
   "cell_type": "code",
   "execution_count": 5,
   "metadata": {
    "collapsed": true
   },
   "outputs": [],
   "source": [
    "import pandas as pd\n",
    "df=pd.read_excel('row_creation_loop.xlsx')"
   ]
  },
  {
   "cell_type": "markdown",
   "metadata": {},
   "source": [
    "Our Dataframe lacks a column heading. Let's give it one."
   ]
  },
  {
   "cell_type": "code",
   "execution_count": 6,
   "metadata": {
    "collapsed": true
   },
   "outputs": [],
   "source": [
    "df.columns = ['Text']"
   ]
  },
  {
   "cell_type": "markdown",
   "metadata": {},
   "source": [
    "Let's get more data.(I have saved it in the same file. If you do so it'll replace the file so I would recommend changing the name of the xlsx file)"
   ]
  },
  {
   "cell_type": "code",
   "execution_count": 7,
   "metadata": {
    "collapsed": true
   },
   "outputs": [],
   "source": [
    "row_cell = 2\n",
    "\n",
    "for tweet in twitter.search('\"#BoycottABVP\"', start=1, count=100, cached=False):\n",
    "    column_cell = 'A'\n",
    "    ws[column_cell+str(row_cell+1)] = tweet.text\n",
    "    row_cell=row_cell+1\n",
    "wb.save(\"row_creation_loop.xlsx\")"
   ]
  },
  {
   "cell_type": "code",
   "execution_count": 8,
   "metadata": {
    "collapsed": true
   },
   "outputs": [],
   "source": [
    "df2=pd.read_excel('row_creation_loop.xlsx')"
   ]
  },
  {
   "cell_type": "markdown",
   "metadata": {},
   "source": [
    "Let me just display a pandas dataframe for you so you know what we're working on."
   ]
  },
  {
   "cell_type": "code",
   "execution_count": 9,
   "metadata": {
    "collapsed": false
   },
   "outputs": [
    {
     "data": {
      "text/html": [
       "<div>\n",
       "<table border=\"1\" class=\"dataframe\">\n",
       "  <thead>\n",
       "    <tr style=\"text-align: right;\">\n",
       "      <th></th>\n",
       "      <th>Text</th>\n",
       "    </tr>\n",
       "  </thead>\n",
       "  <tbody>\n",
       "    <tr>\n",
       "      <th>0</th>\n",
       "      <td>RT @osho_ashutosh: #BoycottABVP  Try hard trai...</td>\n",
       "    </tr>\n",
       "    <tr>\n",
       "      <th>1</th>\n",
       "      <td>RT @135_ravi: #ABVPVoice #GurmeharKaur #Mukhta...</td>\n",
       "    </tr>\n",
       "    <tr>\n",
       "      <th>2</th>\n",
       "      <td>RT @WithPGV: Rape threats to a girl is worst t...</td>\n",
       "    </tr>\n",
       "    <tr>\n",
       "      <th>3</th>\n",
       "      <td>RT @135_ravi: #ABVPVoice #GurmeharKaur #Mukhta...</td>\n",
       "    </tr>\n",
       "    <tr>\n",
       "      <th>4</th>\n",
       "      <td>RT @WithPGV: Rape threats to a girl is worst t...</td>\n",
       "    </tr>\n",
       "    <tr>\n",
       "      <th>5</th>\n",
       "      <td>RT @WithPGV: Rape threats to a girl is worst t...</td>\n",
       "    </tr>\n",
       "    <tr>\n",
       "      <th>6</th>\n",
       "      <td>RT @aartic02: Thats ABVP giving Rape Threats t...</td>\n",
       "    </tr>\n",
       "    <tr>\n",
       "      <th>7</th>\n",
       "      <td>RT @AAPforINDIA: Modi Ji supporter #BoycottABV...</td>\n",
       "    </tr>\n",
       "    <tr>\n",
       "      <th>8</th>\n",
       "      <td>RT @__its_ninja__: #ABVPVoice #GurmeharKaur #M...</td>\n",
       "    </tr>\n",
       "    <tr>\n",
       "      <th>9</th>\n",
       "      <td>RT @advmonikaarora: #BoycottABVP  if u r Commu...</td>\n",
       "    </tr>\n",
       "    <tr>\n",
       "      <th>10</th>\n",
       "      <td>RT @WithPGV: Rape threats to a girl is worst t...</td>\n",
       "    </tr>\n",
       "    <tr>\n",
       "      <th>11</th>\n",
       "      <td>RT @kawalpreetdu: All the hooliganism that Par...</td>\n",
       "    </tr>\n",
       "    <tr>\n",
       "      <th>12</th>\n",
       "      <td>RT @WithPGV: Rape threats to a girl is worst t...</td>\n",
       "    </tr>\n",
       "    <tr>\n",
       "      <th>13</th>\n",
       "      <td>RT @AAPforINDIA: Modi Ji supporter #BoycottABV...</td>\n",
       "    </tr>\n",
       "    <tr>\n",
       "      <th>14</th>\n",
       "      <td>RT @kawalpreetdu: All the hooliganism that Par...</td>\n",
       "    </tr>\n",
       "    <tr>\n",
       "      <th>15</th>\n",
       "      <td>All the hooliganism that Parishad does, I will...</td>\n",
       "    </tr>\n",
       "    <tr>\n",
       "      <th>16</th>\n",
       "      <td>RT @AAPforINDIA: Modi Ji supporter #BoycottABV...</td>\n",
       "    </tr>\n",
       "    <tr>\n",
       "      <th>17</th>\n",
       "      <td>RT @advmonikaarora: #BoycottABVP  if u r Commu...</td>\n",
       "    </tr>\n",
       "    <tr>\n",
       "      <th>18</th>\n",
       "      <td>RT @advmonikaarora: #BoycottABVP  if u r Commu...</td>\n",
       "    </tr>\n",
       "    <tr>\n",
       "      <th>19</th>\n",
       "      <td>RT @AshfaqueNabi: Not just #BoycottABVP..\\nIt ...</td>\n",
       "    </tr>\n",
       "    <tr>\n",
       "      <th>20</th>\n",
       "      <td>RT @AshfaqueNabi: Not just #BoycottABVP..\\nIt ...</td>\n",
       "    </tr>\n",
       "    <tr>\n",
       "      <th>21</th>\n",
       "      <td>Reading Savarkar: How a Hindutva icon justifie...</td>\n",
       "    </tr>\n",
       "    <tr>\n",
       "      <th>22</th>\n",
       "      <td>RT @SirBabarr: I stand with @mehartweet Gurmah...</td>\n",
       "    </tr>\n",
       "    <tr>\n",
       "      <th>23</th>\n",
       "      <td>RT @__its_ninja__: #ABVPVoice #GurmeharKaur #M...</td>\n",
       "    </tr>\n",
       "    <tr>\n",
       "      <th>24</th>\n",
       "      <td>RT @WithPGV: Rape threats to a girl is worst t...</td>\n",
       "    </tr>\n",
       "    <tr>\n",
       "      <th>25</th>\n",
       "      <td>Voice of GTU VC.\\n#GTU\\n#ISupportABVP\\n#Answer...</td>\n",
       "    </tr>\n",
       "    <tr>\n",
       "      <th>26</th>\n",
       "      <td>RT @advmonikaarora: #BoycottABVP  if u r Commu...</td>\n",
       "    </tr>\n",
       "    <tr>\n",
       "      <th>27</th>\n",
       "      <td>RT @AAP_Germany: These are nationalist .  #ABV...</td>\n",
       "    </tr>\n",
       "    <tr>\n",
       "      <th>28</th>\n",
       "      <td>RT @135_ravi: #ABVPVoice #GurmeharKaur #Mukhta...</td>\n",
       "    </tr>\n",
       "    <tr>\n",
       "      <th>29</th>\n",
       "      <td>RT @AAP_Germany: These are nationalist .  #ABV...</td>\n",
       "    </tr>\n",
       "    <tr>\n",
       "      <th>...</th>\n",
       "      <td>...</td>\n",
       "    </tr>\n",
       "    <tr>\n",
       "      <th>69</th>\n",
       "      <td>RT @135_ravi: #ABVPVoice #GurmeharKaur #Mukhta...</td>\n",
       "    </tr>\n",
       "    <tr>\n",
       "      <th>70</th>\n",
       "      <td>RT @jayesh_inc: I got rape threats for calling...</td>\n",
       "    </tr>\n",
       "    <tr>\n",
       "      <th>71</th>\n",
       "      <td>RT @WithPGV: Rape threats to a girl is worst t...</td>\n",
       "    </tr>\n",
       "    <tr>\n",
       "      <th>72</th>\n",
       "      <td>RT @AnkitLal: I Got Rape Threats For Calling O...</td>\n",
       "    </tr>\n",
       "    <tr>\n",
       "      <th>73</th>\n",
       "      <td>RT @AnkitLal: I Got Rape Threats For Calling O...</td>\n",
       "    </tr>\n",
       "    <tr>\n",
       "      <th>74</th>\n",
       "      <td>RT @AnkitLal: I Got Rape Threats For Calling O...</td>\n",
       "    </tr>\n",
       "    <tr>\n",
       "      <th>75</th>\n",
       "      <td>RT @AnilTpyc: RSS/ABVP ideology is dangerous f...</td>\n",
       "    </tr>\n",
       "    <tr>\n",
       "      <th>76</th>\n",
       "      <td>RT @AnilTpyc: i am an indian AND I am not afri...</td>\n",
       "    </tr>\n",
       "    <tr>\n",
       "      <th>77</th>\n",
       "      <td>RT @AnkitLal: I Got Rape Threats For Calling O...</td>\n",
       "    </tr>\n",
       "    <tr>\n",
       "      <th>78</th>\n",
       "      <td>RT @AnilTpyc: RSS/ABVP ideology is dangerous f...</td>\n",
       "    </tr>\n",
       "    <tr>\n",
       "      <th>79</th>\n",
       "      <td>RT @AnilTpyc: i am an indian AND I am not afri...</td>\n",
       "    </tr>\n",
       "    <tr>\n",
       "      <th>80</th>\n",
       "      <td>RT @AnilTpyc: RSS/ABVP ideology is dangerous f...</td>\n",
       "    </tr>\n",
       "    <tr>\n",
       "      <th>81</th>\n",
       "      <td>RT @AnkitLal: I Got Rape Threats For Calling O...</td>\n",
       "    </tr>\n",
       "    <tr>\n",
       "      <th>82</th>\n",
       "      <td>RT @AnilTpyc: i am an indian AND I am not afri...</td>\n",
       "    </tr>\n",
       "    <tr>\n",
       "      <th>83</th>\n",
       "      <td>RT @AnilTpyc: RSS/ABVP ideology is dangerous f...</td>\n",
       "    </tr>\n",
       "    <tr>\n",
       "      <th>84</th>\n",
       "      <td>RT @AnilTpyc: i am an indian AND I am not afri...</td>\n",
       "    </tr>\n",
       "    <tr>\n",
       "      <th>85</th>\n",
       "      <td>RT @AnkitLal: I Got Rape Threats For Calling O...</td>\n",
       "    </tr>\n",
       "    <tr>\n",
       "      <th>86</th>\n",
       "      <td>RT @AnkitLal: I Got Rape Threats For Calling O...</td>\n",
       "    </tr>\n",
       "    <tr>\n",
       "      <th>87</th>\n",
       "      <td>RT @AnkitLal: I Got Rape Threats For Calling O...</td>\n",
       "    </tr>\n",
       "    <tr>\n",
       "      <th>88</th>\n",
       "      <td>RT @AnilTpyc: i am an indian AND I am not afri...</td>\n",
       "    </tr>\n",
       "    <tr>\n",
       "      <th>89</th>\n",
       "      <td>RT @AnilTpyc: RSS/ABVP ideology is dangerous f...</td>\n",
       "    </tr>\n",
       "    <tr>\n",
       "      <th>90</th>\n",
       "      <td>RT @AnilTpyc: i am an indian AND I am not afri...</td>\n",
       "    </tr>\n",
       "    <tr>\n",
       "      <th>91</th>\n",
       "      <td>RT @AnilTpyc: RSS/ABVP ideology is dangerous f...</td>\n",
       "    </tr>\n",
       "    <tr>\n",
       "      <th>92</th>\n",
       "      <td>@GautamGambhir Exceptional courage!!! 👍👍👍 #...</td>\n",
       "    </tr>\n",
       "    <tr>\n",
       "      <th>93</th>\n",
       "      <td>RT @AnilTpyc: RSS/ABVP ideology is dangerous f...</td>\n",
       "    </tr>\n",
       "    <tr>\n",
       "      <th>94</th>\n",
       "      <td>RT @AnilTpyc: i am an indian AND I am not afri...</td>\n",
       "    </tr>\n",
       "    <tr>\n",
       "      <th>95</th>\n",
       "      <td>RT @shivampathour1: #BoycottABVP\\nif you don't...</td>\n",
       "    </tr>\n",
       "    <tr>\n",
       "      <th>96</th>\n",
       "      <td>RT @shivampathour1: #BoycottABVP\\nI got rape t...</td>\n",
       "    </tr>\n",
       "    <tr>\n",
       "      <th>97</th>\n",
       "      <td>RT @shivampathour1: #BoycottABVP\\nMust #Boycot...</td>\n",
       "    </tr>\n",
       "    <tr>\n",
       "      <th>98</th>\n",
       "      <td>RT @himanshumahara6: War killed #GurmeharKaur ...</td>\n",
       "    </tr>\n",
       "  </tbody>\n",
       "</table>\n",
       "<p>99 rows × 1 columns</p>\n",
       "</div>"
      ],
      "text/plain": [
       "                                                 Text\n",
       "0   RT @osho_ashutosh: #BoycottABVP  Try hard trai...\n",
       "1   RT @135_ravi: #ABVPVoice #GurmeharKaur #Mukhta...\n",
       "2   RT @WithPGV: Rape threats to a girl is worst t...\n",
       "3   RT @135_ravi: #ABVPVoice #GurmeharKaur #Mukhta...\n",
       "4   RT @WithPGV: Rape threats to a girl is worst t...\n",
       "5   RT @WithPGV: Rape threats to a girl is worst t...\n",
       "6   RT @aartic02: Thats ABVP giving Rape Threats t...\n",
       "7   RT @AAPforINDIA: Modi Ji supporter #BoycottABV...\n",
       "8   RT @__its_ninja__: #ABVPVoice #GurmeharKaur #M...\n",
       "9   RT @advmonikaarora: #BoycottABVP  if u r Commu...\n",
       "10  RT @WithPGV: Rape threats to a girl is worst t...\n",
       "11  RT @kawalpreetdu: All the hooliganism that Par...\n",
       "12  RT @WithPGV: Rape threats to a girl is worst t...\n",
       "13  RT @AAPforINDIA: Modi Ji supporter #BoycottABV...\n",
       "14  RT @kawalpreetdu: All the hooliganism that Par...\n",
       "15  All the hooliganism that Parishad does, I will...\n",
       "16  RT @AAPforINDIA: Modi Ji supporter #BoycottABV...\n",
       "17  RT @advmonikaarora: #BoycottABVP  if u r Commu...\n",
       "18  RT @advmonikaarora: #BoycottABVP  if u r Commu...\n",
       "19  RT @AshfaqueNabi: Not just #BoycottABVP..\\nIt ...\n",
       "20  RT @AshfaqueNabi: Not just #BoycottABVP..\\nIt ...\n",
       "21  Reading Savarkar: How a Hindutva icon justifie...\n",
       "22  RT @SirBabarr: I stand with @mehartweet Gurmah...\n",
       "23  RT @__its_ninja__: #ABVPVoice #GurmeharKaur #M...\n",
       "24  RT @WithPGV: Rape threats to a girl is worst t...\n",
       "25  Voice of GTU VC.\\n#GTU\\n#ISupportABVP\\n#Answer...\n",
       "26  RT @advmonikaarora: #BoycottABVP  if u r Commu...\n",
       "27  RT @AAP_Germany: These are nationalist .  #ABV...\n",
       "28  RT @135_ravi: #ABVPVoice #GurmeharKaur #Mukhta...\n",
       "29  RT @AAP_Germany: These are nationalist .  #ABV...\n",
       "..                                                ...\n",
       "69  RT @135_ravi: #ABVPVoice #GurmeharKaur #Mukhta...\n",
       "70  RT @jayesh_inc: I got rape threats for calling...\n",
       "71  RT @WithPGV: Rape threats to a girl is worst t...\n",
       "72  RT @AnkitLal: I Got Rape Threats For Calling O...\n",
       "73  RT @AnkitLal: I Got Rape Threats For Calling O...\n",
       "74  RT @AnkitLal: I Got Rape Threats For Calling O...\n",
       "75  RT @AnilTpyc: RSS/ABVP ideology is dangerous f...\n",
       "76  RT @AnilTpyc: i am an indian AND I am not afri...\n",
       "77  RT @AnkitLal: I Got Rape Threats For Calling O...\n",
       "78  RT @AnilTpyc: RSS/ABVP ideology is dangerous f...\n",
       "79  RT @AnilTpyc: i am an indian AND I am not afri...\n",
       "80  RT @AnilTpyc: RSS/ABVP ideology is dangerous f...\n",
       "81  RT @AnkitLal: I Got Rape Threats For Calling O...\n",
       "82  RT @AnilTpyc: i am an indian AND I am not afri...\n",
       "83  RT @AnilTpyc: RSS/ABVP ideology is dangerous f...\n",
       "84  RT @AnilTpyc: i am an indian AND I am not afri...\n",
       "85  RT @AnkitLal: I Got Rape Threats For Calling O...\n",
       "86  RT @AnkitLal: I Got Rape Threats For Calling O...\n",
       "87  RT @AnkitLal: I Got Rape Threats For Calling O...\n",
       "88  RT @AnilTpyc: i am an indian AND I am not afri...\n",
       "89  RT @AnilTpyc: RSS/ABVP ideology is dangerous f...\n",
       "90  RT @AnilTpyc: i am an indian AND I am not afri...\n",
       "91  RT @AnilTpyc: RSS/ABVP ideology is dangerous f...\n",
       "92  @GautamGambhir Exceptional courage!!! 👍👍👍 #...\n",
       "93  RT @AnilTpyc: RSS/ABVP ideology is dangerous f...\n",
       "94  RT @AnilTpyc: i am an indian AND I am not afri...\n",
       "95  RT @shivampathour1: #BoycottABVP\\nif you don't...\n",
       "96  RT @shivampathour1: #BoycottABVP\\nI got rape t...\n",
       "97  RT @shivampathour1: #BoycottABVP\\nMust #Boycot...\n",
       "98  RT @himanshumahara6: War killed #GurmeharKaur ...\n",
       "\n",
       "[99 rows x 1 columns]"
      ]
     },
     "execution_count": 9,
     "metadata": {},
     "output_type": "execute_result"
    }
   ],
   "source": [
    "df2.columns = ['Text']\n",
    "df2"
   ]
  },
  {
   "cell_type": "markdown",
   "metadata": {},
   "source": [
    "\n",
    "Let's add (concatenate, append) the two data frames we've created. \n"
   ]
  },
  {
   "cell_type": "code",
   "execution_count": 10,
   "metadata": {
    "collapsed": true
   },
   "outputs": [],
   "source": [
    "df=df.append(df2)"
   ]
  },
  {
   "cell_type": "code",
   "execution_count": 11,
   "metadata": {
    "collapsed": false
   },
   "outputs": [
    {
     "data": {
      "text/html": [
       "<div>\n",
       "<table border=\"1\" class=\"dataframe\">\n",
       "  <thead>\n",
       "    <tr style=\"text-align: right;\">\n",
       "      <th></th>\n",
       "      <th>Text</th>\n",
       "    </tr>\n",
       "  </thead>\n",
       "  <tbody>\n",
       "    <tr>\n",
       "      <th>0</th>\n",
       "      <td>RT @AmritaDhawan1: #BanABVP they have time and...</td>\n",
       "    </tr>\n",
       "    <tr>\n",
       "      <th>1</th>\n",
       "      <td>RT @sayyedali02: Why isn't there strong critic...</td>\n",
       "    </tr>\n",
       "    <tr>\n",
       "      <th>2</th>\n",
       "      <td>RT @AngellicAribam: DUSU Joint Secretary submi...</td>\n",
       "    </tr>\n",
       "    <tr>\n",
       "      <th>3</th>\n",
       "      <td>RT @AmritaDhawan1: #BanABVP they have time and...</td>\n",
       "    </tr>\n",
       "    <tr>\n",
       "      <th>4</th>\n",
       "      <td>RT @nsui: The slogans of ABVP have been extrem...</td>\n",
       "    </tr>\n",
       "    <tr>\n",
       "      <th>5</th>\n",
       "      <td>RT @nsui: The slogans of ABVP have been extrem...</td>\n",
       "    </tr>\n",
       "    <tr>\n",
       "      <th>6</th>\n",
       "      <td>RT @AmritaDhawan1: #BanABVP they have time and...</td>\n",
       "    </tr>\n",
       "    <tr>\n",
       "      <th>7</th>\n",
       "      <td>RT @AngellicAribam: DUSU Joint Secretary submi...</td>\n",
       "    </tr>\n",
       "    <tr>\n",
       "      <th>8</th>\n",
       "      <td>RT @sayyedali02: Why isn't there strong critic...</td>\n",
       "    </tr>\n",
       "    <tr>\n",
       "      <th>9</th>\n",
       "      <td>ABVP has been acting the custodian of national...</td>\n",
       "    </tr>\n",
       "    <tr>\n",
       "      <th>10</th>\n",
       "      <td>RT @SamajhdaarLadki: The Sangh Parivar, thin-s...</td>\n",
       "    </tr>\n",
       "    <tr>\n",
       "      <th>11</th>\n",
       "      <td>RT @TheIndianPoller: Those who say #BanABVP, m...</td>\n",
       "    </tr>\n",
       "    <tr>\n",
       "      <th>12</th>\n",
       "      <td>RT @TheIndianPoller: Those who say #BanABVP, m...</td>\n",
       "    </tr>\n",
       "    <tr>\n",
       "      <th>13</th>\n",
       "      <td>RT @BalmoorVenkat: Gurmehar, who took on the A...</td>\n",
       "    </tr>\n",
       "    <tr>\n",
       "      <th>14</th>\n",
       "      <td>RT @nsui_deepak: Killed Professor Sabharwal\\nn...</td>\n",
       "    </tr>\n",
       "    <tr>\n",
       "      <th>15</th>\n",
       "      <td>RT @nsui: It is criminal to use the name of th...</td>\n",
       "    </tr>\n",
       "    <tr>\n",
       "      <th>16</th>\n",
       "      <td>RT @PrasanthNSUI: The slogans of ABVP have bee...</td>\n",
       "    </tr>\n",
       "    <tr>\n",
       "      <th>17</th>\n",
       "      <td>RT @SRINUMUKKERA: Thousands of students march ...</td>\n",
       "    </tr>\n",
       "    <tr>\n",
       "      <th>18</th>\n",
       "      <td>RT @nsui: The slogans of ABVP have been extrem...</td>\n",
       "    </tr>\n",
       "    <tr>\n",
       "      <th>19</th>\n",
       "      <td>RT @shashank_rekala: Rape treats and stone pel...</td>\n",
       "    </tr>\n",
       "    <tr>\n",
       "      <th>20</th>\n",
       "      <td>RT @sayyedali02: Naliya rape case is proof tha...</td>\n",
       "    </tr>\n",
       "    <tr>\n",
       "      <th>21</th>\n",
       "      <td>RT @Tinni_Aphrodite: I am student of this coun...</td>\n",
       "    </tr>\n",
       "    <tr>\n",
       "      <th>22</th>\n",
       "      <td>RT @nsui_deepak: Iam student of this country i...</td>\n",
       "    </tr>\n",
       "    <tr>\n",
       "      <th>23</th>\n",
       "      <td>RT @nsui: It is criminal to use the name of th...</td>\n",
       "    </tr>\n",
       "    <tr>\n",
       "      <th>24</th>\n",
       "      <td>RT @SRINUMUKKERA: ABVP is a virus and if virus...</td>\n",
       "    </tr>\n",
       "    <tr>\n",
       "      <th>25</th>\n",
       "      <td>RT @shankar_kys: Join March Against ABVP viole...</td>\n",
       "    </tr>\n",
       "    <tr>\n",
       "      <th>26</th>\n",
       "      <td>RT @shashank_rekala: Fascist attitude is again...</td>\n",
       "    </tr>\n",
       "    <tr>\n",
       "      <th>27</th>\n",
       "      <td>RT @shashank_rekala: There has been a regular ...</td>\n",
       "    </tr>\n",
       "    <tr>\n",
       "      <th>28</th>\n",
       "      <td>RT @arko_dev_sinha: Ban the goons #BanABVP</td>\n",
       "    </tr>\n",
       "    <tr>\n",
       "      <th>29</th>\n",
       "      <td>RT @SRINUMUKKERA: You petal stones we shall pe...</td>\n",
       "    </tr>\n",
       "    <tr>\n",
       "      <th>...</th>\n",
       "      <td>...</td>\n",
       "    </tr>\n",
       "    <tr>\n",
       "      <th>69</th>\n",
       "      <td>RT @135_ravi: #ABVPVoice #GurmeharKaur #Mukhta...</td>\n",
       "    </tr>\n",
       "    <tr>\n",
       "      <th>70</th>\n",
       "      <td>RT @jayesh_inc: I got rape threats for calling...</td>\n",
       "    </tr>\n",
       "    <tr>\n",
       "      <th>71</th>\n",
       "      <td>RT @WithPGV: Rape threats to a girl is worst t...</td>\n",
       "    </tr>\n",
       "    <tr>\n",
       "      <th>72</th>\n",
       "      <td>RT @AnkitLal: I Got Rape Threats For Calling O...</td>\n",
       "    </tr>\n",
       "    <tr>\n",
       "      <th>73</th>\n",
       "      <td>RT @AnkitLal: I Got Rape Threats For Calling O...</td>\n",
       "    </tr>\n",
       "    <tr>\n",
       "      <th>74</th>\n",
       "      <td>RT @AnkitLal: I Got Rape Threats For Calling O...</td>\n",
       "    </tr>\n",
       "    <tr>\n",
       "      <th>75</th>\n",
       "      <td>RT @AnilTpyc: RSS/ABVP ideology is dangerous f...</td>\n",
       "    </tr>\n",
       "    <tr>\n",
       "      <th>76</th>\n",
       "      <td>RT @AnilTpyc: i am an indian AND I am not afri...</td>\n",
       "    </tr>\n",
       "    <tr>\n",
       "      <th>77</th>\n",
       "      <td>RT @AnkitLal: I Got Rape Threats For Calling O...</td>\n",
       "    </tr>\n",
       "    <tr>\n",
       "      <th>78</th>\n",
       "      <td>RT @AnilTpyc: RSS/ABVP ideology is dangerous f...</td>\n",
       "    </tr>\n",
       "    <tr>\n",
       "      <th>79</th>\n",
       "      <td>RT @AnilTpyc: i am an indian AND I am not afri...</td>\n",
       "    </tr>\n",
       "    <tr>\n",
       "      <th>80</th>\n",
       "      <td>RT @AnilTpyc: RSS/ABVP ideology is dangerous f...</td>\n",
       "    </tr>\n",
       "    <tr>\n",
       "      <th>81</th>\n",
       "      <td>RT @AnkitLal: I Got Rape Threats For Calling O...</td>\n",
       "    </tr>\n",
       "    <tr>\n",
       "      <th>82</th>\n",
       "      <td>RT @AnilTpyc: i am an indian AND I am not afri...</td>\n",
       "    </tr>\n",
       "    <tr>\n",
       "      <th>83</th>\n",
       "      <td>RT @AnilTpyc: RSS/ABVP ideology is dangerous f...</td>\n",
       "    </tr>\n",
       "    <tr>\n",
       "      <th>84</th>\n",
       "      <td>RT @AnilTpyc: i am an indian AND I am not afri...</td>\n",
       "    </tr>\n",
       "    <tr>\n",
       "      <th>85</th>\n",
       "      <td>RT @AnkitLal: I Got Rape Threats For Calling O...</td>\n",
       "    </tr>\n",
       "    <tr>\n",
       "      <th>86</th>\n",
       "      <td>RT @AnkitLal: I Got Rape Threats For Calling O...</td>\n",
       "    </tr>\n",
       "    <tr>\n",
       "      <th>87</th>\n",
       "      <td>RT @AnkitLal: I Got Rape Threats For Calling O...</td>\n",
       "    </tr>\n",
       "    <tr>\n",
       "      <th>88</th>\n",
       "      <td>RT @AnilTpyc: i am an indian AND I am not afri...</td>\n",
       "    </tr>\n",
       "    <tr>\n",
       "      <th>89</th>\n",
       "      <td>RT @AnilTpyc: RSS/ABVP ideology is dangerous f...</td>\n",
       "    </tr>\n",
       "    <tr>\n",
       "      <th>90</th>\n",
       "      <td>RT @AnilTpyc: i am an indian AND I am not afri...</td>\n",
       "    </tr>\n",
       "    <tr>\n",
       "      <th>91</th>\n",
       "      <td>RT @AnilTpyc: RSS/ABVP ideology is dangerous f...</td>\n",
       "    </tr>\n",
       "    <tr>\n",
       "      <th>92</th>\n",
       "      <td>@GautamGambhir Exceptional courage!!! 👍👍👍 #...</td>\n",
       "    </tr>\n",
       "    <tr>\n",
       "      <th>93</th>\n",
       "      <td>RT @AnilTpyc: RSS/ABVP ideology is dangerous f...</td>\n",
       "    </tr>\n",
       "    <tr>\n",
       "      <th>94</th>\n",
       "      <td>RT @AnilTpyc: i am an indian AND I am not afri...</td>\n",
       "    </tr>\n",
       "    <tr>\n",
       "      <th>95</th>\n",
       "      <td>RT @shivampathour1: #BoycottABVP\\nif you don't...</td>\n",
       "    </tr>\n",
       "    <tr>\n",
       "      <th>96</th>\n",
       "      <td>RT @shivampathour1: #BoycottABVP\\nI got rape t...</td>\n",
       "    </tr>\n",
       "    <tr>\n",
       "      <th>97</th>\n",
       "      <td>RT @shivampathour1: #BoycottABVP\\nMust #Boycot...</td>\n",
       "    </tr>\n",
       "    <tr>\n",
       "      <th>98</th>\n",
       "      <td>RT @himanshumahara6: War killed #GurmeharKaur ...</td>\n",
       "    </tr>\n",
       "  </tbody>\n",
       "</table>\n",
       "<p>187 rows × 1 columns</p>\n",
       "</div>"
      ],
      "text/plain": [
       "                                                 Text\n",
       "0   RT @AmritaDhawan1: #BanABVP they have time and...\n",
       "1   RT @sayyedali02: Why isn't there strong critic...\n",
       "2   RT @AngellicAribam: DUSU Joint Secretary submi...\n",
       "3   RT @AmritaDhawan1: #BanABVP they have time and...\n",
       "4   RT @nsui: The slogans of ABVP have been extrem...\n",
       "5   RT @nsui: The slogans of ABVP have been extrem...\n",
       "6   RT @AmritaDhawan1: #BanABVP they have time and...\n",
       "7   RT @AngellicAribam: DUSU Joint Secretary submi...\n",
       "8   RT @sayyedali02: Why isn't there strong critic...\n",
       "9   ABVP has been acting the custodian of national...\n",
       "10  RT @SamajhdaarLadki: The Sangh Parivar, thin-s...\n",
       "11  RT @TheIndianPoller: Those who say #BanABVP, m...\n",
       "12  RT @TheIndianPoller: Those who say #BanABVP, m...\n",
       "13  RT @BalmoorVenkat: Gurmehar, who took on the A...\n",
       "14  RT @nsui_deepak: Killed Professor Sabharwal\\nn...\n",
       "15  RT @nsui: It is criminal to use the name of th...\n",
       "16  RT @PrasanthNSUI: The slogans of ABVP have bee...\n",
       "17  RT @SRINUMUKKERA: Thousands of students march ...\n",
       "18  RT @nsui: The slogans of ABVP have been extrem...\n",
       "19  RT @shashank_rekala: Rape treats and stone pel...\n",
       "20  RT @sayyedali02: Naliya rape case is proof tha...\n",
       "21  RT @Tinni_Aphrodite: I am student of this coun...\n",
       "22  RT @nsui_deepak: Iam student of this country i...\n",
       "23  RT @nsui: It is criminal to use the name of th...\n",
       "24  RT @SRINUMUKKERA: ABVP is a virus and if virus...\n",
       "25  RT @shankar_kys: Join March Against ABVP viole...\n",
       "26  RT @shashank_rekala: Fascist attitude is again...\n",
       "27  RT @shashank_rekala: There has been a regular ...\n",
       "28         RT @arko_dev_sinha: Ban the goons #BanABVP\n",
       "29  RT @SRINUMUKKERA: You petal stones we shall pe...\n",
       "..                                                ...\n",
       "69  RT @135_ravi: #ABVPVoice #GurmeharKaur #Mukhta...\n",
       "70  RT @jayesh_inc: I got rape threats for calling...\n",
       "71  RT @WithPGV: Rape threats to a girl is worst t...\n",
       "72  RT @AnkitLal: I Got Rape Threats For Calling O...\n",
       "73  RT @AnkitLal: I Got Rape Threats For Calling O...\n",
       "74  RT @AnkitLal: I Got Rape Threats For Calling O...\n",
       "75  RT @AnilTpyc: RSS/ABVP ideology is dangerous f...\n",
       "76  RT @AnilTpyc: i am an indian AND I am not afri...\n",
       "77  RT @AnkitLal: I Got Rape Threats For Calling O...\n",
       "78  RT @AnilTpyc: RSS/ABVP ideology is dangerous f...\n",
       "79  RT @AnilTpyc: i am an indian AND I am not afri...\n",
       "80  RT @AnilTpyc: RSS/ABVP ideology is dangerous f...\n",
       "81  RT @AnkitLal: I Got Rape Threats For Calling O...\n",
       "82  RT @AnilTpyc: i am an indian AND I am not afri...\n",
       "83  RT @AnilTpyc: RSS/ABVP ideology is dangerous f...\n",
       "84  RT @AnilTpyc: i am an indian AND I am not afri...\n",
       "85  RT @AnkitLal: I Got Rape Threats For Calling O...\n",
       "86  RT @AnkitLal: I Got Rape Threats For Calling O...\n",
       "87  RT @AnkitLal: I Got Rape Threats For Calling O...\n",
       "88  RT @AnilTpyc: i am an indian AND I am not afri...\n",
       "89  RT @AnilTpyc: RSS/ABVP ideology is dangerous f...\n",
       "90  RT @AnilTpyc: i am an indian AND I am not afri...\n",
       "91  RT @AnilTpyc: RSS/ABVP ideology is dangerous f...\n",
       "92  @GautamGambhir Exceptional courage!!! 👍👍👍 #...\n",
       "93  RT @AnilTpyc: RSS/ABVP ideology is dangerous f...\n",
       "94  RT @AnilTpyc: i am an indian AND I am not afri...\n",
       "95  RT @shivampathour1: #BoycottABVP\\nif you don't...\n",
       "96  RT @shivampathour1: #BoycottABVP\\nI got rape t...\n",
       "97  RT @shivampathour1: #BoycottABVP\\nMust #Boycot...\n",
       "98  RT @himanshumahara6: War killed #GurmeharKaur ...\n",
       "\n",
       "[187 rows x 1 columns]"
      ]
     },
     "execution_count": 11,
     "metadata": {},
     "output_type": "execute_result"
    }
   ],
   "source": [
    "df"
   ]
  },
  {
   "cell_type": "markdown",
   "metadata": {},
   "source": [
    "This dataframe has both the Boycott and the Ban hashtags so with our \"human judgement let's set it to 1. This will present maximum hatred for our learning model"
   ]
  },
  {
   "cell_type": "markdown",
   "metadata": {},
   "source": [
    "# Why SFrames?\n",
    "Graphlab offers inbuilt algorithms that can operate on a large number of values, but in an Sframe object. Even if you have have read and coded all the algorithms, in simple analysis it's often easier to use libraries although I welcome you to use your own algorithm."
   ]
  },
  {
   "cell_type": "code",
   "execution_count": 65,
   "metadata": {
    "collapsed": false
   },
   "outputs": [],
   "source": [
    "sf=graphlab.SFrame(data=df)"
   ]
  },
  {
   "cell_type": "code",
   "execution_count": 67,
   "metadata": {
    "collapsed": false
   },
   "outputs": [],
   "source": [
    "sf=sf.unique()"
   ]
  },
  {
   "cell_type": "markdown",
   "metadata": {},
   "source": [
    "Remember! We're setting this first frame to 1. This has hatred"
   ]
  },
  {
   "cell_type": "markdown",
   "metadata": {},
   "source": [
    "\n",
    "Let's now get the tweets with support hastags."
   ]
  },
  {
   "cell_type": "code",
   "execution_count": 68,
   "metadata": {
    "collapsed": true
   },
   "outputs": [],
   "source": [
    "sf['sentiment']=1"
   ]
  },
  {
   "cell_type": "code",
   "execution_count": 23,
   "metadata": {
    "collapsed": false
   },
   "outputs": [],
   "source": [
    "row_cell = 2\n",
    "\n",
    "for tweet in twitter.search('\"#ABVPVoice\"', start=1, count=100, cached=False):\n",
    "    column_cell = 'A'\n",
    "    ws[column_cell+str(row_cell+1)] = tweet.text\n",
    "    row_cell=row_cell+1\n",
    "wb.save(\"row_creation_loop2.xlsx\")"
   ]
  },
  {
   "cell_type": "code",
   "execution_count": 24,
   "metadata": {
    "collapsed": true
   },
   "outputs": [],
   "source": [
    "df3=pd.read_excel('row_creation_loop2.xlsx')"
   ]
  },
  {
   "cell_type": "markdown",
   "metadata": {},
   "source": []
  },
  {
   "cell_type": "markdown",
   "metadata": {},
   "source": [
    "We're printing too much. Let's just use .head() for printing 5 rows now that you have a fair idea of what your dataframe looks like."
   ]
  },
  {
   "cell_type": "code",
   "execution_count": 25,
   "metadata": {
    "collapsed": false
   },
   "outputs": [
    {
     "data": {
      "text/html": [
       "<div>\n",
       "<table border=\"1\" class=\"dataframe\">\n",
       "  <thead>\n",
       "    <tr style=\"text-align: right;\">\n",
       "      <th></th>\n",
       "      <th>Text</th>\n",
       "    </tr>\n",
       "  </thead>\n",
       "  <tbody>\n",
       "    <tr>\n",
       "      <th>0</th>\n",
       "      <td>RT @135_ravi: #ABVPVoice #GurmeharKaur #Mukhta...</td>\n",
       "    </tr>\n",
       "    <tr>\n",
       "      <th>1</th>\n",
       "      <td>RT @Allahkabanda7: #GurMehar #JNUAzaadiLeague ...</td>\n",
       "    </tr>\n",
       "    <tr>\n",
       "      <th>2</th>\n",
       "      <td>RT @135_ravi: #ABVPVoice #GurmeharKaur #Mukhta...</td>\n",
       "    </tr>\n",
       "    <tr>\n",
       "      <th>3</th>\n",
       "      <td>RT @neelrao: Tral #JNU #shehlarashid #UmarKhal...</td>\n",
       "    </tr>\n",
       "    <tr>\n",
       "      <th>4</th>\n",
       "      <td>Tral #JNU #shehlarashid #UmarKhalid @AAP #ABVP...</td>\n",
       "    </tr>\n",
       "  </tbody>\n",
       "</table>\n",
       "</div>"
      ],
      "text/plain": [
       "                                                Text\n",
       "0  RT @135_ravi: #ABVPVoice #GurmeharKaur #Mukhta...\n",
       "1  RT @Allahkabanda7: #GurMehar #JNUAzaadiLeague ...\n",
       "2  RT @135_ravi: #ABVPVoice #GurmeharKaur #Mukhta...\n",
       "3  RT @neelrao: Tral #JNU #shehlarashid #UmarKhal...\n",
       "4  Tral #JNU #shehlarashid #UmarKhalid @AAP #ABVP..."
      ]
     },
     "execution_count": 25,
     "metadata": {},
     "output_type": "execute_result"
    }
   ],
   "source": [
    "df3.columns = ['Text']\n",
    "df3.head()"
   ]
  },
  {
   "cell_type": "code",
   "execution_count": 27,
   "metadata": {
    "collapsed": false
   },
   "outputs": [],
   "source": [
    "row_cell = 2\n",
    "\n",
    "for tweet in twitter.search('\"#ISupportABVP\"', start=1, count=100, cached=False):\n",
    "    column_cell = 'A'\n",
    "    ws[column_cell+str(row_cell+1)] = tweet.text\n",
    "    row_cell=row_cell+1\n",
    "wb.save(\"row_creation_loop2.xlsx\")"
   ]
  },
  {
   "cell_type": "code",
   "execution_count": 28,
   "metadata": {
    "collapsed": false
   },
   "outputs": [
    {
     "data": {
      "text/html": [
       "<div>\n",
       "<table border=\"1\" class=\"dataframe\">\n",
       "  <thead>\n",
       "    <tr style=\"text-align: right;\">\n",
       "      <th></th>\n",
       "      <th>Text</th>\n",
       "    </tr>\n",
       "  </thead>\n",
       "  <tbody>\n",
       "    <tr>\n",
       "      <th>0</th>\n",
       "      <td>RT @mike921112: #भाजपामय_उत्तरप्रदेश \\nDevelop...</td>\n",
       "    </tr>\n",
       "    <tr>\n",
       "      <th>1</th>\n",
       "      <td>RT @mike921112: #भाजपामय_उत्तरप्रदेश \\nDevelop...</td>\n",
       "    </tr>\n",
       "    <tr>\n",
       "      <th>2</th>\n",
       "      <td>RT @TheIndianPoller: Superb reply to GurMeher ...</td>\n",
       "    </tr>\n",
       "    <tr>\n",
       "      <th>3</th>\n",
       "      <td>RT @IamHarshPandey: I entirely support ABVP. D...</td>\n",
       "    </tr>\n",
       "    <tr>\n",
       "      <th>4</th>\n",
       "      <td>RT @AtifBjp: These are the common students of ...</td>\n",
       "    </tr>\n",
       "  </tbody>\n",
       "</table>\n",
       "</div>"
      ],
      "text/plain": [
       "                                                Text\n",
       "0  RT @mike921112: #भाजपामय_उत्तरप्रदेश \\nDevelop...\n",
       "1  RT @mike921112: #भाजपामय_उत्तरप्रदेश \\nDevelop...\n",
       "2  RT @TheIndianPoller: Superb reply to GurMeher ...\n",
       "3  RT @IamHarshPandey: I entirely support ABVP. D...\n",
       "4  RT @AtifBjp: These are the common students of ..."
      ]
     },
     "execution_count": 28,
     "metadata": {},
     "output_type": "execute_result"
    }
   ],
   "source": [
    "df4=pd.read_excel('row_creation_loop2.xlsx')\n",
    "df4.columns = ['Text']\n",
    "df4.head()"
   ]
  },
  {
   "cell_type": "code",
   "execution_count": 29,
   "metadata": {
    "collapsed": true
   },
   "outputs": [],
   "source": [
    "df3=df3.append(df4)"
   ]
  },
  {
   "cell_type": "code",
   "execution_count": 69,
   "metadata": {
    "collapsed": true
   },
   "outputs": [],
   "source": [
    "sf2=graphlab.SFrame(data=df3)"
   ]
  },
  {
   "cell_type": "code",
   "execution_count": 70,
   "metadata": {
    "collapsed": true
   },
   "outputs": [],
   "source": [
    "sf2=sf2.unique()"
   ]
  },
  {
   "cell_type": "code",
   "execution_count": 71,
   "metadata": {
    "collapsed": true
   },
   "outputs": [],
   "source": [
    "sf2['sentiment']=0"
   ]
  },
  {
   "cell_type": "markdown",
   "metadata": {},
   "source": [
    "We did the same thing again. This is a support Sframe so this gets a value of 0!"
   ]
  },
  {
   "cell_type": "code",
   "execution_count": 72,
   "metadata": {
    "collapsed": true
   },
   "outputs": [],
   "source": [
    "sf=sf.append(sf2)"
   ]
  },
  {
   "cell_type": "markdown",
   "metadata": {},
   "source": [
    "Our learning model is ready! We'll use this to predict the sentiment of tweets with two different but related hashtags that aren't clear whether they're positive or negative. "
   ]
  },
  {
   "cell_type": "code",
   "execution_count": 73,
   "metadata": {
    "collapsed": false,
    "scrolled": true
   },
   "outputs": [
    {
     "data": {
      "text/html": [
       "<div style=\"max-height:1000px;max-width:1500px;overflow:auto;\"><table frame=\"box\" rules=\"cols\">\n",
       "    <tr>\n",
       "        <th style=\"padding-left: 1em; padding-right: 1em; text-align: center\">Text</th>\n",
       "        <th style=\"padding-left: 1em; padding-right: 1em; text-align: center\">sentiment</th>\n",
       "    </tr>\n",
       "    <tr>\n",
       "        <td style=\"padding-left: 1em; padding-right: 1em; text-align: center; vertical-align: top\">RT @hemantkotharibw: Do U<br>believe in life after ...</td>\n",
       "        <td style=\"padding-left: 1em; padding-right: 1em; text-align: center; vertical-align: top\">1</td>\n",
       "    </tr>\n",
       "    <tr>\n",
       "        <td style=\"padding-left: 1em; padding-right: 1em; text-align: center; vertical-align: top\">RT @shivampathour1:<br>#BoycottABVP\\nif you ...</td>\n",
       "        <td style=\"padding-left: 1em; padding-right: 1em; text-align: center; vertical-align: top\">1</td>\n",
       "    </tr>\n",
       "    <tr>\n",
       "        <td style=\"padding-left: 1em; padding-right: 1em; text-align: center; vertical-align: top\">RT @SirBabarr: I stand<br>with @mehartweet Gurm ...</td>\n",
       "        <td style=\"padding-left: 1em; padding-right: 1em; text-align: center; vertical-align: top\">1</td>\n",
       "    </tr>\n",
       "    <tr>\n",
       "        <td style=\"padding-left: 1em; padding-right: 1em; text-align: center; vertical-align: top\">RT @imransolanki313:<br>#BoyCottABVP #ABVP-led ...</td>\n",
       "        <td style=\"padding-left: 1em; padding-right: 1em; text-align: center; vertical-align: top\">1</td>\n",
       "    </tr>\n",
       "    <tr>\n",
       "        <td style=\"padding-left: 1em; padding-right: 1em; text-align: center; vertical-align: top\">RT @advmonikaarora:<br>#BoycottABVP  if u r ...</td>\n",
       "        <td style=\"padding-left: 1em; padding-right: 1em; text-align: center; vertical-align: top\">1</td>\n",
       "    </tr>\n",
       "    <tr>\n",
       "        <td style=\"padding-left: 1em; padding-right: 1em; text-align: center; vertical-align: top\">RT @shankar_kys: Join<br>March Against ABVP ...</td>\n",
       "        <td style=\"padding-left: 1em; padding-right: 1em; text-align: center; vertical-align: top\">1</td>\n",
       "    </tr>\n",
       "    <tr>\n",
       "        <td style=\"padding-left: 1em; padding-right: 1em; text-align: center; vertical-align: top\">RT @AAPforINDIA: Modi Ji<br>supporter #BoycottABVP ...</td>\n",
       "        <td style=\"padding-left: 1em; padding-right: 1em; text-align: center; vertical-align: top\">1</td>\n",
       "    </tr>\n",
       "    <tr>\n",
       "        <td style=\"padding-left: 1em; padding-right: 1em; text-align: center; vertical-align: top\">RT @SamajhdaarLadki: The<br>Sangh Parivar, thin- ...</td>\n",
       "        <td style=\"padding-left: 1em; padding-right: 1em; text-align: center; vertical-align: top\">1</td>\n",
       "    </tr>\n",
       "    <tr>\n",
       "        <td style=\"padding-left: 1em; padding-right: 1em; text-align: center; vertical-align: top\">RT @SRINUMUKKERA: You<br>petal stones we shall ...</td>\n",
       "        <td style=\"padding-left: 1em; padding-right: 1em; text-align: center; vertical-align: top\">1</td>\n",
       "    </tr>\n",
       "    <tr>\n",
       "        <td style=\"padding-left: 1em; padding-right: 1em; text-align: center; vertical-align: top\">RT @RR4900:<br>@virendersehwag ...</td>\n",
       "        <td style=\"padding-left: 1em; padding-right: 1em; text-align: center; vertical-align: top\">1</td>\n",
       "    </tr>\n",
       "</table>\n",
       "[186 rows x 2 columns]<br/>Note: Only the head of the SFrame is printed.<br/>You can use print_rows(num_rows=m, num_columns=n) to print more rows and columns.\n",
       "</div>"
      ],
      "text/plain": [
       "Columns:\n",
       "\tText\tstr\n",
       "\tsentiment\tint\n",
       "\n",
       "Rows: 186\n",
       "\n",
       "Data:\n",
       "+-------------------------------+-----------+\n",
       "|              Text             | sentiment |\n",
       "+-------------------------------+-----------+\n",
       "| RT @hemantkotharibw: Do U ... |     1     |\n",
       "| RT @shivampathour1: #Boyco... |     1     |\n",
       "| RT @SirBabarr: I stand wit... |     1     |\n",
       "| RT @imransolanki313: #BoyC... |     1     |\n",
       "| RT @advmonikaarora: #Boyco... |     1     |\n",
       "| RT @shankar_kys: Join Marc... |     1     |\n",
       "| RT @AAPforINDIA: Modi Ji s... |     1     |\n",
       "| RT @SamajhdaarLadki: The S... |     1     |\n",
       "| RT @SRINUMUKKERA: You peta... |     1     |\n",
       "| RT @RR4900: @virendersehwa... |     1     |\n",
       "+-------------------------------+-----------+\n",
       "[186 rows x 2 columns]\n",
       "Note: Only the head of the SFrame is printed.\n",
       "You can use print_rows(num_rows=m, num_columns=n) to print more rows and columns."
      ]
     },
     "execution_count": 73,
     "metadata": {},
     "output_type": "execute_result"
    }
   ],
   "source": [
    "sf"
   ]
  },
  {
   "cell_type": "markdown",
   "metadata": {},
   "source": [
    "Let's now make an SFrame of the hashtags that are to be predicted."
   ]
  },
  {
   "cell_type": "code",
   "execution_count": 40,
   "metadata": {
    "collapsed": true
   },
   "outputs": [],
   "source": [
    "row_cell = 2\n",
    "\n",
    "for tweet in twitter.search('\"#Ramjas\"', start=1, count=100, cached=False):\n",
    "    column_cell = 'A'\n",
    "    ws[column_cell+str(row_cell+1)] = tweet.text\n",
    "    row_cell=row_cell+1\n",
    "wb.save(\"row_creation_loop3.xlsx\")"
   ]
  },
  {
   "cell_type": "code",
   "execution_count": 41,
   "metadata": {
    "collapsed": false
   },
   "outputs": [
    {
     "data": {
      "text/html": [
       "<div>\n",
       "<table border=\"1\" class=\"dataframe\">\n",
       "  <thead>\n",
       "    <tr style=\"text-align: right;\">\n",
       "      <th></th>\n",
       "      <th>Text</th>\n",
       "    </tr>\n",
       "  </thead>\n",
       "  <tbody>\n",
       "    <tr>\n",
       "      <th>0</th>\n",
       "      <td>RT @Tehelka: #TehelkaMagazine\\nCollege campuse...</td>\n",
       "    </tr>\n",
       "    <tr>\n",
       "      <th>1</th>\n",
       "      <td>RT @Tehelka: #TehelkaMagazine\\nCollege campuse...</td>\n",
       "    </tr>\n",
       "    <tr>\n",
       "      <th>2</th>\n",
       "      <td>RT @Tehelka: #TehelkaMagazine\\nCollege campuse...</td>\n",
       "    </tr>\n",
       "    <tr>\n",
       "      <th>3</th>\n",
       "      <td>#TehelkaMagazine\\nCollege campuses must be spa...</td>\n",
       "    </tr>\n",
       "    <tr>\n",
       "      <th>4</th>\n",
       "      <td>DU prof @Abhina_Prakash ji explains how the do...</td>\n",
       "    </tr>\n",
       "  </tbody>\n",
       "</table>\n",
       "</div>"
      ],
      "text/plain": [
       "                                                Text\n",
       "0  RT @Tehelka: #TehelkaMagazine\\nCollege campuse...\n",
       "1  RT @Tehelka: #TehelkaMagazine\\nCollege campuse...\n",
       "2  RT @Tehelka: #TehelkaMagazine\\nCollege campuse...\n",
       "3  #TehelkaMagazine\\nCollege campuses must be spa...\n",
       "4  DU prof @Abhina_Prakash ji explains how the do..."
      ]
     },
     "execution_count": 41,
     "metadata": {},
     "output_type": "execute_result"
    }
   ],
   "source": [
    "df5=pd.read_excel('row_creation_loop3.xlsx')\n",
    "df5.columns = ['Text']\n",
    "df5.head()"
   ]
  },
  {
   "cell_type": "code",
   "execution_count": 42,
   "metadata": {
    "collapsed": true
   },
   "outputs": [],
   "source": [
    "row_cell = 2\n",
    "\n",
    "for tweet in twitter.search('\"#RamjasRow\"', start=1, count=100, cached=False):\n",
    "    column_cell = 'A'\n",
    "    ws[column_cell+str(row_cell+1)] = tweet.text\n",
    "    row_cell=row_cell+1\n",
    "wb.save(\"row_creation_loop3.xlsx\")"
   ]
  },
  {
   "cell_type": "code",
   "execution_count": 43,
   "metadata": {
    "collapsed": false
   },
   "outputs": [
    {
     "data": {
      "text/html": [
       "<div>\n",
       "<table border=\"1\" class=\"dataframe\">\n",
       "  <thead>\n",
       "    <tr style=\"text-align: right;\">\n",
       "      <th></th>\n",
       "      <th>Text</th>\n",
       "    </tr>\n",
       "  </thead>\n",
       "  <tbody>\n",
       "    <tr>\n",
       "      <th>0</th>\n",
       "      <td>RT @Tehelka: #TehelkaMagazine\\nCollege campuse...</td>\n",
       "    </tr>\n",
       "    <tr>\n",
       "      <th>1</th>\n",
       "      <td>RT @Tehelka: #TehelkaMagazine\\nCollege campuse...</td>\n",
       "    </tr>\n",
       "    <tr>\n",
       "      <th>2</th>\n",
       "      <td>RT @myvotetoday: .#RamjasRow is orchestrated b...</td>\n",
       "    </tr>\n",
       "    <tr>\n",
       "      <th>3</th>\n",
       "      <td>RT @myvotetoday: .#RamjasRow is orchestrated b...</td>\n",
       "    </tr>\n",
       "    <tr>\n",
       "      <th>4</th>\n",
       "      <td>.#RamjasRow is orchestrated by #opposition so ...</td>\n",
       "    </tr>\n",
       "  </tbody>\n",
       "</table>\n",
       "</div>"
      ],
      "text/plain": [
       "                                                Text\n",
       "0  RT @Tehelka: #TehelkaMagazine\\nCollege campuse...\n",
       "1  RT @Tehelka: #TehelkaMagazine\\nCollege campuse...\n",
       "2  RT @myvotetoday: .#RamjasRow is orchestrated b...\n",
       "3  RT @myvotetoday: .#RamjasRow is orchestrated b...\n",
       "4  .#RamjasRow is orchestrated by #opposition so ..."
      ]
     },
     "execution_count": 43,
     "metadata": {},
     "output_type": "execute_result"
    }
   ],
   "source": [
    "df6=pd.read_excel('row_creation_loop3.xlsx')\n",
    "df6.columns = ['Text']\n",
    "df6.head()"
   ]
  },
  {
   "cell_type": "code",
   "execution_count": 44,
   "metadata": {
    "collapsed": true
   },
   "outputs": [],
   "source": [
    "df5=df5.append(df6)"
   ]
  },
  {
   "cell_type": "code",
   "execution_count": 74,
   "metadata": {
    "collapsed": true
   },
   "outputs": [],
   "source": [
    "sf1=graphlab.SFrame(data=df5)"
   ]
  },
  {
   "cell_type": "markdown",
   "metadata": {},
   "source": [
    "We'll drop all the duplicate entries."
   ]
  },
  {
   "cell_type": "code",
   "execution_count": 75,
   "metadata": {
    "collapsed": true
   },
   "outputs": [],
   "source": [
    "sf1=sf1.unique()"
   ]
  },
  {
   "cell_type": "markdown",
   "metadata": {},
   "source": [
    "Let the ML begin! In this code we've used a linear classifier which is the most basic approach. It scores each sentence with words used in it. In later tutorials, we'll use the awesome vectorizers in the pattern library itself which predicts much better results, but let's stick to the most basic way for now."
   ]
  },
  {
   "cell_type": "code",
   "execution_count": null,
   "metadata": {
    "collapsed": true
   },
   "outputs": [],
   "source": [
    "sf1['word_count'] = graphlab.text_analytics.count_words(sf1['Text'])"
   ]
  },
  {
   "cell_type": "code",
   "execution_count": 47,
   "metadata": {
    "collapsed": true
   },
   "outputs": [],
   "source": [
    "graphlab.canvas.set_target('ipynb')"
   ]
  },
  {
   "cell_type": "code",
   "execution_count": 77,
   "metadata": {
    "collapsed": true
   },
   "outputs": [],
   "source": [
    "sf['word_count'] = graphlab.text_analytics.count_words(sf['Text'])"
   ]
  },
  {
   "cell_type": "markdown",
   "metadata": {},
   "source": [
    "##What are linear classifiers?\n",
    "If this question pops up you're probably just viewing this code withoout learning ML basics. You'll not get anything ahead. Think of it as a way of scoring a tweet according to the words used in them. "
   ]
  },
  {
   "cell_type": "code",
   "execution_count": 78,
   "metadata": {
    "collapsed": true
   },
   "outputs": [],
   "source": [
    "train_data,test_data = sf.random_split(.8, seed=0)"
   ]
  },
  {
   "cell_type": "markdown",
   "metadata": {},
   "source": [
    "The model with all its required analysis have been printed. The pictures may hint that the model is not very accurate, well the reason being it's very basic. So don't worry about that."
   ]
  },
  {
   "cell_type": "code",
   "execution_count": 79,
   "metadata": {
    "collapsed": false
   },
   "outputs": [
    {
     "data": {
      "text/html": [
       "<pre>WARNING: The number of feature dimensions in this problem is very large in comparison with the number of examples. Unless an appropriate regularization value is set, this model may not provide accurate predictions for a validation/test set.</pre>"
      ],
      "text/plain": [
       "WARNING: The number of feature dimensions in this problem is very large in comparison with the number of examples. Unless an appropriate regularization value is set, this model may not provide accurate predictions for a validation/test set."
      ]
     },
     "metadata": {},
     "output_type": "display_data"
    },
    {
     "data": {
      "text/html": [
       "<pre>Logistic regression:</pre>"
      ],
      "text/plain": [
       "Logistic regression:"
      ]
     },
     "metadata": {},
     "output_type": "display_data"
    },
    {
     "data": {
      "text/html": [
       "<pre>--------------------------------------------------------</pre>"
      ],
      "text/plain": [
       "--------------------------------------------------------"
      ]
     },
     "metadata": {},
     "output_type": "display_data"
    },
    {
     "data": {
      "text/html": [
       "<pre>Number of examples          : 157</pre>"
      ],
      "text/plain": [
       "Number of examples          : 157"
      ]
     },
     "metadata": {},
     "output_type": "display_data"
    },
    {
     "data": {
      "text/html": [
       "<pre>Number of classes           : 2</pre>"
      ],
      "text/plain": [
       "Number of classes           : 2"
      ]
     },
     "metadata": {},
     "output_type": "display_data"
    },
    {
     "data": {
      "text/html": [
       "<pre>Number of feature columns   : 1</pre>"
      ],
      "text/plain": [
       "Number of feature columns   : 1"
      ]
     },
     "metadata": {},
     "output_type": "display_data"
    },
    {
     "data": {
      "text/html": [
       "<pre>Number of unpacked features : 1099</pre>"
      ],
      "text/plain": [
       "Number of unpacked features : 1099"
      ]
     },
     "metadata": {},
     "output_type": "display_data"
    },
    {
     "data": {
      "text/html": [
       "<pre>Number of coefficients    : 1100</pre>"
      ],
      "text/plain": [
       "Number of coefficients    : 1100"
      ]
     },
     "metadata": {},
     "output_type": "display_data"
    },
    {
     "data": {
      "text/html": [
       "<pre>Starting L-BFGS</pre>"
      ],
      "text/plain": [
       "Starting L-BFGS"
      ]
     },
     "metadata": {},
     "output_type": "display_data"
    },
    {
     "data": {
      "text/html": [
       "<pre>--------------------------------------------------------</pre>"
      ],
      "text/plain": [
       "--------------------------------------------------------"
      ]
     },
     "metadata": {},
     "output_type": "display_data"
    },
    {
     "data": {
      "text/html": [
       "<pre>+-----------+----------+-----------+--------------+-------------------+---------------------+</pre>"
      ],
      "text/plain": [
       "+-----------+----------+-----------+--------------+-------------------+---------------------+"
      ]
     },
     "metadata": {},
     "output_type": "display_data"
    },
    {
     "data": {
      "text/html": [
       "<pre>| Iteration | Passes   | Step size | Elapsed Time | Training-accuracy | Validation-accuracy |</pre>"
      ],
      "text/plain": [
       "| Iteration | Passes   | Step size | Elapsed Time | Training-accuracy | Validation-accuracy |"
      ]
     },
     "metadata": {},
     "output_type": "display_data"
    },
    {
     "data": {
      "text/html": [
       "<pre>+-----------+----------+-----------+--------------+-------------------+---------------------+</pre>"
      ],
      "text/plain": [
       "+-----------+----------+-----------+--------------+-------------------+---------------------+"
      ]
     },
     "metadata": {},
     "output_type": "display_data"
    },
    {
     "data": {
      "text/html": [
       "<pre>| 1         | 3        | 0.006369  | 0.004000     | 0.987261          | 0.896552            |</pre>"
      ],
      "text/plain": [
       "| 1         | 3        | 0.006369  | 0.004000     | 0.987261          | 0.896552            |"
      ]
     },
     "metadata": {},
     "output_type": "display_data"
    },
    {
     "data": {
      "text/html": [
       "<pre>| 2         | 5        | 1.000000  | 0.007001     | 0.987261          | 0.896552            |</pre>"
      ],
      "text/plain": [
       "| 2         | 5        | 1.000000  | 0.007001     | 0.987261          | 0.896552            |"
      ]
     },
     "metadata": {},
     "output_type": "display_data"
    },
    {
     "data": {
      "text/html": [
       "<pre>| 3         | 6        | 1.000000  | 0.009001     | 0.987261          | 0.896552            |</pre>"
      ],
      "text/plain": [
       "| 3         | 6        | 1.000000  | 0.009001     | 0.987261          | 0.896552            |"
      ]
     },
     "metadata": {},
     "output_type": "display_data"
    },
    {
     "data": {
      "text/html": [
       "<pre>| 4         | 7        | 1.000000  | 0.010001     | 0.987261          | 0.896552            |</pre>"
      ],
      "text/plain": [
       "| 4         | 7        | 1.000000  | 0.010001     | 0.987261          | 0.896552            |"
      ]
     },
     "metadata": {},
     "output_type": "display_data"
    },
    {
     "data": {
      "text/html": [
       "<pre>| 5         | 8        | 1.000000  | 0.013001     | 0.987261          | 0.896552            |</pre>"
      ],
      "text/plain": [
       "| 5         | 8        | 1.000000  | 0.013001     | 0.987261          | 0.896552            |"
      ]
     },
     "metadata": {},
     "output_type": "display_data"
    },
    {
     "data": {
      "text/html": [
       "<pre>| 6         | 9        | 1.000000  | 0.018001     | 0.987261          | 0.896552            |</pre>"
      ],
      "text/plain": [
       "| 6         | 9        | 1.000000  | 0.018001     | 0.987261          | 0.896552            |"
      ]
     },
     "metadata": {},
     "output_type": "display_data"
    },
    {
     "data": {
      "text/html": [
       "<pre>+-----------+----------+-----------+--------------+-------------------+---------------------+</pre>"
      ],
      "text/plain": [
       "+-----------+----------+-----------+--------------+-------------------+---------------------+"
      ]
     },
     "metadata": {},
     "output_type": "display_data"
    },
    {
     "data": {
      "text/html": [
       "<pre>TERMINATED: Iteration limit reached.</pre>"
      ],
      "text/plain": [
       "TERMINATED: Iteration limit reached."
      ]
     },
     "metadata": {},
     "output_type": "display_data"
    },
    {
     "data": {
      "text/html": [
       "<pre>This model may not be optimal. To improve it, consider increasing `max_iterations`.</pre>"
      ],
      "text/plain": [
       "This model may not be optimal. To improve it, consider increasing `max_iterations`."
      ]
     },
     "metadata": {},
     "output_type": "display_data"
    }
   ],
   "source": [
    "sentiment_model = graphlab.logistic_classifier.create(train_data,\n",
    "                                                     target='sentiment',\n",
    "                                                     features=['word_count'],\n",
    "                                                     validation_set=test_data)"
   ]
  },
  {
   "cell_type": "code",
   "execution_count": 80,
   "metadata": {
    "collapsed": false
   },
   "outputs": [
    {
     "data": {
      "text/plain": [
       "{'roc_curve': Columns:\n",
       " \tthreshold\tfloat\n",
       " \tfpr\tfloat\n",
       " \ttpr\tfloat\n",
       " \tp\tint\n",
       " \tn\tint\n",
       " \n",
       " Rows: 100001\n",
       " \n",
       " Data:\n",
       " +-----------+-----+-----+----+----+\n",
       " | threshold | fpr | tpr | p  | n  |\n",
       " +-----------+-----+-----+----+----+\n",
       " |    0.0    | 1.0 | 1.0 | 11 | 18 |\n",
       " |   1e-05   | 1.0 | 1.0 | 11 | 18 |\n",
       " |   2e-05   | 1.0 | 1.0 | 11 | 18 |\n",
       " |   3e-05   | 1.0 | 1.0 | 11 | 18 |\n",
       " |   4e-05   | 1.0 | 1.0 | 11 | 18 |\n",
       " |   5e-05   | 1.0 | 1.0 | 11 | 18 |\n",
       " |   6e-05   | 1.0 | 1.0 | 11 | 18 |\n",
       " |   7e-05   | 1.0 | 1.0 | 11 | 18 |\n",
       " |   8e-05   | 1.0 | 1.0 | 11 | 18 |\n",
       " |   9e-05   | 1.0 | 1.0 | 11 | 18 |\n",
       " +-----------+-----+-----+----+----+\n",
       " [100001 rows x 5 columns]\n",
       " Note: Only the head of the SFrame is printed.\n",
       " You can use print_rows(num_rows=m, num_columns=n) to print more rows and columns.}"
      ]
     },
     "execution_count": 80,
     "metadata": {},
     "output_type": "execute_result"
    }
   ],
   "source": [
    "sentiment_model.evaluate(test_data, metric='roc_curve')"
   ]
  },
  {
   "cell_type": "code",
   "execution_count": 81,
   "metadata": {
    "collapsed": false
   },
   "outputs": [
    {
     "data": {
      "application/javascript": [
       "$(\"head\").append($(\"<link/>\").attr({\n",
       "  rel:  \"stylesheet\",\n",
       "  type: \"text/css\",\n",
       "  href: \"//cdnjs.cloudflare.com/ajax/libs/font-awesome/4.1.0/css/font-awesome.min.css\"\n",
       "}));\n",
       "$(\"head\").append($(\"<link/>\").attr({\n",
       "  rel:  \"stylesheet\",\n",
       "  type: \"text/css\",\n",
       "  href: \"https://static.turi.com/products/graphlab-create/2.1/canvas/css/canvas.css\"\n",
       "}));\n",
       "\n",
       "            (function(){\n",
       "\n",
       "                var e = null;\n",
       "                if (typeof element == 'undefined') {\n",
       "                    var scripts = document.getElementsByTagName('script');\n",
       "                    var thisScriptTag = scripts[scripts.length-1];\n",
       "                    var parentDiv = thisScriptTag.parentNode;\n",
       "                    e = document.createElement('div');\n",
       "                    parentDiv.appendChild(e);\n",
       "                } else {\n",
       "                    e = element[0];\n",
       "                }\n",
       "\n",
       "                if (typeof requirejs !== 'undefined') {\n",
       "                    // disable load timeout; ipython_app.js is large and can take a while to load.\n",
       "                    requirejs.config({waitSeconds: 0});\n",
       "                }\n",
       "\n",
       "                require(['https://static.turi.com/products/graphlab-create/2.1/canvas/js/ipython_app.js'], function(IPythonApp){\n",
       "                    var app = new IPythonApp();\n",
       "                    app.attachView('model','Evaluation', {\"comparison\": null, \"selected_variable\": {\"comparison\": null, \"name\": [\"sentiment_model\"], \"view_file\": \"model\", \"view_component\": \"Evaluation\", \"view_params\": {\"model_type\": \"regression\", \"view\": \"Evaluation\"}, \"view_components\": [\"Summary\", \"Evaluation\", \"Comparison\"], \"model_type\": \"regression\", \"attributes\": {\"section_titles\": [\"Schema\", \"Hyperparameters\", \"Training Summary\", \"Settings\", \"Highest Positive Coefficients\", \"Lowest Negative Coefficients\"], \"sections\": [[[\"Number of coefficients\", 1100], [\"Number of examples\", 157], [\"Number of classes\", 2], [\"Number of feature columns\", 1], [\"Number of unpacked features\", 1099]], [[\"L1 penalty\", 0.0], [\"L2 penalty\", 0.01]], [[\"Solver\", \"lbfgs\"], [\"Solver iterations\", 10], [\"Solver status\", \"TERMINATED: Iteration limit reached.\"], [\"Training time (sec)\", 0.032]], [[\"Log-likelihood\", 3.2141]], [[\"word_count[https://t.co/wjkvobt0ui]\", 1.9568], [\"word_count[@arko_dev_sinha:]\", 1.8999], [\"word_count[@tinni_aphrodite:]\", 1.7617], [\"word_count[ideology]\", 1.4908], [\"word_count[@aniltpyc:]\", 1.4908]], [[\"word_count[jai]\", -1.6927], [\"word_count[hind]\", -1.6927], [\"word_count[@princess_pathak]\", -1.6927], [\"word_count[communal]\", -1.6751], [\"word_count[#save_bhu_from_bjp]\", -1.6751]]]}, \"evaluations\": [[\"test_data\", {\"roc_curve\": [{\"threshold\": 0.0, \"p\": 11, \"fpr\": 1.0, \"tpr\": 1.0, \"n\": 18}, {\"threshold\": 0.001, \"p\": 11, \"fpr\": 1.0, \"tpr\": 1.0, \"n\": 18}, {\"threshold\": 0.002, \"p\": 11, \"fpr\": 0.9444444444444444, \"tpr\": 1.0, \"n\": 18}, {\"threshold\": 0.003, \"p\": 11, \"fpr\": 0.8888888888888888, \"tpr\": 1.0, \"n\": 18}, {\"threshold\": 0.004, \"p\": 11, \"fpr\": 0.8333333333333334, \"tpr\": 1.0, \"n\": 18}, {\"threshold\": 0.005, \"p\": 11, \"fpr\": 0.7222222222222222, \"tpr\": 1.0, \"n\": 18}, {\"threshold\": 0.006, \"p\": 11, \"fpr\": 0.7222222222222222, \"tpr\": 1.0, \"n\": 18}, {\"threshold\": 0.007, \"p\": 11, \"fpr\": 0.6666666666666666, \"tpr\": 1.0, \"n\": 18}, {\"threshold\": 0.008, \"p\": 11, \"fpr\": 0.6666666666666666, \"tpr\": 1.0, \"n\": 18}, {\"threshold\": 0.009, \"p\": 11, \"fpr\": 0.6111111111111112, \"tpr\": 1.0, \"n\": 18}, {\"threshold\": 0.01, \"p\": 11, \"fpr\": 0.6111111111111112, \"tpr\": 1.0, \"n\": 18}, {\"threshold\": 0.011, \"p\": 11, \"fpr\": 0.6111111111111112, \"tpr\": 1.0, \"n\": 18}, {\"threshold\": 0.012, \"p\": 11, \"fpr\": 0.6111111111111112, \"tpr\": 1.0, \"n\": 18}, {\"threshold\": 0.013, \"p\": 11, \"fpr\": 0.6111111111111112, \"tpr\": 1.0, \"n\": 18}, {\"threshold\": 0.014, \"p\": 11, \"fpr\": 0.6111111111111112, \"tpr\": 1.0, \"n\": 18}, {\"threshold\": 0.015, \"p\": 11, \"fpr\": 0.6111111111111112, \"tpr\": 1.0, \"n\": 18}, {\"threshold\": 0.016, \"p\": 11, \"fpr\": 0.6111111111111112, \"tpr\": 1.0, \"n\": 18}, {\"threshold\": 0.017, \"p\": 11, \"fpr\": 0.6111111111111112, \"tpr\": 1.0, \"n\": 18}, {\"threshold\": 0.018, \"p\": 11, \"fpr\": 0.6111111111111112, \"tpr\": 1.0, \"n\": 18}, {\"threshold\": 0.019, \"p\": 11, \"fpr\": 0.6111111111111112, \"tpr\": 1.0, \"n\": 18}, {\"threshold\": 0.02, \"p\": 11, \"fpr\": 0.6111111111111112, \"tpr\": 1.0, \"n\": 18}, {\"threshold\": 0.021, \"p\": 11, \"fpr\": 0.6111111111111112, \"tpr\": 1.0, \"n\": 18}, {\"threshold\": 0.022, \"p\": 11, \"fpr\": 0.6111111111111112, \"tpr\": 1.0, \"n\": 18}, {\"threshold\": 0.023, \"p\": 11, \"fpr\": 0.6111111111111112, \"tpr\": 1.0, \"n\": 18}, {\"threshold\": 0.024, \"p\": 11, \"fpr\": 0.6111111111111112, \"tpr\": 1.0, \"n\": 18}, {\"threshold\": 0.025, \"p\": 11, \"fpr\": 0.6111111111111112, \"tpr\": 1.0, \"n\": 18}, {\"threshold\": 0.026, \"p\": 11, \"fpr\": 0.6111111111111112, \"tpr\": 1.0, \"n\": 18}, {\"threshold\": 0.027, \"p\": 11, \"fpr\": 0.6111111111111112, \"tpr\": 1.0, \"n\": 18}, {\"threshold\": 0.028, \"p\": 11, \"fpr\": 0.6111111111111112, \"tpr\": 1.0, \"n\": 18}, {\"threshold\": 0.029, \"p\": 11, \"fpr\": 0.6111111111111112, \"tpr\": 1.0, \"n\": 18}, {\"threshold\": 0.03, \"p\": 11, \"fpr\": 0.6111111111111112, \"tpr\": 1.0, \"n\": 18}, {\"threshold\": 0.031, \"p\": 11, \"fpr\": 0.6111111111111112, \"tpr\": 1.0, \"n\": 18}, {\"threshold\": 0.032, \"p\": 11, \"fpr\": 0.6111111111111112, \"tpr\": 1.0, \"n\": 18}, {\"threshold\": 0.033, \"p\": 11, \"fpr\": 0.6111111111111112, \"tpr\": 1.0, \"n\": 18}, {\"threshold\": 0.034, \"p\": 11, \"fpr\": 0.6111111111111112, \"tpr\": 1.0, \"n\": 18}, {\"threshold\": 0.035, \"p\": 11, \"fpr\": 0.6111111111111112, \"tpr\": 1.0, \"n\": 18}, {\"threshold\": 0.036, \"p\": 11, \"fpr\": 0.6111111111111112, \"tpr\": 1.0, \"n\": 18}, {\"threshold\": 0.037, \"p\": 11, \"fpr\": 0.6111111111111112, \"tpr\": 1.0, \"n\": 18}, {\"threshold\": 0.038, \"p\": 11, \"fpr\": 0.6111111111111112, \"tpr\": 1.0, \"n\": 18}, {\"threshold\": 0.039, \"p\": 11, \"fpr\": 0.6111111111111112, \"tpr\": 1.0, \"n\": 18}, {\"threshold\": 0.04, \"p\": 11, \"fpr\": 0.6111111111111112, \"tpr\": 1.0, \"n\": 18}, {\"threshold\": 0.041, \"p\": 11, \"fpr\": 0.6111111111111112, \"tpr\": 1.0, \"n\": 18}, {\"threshold\": 0.042, \"p\": 11, \"fpr\": 0.6111111111111112, \"tpr\": 1.0, \"n\": 18}, {\"threshold\": 0.043, \"p\": 11, \"fpr\": 0.6111111111111112, \"tpr\": 1.0, \"n\": 18}, {\"threshold\": 0.044, \"p\": 11, \"fpr\": 0.6111111111111112, \"tpr\": 1.0, \"n\": 18}, {\"threshold\": 0.045, \"p\": 11, \"fpr\": 0.6111111111111112, \"tpr\": 1.0, \"n\": 18}, {\"threshold\": 0.046, \"p\": 11, \"fpr\": 0.6111111111111112, \"tpr\": 1.0, \"n\": 18}, {\"threshold\": 0.047, \"p\": 11, \"fpr\": 0.6111111111111112, \"tpr\": 1.0, \"n\": 18}, {\"threshold\": 0.048, \"p\": 11, \"fpr\": 0.6111111111111112, \"tpr\": 1.0, \"n\": 18}, {\"threshold\": 0.049, \"p\": 11, \"fpr\": 0.6111111111111112, \"tpr\": 1.0, \"n\": 18}, {\"threshold\": 0.05, \"p\": 11, \"fpr\": 0.6111111111111112, \"tpr\": 1.0, \"n\": 18}, {\"threshold\": 0.051, \"p\": 11, \"fpr\": 0.6111111111111112, \"tpr\": 1.0, \"n\": 18}, {\"threshold\": 0.052, \"p\": 11, \"fpr\": 0.6111111111111112, \"tpr\": 1.0, \"n\": 18}, {\"threshold\": 0.053, \"p\": 11, \"fpr\": 0.6111111111111112, \"tpr\": 1.0, \"n\": 18}, {\"threshold\": 0.054, \"p\": 11, \"fpr\": 0.5555555555555556, \"tpr\": 1.0, \"n\": 18}, {\"threshold\": 0.055, \"p\": 11, \"fpr\": 0.5555555555555556, \"tpr\": 1.0, \"n\": 18}, {\"threshold\": 0.056, \"p\": 11, \"fpr\": 0.5555555555555556, \"tpr\": 1.0, \"n\": 18}, {\"threshold\": 0.057, \"p\": 11, \"fpr\": 0.5555555555555556, \"tpr\": 1.0, \"n\": 18}, {\"threshold\": 0.058, \"p\": 11, \"fpr\": 0.5555555555555556, \"tpr\": 1.0, \"n\": 18}, {\"threshold\": 0.059, \"p\": 11, \"fpr\": 0.5555555555555556, \"tpr\": 1.0, \"n\": 18}, {\"threshold\": 0.06, \"p\": 11, \"fpr\": 0.5555555555555556, \"tpr\": 1.0, \"n\": 18}, {\"threshold\": 0.061, \"p\": 11, \"fpr\": 0.5555555555555556, \"tpr\": 1.0, \"n\": 18}, {\"threshold\": 0.062, \"p\": 11, \"fpr\": 0.5555555555555556, \"tpr\": 1.0, \"n\": 18}, {\"threshold\": 0.063, \"p\": 11, \"fpr\": 0.5555555555555556, \"tpr\": 1.0, \"n\": 18}, {\"threshold\": 0.064, \"p\": 11, \"fpr\": 0.5555555555555556, \"tpr\": 1.0, \"n\": 18}, {\"threshold\": 0.065, \"p\": 11, \"fpr\": 0.5555555555555556, \"tpr\": 1.0, \"n\": 18}, {\"threshold\": 0.066, \"p\": 11, \"fpr\": 0.5555555555555556, \"tpr\": 1.0, \"n\": 18}, {\"threshold\": 0.067, \"p\": 11, \"fpr\": 0.5555555555555556, \"tpr\": 1.0, \"n\": 18}, {\"threshold\": 0.068, \"p\": 11, \"fpr\": 0.5555555555555556, \"tpr\": 1.0, \"n\": 18}, {\"threshold\": 0.069, \"p\": 11, \"fpr\": 0.5555555555555556, \"tpr\": 1.0, \"n\": 18}, {\"threshold\": 0.07, \"p\": 11, \"fpr\": 0.5555555555555556, \"tpr\": 1.0, \"n\": 18}, {\"threshold\": 0.071, \"p\": 11, \"fpr\": 0.5555555555555556, \"tpr\": 1.0, \"n\": 18}, {\"threshold\": 0.072, \"p\": 11, \"fpr\": 0.5555555555555556, \"tpr\": 1.0, \"n\": 18}, {\"threshold\": 0.073, \"p\": 11, \"fpr\": 0.5555555555555556, \"tpr\": 1.0, \"n\": 18}, {\"threshold\": 0.074, \"p\": 11, \"fpr\": 0.5555555555555556, \"tpr\": 1.0, \"n\": 18}, {\"threshold\": 0.075, \"p\": 11, \"fpr\": 0.5555555555555556, \"tpr\": 1.0, \"n\": 18}, {\"threshold\": 0.076, \"p\": 11, \"fpr\": 0.5555555555555556, \"tpr\": 1.0, \"n\": 18}, {\"threshold\": 0.077, \"p\": 11, \"fpr\": 0.5555555555555556, \"tpr\": 1.0, \"n\": 18}, {\"threshold\": 0.078, \"p\": 11, \"fpr\": 0.5555555555555556, \"tpr\": 1.0, \"n\": 18}, {\"threshold\": 0.079, \"p\": 11, \"fpr\": 0.5555555555555556, \"tpr\": 1.0, \"n\": 18}, {\"threshold\": 0.08, \"p\": 11, \"fpr\": 0.5555555555555556, \"tpr\": 1.0, \"n\": 18}, {\"threshold\": 0.081, \"p\": 11, \"fpr\": 0.5555555555555556, \"tpr\": 1.0, \"n\": 18}, {\"threshold\": 0.082, \"p\": 11, \"fpr\": 0.5, \"tpr\": 1.0, \"n\": 18}, {\"threshold\": 0.083, \"p\": 11, \"fpr\": 0.5, \"tpr\": 1.0, \"n\": 18}, {\"threshold\": 0.084, \"p\": 11, \"fpr\": 0.5, \"tpr\": 1.0, \"n\": 18}, {\"threshold\": 0.085, \"p\": 11, \"fpr\": 0.5, \"tpr\": 1.0, \"n\": 18}, {\"threshold\": 0.086, \"p\": 11, \"fpr\": 0.5, \"tpr\": 1.0, \"n\": 18}, {\"threshold\": 0.087, \"p\": 11, \"fpr\": 0.5, \"tpr\": 1.0, \"n\": 18}, {\"threshold\": 0.088, \"p\": 11, \"fpr\": 0.5, \"tpr\": 1.0, \"n\": 18}, {\"threshold\": 0.089, \"p\": 11, \"fpr\": 0.5, \"tpr\": 1.0, \"n\": 18}, {\"threshold\": 0.09, \"p\": 11, \"fpr\": 0.5, \"tpr\": 1.0, \"n\": 18}, {\"threshold\": 0.091, \"p\": 11, \"fpr\": 0.5, \"tpr\": 1.0, \"n\": 18}, {\"threshold\": 0.092, \"p\": 11, \"fpr\": 0.5, \"tpr\": 1.0, \"n\": 18}, {\"threshold\": 0.093, \"p\": 11, \"fpr\": 0.5, \"tpr\": 1.0, \"n\": 18}, {\"threshold\": 0.094, \"p\": 11, \"fpr\": 0.5, \"tpr\": 1.0, \"n\": 18}, {\"threshold\": 0.095, \"p\": 11, \"fpr\": 0.5, \"tpr\": 1.0, \"n\": 18}, {\"threshold\": 0.096, \"p\": 11, \"fpr\": 0.5, \"tpr\": 1.0, \"n\": 18}, {\"threshold\": 0.097, \"p\": 11, \"fpr\": 0.5, \"tpr\": 1.0, \"n\": 18}, {\"threshold\": 0.098, \"p\": 11, \"fpr\": 0.5, \"tpr\": 1.0, \"n\": 18}, {\"threshold\": 0.099, \"p\": 11, \"fpr\": 0.5, \"tpr\": 1.0, \"n\": 18}, {\"threshold\": 0.1, \"p\": 11, \"fpr\": 0.5, \"tpr\": 1.0, \"n\": 18}, {\"threshold\": 0.101, \"p\": 11, \"fpr\": 0.5, \"tpr\": 1.0, \"n\": 18}, {\"threshold\": 0.102, \"p\": 11, \"fpr\": 0.5, \"tpr\": 1.0, \"n\": 18}, {\"threshold\": 0.103, \"p\": 11, \"fpr\": 0.5, \"tpr\": 1.0, \"n\": 18}, {\"threshold\": 0.104, \"p\": 11, \"fpr\": 0.5, \"tpr\": 1.0, \"n\": 18}, {\"threshold\": 0.105, \"p\": 11, \"fpr\": 0.5, \"tpr\": 1.0, \"n\": 18}, {\"threshold\": 0.106, \"p\": 11, \"fpr\": 0.5, \"tpr\": 1.0, \"n\": 18}, {\"threshold\": 0.107, \"p\": 11, \"fpr\": 0.5, \"tpr\": 1.0, \"n\": 18}, {\"threshold\": 0.108, \"p\": 11, \"fpr\": 0.5, \"tpr\": 1.0, \"n\": 18}, {\"threshold\": 0.109, \"p\": 11, \"fpr\": 0.5, \"tpr\": 1.0, \"n\": 18}, {\"threshold\": 0.11, \"p\": 11, \"fpr\": 0.5, \"tpr\": 1.0, \"n\": 18}, {\"threshold\": 0.111, \"p\": 11, \"fpr\": 0.5, \"tpr\": 1.0, \"n\": 18}, {\"threshold\": 0.112, \"p\": 11, \"fpr\": 0.5, \"tpr\": 1.0, \"n\": 18}, {\"threshold\": 0.113, \"p\": 11, \"fpr\": 0.5, \"tpr\": 1.0, \"n\": 18}, {\"threshold\": 0.114, \"p\": 11, \"fpr\": 0.5, \"tpr\": 1.0, \"n\": 18}, {\"threshold\": 0.115, \"p\": 11, \"fpr\": 0.5, \"tpr\": 1.0, \"n\": 18}, {\"threshold\": 0.116, \"p\": 11, \"fpr\": 0.5, \"tpr\": 1.0, \"n\": 18}, {\"threshold\": 0.117, \"p\": 11, \"fpr\": 0.5, \"tpr\": 1.0, \"n\": 18}, {\"threshold\": 0.118, \"p\": 11, \"fpr\": 0.5, \"tpr\": 1.0, \"n\": 18}, {\"threshold\": 0.119, \"p\": 11, \"fpr\": 0.5, \"tpr\": 1.0, \"n\": 18}, {\"threshold\": 0.12, \"p\": 11, \"fpr\": 0.5, \"tpr\": 1.0, \"n\": 18}, {\"threshold\": 0.121, \"p\": 11, \"fpr\": 0.5, \"tpr\": 1.0, \"n\": 18}, {\"threshold\": 0.122, \"p\": 11, \"fpr\": 0.5, \"tpr\": 1.0, \"n\": 18}, {\"threshold\": 0.123, \"p\": 11, \"fpr\": 0.5, \"tpr\": 1.0, \"n\": 18}, {\"threshold\": 0.124, \"p\": 11, \"fpr\": 0.4444444444444444, \"tpr\": 1.0, \"n\": 18}, {\"threshold\": 0.125, \"p\": 11, \"fpr\": 0.4444444444444444, \"tpr\": 1.0, \"n\": 18}, {\"threshold\": 0.126, \"p\": 11, \"fpr\": 0.4444444444444444, \"tpr\": 1.0, \"n\": 18}, {\"threshold\": 0.127, \"p\": 11, \"fpr\": 0.4444444444444444, \"tpr\": 1.0, \"n\": 18}, {\"threshold\": 0.128, \"p\": 11, \"fpr\": 0.4444444444444444, \"tpr\": 1.0, \"n\": 18}, {\"threshold\": 0.129, \"p\": 11, \"fpr\": 0.4444444444444444, \"tpr\": 1.0, \"n\": 18}, {\"threshold\": 0.13, \"p\": 11, \"fpr\": 0.4444444444444444, \"tpr\": 1.0, \"n\": 18}, {\"threshold\": 0.131, \"p\": 11, \"fpr\": 0.4444444444444444, \"tpr\": 1.0, \"n\": 18}, {\"threshold\": 0.132, \"p\": 11, \"fpr\": 0.4444444444444444, \"tpr\": 1.0, \"n\": 18}, {\"threshold\": 0.133, \"p\": 11, \"fpr\": 0.4444444444444444, \"tpr\": 1.0, \"n\": 18}, {\"threshold\": 0.134, \"p\": 11, \"fpr\": 0.4444444444444444, \"tpr\": 1.0, \"n\": 18}, {\"threshold\": 0.135, \"p\": 11, \"fpr\": 0.4444444444444444, \"tpr\": 1.0, \"n\": 18}, {\"threshold\": 0.136, \"p\": 11, \"fpr\": 0.4444444444444444, \"tpr\": 1.0, \"n\": 18}, {\"threshold\": 0.137, \"p\": 11, \"fpr\": 0.4444444444444444, \"tpr\": 1.0, \"n\": 18}, {\"threshold\": 0.138, \"p\": 11, \"fpr\": 0.4444444444444444, \"tpr\": 1.0, \"n\": 18}, {\"threshold\": 0.139, \"p\": 11, \"fpr\": 0.4444444444444444, \"tpr\": 1.0, \"n\": 18}, {\"threshold\": 0.14, \"p\": 11, \"fpr\": 0.4444444444444444, \"tpr\": 1.0, \"n\": 18}, {\"threshold\": 0.141, \"p\": 11, \"fpr\": 0.3888888888888889, \"tpr\": 1.0, \"n\": 18}, {\"threshold\": 0.142, \"p\": 11, \"fpr\": 0.3888888888888889, \"tpr\": 1.0, \"n\": 18}, {\"threshold\": 0.143, \"p\": 11, \"fpr\": 0.3888888888888889, \"tpr\": 1.0, \"n\": 18}, {\"threshold\": 0.144, \"p\": 11, \"fpr\": 0.3888888888888889, \"tpr\": 1.0, \"n\": 18}, {\"threshold\": 0.145, \"p\": 11, \"fpr\": 0.3888888888888889, \"tpr\": 1.0, \"n\": 18}, {\"threshold\": 0.146, \"p\": 11, \"fpr\": 0.3888888888888889, \"tpr\": 1.0, \"n\": 18}, {\"threshold\": 0.147, \"p\": 11, \"fpr\": 0.3888888888888889, \"tpr\": 1.0, \"n\": 18}, {\"threshold\": 0.148, \"p\": 11, \"fpr\": 0.3888888888888889, \"tpr\": 1.0, \"n\": 18}, {\"threshold\": 0.149, \"p\": 11, \"fpr\": 0.3888888888888889, \"tpr\": 1.0, \"n\": 18}, {\"threshold\": 0.15, \"p\": 11, \"fpr\": 0.3333333333333333, \"tpr\": 1.0, \"n\": 18}, {\"threshold\": 0.151, \"p\": 11, \"fpr\": 0.2777777777777778, \"tpr\": 1.0, \"n\": 18}, {\"threshold\": 0.152, \"p\": 11, \"fpr\": 0.2777777777777778, \"tpr\": 1.0, \"n\": 18}, {\"threshold\": 0.153, \"p\": 11, \"fpr\": 0.2777777777777778, \"tpr\": 1.0, \"n\": 18}, {\"threshold\": 0.154, \"p\": 11, \"fpr\": 0.2777777777777778, \"tpr\": 1.0, \"n\": 18}, {\"threshold\": 0.155, \"p\": 11, \"fpr\": 0.2777777777777778, \"tpr\": 1.0, \"n\": 18}, {\"threshold\": 0.156, \"p\": 11, \"fpr\": 0.2777777777777778, \"tpr\": 1.0, \"n\": 18}, {\"threshold\": 0.157, \"p\": 11, \"fpr\": 0.2777777777777778, \"tpr\": 1.0, \"n\": 18}, {\"threshold\": 0.158, \"p\": 11, \"fpr\": 0.2777777777777778, \"tpr\": 1.0, \"n\": 18}, {\"threshold\": 0.159, \"p\": 11, \"fpr\": 0.2777777777777778, \"tpr\": 1.0, \"n\": 18}, {\"threshold\": 0.16, \"p\": 11, \"fpr\": 0.2777777777777778, \"tpr\": 1.0, \"n\": 18}, {\"threshold\": 0.161, \"p\": 11, \"fpr\": 0.2777777777777778, \"tpr\": 1.0, \"n\": 18}, {\"threshold\": 0.162, \"p\": 11, \"fpr\": 0.2777777777777778, \"tpr\": 1.0, \"n\": 18}, {\"threshold\": 0.163, \"p\": 11, \"fpr\": 0.2777777777777778, \"tpr\": 1.0, \"n\": 18}, {\"threshold\": 0.164, \"p\": 11, \"fpr\": 0.2777777777777778, \"tpr\": 1.0, \"n\": 18}, {\"threshold\": 0.165, \"p\": 11, \"fpr\": 0.2777777777777778, \"tpr\": 1.0, \"n\": 18}, {\"threshold\": 0.166, \"p\": 11, \"fpr\": 0.2777777777777778, \"tpr\": 1.0, \"n\": 18}, {\"threshold\": 0.167, \"p\": 11, \"fpr\": 0.2777777777777778, \"tpr\": 1.0, \"n\": 18}, {\"threshold\": 0.168, \"p\": 11, \"fpr\": 0.2777777777777778, \"tpr\": 1.0, \"n\": 18}, {\"threshold\": 0.169, \"p\": 11, \"fpr\": 0.2777777777777778, \"tpr\": 1.0, \"n\": 18}, {\"threshold\": 0.17, \"p\": 11, \"fpr\": 0.2777777777777778, \"tpr\": 1.0, \"n\": 18}, {\"threshold\": 0.171, \"p\": 11, \"fpr\": 0.2777777777777778, \"tpr\": 1.0, \"n\": 18}, {\"threshold\": 0.172, \"p\": 11, \"fpr\": 0.2777777777777778, \"tpr\": 1.0, \"n\": 18}, {\"threshold\": 0.173, \"p\": 11, \"fpr\": 0.2777777777777778, \"tpr\": 1.0, \"n\": 18}, {\"threshold\": 0.174, \"p\": 11, \"fpr\": 0.2777777777777778, \"tpr\": 1.0, \"n\": 18}, {\"threshold\": 0.175, \"p\": 11, \"fpr\": 0.2777777777777778, \"tpr\": 1.0, \"n\": 18}, {\"threshold\": 0.176, \"p\": 11, \"fpr\": 0.2777777777777778, \"tpr\": 1.0, \"n\": 18}, {\"threshold\": 0.177, \"p\": 11, \"fpr\": 0.2777777777777778, \"tpr\": 1.0, \"n\": 18}, {\"threshold\": 0.178, \"p\": 11, \"fpr\": 0.2777777777777778, \"tpr\": 1.0, \"n\": 18}, {\"threshold\": 0.179, \"p\": 11, \"fpr\": 0.2777777777777778, \"tpr\": 1.0, \"n\": 18}, {\"threshold\": 0.18, \"p\": 11, \"fpr\": 0.2777777777777778, \"tpr\": 1.0, \"n\": 18}, {\"threshold\": 0.181, \"p\": 11, \"fpr\": 0.2777777777777778, \"tpr\": 1.0, \"n\": 18}, {\"threshold\": 0.182, \"p\": 11, \"fpr\": 0.2777777777777778, \"tpr\": 1.0, \"n\": 18}, {\"threshold\": 0.183, \"p\": 11, \"fpr\": 0.2777777777777778, \"tpr\": 1.0, \"n\": 18}, {\"threshold\": 0.184, \"p\": 11, \"fpr\": 0.2777777777777778, \"tpr\": 1.0, \"n\": 18}, {\"threshold\": 0.185, \"p\": 11, \"fpr\": 0.2777777777777778, \"tpr\": 1.0, \"n\": 18}, {\"threshold\": 0.186, \"p\": 11, \"fpr\": 0.2777777777777778, \"tpr\": 1.0, \"n\": 18}, {\"threshold\": 0.187, \"p\": 11, \"fpr\": 0.2777777777777778, \"tpr\": 1.0, \"n\": 18}, {\"threshold\": 0.188, \"p\": 11, \"fpr\": 0.2777777777777778, \"tpr\": 1.0, \"n\": 18}, {\"threshold\": 0.189, \"p\": 11, \"fpr\": 0.2777777777777778, \"tpr\": 1.0, \"n\": 18}, {\"threshold\": 0.19, \"p\": 11, \"fpr\": 0.2777777777777778, \"tpr\": 1.0, \"n\": 18}, {\"threshold\": 0.191, \"p\": 11, \"fpr\": 0.2777777777777778, \"tpr\": 1.0, \"n\": 18}, {\"threshold\": 0.192, \"p\": 11, \"fpr\": 0.2777777777777778, \"tpr\": 1.0, \"n\": 18}, {\"threshold\": 0.193, \"p\": 11, \"fpr\": 0.2777777777777778, \"tpr\": 1.0, \"n\": 18}, {\"threshold\": 0.194, \"p\": 11, \"fpr\": 0.2777777777777778, \"tpr\": 1.0, \"n\": 18}, {\"threshold\": 0.195, \"p\": 11, \"fpr\": 0.2777777777777778, \"tpr\": 1.0, \"n\": 18}, {\"threshold\": 0.196, \"p\": 11, \"fpr\": 0.2777777777777778, \"tpr\": 1.0, \"n\": 18}, {\"threshold\": 0.197, \"p\": 11, \"fpr\": 0.2777777777777778, \"tpr\": 1.0, \"n\": 18}, {\"threshold\": 0.198, \"p\": 11, \"fpr\": 0.2777777777777778, \"tpr\": 1.0, \"n\": 18}, {\"threshold\": 0.199, \"p\": 11, \"fpr\": 0.2777777777777778, \"tpr\": 1.0, \"n\": 18}, {\"threshold\": 0.2, \"p\": 11, \"fpr\": 0.2777777777777778, \"tpr\": 1.0, \"n\": 18}, {\"threshold\": 0.201, \"p\": 11, \"fpr\": 0.2777777777777778, \"tpr\": 1.0, \"n\": 18}, {\"threshold\": 0.202, \"p\": 11, \"fpr\": 0.2777777777777778, \"tpr\": 1.0, \"n\": 18}, {\"threshold\": 0.203, \"p\": 11, \"fpr\": 0.2777777777777778, \"tpr\": 1.0, \"n\": 18}, {\"threshold\": 0.204, \"p\": 11, \"fpr\": 0.2777777777777778, \"tpr\": 1.0, \"n\": 18}, {\"threshold\": 0.205, \"p\": 11, \"fpr\": 0.2777777777777778, \"tpr\": 1.0, \"n\": 18}, {\"threshold\": 0.206, \"p\": 11, \"fpr\": 0.2777777777777778, \"tpr\": 1.0, \"n\": 18}, {\"threshold\": 0.207, \"p\": 11, \"fpr\": 0.2777777777777778, \"tpr\": 1.0, \"n\": 18}, {\"threshold\": 0.208, \"p\": 11, \"fpr\": 0.2777777777777778, \"tpr\": 1.0, \"n\": 18}, {\"threshold\": 0.209, \"p\": 11, \"fpr\": 0.2777777777777778, \"tpr\": 1.0, \"n\": 18}, {\"threshold\": 0.21, \"p\": 11, \"fpr\": 0.2777777777777778, \"tpr\": 1.0, \"n\": 18}, {\"threshold\": 0.211, \"p\": 11, \"fpr\": 0.2777777777777778, \"tpr\": 1.0, \"n\": 18}, {\"threshold\": 0.212, \"p\": 11, \"fpr\": 0.2777777777777778, \"tpr\": 1.0, \"n\": 18}, {\"threshold\": 0.213, \"p\": 11, \"fpr\": 0.2777777777777778, \"tpr\": 1.0, \"n\": 18}, {\"threshold\": 0.214, \"p\": 11, \"fpr\": 0.2777777777777778, \"tpr\": 1.0, \"n\": 18}, {\"threshold\": 0.215, \"p\": 11, \"fpr\": 0.2777777777777778, \"tpr\": 1.0, \"n\": 18}, {\"threshold\": 0.216, \"p\": 11, \"fpr\": 0.2777777777777778, \"tpr\": 1.0, \"n\": 18}, {\"threshold\": 0.217, \"p\": 11, \"fpr\": 0.2777777777777778, \"tpr\": 1.0, \"n\": 18}, {\"threshold\": 0.218, \"p\": 11, \"fpr\": 0.2777777777777778, \"tpr\": 1.0, \"n\": 18}, {\"threshold\": 0.219, \"p\": 11, \"fpr\": 0.2777777777777778, \"tpr\": 1.0, \"n\": 18}, {\"threshold\": 0.22, \"p\": 11, \"fpr\": 0.2777777777777778, \"tpr\": 1.0, \"n\": 18}, {\"threshold\": 0.221, \"p\": 11, \"fpr\": 0.2777777777777778, \"tpr\": 1.0, \"n\": 18}, {\"threshold\": 0.222, \"p\": 11, \"fpr\": 0.2777777777777778, \"tpr\": 1.0, \"n\": 18}, {\"threshold\": 0.223, \"p\": 11, \"fpr\": 0.2777777777777778, \"tpr\": 1.0, \"n\": 18}, {\"threshold\": 0.224, \"p\": 11, \"fpr\": 0.2777777777777778, \"tpr\": 1.0, \"n\": 18}, {\"threshold\": 0.225, \"p\": 11, \"fpr\": 0.2777777777777778, \"tpr\": 1.0, \"n\": 18}, {\"threshold\": 0.226, \"p\": 11, \"fpr\": 0.2777777777777778, \"tpr\": 1.0, \"n\": 18}, {\"threshold\": 0.227, \"p\": 11, \"fpr\": 0.2777777777777778, \"tpr\": 1.0, \"n\": 18}, {\"threshold\": 0.228, \"p\": 11, \"fpr\": 0.2777777777777778, \"tpr\": 1.0, \"n\": 18}, {\"threshold\": 0.229, \"p\": 11, \"fpr\": 0.2777777777777778, \"tpr\": 1.0, \"n\": 18}, {\"threshold\": 0.23, \"p\": 11, \"fpr\": 0.2777777777777778, \"tpr\": 1.0, \"n\": 18}, {\"threshold\": 0.231, \"p\": 11, \"fpr\": 0.2777777777777778, \"tpr\": 1.0, \"n\": 18}, {\"threshold\": 0.232, \"p\": 11, \"fpr\": 0.2777777777777778, \"tpr\": 1.0, \"n\": 18}, {\"threshold\": 0.233, \"p\": 11, \"fpr\": 0.2777777777777778, \"tpr\": 1.0, \"n\": 18}, {\"threshold\": 0.234, \"p\": 11, \"fpr\": 0.2777777777777778, \"tpr\": 1.0, \"n\": 18}, {\"threshold\": 0.235, \"p\": 11, \"fpr\": 0.2777777777777778, \"tpr\": 1.0, \"n\": 18}, {\"threshold\": 0.236, \"p\": 11, \"fpr\": 0.2777777777777778, \"tpr\": 1.0, \"n\": 18}, {\"threshold\": 0.237, \"p\": 11, \"fpr\": 0.2777777777777778, \"tpr\": 1.0, \"n\": 18}, {\"threshold\": 0.238, \"p\": 11, \"fpr\": 0.2777777777777778, \"tpr\": 1.0, \"n\": 18}, {\"threshold\": 0.239, \"p\": 11, \"fpr\": 0.2777777777777778, \"tpr\": 1.0, \"n\": 18}, {\"threshold\": 0.24, \"p\": 11, \"fpr\": 0.2777777777777778, \"tpr\": 1.0, \"n\": 18}, {\"threshold\": 0.241, \"p\": 11, \"fpr\": 0.2777777777777778, \"tpr\": 1.0, \"n\": 18}, {\"threshold\": 0.242, \"p\": 11, \"fpr\": 0.2777777777777778, \"tpr\": 1.0, \"n\": 18}, {\"threshold\": 0.243, \"p\": 11, \"fpr\": 0.2777777777777778, \"tpr\": 1.0, \"n\": 18}, {\"threshold\": 0.244, \"p\": 11, \"fpr\": 0.2777777777777778, \"tpr\": 1.0, \"n\": 18}, {\"threshold\": 0.245, \"p\": 11, \"fpr\": 0.2777777777777778, \"tpr\": 1.0, \"n\": 18}, {\"threshold\": 0.246, \"p\": 11, \"fpr\": 0.2777777777777778, \"tpr\": 1.0, \"n\": 18}, {\"threshold\": 0.247, \"p\": 11, \"fpr\": 0.2777777777777778, \"tpr\": 1.0, \"n\": 18}, {\"threshold\": 0.248, \"p\": 11, \"fpr\": 0.2777777777777778, \"tpr\": 1.0, \"n\": 18}, {\"threshold\": 0.249, \"p\": 11, \"fpr\": 0.2777777777777778, \"tpr\": 1.0, \"n\": 18}, {\"threshold\": 0.25, \"p\": 11, \"fpr\": 0.2777777777777778, \"tpr\": 1.0, \"n\": 18}, {\"threshold\": 0.251, \"p\": 11, \"fpr\": 0.2777777777777778, \"tpr\": 1.0, \"n\": 18}, {\"threshold\": 0.252, \"p\": 11, \"fpr\": 0.2777777777777778, \"tpr\": 1.0, \"n\": 18}, {\"threshold\": 0.253, \"p\": 11, \"fpr\": 0.2777777777777778, \"tpr\": 1.0, \"n\": 18}, {\"threshold\": 0.254, \"p\": 11, \"fpr\": 0.2777777777777778, \"tpr\": 1.0, \"n\": 18}, {\"threshold\": 0.255, \"p\": 11, \"fpr\": 0.2777777777777778, \"tpr\": 1.0, \"n\": 18}, {\"threshold\": 0.256, \"p\": 11, \"fpr\": 0.2777777777777778, \"tpr\": 1.0, \"n\": 18}, {\"threshold\": 0.257, \"p\": 11, \"fpr\": 0.2777777777777778, \"tpr\": 1.0, \"n\": 18}, {\"threshold\": 0.258, \"p\": 11, \"fpr\": 0.2777777777777778, \"tpr\": 1.0, \"n\": 18}, {\"threshold\": 0.259, \"p\": 11, \"fpr\": 0.2777777777777778, \"tpr\": 1.0, \"n\": 18}, {\"threshold\": 0.26, \"p\": 11, \"fpr\": 0.2777777777777778, \"tpr\": 1.0, \"n\": 18}, {\"threshold\": 0.261, \"p\": 11, \"fpr\": 0.2777777777777778, \"tpr\": 1.0, \"n\": 18}, {\"threshold\": 0.262, \"p\": 11, \"fpr\": 0.2777777777777778, \"tpr\": 1.0, \"n\": 18}, {\"threshold\": 0.263, \"p\": 11, \"fpr\": 0.2777777777777778, \"tpr\": 1.0, \"n\": 18}, {\"threshold\": 0.264, \"p\": 11, \"fpr\": 0.2777777777777778, \"tpr\": 1.0, \"n\": 18}, {\"threshold\": 0.265, \"p\": 11, \"fpr\": 0.2777777777777778, \"tpr\": 1.0, \"n\": 18}, {\"threshold\": 0.266, \"p\": 11, \"fpr\": 0.2777777777777778, \"tpr\": 1.0, \"n\": 18}, {\"threshold\": 0.267, \"p\": 11, \"fpr\": 0.2777777777777778, \"tpr\": 1.0, \"n\": 18}, {\"threshold\": 0.268, \"p\": 11, \"fpr\": 0.2777777777777778, \"tpr\": 1.0, \"n\": 18}, {\"threshold\": 0.269, \"p\": 11, \"fpr\": 0.2777777777777778, \"tpr\": 1.0, \"n\": 18}, {\"threshold\": 0.27, \"p\": 11, \"fpr\": 0.2777777777777778, \"tpr\": 1.0, \"n\": 18}, {\"threshold\": 0.271, \"p\": 11, \"fpr\": 0.2777777777777778, \"tpr\": 1.0, \"n\": 18}, {\"threshold\": 0.272, \"p\": 11, \"fpr\": 0.2777777777777778, \"tpr\": 1.0, \"n\": 18}, {\"threshold\": 0.273, \"p\": 11, \"fpr\": 0.2777777777777778, \"tpr\": 1.0, \"n\": 18}, {\"threshold\": 0.274, \"p\": 11, \"fpr\": 0.2777777777777778, \"tpr\": 1.0, \"n\": 18}, {\"threshold\": 0.275, \"p\": 11, \"fpr\": 0.2777777777777778, \"tpr\": 1.0, \"n\": 18}, {\"threshold\": 0.276, \"p\": 11, \"fpr\": 0.2777777777777778, \"tpr\": 1.0, \"n\": 18}, {\"threshold\": 0.277, \"p\": 11, \"fpr\": 0.2777777777777778, \"tpr\": 1.0, \"n\": 18}, {\"threshold\": 0.278, \"p\": 11, \"fpr\": 0.2777777777777778, \"tpr\": 1.0, \"n\": 18}, {\"threshold\": 0.279, \"p\": 11, \"fpr\": 0.2777777777777778, \"tpr\": 1.0, \"n\": 18}, {\"threshold\": 0.28, \"p\": 11, \"fpr\": 0.2777777777777778, \"tpr\": 1.0, \"n\": 18}, {\"threshold\": 0.281, \"p\": 11, \"fpr\": 0.2777777777777778, \"tpr\": 1.0, \"n\": 18}, {\"threshold\": 0.282, \"p\": 11, \"fpr\": 0.2777777777777778, \"tpr\": 1.0, \"n\": 18}, {\"threshold\": 0.283, \"p\": 11, \"fpr\": 0.2777777777777778, \"tpr\": 1.0, \"n\": 18}, {\"threshold\": 0.284, \"p\": 11, \"fpr\": 0.2777777777777778, \"tpr\": 1.0, \"n\": 18}, {\"threshold\": 0.285, \"p\": 11, \"fpr\": 0.2777777777777778, \"tpr\": 1.0, \"n\": 18}, {\"threshold\": 0.286, \"p\": 11, \"fpr\": 0.2777777777777778, \"tpr\": 1.0, \"n\": 18}, {\"threshold\": 0.287, \"p\": 11, \"fpr\": 0.2777777777777778, \"tpr\": 1.0, \"n\": 18}, {\"threshold\": 0.288, \"p\": 11, \"fpr\": 0.2777777777777778, \"tpr\": 1.0, \"n\": 18}, {\"threshold\": 0.289, \"p\": 11, \"fpr\": 0.2777777777777778, \"tpr\": 1.0, \"n\": 18}, {\"threshold\": 0.29, \"p\": 11, \"fpr\": 0.2777777777777778, \"tpr\": 1.0, \"n\": 18}, {\"threshold\": 0.291, \"p\": 11, \"fpr\": 0.2777777777777778, \"tpr\": 1.0, \"n\": 18}, {\"threshold\": 0.292, \"p\": 11, \"fpr\": 0.2777777777777778, \"tpr\": 1.0, \"n\": 18}, {\"threshold\": 0.293, \"p\": 11, \"fpr\": 0.2777777777777778, \"tpr\": 1.0, \"n\": 18}, {\"threshold\": 0.294, \"p\": 11, \"fpr\": 0.2777777777777778, \"tpr\": 1.0, \"n\": 18}, {\"threshold\": 0.295, \"p\": 11, \"fpr\": 0.2777777777777778, \"tpr\": 1.0, \"n\": 18}, {\"threshold\": 0.296, \"p\": 11, \"fpr\": 0.2777777777777778, \"tpr\": 1.0, \"n\": 18}, {\"threshold\": 0.297, \"p\": 11, \"fpr\": 0.2777777777777778, \"tpr\": 1.0, \"n\": 18}, {\"threshold\": 0.298, \"p\": 11, \"fpr\": 0.2777777777777778, \"tpr\": 1.0, \"n\": 18}, {\"threshold\": 0.299, \"p\": 11, \"fpr\": 0.2777777777777778, \"tpr\": 1.0, \"n\": 18}, {\"threshold\": 0.3, \"p\": 11, \"fpr\": 0.2777777777777778, \"tpr\": 1.0, \"n\": 18}, {\"threshold\": 0.301, \"p\": 11, \"fpr\": 0.2777777777777778, \"tpr\": 1.0, \"n\": 18}, {\"threshold\": 0.302, \"p\": 11, \"fpr\": 0.2777777777777778, \"tpr\": 1.0, \"n\": 18}, {\"threshold\": 0.303, \"p\": 11, \"fpr\": 0.2777777777777778, \"tpr\": 1.0, \"n\": 18}, {\"threshold\": 0.304, \"p\": 11, \"fpr\": 0.2777777777777778, \"tpr\": 1.0, \"n\": 18}, {\"threshold\": 0.305, \"p\": 11, \"fpr\": 0.2777777777777778, \"tpr\": 1.0, \"n\": 18}, {\"threshold\": 0.306, \"p\": 11, \"fpr\": 0.2777777777777778, \"tpr\": 1.0, \"n\": 18}, {\"threshold\": 0.307, \"p\": 11, \"fpr\": 0.2777777777777778, \"tpr\": 1.0, \"n\": 18}, {\"threshold\": 0.308, \"p\": 11, \"fpr\": 0.2777777777777778, \"tpr\": 1.0, \"n\": 18}, {\"threshold\": 0.309, \"p\": 11, \"fpr\": 0.2777777777777778, \"tpr\": 1.0, \"n\": 18}, {\"threshold\": 0.31, \"p\": 11, \"fpr\": 0.2777777777777778, \"tpr\": 1.0, \"n\": 18}, {\"threshold\": 0.311, \"p\": 11, \"fpr\": 0.2777777777777778, \"tpr\": 1.0, \"n\": 18}, {\"threshold\": 0.312, \"p\": 11, \"fpr\": 0.2777777777777778, \"tpr\": 1.0, \"n\": 18}, {\"threshold\": 0.313, \"p\": 11, \"fpr\": 0.2222222222222222, \"tpr\": 1.0, \"n\": 18}, {\"threshold\": 0.314, \"p\": 11, \"fpr\": 0.2222222222222222, \"tpr\": 1.0, \"n\": 18}, {\"threshold\": 0.315, \"p\": 11, \"fpr\": 0.2222222222222222, \"tpr\": 1.0, \"n\": 18}, {\"threshold\": 0.316, \"p\": 11, \"fpr\": 0.2222222222222222, \"tpr\": 1.0, \"n\": 18}, {\"threshold\": 0.317, \"p\": 11, \"fpr\": 0.2222222222222222, \"tpr\": 1.0, \"n\": 18}, {\"threshold\": 0.318, \"p\": 11, \"fpr\": 0.2222222222222222, \"tpr\": 1.0, \"n\": 18}, {\"threshold\": 0.319, \"p\": 11, \"fpr\": 0.2222222222222222, \"tpr\": 1.0, \"n\": 18}, {\"threshold\": 0.32, \"p\": 11, \"fpr\": 0.2222222222222222, \"tpr\": 1.0, \"n\": 18}, {\"threshold\": 0.321, \"p\": 11, \"fpr\": 0.2222222222222222, \"tpr\": 1.0, \"n\": 18}, {\"threshold\": 0.322, \"p\": 11, \"fpr\": 0.2222222222222222, \"tpr\": 1.0, \"n\": 18}, {\"threshold\": 0.323, \"p\": 11, \"fpr\": 0.2222222222222222, \"tpr\": 1.0, \"n\": 18}, {\"threshold\": 0.324, \"p\": 11, \"fpr\": 0.2222222222222222, \"tpr\": 1.0, \"n\": 18}, {\"threshold\": 0.325, \"p\": 11, \"fpr\": 0.2222222222222222, \"tpr\": 1.0, \"n\": 18}, {\"threshold\": 0.326, \"p\": 11, \"fpr\": 0.2222222222222222, \"tpr\": 1.0, \"n\": 18}, {\"threshold\": 0.327, \"p\": 11, \"fpr\": 0.2222222222222222, \"tpr\": 0.9090909090909091, \"n\": 18}, {\"threshold\": 0.328, \"p\": 11, \"fpr\": 0.2222222222222222, \"tpr\": 0.9090909090909091, \"n\": 18}, {\"threshold\": 0.329, \"p\": 11, \"fpr\": 0.2222222222222222, \"tpr\": 0.9090909090909091, \"n\": 18}, {\"threshold\": 0.33, \"p\": 11, \"fpr\": 0.2222222222222222, \"tpr\": 0.9090909090909091, \"n\": 18}, {\"threshold\": 0.331, \"p\": 11, \"fpr\": 0.2222222222222222, \"tpr\": 0.9090909090909091, \"n\": 18}, {\"threshold\": 0.332, \"p\": 11, \"fpr\": 0.2222222222222222, \"tpr\": 0.9090909090909091, \"n\": 18}, {\"threshold\": 0.333, \"p\": 11, \"fpr\": 0.2222222222222222, \"tpr\": 0.9090909090909091, \"n\": 18}, {\"threshold\": 0.334, \"p\": 11, \"fpr\": 0.2222222222222222, \"tpr\": 0.9090909090909091, \"n\": 18}, {\"threshold\": 0.335, \"p\": 11, \"fpr\": 0.2222222222222222, \"tpr\": 0.9090909090909091, \"n\": 18}, {\"threshold\": 0.336, \"p\": 11, \"fpr\": 0.2222222222222222, \"tpr\": 0.9090909090909091, \"n\": 18}, {\"threshold\": 0.337, \"p\": 11, \"fpr\": 0.2222222222222222, \"tpr\": 0.9090909090909091, \"n\": 18}, {\"threshold\": 0.338, \"p\": 11, \"fpr\": 0.2222222222222222, \"tpr\": 0.9090909090909091, \"n\": 18}, {\"threshold\": 0.339, \"p\": 11, \"fpr\": 0.2222222222222222, \"tpr\": 0.9090909090909091, \"n\": 18}, {\"threshold\": 0.34, \"p\": 11, \"fpr\": 0.2222222222222222, \"tpr\": 0.9090909090909091, \"n\": 18}, {\"threshold\": 0.341, \"p\": 11, \"fpr\": 0.2222222222222222, \"tpr\": 0.9090909090909091, \"n\": 18}, {\"threshold\": 0.342, \"p\": 11, \"fpr\": 0.2222222222222222, \"tpr\": 0.9090909090909091, \"n\": 18}, {\"threshold\": 0.343, \"p\": 11, \"fpr\": 0.2222222222222222, \"tpr\": 0.9090909090909091, \"n\": 18}, {\"threshold\": 0.344, \"p\": 11, \"fpr\": 0.2222222222222222, \"tpr\": 0.9090909090909091, \"n\": 18}, {\"threshold\": 0.345, \"p\": 11, \"fpr\": 0.2222222222222222, \"tpr\": 0.9090909090909091, \"n\": 18}, {\"threshold\": 0.346, \"p\": 11, \"fpr\": 0.2222222222222222, \"tpr\": 0.9090909090909091, \"n\": 18}, {\"threshold\": 0.347, \"p\": 11, \"fpr\": 0.2222222222222222, \"tpr\": 0.9090909090909091, \"n\": 18}, {\"threshold\": 0.348, \"p\": 11, \"fpr\": 0.2222222222222222, \"tpr\": 0.9090909090909091, \"n\": 18}, {\"threshold\": 0.349, \"p\": 11, \"fpr\": 0.2222222222222222, \"tpr\": 0.9090909090909091, \"n\": 18}, {\"threshold\": 0.35, \"p\": 11, \"fpr\": 0.16666666666666666, \"tpr\": 0.9090909090909091, \"n\": 18}, {\"threshold\": 0.351, \"p\": 11, \"fpr\": 0.16666666666666666, \"tpr\": 0.9090909090909091, \"n\": 18}, {\"threshold\": 0.352, \"p\": 11, \"fpr\": 0.16666666666666666, \"tpr\": 0.9090909090909091, \"n\": 18}, {\"threshold\": 0.353, \"p\": 11, \"fpr\": 0.16666666666666666, \"tpr\": 0.9090909090909091, \"n\": 18}, {\"threshold\": 0.354, \"p\": 11, \"fpr\": 0.1111111111111111, \"tpr\": 0.9090909090909091, \"n\": 18}, {\"threshold\": 0.355, \"p\": 11, \"fpr\": 0.1111111111111111, \"tpr\": 0.9090909090909091, \"n\": 18}, {\"threshold\": 0.356, \"p\": 11, \"fpr\": 0.1111111111111111, \"tpr\": 0.9090909090909091, \"n\": 18}, {\"threshold\": 0.357, \"p\": 11, \"fpr\": 0.1111111111111111, \"tpr\": 0.9090909090909091, \"n\": 18}, {\"threshold\": 0.358, \"p\": 11, \"fpr\": 0.1111111111111111, \"tpr\": 0.9090909090909091, \"n\": 18}, {\"threshold\": 0.359, \"p\": 11, \"fpr\": 0.1111111111111111, \"tpr\": 0.9090909090909091, \"n\": 18}, {\"threshold\": 0.36, \"p\": 11, \"fpr\": 0.1111111111111111, \"tpr\": 0.9090909090909091, \"n\": 18}, {\"threshold\": 0.361, \"p\": 11, \"fpr\": 0.1111111111111111, \"tpr\": 0.9090909090909091, \"n\": 18}, {\"threshold\": 0.362, \"p\": 11, \"fpr\": 0.1111111111111111, \"tpr\": 0.9090909090909091, \"n\": 18}, {\"threshold\": 0.363, \"p\": 11, \"fpr\": 0.1111111111111111, \"tpr\": 0.9090909090909091, \"n\": 18}, {\"threshold\": 0.364, \"p\": 11, \"fpr\": 0.1111111111111111, \"tpr\": 0.9090909090909091, \"n\": 18}, {\"threshold\": 0.365, \"p\": 11, \"fpr\": 0.1111111111111111, \"tpr\": 0.9090909090909091, \"n\": 18}, {\"threshold\": 0.366, \"p\": 11, \"fpr\": 0.1111111111111111, \"tpr\": 0.9090909090909091, \"n\": 18}, {\"threshold\": 0.367, \"p\": 11, \"fpr\": 0.1111111111111111, \"tpr\": 0.9090909090909091, \"n\": 18}, {\"threshold\": 0.368, \"p\": 11, \"fpr\": 0.1111111111111111, \"tpr\": 0.9090909090909091, \"n\": 18}, {\"threshold\": 0.369, \"p\": 11, \"fpr\": 0.1111111111111111, \"tpr\": 0.9090909090909091, \"n\": 18}, {\"threshold\": 0.37, \"p\": 11, \"fpr\": 0.1111111111111111, \"tpr\": 0.9090909090909091, \"n\": 18}, {\"threshold\": 0.371, \"p\": 11, \"fpr\": 0.1111111111111111, \"tpr\": 0.9090909090909091, \"n\": 18}, {\"threshold\": 0.372, \"p\": 11, \"fpr\": 0.1111111111111111, \"tpr\": 0.9090909090909091, \"n\": 18}, {\"threshold\": 0.373, \"p\": 11, \"fpr\": 0.1111111111111111, \"tpr\": 0.9090909090909091, \"n\": 18}, {\"threshold\": 0.374, \"p\": 11, \"fpr\": 0.1111111111111111, \"tpr\": 0.9090909090909091, \"n\": 18}, {\"threshold\": 0.375, \"p\": 11, \"fpr\": 0.1111111111111111, \"tpr\": 0.9090909090909091, \"n\": 18}, {\"threshold\": 0.376, \"p\": 11, \"fpr\": 0.1111111111111111, \"tpr\": 0.9090909090909091, \"n\": 18}, {\"threshold\": 0.377, \"p\": 11, \"fpr\": 0.1111111111111111, \"tpr\": 0.9090909090909091, \"n\": 18}, {\"threshold\": 0.378, \"p\": 11, \"fpr\": 0.1111111111111111, \"tpr\": 0.9090909090909091, \"n\": 18}, {\"threshold\": 0.379, \"p\": 11, \"fpr\": 0.1111111111111111, \"tpr\": 0.9090909090909091, \"n\": 18}, {\"threshold\": 0.38, \"p\": 11, \"fpr\": 0.1111111111111111, \"tpr\": 0.9090909090909091, \"n\": 18}, {\"threshold\": 0.381, \"p\": 11, \"fpr\": 0.1111111111111111, \"tpr\": 0.9090909090909091, \"n\": 18}, {\"threshold\": 0.382, \"p\": 11, \"fpr\": 0.1111111111111111, \"tpr\": 0.9090909090909091, \"n\": 18}, {\"threshold\": 0.383, \"p\": 11, \"fpr\": 0.1111111111111111, \"tpr\": 0.9090909090909091, \"n\": 18}, {\"threshold\": 0.384, \"p\": 11, \"fpr\": 0.1111111111111111, \"tpr\": 0.9090909090909091, \"n\": 18}, {\"threshold\": 0.385, \"p\": 11, \"fpr\": 0.1111111111111111, \"tpr\": 0.9090909090909091, \"n\": 18}, {\"threshold\": 0.386, \"p\": 11, \"fpr\": 0.1111111111111111, \"tpr\": 0.9090909090909091, \"n\": 18}, {\"threshold\": 0.387, \"p\": 11, \"fpr\": 0.1111111111111111, \"tpr\": 0.9090909090909091, \"n\": 18}, {\"threshold\": 0.388, \"p\": 11, \"fpr\": 0.1111111111111111, \"tpr\": 0.9090909090909091, \"n\": 18}, {\"threshold\": 0.389, \"p\": 11, \"fpr\": 0.1111111111111111, \"tpr\": 0.9090909090909091, \"n\": 18}, {\"threshold\": 0.39, \"p\": 11, \"fpr\": 0.1111111111111111, \"tpr\": 0.9090909090909091, \"n\": 18}, {\"threshold\": 0.391, \"p\": 11, \"fpr\": 0.1111111111111111, \"tpr\": 0.9090909090909091, \"n\": 18}, {\"threshold\": 0.392, \"p\": 11, \"fpr\": 0.1111111111111111, \"tpr\": 0.9090909090909091, \"n\": 18}, {\"threshold\": 0.393, \"p\": 11, \"fpr\": 0.1111111111111111, \"tpr\": 0.9090909090909091, \"n\": 18}, {\"threshold\": 0.394, \"p\": 11, \"fpr\": 0.1111111111111111, \"tpr\": 0.9090909090909091, \"n\": 18}, {\"threshold\": 0.395, \"p\": 11, \"fpr\": 0.1111111111111111, \"tpr\": 0.9090909090909091, \"n\": 18}, {\"threshold\": 0.396, \"p\": 11, \"fpr\": 0.1111111111111111, \"tpr\": 0.9090909090909091, \"n\": 18}, {\"threshold\": 0.397, \"p\": 11, \"fpr\": 0.1111111111111111, \"tpr\": 0.9090909090909091, \"n\": 18}, {\"threshold\": 0.398, \"p\": 11, \"fpr\": 0.1111111111111111, \"tpr\": 0.9090909090909091, \"n\": 18}, {\"threshold\": 0.399, \"p\": 11, \"fpr\": 0.1111111111111111, \"tpr\": 0.9090909090909091, \"n\": 18}, {\"threshold\": 0.4, \"p\": 11, \"fpr\": 0.1111111111111111, \"tpr\": 0.9090909090909091, \"n\": 18}, {\"threshold\": 0.401, \"p\": 11, \"fpr\": 0.1111111111111111, \"tpr\": 0.9090909090909091, \"n\": 18}, {\"threshold\": 0.402, \"p\": 11, \"fpr\": 0.1111111111111111, \"tpr\": 0.9090909090909091, \"n\": 18}, {\"threshold\": 0.403, \"p\": 11, \"fpr\": 0.1111111111111111, \"tpr\": 0.9090909090909091, \"n\": 18}, {\"threshold\": 0.404, \"p\": 11, \"fpr\": 0.1111111111111111, \"tpr\": 0.9090909090909091, \"n\": 18}, {\"threshold\": 0.405, \"p\": 11, \"fpr\": 0.1111111111111111, \"tpr\": 0.9090909090909091, \"n\": 18}, {\"threshold\": 0.406, \"p\": 11, \"fpr\": 0.1111111111111111, \"tpr\": 0.9090909090909091, \"n\": 18}, {\"threshold\": 0.407, \"p\": 11, \"fpr\": 0.1111111111111111, \"tpr\": 0.9090909090909091, \"n\": 18}, {\"threshold\": 0.408, \"p\": 11, \"fpr\": 0.1111111111111111, \"tpr\": 0.9090909090909091, \"n\": 18}, {\"threshold\": 0.409, \"p\": 11, \"fpr\": 0.1111111111111111, \"tpr\": 0.9090909090909091, \"n\": 18}, {\"threshold\": 0.41, \"p\": 11, \"fpr\": 0.1111111111111111, \"tpr\": 0.9090909090909091, \"n\": 18}, {\"threshold\": 0.411, \"p\": 11, \"fpr\": 0.1111111111111111, \"tpr\": 0.9090909090909091, \"n\": 18}, {\"threshold\": 0.412, \"p\": 11, \"fpr\": 0.1111111111111111, \"tpr\": 0.9090909090909091, \"n\": 18}, {\"threshold\": 0.413, \"p\": 11, \"fpr\": 0.1111111111111111, \"tpr\": 0.9090909090909091, \"n\": 18}, {\"threshold\": 0.414, \"p\": 11, \"fpr\": 0.1111111111111111, \"tpr\": 0.9090909090909091, \"n\": 18}, {\"threshold\": 0.415, \"p\": 11, \"fpr\": 0.1111111111111111, \"tpr\": 0.9090909090909091, \"n\": 18}, {\"threshold\": 0.416, \"p\": 11, \"fpr\": 0.1111111111111111, \"tpr\": 0.9090909090909091, \"n\": 18}, {\"threshold\": 0.417, \"p\": 11, \"fpr\": 0.1111111111111111, \"tpr\": 0.9090909090909091, \"n\": 18}, {\"threshold\": 0.418, \"p\": 11, \"fpr\": 0.1111111111111111, \"tpr\": 0.9090909090909091, \"n\": 18}, {\"threshold\": 0.419, \"p\": 11, \"fpr\": 0.1111111111111111, \"tpr\": 0.9090909090909091, \"n\": 18}, {\"threshold\": 0.42, \"p\": 11, \"fpr\": 0.1111111111111111, \"tpr\": 0.9090909090909091, \"n\": 18}, {\"threshold\": 0.421, \"p\": 11, \"fpr\": 0.1111111111111111, \"tpr\": 0.9090909090909091, \"n\": 18}, {\"threshold\": 0.422, \"p\": 11, \"fpr\": 0.1111111111111111, \"tpr\": 0.9090909090909091, \"n\": 18}, {\"threshold\": 0.423, \"p\": 11, \"fpr\": 0.1111111111111111, \"tpr\": 0.9090909090909091, \"n\": 18}, {\"threshold\": 0.424, \"p\": 11, \"fpr\": 0.1111111111111111, \"tpr\": 0.9090909090909091, \"n\": 18}, {\"threshold\": 0.425, \"p\": 11, \"fpr\": 0.1111111111111111, \"tpr\": 0.9090909090909091, \"n\": 18}, {\"threshold\": 0.426, \"p\": 11, \"fpr\": 0.1111111111111111, \"tpr\": 0.9090909090909091, \"n\": 18}, {\"threshold\": 0.427, \"p\": 11, \"fpr\": 0.1111111111111111, \"tpr\": 0.9090909090909091, \"n\": 18}, {\"threshold\": 0.428, \"p\": 11, \"fpr\": 0.1111111111111111, \"tpr\": 0.9090909090909091, \"n\": 18}, {\"threshold\": 0.429, \"p\": 11, \"fpr\": 0.1111111111111111, \"tpr\": 0.9090909090909091, \"n\": 18}, {\"threshold\": 0.43, \"p\": 11, \"fpr\": 0.1111111111111111, \"tpr\": 0.9090909090909091, \"n\": 18}, {\"threshold\": 0.431, \"p\": 11, \"fpr\": 0.1111111111111111, \"tpr\": 0.9090909090909091, \"n\": 18}, {\"threshold\": 0.432, \"p\": 11, \"fpr\": 0.1111111111111111, \"tpr\": 0.9090909090909091, \"n\": 18}, {\"threshold\": 0.433, \"p\": 11, \"fpr\": 0.1111111111111111, \"tpr\": 0.9090909090909091, \"n\": 18}, {\"threshold\": 0.434, \"p\": 11, \"fpr\": 0.1111111111111111, \"tpr\": 0.9090909090909091, \"n\": 18}, {\"threshold\": 0.435, \"p\": 11, \"fpr\": 0.1111111111111111, \"tpr\": 0.9090909090909091, \"n\": 18}, {\"threshold\": 0.436, \"p\": 11, \"fpr\": 0.1111111111111111, \"tpr\": 0.9090909090909091, \"n\": 18}, {\"threshold\": 0.437, \"p\": 11, \"fpr\": 0.1111111111111111, \"tpr\": 0.9090909090909091, \"n\": 18}, {\"threshold\": 0.438, \"p\": 11, \"fpr\": 0.1111111111111111, \"tpr\": 0.9090909090909091, \"n\": 18}, {\"threshold\": 0.439, \"p\": 11, \"fpr\": 0.1111111111111111, \"tpr\": 0.9090909090909091, \"n\": 18}, {\"threshold\": 0.44, \"p\": 11, \"fpr\": 0.1111111111111111, \"tpr\": 0.9090909090909091, \"n\": 18}, {\"threshold\": 0.441, \"p\": 11, \"fpr\": 0.1111111111111111, \"tpr\": 0.9090909090909091, \"n\": 18}, {\"threshold\": 0.442, \"p\": 11, \"fpr\": 0.1111111111111111, \"tpr\": 0.9090909090909091, \"n\": 18}, {\"threshold\": 0.443, \"p\": 11, \"fpr\": 0.1111111111111111, \"tpr\": 0.9090909090909091, \"n\": 18}, {\"threshold\": 0.444, \"p\": 11, \"fpr\": 0.1111111111111111, \"tpr\": 0.9090909090909091, \"n\": 18}, {\"threshold\": 0.445, \"p\": 11, \"fpr\": 0.1111111111111111, \"tpr\": 0.9090909090909091, \"n\": 18}, {\"threshold\": 0.446, \"p\": 11, \"fpr\": 0.1111111111111111, \"tpr\": 0.9090909090909091, \"n\": 18}, {\"threshold\": 0.447, \"p\": 11, \"fpr\": 0.1111111111111111, \"tpr\": 0.9090909090909091, \"n\": 18}, {\"threshold\": 0.448, \"p\": 11, \"fpr\": 0.1111111111111111, \"tpr\": 0.9090909090909091, \"n\": 18}, {\"threshold\": 0.449, \"p\": 11, \"fpr\": 0.1111111111111111, \"tpr\": 0.9090909090909091, \"n\": 18}, {\"threshold\": 0.45, \"p\": 11, \"fpr\": 0.1111111111111111, \"tpr\": 0.9090909090909091, \"n\": 18}, {\"threshold\": 0.451, \"p\": 11, \"fpr\": 0.1111111111111111, \"tpr\": 0.9090909090909091, \"n\": 18}, {\"threshold\": 0.452, \"p\": 11, \"fpr\": 0.1111111111111111, \"tpr\": 0.9090909090909091, \"n\": 18}, {\"threshold\": 0.453, \"p\": 11, \"fpr\": 0.1111111111111111, \"tpr\": 0.9090909090909091, \"n\": 18}, {\"threshold\": 0.454, \"p\": 11, \"fpr\": 0.1111111111111111, \"tpr\": 0.9090909090909091, \"n\": 18}, {\"threshold\": 0.455, \"p\": 11, \"fpr\": 0.1111111111111111, \"tpr\": 0.9090909090909091, \"n\": 18}, {\"threshold\": 0.456, \"p\": 11, \"fpr\": 0.1111111111111111, \"tpr\": 0.9090909090909091, \"n\": 18}, {\"threshold\": 0.457, \"p\": 11, \"fpr\": 0.1111111111111111, \"tpr\": 0.9090909090909091, \"n\": 18}, {\"threshold\": 0.458, \"p\": 11, \"fpr\": 0.1111111111111111, \"tpr\": 0.9090909090909091, \"n\": 18}, {\"threshold\": 0.459, \"p\": 11, \"fpr\": 0.1111111111111111, \"tpr\": 0.9090909090909091, \"n\": 18}, {\"threshold\": 0.46, \"p\": 11, \"fpr\": 0.1111111111111111, \"tpr\": 0.9090909090909091, \"n\": 18}, {\"threshold\": 0.461, \"p\": 11, \"fpr\": 0.1111111111111111, \"tpr\": 0.9090909090909091, \"n\": 18}, {\"threshold\": 0.462, \"p\": 11, \"fpr\": 0.1111111111111111, \"tpr\": 0.9090909090909091, \"n\": 18}, {\"threshold\": 0.463, \"p\": 11, \"fpr\": 0.1111111111111111, \"tpr\": 0.9090909090909091, \"n\": 18}, {\"threshold\": 0.464, \"p\": 11, \"fpr\": 0.1111111111111111, \"tpr\": 0.9090909090909091, \"n\": 18}, {\"threshold\": 0.465, \"p\": 11, \"fpr\": 0.1111111111111111, \"tpr\": 0.9090909090909091, \"n\": 18}, {\"threshold\": 0.466, \"p\": 11, \"fpr\": 0.1111111111111111, \"tpr\": 0.9090909090909091, \"n\": 18}, {\"threshold\": 0.467, \"p\": 11, \"fpr\": 0.1111111111111111, \"tpr\": 0.9090909090909091, \"n\": 18}, {\"threshold\": 0.468, \"p\": 11, \"fpr\": 0.1111111111111111, \"tpr\": 0.9090909090909091, \"n\": 18}, {\"threshold\": 0.469, \"p\": 11, \"fpr\": 0.1111111111111111, \"tpr\": 0.9090909090909091, \"n\": 18}, {\"threshold\": 0.47, \"p\": 11, \"fpr\": 0.1111111111111111, \"tpr\": 0.9090909090909091, \"n\": 18}, {\"threshold\": 0.471, \"p\": 11, \"fpr\": 0.1111111111111111, \"tpr\": 0.9090909090909091, \"n\": 18}, {\"threshold\": 0.472, \"p\": 11, \"fpr\": 0.1111111111111111, \"tpr\": 0.9090909090909091, \"n\": 18}, {\"threshold\": 0.473, \"p\": 11, \"fpr\": 0.1111111111111111, \"tpr\": 0.9090909090909091, \"n\": 18}, {\"threshold\": 0.474, \"p\": 11, \"fpr\": 0.1111111111111111, \"tpr\": 0.9090909090909091, \"n\": 18}, {\"threshold\": 0.475, \"p\": 11, \"fpr\": 0.1111111111111111, \"tpr\": 0.9090909090909091, \"n\": 18}, {\"threshold\": 0.476, \"p\": 11, \"fpr\": 0.1111111111111111, \"tpr\": 0.9090909090909091, \"n\": 18}, {\"threshold\": 0.477, \"p\": 11, \"fpr\": 0.1111111111111111, \"tpr\": 0.9090909090909091, \"n\": 18}, {\"threshold\": 0.478, \"p\": 11, \"fpr\": 0.1111111111111111, \"tpr\": 0.9090909090909091, \"n\": 18}, {\"threshold\": 0.479, \"p\": 11, \"fpr\": 0.1111111111111111, \"tpr\": 0.9090909090909091, \"n\": 18}, {\"threshold\": 0.48, \"p\": 11, \"fpr\": 0.1111111111111111, \"tpr\": 0.9090909090909091, \"n\": 18}, {\"threshold\": 0.481, \"p\": 11, \"fpr\": 0.1111111111111111, \"tpr\": 0.9090909090909091, \"n\": 18}, {\"threshold\": 0.482, \"p\": 11, \"fpr\": 0.1111111111111111, \"tpr\": 0.9090909090909091, \"n\": 18}, {\"threshold\": 0.483, \"p\": 11, \"fpr\": 0.1111111111111111, \"tpr\": 0.9090909090909091, \"n\": 18}, {\"threshold\": 0.484, \"p\": 11, \"fpr\": 0.1111111111111111, \"tpr\": 0.9090909090909091, \"n\": 18}, {\"threshold\": 0.485, \"p\": 11, \"fpr\": 0.1111111111111111, \"tpr\": 0.9090909090909091, \"n\": 18}, {\"threshold\": 0.486, \"p\": 11, \"fpr\": 0.1111111111111111, \"tpr\": 0.9090909090909091, \"n\": 18}, {\"threshold\": 0.487, \"p\": 11, \"fpr\": 0.1111111111111111, \"tpr\": 0.9090909090909091, \"n\": 18}, {\"threshold\": 0.488, \"p\": 11, \"fpr\": 0.1111111111111111, \"tpr\": 0.9090909090909091, \"n\": 18}, {\"threshold\": 0.489, \"p\": 11, \"fpr\": 0.1111111111111111, \"tpr\": 0.9090909090909091, \"n\": 18}, {\"threshold\": 0.49, \"p\": 11, \"fpr\": 0.1111111111111111, \"tpr\": 0.9090909090909091, \"n\": 18}, {\"threshold\": 0.491, \"p\": 11, \"fpr\": 0.1111111111111111, \"tpr\": 0.9090909090909091, \"n\": 18}, {\"threshold\": 0.492, \"p\": 11, \"fpr\": 0.1111111111111111, \"tpr\": 0.9090909090909091, \"n\": 18}, {\"threshold\": 0.493, \"p\": 11, \"fpr\": 0.1111111111111111, \"tpr\": 0.9090909090909091, \"n\": 18}, {\"threshold\": 0.494, \"p\": 11, \"fpr\": 0.1111111111111111, \"tpr\": 0.9090909090909091, \"n\": 18}, {\"threshold\": 0.495, \"p\": 11, \"fpr\": 0.1111111111111111, \"tpr\": 0.9090909090909091, \"n\": 18}, {\"threshold\": 0.496, \"p\": 11, \"fpr\": 0.1111111111111111, \"tpr\": 0.9090909090909091, \"n\": 18}, {\"threshold\": 0.497, \"p\": 11, \"fpr\": 0.1111111111111111, \"tpr\": 0.9090909090909091, \"n\": 18}, {\"threshold\": 0.498, \"p\": 11, \"fpr\": 0.1111111111111111, \"tpr\": 0.9090909090909091, \"n\": 18}, {\"threshold\": 0.499, \"p\": 11, \"fpr\": 0.1111111111111111, \"tpr\": 0.9090909090909091, \"n\": 18}, {\"threshold\": 0.5, \"p\": 11, \"fpr\": 0.1111111111111111, \"tpr\": 0.9090909090909091, \"n\": 18}, {\"threshold\": 0.501, \"p\": 11, \"fpr\": 0.1111111111111111, \"tpr\": 0.9090909090909091, \"n\": 18}, {\"threshold\": 0.502, \"p\": 11, \"fpr\": 0.1111111111111111, \"tpr\": 0.9090909090909091, \"n\": 18}, {\"threshold\": 0.503, \"p\": 11, \"fpr\": 0.1111111111111111, \"tpr\": 0.9090909090909091, \"n\": 18}, {\"threshold\": 0.504, \"p\": 11, \"fpr\": 0.1111111111111111, \"tpr\": 0.9090909090909091, \"n\": 18}, {\"threshold\": 0.505, \"p\": 11, \"fpr\": 0.1111111111111111, \"tpr\": 0.9090909090909091, \"n\": 18}, {\"threshold\": 0.506, \"p\": 11, \"fpr\": 0.1111111111111111, \"tpr\": 0.9090909090909091, \"n\": 18}, {\"threshold\": 0.507, \"p\": 11, \"fpr\": 0.1111111111111111, \"tpr\": 0.9090909090909091, \"n\": 18}, {\"threshold\": 0.508, \"p\": 11, \"fpr\": 0.1111111111111111, \"tpr\": 0.9090909090909091, \"n\": 18}, {\"threshold\": 0.509, \"p\": 11, \"fpr\": 0.1111111111111111, \"tpr\": 0.9090909090909091, \"n\": 18}, {\"threshold\": 0.51, \"p\": 11, \"fpr\": 0.1111111111111111, \"tpr\": 0.9090909090909091, \"n\": 18}, {\"threshold\": 0.511, \"p\": 11, \"fpr\": 0.1111111111111111, \"tpr\": 0.9090909090909091, \"n\": 18}, {\"threshold\": 0.512, \"p\": 11, \"fpr\": 0.1111111111111111, \"tpr\": 0.9090909090909091, \"n\": 18}, {\"threshold\": 0.513, \"p\": 11, \"fpr\": 0.1111111111111111, \"tpr\": 0.9090909090909091, \"n\": 18}, {\"threshold\": 0.514, \"p\": 11, \"fpr\": 0.1111111111111111, \"tpr\": 0.9090909090909091, \"n\": 18}, {\"threshold\": 0.515, \"p\": 11, \"fpr\": 0.1111111111111111, \"tpr\": 0.9090909090909091, \"n\": 18}, {\"threshold\": 0.516, \"p\": 11, \"fpr\": 0.1111111111111111, \"tpr\": 0.9090909090909091, \"n\": 18}, {\"threshold\": 0.517, \"p\": 11, \"fpr\": 0.1111111111111111, \"tpr\": 0.9090909090909091, \"n\": 18}, {\"threshold\": 0.518, \"p\": 11, \"fpr\": 0.1111111111111111, \"tpr\": 0.9090909090909091, \"n\": 18}, {\"threshold\": 0.519, \"p\": 11, \"fpr\": 0.1111111111111111, \"tpr\": 0.9090909090909091, \"n\": 18}, {\"threshold\": 0.52, \"p\": 11, \"fpr\": 0.1111111111111111, \"tpr\": 0.9090909090909091, \"n\": 18}, {\"threshold\": 0.521, \"p\": 11, \"fpr\": 0.1111111111111111, \"tpr\": 0.9090909090909091, \"n\": 18}, {\"threshold\": 0.522, \"p\": 11, \"fpr\": 0.1111111111111111, \"tpr\": 0.9090909090909091, \"n\": 18}, {\"threshold\": 0.523, \"p\": 11, \"fpr\": 0.1111111111111111, \"tpr\": 0.9090909090909091, \"n\": 18}, {\"threshold\": 0.524, \"p\": 11, \"fpr\": 0.05555555555555555, \"tpr\": 0.9090909090909091, \"n\": 18}, {\"threshold\": 0.525, \"p\": 11, \"fpr\": 0.05555555555555555, \"tpr\": 0.9090909090909091, \"n\": 18}, {\"threshold\": 0.526, \"p\": 11, \"fpr\": 0.05555555555555555, \"tpr\": 0.9090909090909091, \"n\": 18}, {\"threshold\": 0.527, \"p\": 11, \"fpr\": 0.05555555555555555, \"tpr\": 0.9090909090909091, \"n\": 18}, {\"threshold\": 0.528, \"p\": 11, \"fpr\": 0.05555555555555555, \"tpr\": 0.9090909090909091, \"n\": 18}, {\"threshold\": 0.529, \"p\": 11, \"fpr\": 0.05555555555555555, \"tpr\": 0.9090909090909091, \"n\": 18}, {\"threshold\": 0.53, \"p\": 11, \"fpr\": 0.05555555555555555, \"tpr\": 0.9090909090909091, \"n\": 18}, {\"threshold\": 0.531, \"p\": 11, \"fpr\": 0.05555555555555555, \"tpr\": 0.9090909090909091, \"n\": 18}, {\"threshold\": 0.532, \"p\": 11, \"fpr\": 0.05555555555555555, \"tpr\": 0.9090909090909091, \"n\": 18}, {\"threshold\": 0.533, \"p\": 11, \"fpr\": 0.05555555555555555, \"tpr\": 0.9090909090909091, \"n\": 18}, {\"threshold\": 0.534, \"p\": 11, \"fpr\": 0.05555555555555555, \"tpr\": 0.9090909090909091, \"n\": 18}, {\"threshold\": 0.535, \"p\": 11, \"fpr\": 0.05555555555555555, \"tpr\": 0.9090909090909091, \"n\": 18}, {\"threshold\": 0.536, \"p\": 11, \"fpr\": 0.05555555555555555, \"tpr\": 0.9090909090909091, \"n\": 18}, {\"threshold\": 0.537, \"p\": 11, \"fpr\": 0.05555555555555555, \"tpr\": 0.9090909090909091, \"n\": 18}, {\"threshold\": 0.538, \"p\": 11, \"fpr\": 0.05555555555555555, \"tpr\": 0.9090909090909091, \"n\": 18}, {\"threshold\": 0.539, \"p\": 11, \"fpr\": 0.05555555555555555, \"tpr\": 0.8181818181818182, \"n\": 18}, {\"threshold\": 0.54, \"p\": 11, \"fpr\": 0.05555555555555555, \"tpr\": 0.8181818181818182, \"n\": 18}, {\"threshold\": 0.541, \"p\": 11, \"fpr\": 0.05555555555555555, \"tpr\": 0.8181818181818182, \"n\": 18}, {\"threshold\": 0.542, \"p\": 11, \"fpr\": 0.05555555555555555, \"tpr\": 0.8181818181818182, \"n\": 18}, {\"threshold\": 0.543, \"p\": 11, \"fpr\": 0.05555555555555555, \"tpr\": 0.8181818181818182, \"n\": 18}, {\"threshold\": 0.544, \"p\": 11, \"fpr\": 0.05555555555555555, \"tpr\": 0.8181818181818182, \"n\": 18}, {\"threshold\": 0.545, \"p\": 11, \"fpr\": 0.05555555555555555, \"tpr\": 0.8181818181818182, \"n\": 18}, {\"threshold\": 0.546, \"p\": 11, \"fpr\": 0.05555555555555555, \"tpr\": 0.8181818181818182, \"n\": 18}, {\"threshold\": 0.547, \"p\": 11, \"fpr\": 0.05555555555555555, \"tpr\": 0.8181818181818182, \"n\": 18}, {\"threshold\": 0.548, \"p\": 11, \"fpr\": 0.05555555555555555, \"tpr\": 0.8181818181818182, \"n\": 18}, {\"threshold\": 0.549, \"p\": 11, \"fpr\": 0.05555555555555555, \"tpr\": 0.8181818181818182, \"n\": 18}, {\"threshold\": 0.55, \"p\": 11, \"fpr\": 0.05555555555555555, \"tpr\": 0.8181818181818182, \"n\": 18}, {\"threshold\": 0.551, \"p\": 11, \"fpr\": 0.05555555555555555, \"tpr\": 0.8181818181818182, \"n\": 18}, {\"threshold\": 0.552, \"p\": 11, \"fpr\": 0.05555555555555555, \"tpr\": 0.8181818181818182, \"n\": 18}, {\"threshold\": 0.553, \"p\": 11, \"fpr\": 0.05555555555555555, \"tpr\": 0.8181818181818182, \"n\": 18}, {\"threshold\": 0.554, \"p\": 11, \"fpr\": 0.05555555555555555, \"tpr\": 0.8181818181818182, \"n\": 18}, {\"threshold\": 0.555, \"p\": 11, \"fpr\": 0.05555555555555555, \"tpr\": 0.8181818181818182, \"n\": 18}, {\"threshold\": 0.556, \"p\": 11, \"fpr\": 0.05555555555555555, \"tpr\": 0.8181818181818182, \"n\": 18}, {\"threshold\": 0.557, \"p\": 11, \"fpr\": 0.05555555555555555, \"tpr\": 0.8181818181818182, \"n\": 18}, {\"threshold\": 0.558, \"p\": 11, \"fpr\": 0.05555555555555555, \"tpr\": 0.8181818181818182, \"n\": 18}, {\"threshold\": 0.559, \"p\": 11, \"fpr\": 0.05555555555555555, \"tpr\": 0.8181818181818182, \"n\": 18}, {\"threshold\": 0.56, \"p\": 11, \"fpr\": 0.0, \"tpr\": 0.8181818181818182, \"n\": 18}, {\"threshold\": 0.561, \"p\": 11, \"fpr\": 0.0, \"tpr\": 0.8181818181818182, \"n\": 18}, {\"threshold\": 0.562, \"p\": 11, \"fpr\": 0.0, \"tpr\": 0.8181818181818182, \"n\": 18}, {\"threshold\": 0.563, \"p\": 11, \"fpr\": 0.0, \"tpr\": 0.8181818181818182, \"n\": 18}, {\"threshold\": 0.564, \"p\": 11, \"fpr\": 0.0, \"tpr\": 0.8181818181818182, \"n\": 18}, {\"threshold\": 0.565, \"p\": 11, \"fpr\": 0.0, \"tpr\": 0.8181818181818182, \"n\": 18}, {\"threshold\": 0.566, \"p\": 11, \"fpr\": 0.0, \"tpr\": 0.8181818181818182, \"n\": 18}, {\"threshold\": 0.567, \"p\": 11, \"fpr\": 0.0, \"tpr\": 0.8181818181818182, \"n\": 18}, {\"threshold\": 0.568, \"p\": 11, \"fpr\": 0.0, \"tpr\": 0.8181818181818182, \"n\": 18}, {\"threshold\": 0.569, \"p\": 11, \"fpr\": 0.0, \"tpr\": 0.8181818181818182, \"n\": 18}, {\"threshold\": 0.57, \"p\": 11, \"fpr\": 0.0, \"tpr\": 0.8181818181818182, \"n\": 18}, {\"threshold\": 0.571, \"p\": 11, \"fpr\": 0.0, \"tpr\": 0.8181818181818182, \"n\": 18}, {\"threshold\": 0.572, \"p\": 11, \"fpr\": 0.0, \"tpr\": 0.8181818181818182, \"n\": 18}, {\"threshold\": 0.573, \"p\": 11, \"fpr\": 0.0, \"tpr\": 0.8181818181818182, \"n\": 18}, {\"threshold\": 0.574, \"p\": 11, \"fpr\": 0.0, \"tpr\": 0.8181818181818182, \"n\": 18}, {\"threshold\": 0.575, \"p\": 11, \"fpr\": 0.0, \"tpr\": 0.8181818181818182, \"n\": 18}, {\"threshold\": 0.576, \"p\": 11, \"fpr\": 0.0, \"tpr\": 0.8181818181818182, \"n\": 18}, {\"threshold\": 0.577, \"p\": 11, \"fpr\": 0.0, \"tpr\": 0.8181818181818182, \"n\": 18}, {\"threshold\": 0.578, \"p\": 11, \"fpr\": 0.0, \"tpr\": 0.8181818181818182, \"n\": 18}, {\"threshold\": 0.579, \"p\": 11, \"fpr\": 0.0, \"tpr\": 0.8181818181818182, \"n\": 18}, {\"threshold\": 0.58, \"p\": 11, \"fpr\": 0.0, \"tpr\": 0.8181818181818182, \"n\": 18}, {\"threshold\": 0.581, \"p\": 11, \"fpr\": 0.0, \"tpr\": 0.8181818181818182, \"n\": 18}, {\"threshold\": 0.582, \"p\": 11, \"fpr\": 0.0, \"tpr\": 0.8181818181818182, \"n\": 18}, {\"threshold\": 0.583, \"p\": 11, \"fpr\": 0.0, \"tpr\": 0.8181818181818182, \"n\": 18}, {\"threshold\": 0.584, \"p\": 11, \"fpr\": 0.0, \"tpr\": 0.8181818181818182, \"n\": 18}, {\"threshold\": 0.585, \"p\": 11, \"fpr\": 0.0, \"tpr\": 0.8181818181818182, \"n\": 18}, {\"threshold\": 0.586, \"p\": 11, \"fpr\": 0.0, \"tpr\": 0.8181818181818182, \"n\": 18}, {\"threshold\": 0.587, \"p\": 11, \"fpr\": 0.0, \"tpr\": 0.8181818181818182, \"n\": 18}, {\"threshold\": 0.588, \"p\": 11, \"fpr\": 0.0, \"tpr\": 0.8181818181818182, \"n\": 18}, {\"threshold\": 0.589, \"p\": 11, \"fpr\": 0.0, \"tpr\": 0.8181818181818182, \"n\": 18}, {\"threshold\": 0.59, \"p\": 11, \"fpr\": 0.0, \"tpr\": 0.8181818181818182, \"n\": 18}, {\"threshold\": 0.591, \"p\": 11, \"fpr\": 0.0, \"tpr\": 0.8181818181818182, \"n\": 18}, {\"threshold\": 0.592, \"p\": 11, \"fpr\": 0.0, \"tpr\": 0.8181818181818182, \"n\": 18}, {\"threshold\": 0.593, \"p\": 11, \"fpr\": 0.0, \"tpr\": 0.8181818181818182, \"n\": 18}, {\"threshold\": 0.594, \"p\": 11, \"fpr\": 0.0, \"tpr\": 0.8181818181818182, \"n\": 18}, {\"threshold\": 0.595, \"p\": 11, \"fpr\": 0.0, \"tpr\": 0.8181818181818182, \"n\": 18}, {\"threshold\": 0.596, \"p\": 11, \"fpr\": 0.0, \"tpr\": 0.8181818181818182, \"n\": 18}, {\"threshold\": 0.597, \"p\": 11, \"fpr\": 0.0, \"tpr\": 0.8181818181818182, \"n\": 18}, {\"threshold\": 0.598, \"p\": 11, \"fpr\": 0.0, \"tpr\": 0.8181818181818182, \"n\": 18}, {\"threshold\": 0.599, \"p\": 11, \"fpr\": 0.0, \"tpr\": 0.8181818181818182, \"n\": 18}, {\"threshold\": 0.6, \"p\": 11, \"fpr\": 0.0, \"tpr\": 0.8181818181818182, \"n\": 18}, {\"threshold\": 0.601, \"p\": 11, \"fpr\": 0.0, \"tpr\": 0.8181818181818182, \"n\": 18}, {\"threshold\": 0.602, \"p\": 11, \"fpr\": 0.0, \"tpr\": 0.8181818181818182, \"n\": 18}, {\"threshold\": 0.603, \"p\": 11, \"fpr\": 0.0, \"tpr\": 0.8181818181818182, \"n\": 18}, {\"threshold\": 0.604, \"p\": 11, \"fpr\": 0.0, \"tpr\": 0.8181818181818182, \"n\": 18}, {\"threshold\": 0.605, \"p\": 11, \"fpr\": 0.0, \"tpr\": 0.8181818181818182, \"n\": 18}, {\"threshold\": 0.606, \"p\": 11, \"fpr\": 0.0, \"tpr\": 0.8181818181818182, \"n\": 18}, {\"threshold\": 0.607, \"p\": 11, \"fpr\": 0.0, \"tpr\": 0.8181818181818182, \"n\": 18}, {\"threshold\": 0.608, \"p\": 11, \"fpr\": 0.0, \"tpr\": 0.8181818181818182, \"n\": 18}, {\"threshold\": 0.609, \"p\": 11, \"fpr\": 0.0, \"tpr\": 0.8181818181818182, \"n\": 18}, {\"threshold\": 0.61, \"p\": 11, \"fpr\": 0.0, \"tpr\": 0.8181818181818182, \"n\": 18}, {\"threshold\": 0.611, \"p\": 11, \"fpr\": 0.0, \"tpr\": 0.8181818181818182, \"n\": 18}, {\"threshold\": 0.612, \"p\": 11, \"fpr\": 0.0, \"tpr\": 0.8181818181818182, \"n\": 18}, {\"threshold\": 0.613, \"p\": 11, \"fpr\": 0.0, \"tpr\": 0.8181818181818182, \"n\": 18}, {\"threshold\": 0.614, \"p\": 11, \"fpr\": 0.0, \"tpr\": 0.8181818181818182, \"n\": 18}, {\"threshold\": 0.615, \"p\": 11, \"fpr\": 0.0, \"tpr\": 0.8181818181818182, \"n\": 18}, {\"threshold\": 0.616, \"p\": 11, \"fpr\": 0.0, \"tpr\": 0.8181818181818182, \"n\": 18}, {\"threshold\": 0.617, \"p\": 11, \"fpr\": 0.0, \"tpr\": 0.8181818181818182, \"n\": 18}, {\"threshold\": 0.618, \"p\": 11, \"fpr\": 0.0, \"tpr\": 0.8181818181818182, \"n\": 18}, {\"threshold\": 0.619, \"p\": 11, \"fpr\": 0.0, \"tpr\": 0.8181818181818182, \"n\": 18}, {\"threshold\": 0.62, \"p\": 11, \"fpr\": 0.0, \"tpr\": 0.8181818181818182, \"n\": 18}, {\"threshold\": 0.621, \"p\": 11, \"fpr\": 0.0, \"tpr\": 0.8181818181818182, \"n\": 18}, {\"threshold\": 0.622, \"p\": 11, \"fpr\": 0.0, \"tpr\": 0.8181818181818182, \"n\": 18}, {\"threshold\": 0.623, \"p\": 11, \"fpr\": 0.0, \"tpr\": 0.8181818181818182, \"n\": 18}, {\"threshold\": 0.624, \"p\": 11, \"fpr\": 0.0, \"tpr\": 0.8181818181818182, \"n\": 18}, {\"threshold\": 0.625, \"p\": 11, \"fpr\": 0.0, \"tpr\": 0.8181818181818182, \"n\": 18}, {\"threshold\": 0.626, \"p\": 11, \"fpr\": 0.0, \"tpr\": 0.8181818181818182, \"n\": 18}, {\"threshold\": 0.627, \"p\": 11, \"fpr\": 0.0, \"tpr\": 0.8181818181818182, \"n\": 18}, {\"threshold\": 0.628, \"p\": 11, \"fpr\": 0.0, \"tpr\": 0.8181818181818182, \"n\": 18}, {\"threshold\": 0.629, \"p\": 11, \"fpr\": 0.0, \"tpr\": 0.8181818181818182, \"n\": 18}, {\"threshold\": 0.63, \"p\": 11, \"fpr\": 0.0, \"tpr\": 0.8181818181818182, \"n\": 18}, {\"threshold\": 0.631, \"p\": 11, \"fpr\": 0.0, \"tpr\": 0.8181818181818182, \"n\": 18}, {\"threshold\": 0.632, \"p\": 11, \"fpr\": 0.0, \"tpr\": 0.8181818181818182, \"n\": 18}, {\"threshold\": 0.633, \"p\": 11, \"fpr\": 0.0, \"tpr\": 0.8181818181818182, \"n\": 18}, {\"threshold\": 0.634, \"p\": 11, \"fpr\": 0.0, \"tpr\": 0.8181818181818182, \"n\": 18}, {\"threshold\": 0.635, \"p\": 11, \"fpr\": 0.0, \"tpr\": 0.8181818181818182, \"n\": 18}, {\"threshold\": 0.636, \"p\": 11, \"fpr\": 0.0, \"tpr\": 0.8181818181818182, \"n\": 18}, {\"threshold\": 0.637, \"p\": 11, \"fpr\": 0.0, \"tpr\": 0.8181818181818182, \"n\": 18}, {\"threshold\": 0.638, \"p\": 11, \"fpr\": 0.0, \"tpr\": 0.8181818181818182, \"n\": 18}, {\"threshold\": 0.639, \"p\": 11, \"fpr\": 0.0, \"tpr\": 0.8181818181818182, \"n\": 18}, {\"threshold\": 0.64, \"p\": 11, \"fpr\": 0.0, \"tpr\": 0.8181818181818182, \"n\": 18}, {\"threshold\": 0.641, \"p\": 11, \"fpr\": 0.0, \"tpr\": 0.8181818181818182, \"n\": 18}, {\"threshold\": 0.642, \"p\": 11, \"fpr\": 0.0, \"tpr\": 0.8181818181818182, \"n\": 18}, {\"threshold\": 0.643, \"p\": 11, \"fpr\": 0.0, \"tpr\": 0.8181818181818182, \"n\": 18}, {\"threshold\": 0.644, \"p\": 11, \"fpr\": 0.0, \"tpr\": 0.8181818181818182, \"n\": 18}, {\"threshold\": 0.645, \"p\": 11, \"fpr\": 0.0, \"tpr\": 0.8181818181818182, \"n\": 18}, {\"threshold\": 0.646, \"p\": 11, \"fpr\": 0.0, \"tpr\": 0.8181818181818182, \"n\": 18}, {\"threshold\": 0.647, \"p\": 11, \"fpr\": 0.0, \"tpr\": 0.8181818181818182, \"n\": 18}, {\"threshold\": 0.648, \"p\": 11, \"fpr\": 0.0, \"tpr\": 0.8181818181818182, \"n\": 18}, {\"threshold\": 0.649, \"p\": 11, \"fpr\": 0.0, \"tpr\": 0.8181818181818182, \"n\": 18}, {\"threshold\": 0.65, \"p\": 11, \"fpr\": 0.0, \"tpr\": 0.8181818181818182, \"n\": 18}, {\"threshold\": 0.651, \"p\": 11, \"fpr\": 0.0, \"tpr\": 0.8181818181818182, \"n\": 18}, {\"threshold\": 0.652, \"p\": 11, \"fpr\": 0.0, \"tpr\": 0.8181818181818182, \"n\": 18}, {\"threshold\": 0.653, \"p\": 11, \"fpr\": 0.0, \"tpr\": 0.8181818181818182, \"n\": 18}, {\"threshold\": 0.654, \"p\": 11, \"fpr\": 0.0, \"tpr\": 0.8181818181818182, \"n\": 18}, {\"threshold\": 0.655, \"p\": 11, \"fpr\": 0.0, \"tpr\": 0.8181818181818182, \"n\": 18}, {\"threshold\": 0.656, \"p\": 11, \"fpr\": 0.0, \"tpr\": 0.8181818181818182, \"n\": 18}, {\"threshold\": 0.657, \"p\": 11, \"fpr\": 0.0, \"tpr\": 0.8181818181818182, \"n\": 18}, {\"threshold\": 0.658, \"p\": 11, \"fpr\": 0.0, \"tpr\": 0.8181818181818182, \"n\": 18}, {\"threshold\": 0.659, \"p\": 11, \"fpr\": 0.0, \"tpr\": 0.8181818181818182, \"n\": 18}, {\"threshold\": 0.66, \"p\": 11, \"fpr\": 0.0, \"tpr\": 0.8181818181818182, \"n\": 18}, {\"threshold\": 0.661, \"p\": 11, \"fpr\": 0.0, \"tpr\": 0.8181818181818182, \"n\": 18}, {\"threshold\": 0.662, \"p\": 11, \"fpr\": 0.0, \"tpr\": 0.8181818181818182, \"n\": 18}, {\"threshold\": 0.663, \"p\": 11, \"fpr\": 0.0, \"tpr\": 0.8181818181818182, \"n\": 18}, {\"threshold\": 0.664, \"p\": 11, \"fpr\": 0.0, \"tpr\": 0.8181818181818182, \"n\": 18}, {\"threshold\": 0.665, \"p\": 11, \"fpr\": 0.0, \"tpr\": 0.8181818181818182, \"n\": 18}, {\"threshold\": 0.666, \"p\": 11, \"fpr\": 0.0, \"tpr\": 0.8181818181818182, \"n\": 18}, {\"threshold\": 0.667, \"p\": 11, \"fpr\": 0.0, \"tpr\": 0.8181818181818182, \"n\": 18}, {\"threshold\": 0.668, \"p\": 11, \"fpr\": 0.0, \"tpr\": 0.8181818181818182, \"n\": 18}, {\"threshold\": 0.669, \"p\": 11, \"fpr\": 0.0, \"tpr\": 0.8181818181818182, \"n\": 18}, {\"threshold\": 0.67, \"p\": 11, \"fpr\": 0.0, \"tpr\": 0.8181818181818182, \"n\": 18}, {\"threshold\": 0.671, \"p\": 11, \"fpr\": 0.0, \"tpr\": 0.8181818181818182, \"n\": 18}, {\"threshold\": 0.672, \"p\": 11, \"fpr\": 0.0, \"tpr\": 0.8181818181818182, \"n\": 18}, {\"threshold\": 0.673, \"p\": 11, \"fpr\": 0.0, \"tpr\": 0.8181818181818182, \"n\": 18}, {\"threshold\": 0.674, \"p\": 11, \"fpr\": 0.0, \"tpr\": 0.8181818181818182, \"n\": 18}, {\"threshold\": 0.675, \"p\": 11, \"fpr\": 0.0, \"tpr\": 0.8181818181818182, \"n\": 18}, {\"threshold\": 0.676, \"p\": 11, \"fpr\": 0.0, \"tpr\": 0.8181818181818182, \"n\": 18}, {\"threshold\": 0.677, \"p\": 11, \"fpr\": 0.0, \"tpr\": 0.8181818181818182, \"n\": 18}, {\"threshold\": 0.678, \"p\": 11, \"fpr\": 0.0, \"tpr\": 0.8181818181818182, \"n\": 18}, {\"threshold\": 0.679, \"p\": 11, \"fpr\": 0.0, \"tpr\": 0.8181818181818182, \"n\": 18}, {\"threshold\": 0.68, \"p\": 11, \"fpr\": 0.0, \"tpr\": 0.8181818181818182, \"n\": 18}, {\"threshold\": 0.681, \"p\": 11, \"fpr\": 0.0, \"tpr\": 0.8181818181818182, \"n\": 18}, {\"threshold\": 0.682, \"p\": 11, \"fpr\": 0.0, \"tpr\": 0.8181818181818182, \"n\": 18}, {\"threshold\": 0.683, \"p\": 11, \"fpr\": 0.0, \"tpr\": 0.8181818181818182, \"n\": 18}, {\"threshold\": 0.684, \"p\": 11, \"fpr\": 0.0, \"tpr\": 0.8181818181818182, \"n\": 18}, {\"threshold\": 0.685, \"p\": 11, \"fpr\": 0.0, \"tpr\": 0.8181818181818182, \"n\": 18}, {\"threshold\": 0.686, \"p\": 11, \"fpr\": 0.0, \"tpr\": 0.8181818181818182, \"n\": 18}, {\"threshold\": 0.687, \"p\": 11, \"fpr\": 0.0, \"tpr\": 0.8181818181818182, \"n\": 18}, {\"threshold\": 0.688, \"p\": 11, \"fpr\": 0.0, \"tpr\": 0.8181818181818182, \"n\": 18}, {\"threshold\": 0.689, \"p\": 11, \"fpr\": 0.0, \"tpr\": 0.8181818181818182, \"n\": 18}, {\"threshold\": 0.69, \"p\": 11, \"fpr\": 0.0, \"tpr\": 0.8181818181818182, \"n\": 18}, {\"threshold\": 0.691, \"p\": 11, \"fpr\": 0.0, \"tpr\": 0.8181818181818182, \"n\": 18}, {\"threshold\": 0.692, \"p\": 11, \"fpr\": 0.0, \"tpr\": 0.8181818181818182, \"n\": 18}, {\"threshold\": 0.693, \"p\": 11, \"fpr\": 0.0, \"tpr\": 0.8181818181818182, \"n\": 18}, {\"threshold\": 0.694, \"p\": 11, \"fpr\": 0.0, \"tpr\": 0.8181818181818182, \"n\": 18}, {\"threshold\": 0.695, \"p\": 11, \"fpr\": 0.0, \"tpr\": 0.8181818181818182, \"n\": 18}, {\"threshold\": 0.696, \"p\": 11, \"fpr\": 0.0, \"tpr\": 0.8181818181818182, \"n\": 18}, {\"threshold\": 0.697, \"p\": 11, \"fpr\": 0.0, \"tpr\": 0.8181818181818182, \"n\": 18}, {\"threshold\": 0.698, \"p\": 11, \"fpr\": 0.0, \"tpr\": 0.8181818181818182, \"n\": 18}, {\"threshold\": 0.699, \"p\": 11, \"fpr\": 0.0, \"tpr\": 0.8181818181818182, \"n\": 18}, {\"threshold\": 0.7, \"p\": 11, \"fpr\": 0.0, \"tpr\": 0.8181818181818182, \"n\": 18}, {\"threshold\": 0.701, \"p\": 11, \"fpr\": 0.0, \"tpr\": 0.8181818181818182, \"n\": 18}, {\"threshold\": 0.702, \"p\": 11, \"fpr\": 0.0, \"tpr\": 0.8181818181818182, \"n\": 18}, {\"threshold\": 0.703, \"p\": 11, \"fpr\": 0.0, \"tpr\": 0.8181818181818182, \"n\": 18}, {\"threshold\": 0.704, \"p\": 11, \"fpr\": 0.0, \"tpr\": 0.8181818181818182, \"n\": 18}, {\"threshold\": 0.705, \"p\": 11, \"fpr\": 0.0, \"tpr\": 0.8181818181818182, \"n\": 18}, {\"threshold\": 0.706, \"p\": 11, \"fpr\": 0.0, \"tpr\": 0.8181818181818182, \"n\": 18}, {\"threshold\": 0.707, \"p\": 11, \"fpr\": 0.0, \"tpr\": 0.8181818181818182, \"n\": 18}, {\"threshold\": 0.708, \"p\": 11, \"fpr\": 0.0, \"tpr\": 0.8181818181818182, \"n\": 18}, {\"threshold\": 0.709, \"p\": 11, \"fpr\": 0.0, \"tpr\": 0.8181818181818182, \"n\": 18}, {\"threshold\": 0.71, \"p\": 11, \"fpr\": 0.0, \"tpr\": 0.8181818181818182, \"n\": 18}, {\"threshold\": 0.711, \"p\": 11, \"fpr\": 0.0, \"tpr\": 0.8181818181818182, \"n\": 18}, {\"threshold\": 0.712, \"p\": 11, \"fpr\": 0.0, \"tpr\": 0.7272727272727273, \"n\": 18}, {\"threshold\": 0.713, \"p\": 11, \"fpr\": 0.0, \"tpr\": 0.7272727272727273, \"n\": 18}, {\"threshold\": 0.714, \"p\": 11, \"fpr\": 0.0, \"tpr\": 0.7272727272727273, \"n\": 18}, {\"threshold\": 0.715, \"p\": 11, \"fpr\": 0.0, \"tpr\": 0.7272727272727273, \"n\": 18}, {\"threshold\": 0.716, \"p\": 11, \"fpr\": 0.0, \"tpr\": 0.7272727272727273, \"n\": 18}, {\"threshold\": 0.717, \"p\": 11, \"fpr\": 0.0, \"tpr\": 0.7272727272727273, \"n\": 18}, {\"threshold\": 0.718, \"p\": 11, \"fpr\": 0.0, \"tpr\": 0.7272727272727273, \"n\": 18}, {\"threshold\": 0.719, \"p\": 11, \"fpr\": 0.0, \"tpr\": 0.7272727272727273, \"n\": 18}, {\"threshold\": 0.72, \"p\": 11, \"fpr\": 0.0, \"tpr\": 0.7272727272727273, \"n\": 18}, {\"threshold\": 0.721, \"p\": 11, \"fpr\": 0.0, \"tpr\": 0.7272727272727273, \"n\": 18}, {\"threshold\": 0.722, \"p\": 11, \"fpr\": 0.0, \"tpr\": 0.7272727272727273, \"n\": 18}, {\"threshold\": 0.723, \"p\": 11, \"fpr\": 0.0, \"tpr\": 0.7272727272727273, \"n\": 18}, {\"threshold\": 0.724, \"p\": 11, \"fpr\": 0.0, \"tpr\": 0.7272727272727273, \"n\": 18}, {\"threshold\": 0.725, \"p\": 11, \"fpr\": 0.0, \"tpr\": 0.7272727272727273, \"n\": 18}, {\"threshold\": 0.726, \"p\": 11, \"fpr\": 0.0, \"tpr\": 0.7272727272727273, \"n\": 18}, {\"threshold\": 0.727, \"p\": 11, \"fpr\": 0.0, \"tpr\": 0.7272727272727273, \"n\": 18}, {\"threshold\": 0.728, \"p\": 11, \"fpr\": 0.0, \"tpr\": 0.7272727272727273, \"n\": 18}, {\"threshold\": 0.729, \"p\": 11, \"fpr\": 0.0, \"tpr\": 0.7272727272727273, \"n\": 18}, {\"threshold\": 0.73, \"p\": 11, \"fpr\": 0.0, \"tpr\": 0.7272727272727273, \"n\": 18}, {\"threshold\": 0.731, \"p\": 11, \"fpr\": 0.0, \"tpr\": 0.7272727272727273, \"n\": 18}, {\"threshold\": 0.732, \"p\": 11, \"fpr\": 0.0, \"tpr\": 0.7272727272727273, \"n\": 18}, {\"threshold\": 0.733, \"p\": 11, \"fpr\": 0.0, \"tpr\": 0.7272727272727273, \"n\": 18}, {\"threshold\": 0.734, \"p\": 11, \"fpr\": 0.0, \"tpr\": 0.7272727272727273, \"n\": 18}, {\"threshold\": 0.735, \"p\": 11, \"fpr\": 0.0, \"tpr\": 0.7272727272727273, \"n\": 18}, {\"threshold\": 0.736, \"p\": 11, \"fpr\": 0.0, \"tpr\": 0.7272727272727273, \"n\": 18}, {\"threshold\": 0.737, \"p\": 11, \"fpr\": 0.0, \"tpr\": 0.7272727272727273, \"n\": 18}, {\"threshold\": 0.738, \"p\": 11, \"fpr\": 0.0, \"tpr\": 0.7272727272727273, \"n\": 18}, {\"threshold\": 0.739, \"p\": 11, \"fpr\": 0.0, \"tpr\": 0.7272727272727273, \"n\": 18}, {\"threshold\": 0.74, \"p\": 11, \"fpr\": 0.0, \"tpr\": 0.7272727272727273, \"n\": 18}, {\"threshold\": 0.741, \"p\": 11, \"fpr\": 0.0, \"tpr\": 0.7272727272727273, \"n\": 18}, {\"threshold\": 0.742, \"p\": 11, \"fpr\": 0.0, \"tpr\": 0.7272727272727273, \"n\": 18}, {\"threshold\": 0.743, \"p\": 11, \"fpr\": 0.0, \"tpr\": 0.7272727272727273, \"n\": 18}, {\"threshold\": 0.744, \"p\": 11, \"fpr\": 0.0, \"tpr\": 0.7272727272727273, \"n\": 18}, {\"threshold\": 0.745, \"p\": 11, \"fpr\": 0.0, \"tpr\": 0.7272727272727273, \"n\": 18}, {\"threshold\": 0.746, \"p\": 11, \"fpr\": 0.0, \"tpr\": 0.7272727272727273, \"n\": 18}, {\"threshold\": 0.747, \"p\": 11, \"fpr\": 0.0, \"tpr\": 0.7272727272727273, \"n\": 18}, {\"threshold\": 0.748, \"p\": 11, \"fpr\": 0.0, \"tpr\": 0.7272727272727273, \"n\": 18}, {\"threshold\": 0.749, \"p\": 11, \"fpr\": 0.0, \"tpr\": 0.7272727272727273, \"n\": 18}, {\"threshold\": 0.75, \"p\": 11, \"fpr\": 0.0, \"tpr\": 0.7272727272727273, \"n\": 18}, {\"threshold\": 0.751, \"p\": 11, \"fpr\": 0.0, \"tpr\": 0.7272727272727273, \"n\": 18}, {\"threshold\": 0.752, \"p\": 11, \"fpr\": 0.0, \"tpr\": 0.7272727272727273, \"n\": 18}, {\"threshold\": 0.753, \"p\": 11, \"fpr\": 0.0, \"tpr\": 0.7272727272727273, \"n\": 18}, {\"threshold\": 0.754, \"p\": 11, \"fpr\": 0.0, \"tpr\": 0.7272727272727273, \"n\": 18}, {\"threshold\": 0.755, \"p\": 11, \"fpr\": 0.0, \"tpr\": 0.7272727272727273, \"n\": 18}, {\"threshold\": 0.756, \"p\": 11, \"fpr\": 0.0, \"tpr\": 0.7272727272727273, \"n\": 18}, {\"threshold\": 0.757, \"p\": 11, \"fpr\": 0.0, \"tpr\": 0.7272727272727273, \"n\": 18}, {\"threshold\": 0.758, \"p\": 11, \"fpr\": 0.0, \"tpr\": 0.7272727272727273, \"n\": 18}, {\"threshold\": 0.759, \"p\": 11, \"fpr\": 0.0, \"tpr\": 0.7272727272727273, \"n\": 18}, {\"threshold\": 0.76, \"p\": 11, \"fpr\": 0.0, \"tpr\": 0.7272727272727273, \"n\": 18}, {\"threshold\": 0.761, \"p\": 11, \"fpr\": 0.0, \"tpr\": 0.7272727272727273, \"n\": 18}, {\"threshold\": 0.762, \"p\": 11, \"fpr\": 0.0, \"tpr\": 0.7272727272727273, \"n\": 18}, {\"threshold\": 0.763, \"p\": 11, \"fpr\": 0.0, \"tpr\": 0.7272727272727273, \"n\": 18}, {\"threshold\": 0.764, \"p\": 11, \"fpr\": 0.0, \"tpr\": 0.7272727272727273, \"n\": 18}, {\"threshold\": 0.765, \"p\": 11, \"fpr\": 0.0, \"tpr\": 0.7272727272727273, \"n\": 18}, {\"threshold\": 0.766, \"p\": 11, \"fpr\": 0.0, \"tpr\": 0.7272727272727273, \"n\": 18}, {\"threshold\": 0.767, \"p\": 11, \"fpr\": 0.0, \"tpr\": 0.7272727272727273, \"n\": 18}, {\"threshold\": 0.768, \"p\": 11, \"fpr\": 0.0, \"tpr\": 0.7272727272727273, \"n\": 18}, {\"threshold\": 0.769, \"p\": 11, \"fpr\": 0.0, \"tpr\": 0.7272727272727273, \"n\": 18}, {\"threshold\": 0.77, \"p\": 11, \"fpr\": 0.0, \"tpr\": 0.7272727272727273, \"n\": 18}, {\"threshold\": 0.771, \"p\": 11, \"fpr\": 0.0, \"tpr\": 0.7272727272727273, \"n\": 18}, {\"threshold\": 0.772, \"p\": 11, \"fpr\": 0.0, \"tpr\": 0.7272727272727273, \"n\": 18}, {\"threshold\": 0.773, \"p\": 11, \"fpr\": 0.0, \"tpr\": 0.7272727272727273, \"n\": 18}, {\"threshold\": 0.774, \"p\": 11, \"fpr\": 0.0, \"tpr\": 0.7272727272727273, \"n\": 18}, {\"threshold\": 0.775, \"p\": 11, \"fpr\": 0.0, \"tpr\": 0.7272727272727273, \"n\": 18}, {\"threshold\": 0.776, \"p\": 11, \"fpr\": 0.0, \"tpr\": 0.7272727272727273, \"n\": 18}, {\"threshold\": 0.777, \"p\": 11, \"fpr\": 0.0, \"tpr\": 0.7272727272727273, \"n\": 18}, {\"threshold\": 0.778, \"p\": 11, \"fpr\": 0.0, \"tpr\": 0.7272727272727273, \"n\": 18}, {\"threshold\": 0.779, \"p\": 11, \"fpr\": 0.0, \"tpr\": 0.7272727272727273, \"n\": 18}, {\"threshold\": 0.78, \"p\": 11, \"fpr\": 0.0, \"tpr\": 0.7272727272727273, \"n\": 18}, {\"threshold\": 0.781, \"p\": 11, \"fpr\": 0.0, \"tpr\": 0.7272727272727273, \"n\": 18}, {\"threshold\": 0.782, \"p\": 11, \"fpr\": 0.0, \"tpr\": 0.7272727272727273, \"n\": 18}, {\"threshold\": 0.783, \"p\": 11, \"fpr\": 0.0, \"tpr\": 0.7272727272727273, \"n\": 18}, {\"threshold\": 0.784, \"p\": 11, \"fpr\": 0.0, \"tpr\": 0.7272727272727273, \"n\": 18}, {\"threshold\": 0.785, \"p\": 11, \"fpr\": 0.0, \"tpr\": 0.7272727272727273, \"n\": 18}, {\"threshold\": 0.786, \"p\": 11, \"fpr\": 0.0, \"tpr\": 0.7272727272727273, \"n\": 18}, {\"threshold\": 0.787, \"p\": 11, \"fpr\": 0.0, \"tpr\": 0.7272727272727273, \"n\": 18}, {\"threshold\": 0.788, \"p\": 11, \"fpr\": 0.0, \"tpr\": 0.7272727272727273, \"n\": 18}, {\"threshold\": 0.789, \"p\": 11, \"fpr\": 0.0, \"tpr\": 0.7272727272727273, \"n\": 18}, {\"threshold\": 0.79, \"p\": 11, \"fpr\": 0.0, \"tpr\": 0.7272727272727273, \"n\": 18}, {\"threshold\": 0.791, \"p\": 11, \"fpr\": 0.0, \"tpr\": 0.7272727272727273, \"n\": 18}, {\"threshold\": 0.792, \"p\": 11, \"fpr\": 0.0, \"tpr\": 0.6363636363636364, \"n\": 18}, {\"threshold\": 0.793, \"p\": 11, \"fpr\": 0.0, \"tpr\": 0.6363636363636364, \"n\": 18}, {\"threshold\": 0.794, \"p\": 11, \"fpr\": 0.0, \"tpr\": 0.6363636363636364, \"n\": 18}, {\"threshold\": 0.795, \"p\": 11, \"fpr\": 0.0, \"tpr\": 0.6363636363636364, \"n\": 18}, {\"threshold\": 0.796, \"p\": 11, \"fpr\": 0.0, \"tpr\": 0.6363636363636364, \"n\": 18}, {\"threshold\": 0.797, \"p\": 11, \"fpr\": 0.0, \"tpr\": 0.6363636363636364, \"n\": 18}, {\"threshold\": 0.798, \"p\": 11, \"fpr\": 0.0, \"tpr\": 0.6363636363636364, \"n\": 18}, {\"threshold\": 0.799, \"p\": 11, \"fpr\": 0.0, \"tpr\": 0.6363636363636364, \"n\": 18}, {\"threshold\": 0.8, \"p\": 11, \"fpr\": 0.0, \"tpr\": 0.6363636363636364, \"n\": 18}, {\"threshold\": 0.801, \"p\": 11, \"fpr\": 0.0, \"tpr\": 0.5454545454545454, \"n\": 18}, {\"threshold\": 0.802, \"p\": 11, \"fpr\": 0.0, \"tpr\": 0.5454545454545454, \"n\": 18}, {\"threshold\": 0.803, \"p\": 11, \"fpr\": 0.0, \"tpr\": 0.5454545454545454, \"n\": 18}, {\"threshold\": 0.804, \"p\": 11, \"fpr\": 0.0, \"tpr\": 0.5454545454545454, \"n\": 18}, {\"threshold\": 0.805, \"p\": 11, \"fpr\": 0.0, \"tpr\": 0.5454545454545454, \"n\": 18}, {\"threshold\": 0.806, \"p\": 11, \"fpr\": 0.0, \"tpr\": 0.5454545454545454, \"n\": 18}, {\"threshold\": 0.807, \"p\": 11, \"fpr\": 0.0, \"tpr\": 0.5454545454545454, \"n\": 18}, {\"threshold\": 0.808, \"p\": 11, \"fpr\": 0.0, \"tpr\": 0.5454545454545454, \"n\": 18}, {\"threshold\": 0.809, \"p\": 11, \"fpr\": 0.0, \"tpr\": 0.5454545454545454, \"n\": 18}, {\"threshold\": 0.81, \"p\": 11, \"fpr\": 0.0, \"tpr\": 0.5454545454545454, \"n\": 18}, {\"threshold\": 0.811, \"p\": 11, \"fpr\": 0.0, \"tpr\": 0.5454545454545454, \"n\": 18}, {\"threshold\": 0.812, \"p\": 11, \"fpr\": 0.0, \"tpr\": 0.5454545454545454, \"n\": 18}, {\"threshold\": 0.813, \"p\": 11, \"fpr\": 0.0, \"tpr\": 0.5454545454545454, \"n\": 18}, {\"threshold\": 0.814, \"p\": 11, \"fpr\": 0.0, \"tpr\": 0.5454545454545454, \"n\": 18}, {\"threshold\": 0.815, \"p\": 11, \"fpr\": 0.0, \"tpr\": 0.5454545454545454, \"n\": 18}, {\"threshold\": 0.816, \"p\": 11, \"fpr\": 0.0, \"tpr\": 0.5454545454545454, \"n\": 18}, {\"threshold\": 0.817, \"p\": 11, \"fpr\": 0.0, \"tpr\": 0.5454545454545454, \"n\": 18}, {\"threshold\": 0.818, \"p\": 11, \"fpr\": 0.0, \"tpr\": 0.5454545454545454, \"n\": 18}, {\"threshold\": 0.819, \"p\": 11, \"fpr\": 0.0, \"tpr\": 0.5454545454545454, \"n\": 18}, {\"threshold\": 0.82, \"p\": 11, \"fpr\": 0.0, \"tpr\": 0.5454545454545454, \"n\": 18}, {\"threshold\": 0.821, \"p\": 11, \"fpr\": 0.0, \"tpr\": 0.5454545454545454, \"n\": 18}, {\"threshold\": 0.822, \"p\": 11, \"fpr\": 0.0, \"tpr\": 0.5454545454545454, \"n\": 18}, {\"threshold\": 0.823, \"p\": 11, \"fpr\": 0.0, \"tpr\": 0.5454545454545454, \"n\": 18}, {\"threshold\": 0.824, \"p\": 11, \"fpr\": 0.0, \"tpr\": 0.5454545454545454, \"n\": 18}, {\"threshold\": 0.825, \"p\": 11, \"fpr\": 0.0, \"tpr\": 0.5454545454545454, \"n\": 18}, {\"threshold\": 0.826, \"p\": 11, \"fpr\": 0.0, \"tpr\": 0.5454545454545454, \"n\": 18}, {\"threshold\": 0.827, \"p\": 11, \"fpr\": 0.0, \"tpr\": 0.5454545454545454, \"n\": 18}, {\"threshold\": 0.828, \"p\": 11, \"fpr\": 0.0, \"tpr\": 0.5454545454545454, \"n\": 18}, {\"threshold\": 0.829, \"p\": 11, \"fpr\": 0.0, \"tpr\": 0.5454545454545454, \"n\": 18}, {\"threshold\": 0.83, \"p\": 11, \"fpr\": 0.0, \"tpr\": 0.5454545454545454, \"n\": 18}, {\"threshold\": 0.831, \"p\": 11, \"fpr\": 0.0, \"tpr\": 0.5454545454545454, \"n\": 18}, {\"threshold\": 0.832, \"p\": 11, \"fpr\": 0.0, \"tpr\": 0.5454545454545454, \"n\": 18}, {\"threshold\": 0.833, \"p\": 11, \"fpr\": 0.0, \"tpr\": 0.5454545454545454, \"n\": 18}, {\"threshold\": 0.834, \"p\": 11, \"fpr\": 0.0, \"tpr\": 0.5454545454545454, \"n\": 18}, {\"threshold\": 0.835, \"p\": 11, \"fpr\": 0.0, \"tpr\": 0.5454545454545454, \"n\": 18}, {\"threshold\": 0.836, \"p\": 11, \"fpr\": 0.0, \"tpr\": 0.5454545454545454, \"n\": 18}, {\"threshold\": 0.837, \"p\": 11, \"fpr\": 0.0, \"tpr\": 0.5454545454545454, \"n\": 18}, {\"threshold\": 0.838, \"p\": 11, \"fpr\": 0.0, \"tpr\": 0.5454545454545454, \"n\": 18}, {\"threshold\": 0.839, \"p\": 11, \"fpr\": 0.0, \"tpr\": 0.5454545454545454, \"n\": 18}, {\"threshold\": 0.84, \"p\": 11, \"fpr\": 0.0, \"tpr\": 0.5454545454545454, \"n\": 18}, {\"threshold\": 0.841, \"p\": 11, \"fpr\": 0.0, \"tpr\": 0.5454545454545454, \"n\": 18}, {\"threshold\": 0.842, \"p\": 11, \"fpr\": 0.0, \"tpr\": 0.5454545454545454, \"n\": 18}, {\"threshold\": 0.843, \"p\": 11, \"fpr\": 0.0, \"tpr\": 0.5454545454545454, \"n\": 18}, {\"threshold\": 0.844, \"p\": 11, \"fpr\": 0.0, \"tpr\": 0.5454545454545454, \"n\": 18}, {\"threshold\": 0.845, \"p\": 11, \"fpr\": 0.0, \"tpr\": 0.5454545454545454, \"n\": 18}, {\"threshold\": 0.846, \"p\": 11, \"fpr\": 0.0, \"tpr\": 0.5454545454545454, \"n\": 18}, {\"threshold\": 0.847, \"p\": 11, \"fpr\": 0.0, \"tpr\": 0.5454545454545454, \"n\": 18}, {\"threshold\": 0.848, \"p\": 11, \"fpr\": 0.0, \"tpr\": 0.5454545454545454, \"n\": 18}, {\"threshold\": 0.849, \"p\": 11, \"fpr\": 0.0, \"tpr\": 0.5454545454545454, \"n\": 18}, {\"threshold\": 0.85, \"p\": 11, \"fpr\": 0.0, \"tpr\": 0.5454545454545454, \"n\": 18}, {\"threshold\": 0.851, \"p\": 11, \"fpr\": 0.0, \"tpr\": 0.5454545454545454, \"n\": 18}, {\"threshold\": 0.852, \"p\": 11, \"fpr\": 0.0, \"tpr\": 0.5454545454545454, \"n\": 18}, {\"threshold\": 0.853, \"p\": 11, \"fpr\": 0.0, \"tpr\": 0.5454545454545454, \"n\": 18}, {\"threshold\": 0.854, \"p\": 11, \"fpr\": 0.0, \"tpr\": 0.5454545454545454, \"n\": 18}, {\"threshold\": 0.855, \"p\": 11, \"fpr\": 0.0, \"tpr\": 0.5454545454545454, \"n\": 18}, {\"threshold\": 0.856, \"p\": 11, \"fpr\": 0.0, \"tpr\": 0.5454545454545454, \"n\": 18}, {\"threshold\": 0.857, \"p\": 11, \"fpr\": 0.0, \"tpr\": 0.45454545454545453, \"n\": 18}, {\"threshold\": 0.858, \"p\": 11, \"fpr\": 0.0, \"tpr\": 0.45454545454545453, \"n\": 18}, {\"threshold\": 0.859, \"p\": 11, \"fpr\": 0.0, \"tpr\": 0.45454545454545453, \"n\": 18}, {\"threshold\": 0.86, \"p\": 11, \"fpr\": 0.0, \"tpr\": 0.45454545454545453, \"n\": 18}, {\"threshold\": 0.861, \"p\": 11, \"fpr\": 0.0, \"tpr\": 0.45454545454545453, \"n\": 18}, {\"threshold\": 0.862, \"p\": 11, \"fpr\": 0.0, \"tpr\": 0.45454545454545453, \"n\": 18}, {\"threshold\": 0.863, \"p\": 11, \"fpr\": 0.0, \"tpr\": 0.45454545454545453, \"n\": 18}, {\"threshold\": 0.864, \"p\": 11, \"fpr\": 0.0, \"tpr\": 0.45454545454545453, \"n\": 18}, {\"threshold\": 0.865, \"p\": 11, \"fpr\": 0.0, \"tpr\": 0.45454545454545453, \"n\": 18}, {\"threshold\": 0.866, \"p\": 11, \"fpr\": 0.0, \"tpr\": 0.45454545454545453, \"n\": 18}, {\"threshold\": 0.867, \"p\": 11, \"fpr\": 0.0, \"tpr\": 0.45454545454545453, \"n\": 18}, {\"threshold\": 0.868, \"p\": 11, \"fpr\": 0.0, \"tpr\": 0.45454545454545453, \"n\": 18}, {\"threshold\": 0.869, \"p\": 11, \"fpr\": 0.0, \"tpr\": 0.45454545454545453, \"n\": 18}, {\"threshold\": 0.87, \"p\": 11, \"fpr\": 0.0, \"tpr\": 0.45454545454545453, \"n\": 18}, {\"threshold\": 0.871, \"p\": 11, \"fpr\": 0.0, \"tpr\": 0.45454545454545453, \"n\": 18}, {\"threshold\": 0.872, \"p\": 11, \"fpr\": 0.0, \"tpr\": 0.45454545454545453, \"n\": 18}, {\"threshold\": 0.873, \"p\": 11, \"fpr\": 0.0, \"tpr\": 0.45454545454545453, \"n\": 18}, {\"threshold\": 0.874, \"p\": 11, \"fpr\": 0.0, \"tpr\": 0.45454545454545453, \"n\": 18}, {\"threshold\": 0.875, \"p\": 11, \"fpr\": 0.0, \"tpr\": 0.45454545454545453, \"n\": 18}, {\"threshold\": 0.876, \"p\": 11, \"fpr\": 0.0, \"tpr\": 0.45454545454545453, \"n\": 18}, {\"threshold\": 0.877, \"p\": 11, \"fpr\": 0.0, \"tpr\": 0.45454545454545453, \"n\": 18}, {\"threshold\": 0.878, \"p\": 11, \"fpr\": 0.0, \"tpr\": 0.45454545454545453, \"n\": 18}, {\"threshold\": 0.879, \"p\": 11, \"fpr\": 0.0, \"tpr\": 0.45454545454545453, \"n\": 18}, {\"threshold\": 0.88, \"p\": 11, \"fpr\": 0.0, \"tpr\": 0.45454545454545453, \"n\": 18}, {\"threshold\": 0.881, \"p\": 11, \"fpr\": 0.0, \"tpr\": 0.45454545454545453, \"n\": 18}, {\"threshold\": 0.882, \"p\": 11, \"fpr\": 0.0, \"tpr\": 0.45454545454545453, \"n\": 18}, {\"threshold\": 0.883, \"p\": 11, \"fpr\": 0.0, \"tpr\": 0.45454545454545453, \"n\": 18}, {\"threshold\": 0.884, \"p\": 11, \"fpr\": 0.0, \"tpr\": 0.45454545454545453, \"n\": 18}, {\"threshold\": 0.885, \"p\": 11, \"fpr\": 0.0, \"tpr\": 0.45454545454545453, \"n\": 18}, {\"threshold\": 0.886, \"p\": 11, \"fpr\": 0.0, \"tpr\": 0.45454545454545453, \"n\": 18}, {\"threshold\": 0.887, \"p\": 11, \"fpr\": 0.0, \"tpr\": 0.45454545454545453, \"n\": 18}, {\"threshold\": 0.888, \"p\": 11, \"fpr\": 0.0, \"tpr\": 0.45454545454545453, \"n\": 18}, {\"threshold\": 0.889, \"p\": 11, \"fpr\": 0.0, \"tpr\": 0.45454545454545453, \"n\": 18}, {\"threshold\": 0.89, \"p\": 11, \"fpr\": 0.0, \"tpr\": 0.45454545454545453, \"n\": 18}, {\"threshold\": 0.891, \"p\": 11, \"fpr\": 0.0, \"tpr\": 0.45454545454545453, \"n\": 18}, {\"threshold\": 0.892, \"p\": 11, \"fpr\": 0.0, \"tpr\": 0.45454545454545453, \"n\": 18}, {\"threshold\": 0.893, \"p\": 11, \"fpr\": 0.0, \"tpr\": 0.45454545454545453, \"n\": 18}, {\"threshold\": 0.894, \"p\": 11, \"fpr\": 0.0, \"tpr\": 0.45454545454545453, \"n\": 18}, {\"threshold\": 0.895, \"p\": 11, \"fpr\": 0.0, \"tpr\": 0.45454545454545453, \"n\": 18}, {\"threshold\": 0.896, \"p\": 11, \"fpr\": 0.0, \"tpr\": 0.45454545454545453, \"n\": 18}, {\"threshold\": 0.897, \"p\": 11, \"fpr\": 0.0, \"tpr\": 0.45454545454545453, \"n\": 18}, {\"threshold\": 0.898, \"p\": 11, \"fpr\": 0.0, \"tpr\": 0.45454545454545453, \"n\": 18}, {\"threshold\": 0.899, \"p\": 11, \"fpr\": 0.0, \"tpr\": 0.45454545454545453, \"n\": 18}, {\"threshold\": 0.9, \"p\": 11, \"fpr\": 0.0, \"tpr\": 0.45454545454545453, \"n\": 18}, {\"threshold\": 0.901, \"p\": 11, \"fpr\": 0.0, \"tpr\": 0.45454545454545453, \"n\": 18}, {\"threshold\": 0.902, \"p\": 11, \"fpr\": 0.0, \"tpr\": 0.45454545454545453, \"n\": 18}, {\"threshold\": 0.903, \"p\": 11, \"fpr\": 0.0, \"tpr\": 0.45454545454545453, \"n\": 18}, {\"threshold\": 0.904, \"p\": 11, \"fpr\": 0.0, \"tpr\": 0.45454545454545453, \"n\": 18}, {\"threshold\": 0.905, \"p\": 11, \"fpr\": 0.0, \"tpr\": 0.45454545454545453, \"n\": 18}, {\"threshold\": 0.906, \"p\": 11, \"fpr\": 0.0, \"tpr\": 0.45454545454545453, \"n\": 18}, {\"threshold\": 0.907, \"p\": 11, \"fpr\": 0.0, \"tpr\": 0.45454545454545453, \"n\": 18}, {\"threshold\": 0.908, \"p\": 11, \"fpr\": 0.0, \"tpr\": 0.45454545454545453, \"n\": 18}, {\"threshold\": 0.909, \"p\": 11, \"fpr\": 0.0, \"tpr\": 0.45454545454545453, \"n\": 18}, {\"threshold\": 0.91, \"p\": 11, \"fpr\": 0.0, \"tpr\": 0.45454545454545453, \"n\": 18}, {\"threshold\": 0.911, \"p\": 11, \"fpr\": 0.0, \"tpr\": 0.45454545454545453, \"n\": 18}, {\"threshold\": 0.912, \"p\": 11, \"fpr\": 0.0, \"tpr\": 0.45454545454545453, \"n\": 18}, {\"threshold\": 0.913, \"p\": 11, \"fpr\": 0.0, \"tpr\": 0.45454545454545453, \"n\": 18}, {\"threshold\": 0.914, \"p\": 11, \"fpr\": 0.0, \"tpr\": 0.45454545454545453, \"n\": 18}, {\"threshold\": 0.915, \"p\": 11, \"fpr\": 0.0, \"tpr\": 0.45454545454545453, \"n\": 18}, {\"threshold\": 0.916, \"p\": 11, \"fpr\": 0.0, \"tpr\": 0.45454545454545453, \"n\": 18}, {\"threshold\": 0.917, \"p\": 11, \"fpr\": 0.0, \"tpr\": 0.45454545454545453, \"n\": 18}, {\"threshold\": 0.918, \"p\": 11, \"fpr\": 0.0, \"tpr\": 0.45454545454545453, \"n\": 18}, {\"threshold\": 0.919, \"p\": 11, \"fpr\": 0.0, \"tpr\": 0.45454545454545453, \"n\": 18}, {\"threshold\": 0.92, \"p\": 11, \"fpr\": 0.0, \"tpr\": 0.45454545454545453, \"n\": 18}, {\"threshold\": 0.921, \"p\": 11, \"fpr\": 0.0, \"tpr\": 0.45454545454545453, \"n\": 18}, {\"threshold\": 0.922, \"p\": 11, \"fpr\": 0.0, \"tpr\": 0.45454545454545453, \"n\": 18}, {\"threshold\": 0.923, \"p\": 11, \"fpr\": 0.0, \"tpr\": 0.45454545454545453, \"n\": 18}, {\"threshold\": 0.924, \"p\": 11, \"fpr\": 0.0, \"tpr\": 0.45454545454545453, \"n\": 18}, {\"threshold\": 0.925, \"p\": 11, \"fpr\": 0.0, \"tpr\": 0.45454545454545453, \"n\": 18}, {\"threshold\": 0.926, \"p\": 11, \"fpr\": 0.0, \"tpr\": 0.45454545454545453, \"n\": 18}, {\"threshold\": 0.927, \"p\": 11, \"fpr\": 0.0, \"tpr\": 0.45454545454545453, \"n\": 18}, {\"threshold\": 0.928, \"p\": 11, \"fpr\": 0.0, \"tpr\": 0.45454545454545453, \"n\": 18}, {\"threshold\": 0.929, \"p\": 11, \"fpr\": 0.0, \"tpr\": 0.45454545454545453, \"n\": 18}, {\"threshold\": 0.93, \"p\": 11, \"fpr\": 0.0, \"tpr\": 0.45454545454545453, \"n\": 18}, {\"threshold\": 0.931, \"p\": 11, \"fpr\": 0.0, \"tpr\": 0.45454545454545453, \"n\": 18}, {\"threshold\": 0.932, \"p\": 11, \"fpr\": 0.0, \"tpr\": 0.45454545454545453, \"n\": 18}, {\"threshold\": 0.933, \"p\": 11, \"fpr\": 0.0, \"tpr\": 0.45454545454545453, \"n\": 18}, {\"threshold\": 0.934, \"p\": 11, \"fpr\": 0.0, \"tpr\": 0.45454545454545453, \"n\": 18}, {\"threshold\": 0.935, \"p\": 11, \"fpr\": 0.0, \"tpr\": 0.45454545454545453, \"n\": 18}, {\"threshold\": 0.936, \"p\": 11, \"fpr\": 0.0, \"tpr\": 0.45454545454545453, \"n\": 18}, {\"threshold\": 0.937, \"p\": 11, \"fpr\": 0.0, \"tpr\": 0.45454545454545453, \"n\": 18}, {\"threshold\": 0.938, \"p\": 11, \"fpr\": 0.0, \"tpr\": 0.45454545454545453, \"n\": 18}, {\"threshold\": 0.939, \"p\": 11, \"fpr\": 0.0, \"tpr\": 0.45454545454545453, \"n\": 18}, {\"threshold\": 0.94, \"p\": 11, \"fpr\": 0.0, \"tpr\": 0.45454545454545453, \"n\": 18}, {\"threshold\": 0.941, \"p\": 11, \"fpr\": 0.0, \"tpr\": 0.2727272727272727, \"n\": 18}, {\"threshold\": 0.942, \"p\": 11, \"fpr\": 0.0, \"tpr\": 0.2727272727272727, \"n\": 18}, {\"threshold\": 0.943, \"p\": 11, \"fpr\": 0.0, \"tpr\": 0.2727272727272727, \"n\": 18}, {\"threshold\": 0.944, \"p\": 11, \"fpr\": 0.0, \"tpr\": 0.2727272727272727, \"n\": 18}, {\"threshold\": 0.945, \"p\": 11, \"fpr\": 0.0, \"tpr\": 0.2727272727272727, \"n\": 18}, {\"threshold\": 0.946, \"p\": 11, \"fpr\": 0.0, \"tpr\": 0.2727272727272727, \"n\": 18}, {\"threshold\": 0.947, \"p\": 11, \"fpr\": 0.0, \"tpr\": 0.2727272727272727, \"n\": 18}, {\"threshold\": 0.948, \"p\": 11, \"fpr\": 0.0, \"tpr\": 0.2727272727272727, \"n\": 18}, {\"threshold\": 0.949, \"p\": 11, \"fpr\": 0.0, \"tpr\": 0.2727272727272727, \"n\": 18}, {\"threshold\": 0.95, \"p\": 11, \"fpr\": 0.0, \"tpr\": 0.2727272727272727, \"n\": 18}, {\"threshold\": 0.951, \"p\": 11, \"fpr\": 0.0, \"tpr\": 0.2727272727272727, \"n\": 18}, {\"threshold\": 0.952, \"p\": 11, \"fpr\": 0.0, \"tpr\": 0.2727272727272727, \"n\": 18}, {\"threshold\": 0.953, \"p\": 11, \"fpr\": 0.0, \"tpr\": 0.2727272727272727, \"n\": 18}, {\"threshold\": 0.954, \"p\": 11, \"fpr\": 0.0, \"tpr\": 0.2727272727272727, \"n\": 18}, {\"threshold\": 0.955, \"p\": 11, \"fpr\": 0.0, \"tpr\": 0.2727272727272727, \"n\": 18}, {\"threshold\": 0.956, \"p\": 11, \"fpr\": 0.0, \"tpr\": 0.2727272727272727, \"n\": 18}, {\"threshold\": 0.957, \"p\": 11, \"fpr\": 0.0, \"tpr\": 0.2727272727272727, \"n\": 18}, {\"threshold\": 0.958, \"p\": 11, \"fpr\": 0.0, \"tpr\": 0.2727272727272727, \"n\": 18}, {\"threshold\": 0.959, \"p\": 11, \"fpr\": 0.0, \"tpr\": 0.2727272727272727, \"n\": 18}, {\"threshold\": 0.96, \"p\": 11, \"fpr\": 0.0, \"tpr\": 0.2727272727272727, \"n\": 18}, {\"threshold\": 0.961, \"p\": 11, \"fpr\": 0.0, \"tpr\": 0.2727272727272727, \"n\": 18}, {\"threshold\": 0.962, \"p\": 11, \"fpr\": 0.0, \"tpr\": 0.2727272727272727, \"n\": 18}, {\"threshold\": 0.963, \"p\": 11, \"fpr\": 0.0, \"tpr\": 0.2727272727272727, \"n\": 18}, {\"threshold\": 0.964, \"p\": 11, \"fpr\": 0.0, \"tpr\": 0.2727272727272727, \"n\": 18}, {\"threshold\": 0.965, \"p\": 11, \"fpr\": 0.0, \"tpr\": 0.2727272727272727, \"n\": 18}, {\"threshold\": 0.966, \"p\": 11, \"fpr\": 0.0, \"tpr\": 0.2727272727272727, \"n\": 18}, {\"threshold\": 0.967, \"p\": 11, \"fpr\": 0.0, \"tpr\": 0.2727272727272727, \"n\": 18}, {\"threshold\": 0.968, \"p\": 11, \"fpr\": 0.0, \"tpr\": 0.2727272727272727, \"n\": 18}, {\"threshold\": 0.969, \"p\": 11, \"fpr\": 0.0, \"tpr\": 0.2727272727272727, \"n\": 18}, {\"threshold\": 0.97, \"p\": 11, \"fpr\": 0.0, \"tpr\": 0.2727272727272727, \"n\": 18}, {\"threshold\": 0.971, \"p\": 11, \"fpr\": 0.0, \"tpr\": 0.18181818181818182, \"n\": 18}, {\"threshold\": 0.972, \"p\": 11, \"fpr\": 0.0, \"tpr\": 0.18181818181818182, \"n\": 18}, {\"threshold\": 0.973, \"p\": 11, \"fpr\": 0.0, \"tpr\": 0.18181818181818182, \"n\": 18}, {\"threshold\": 0.974, \"p\": 11, \"fpr\": 0.0, \"tpr\": 0.18181818181818182, \"n\": 18}, {\"threshold\": 0.975, \"p\": 11, \"fpr\": 0.0, \"tpr\": 0.18181818181818182, \"n\": 18}, {\"threshold\": 0.976, \"p\": 11, \"fpr\": 0.0, \"tpr\": 0.18181818181818182, \"n\": 18}, {\"threshold\": 0.977, \"p\": 11, \"fpr\": 0.0, \"tpr\": 0.18181818181818182, \"n\": 18}, {\"threshold\": 0.978, \"p\": 11, \"fpr\": 0.0, \"tpr\": 0.18181818181818182, \"n\": 18}, {\"threshold\": 0.979, \"p\": 11, \"fpr\": 0.0, \"tpr\": 0.18181818181818182, \"n\": 18}, {\"threshold\": 0.98, \"p\": 11, \"fpr\": 0.0, \"tpr\": 0.18181818181818182, \"n\": 18}, {\"threshold\": 0.981, \"p\": 11, \"fpr\": 0.0, \"tpr\": 0.18181818181818182, \"n\": 18}, {\"threshold\": 0.982, \"p\": 11, \"fpr\": 0.0, \"tpr\": 0.18181818181818182, \"n\": 18}, {\"threshold\": 0.983, \"p\": 11, \"fpr\": 0.0, \"tpr\": 0.18181818181818182, \"n\": 18}, {\"threshold\": 0.984, \"p\": 11, \"fpr\": 0.0, \"tpr\": 0.18181818181818182, \"n\": 18}, {\"threshold\": 0.985, \"p\": 11, \"fpr\": 0.0, \"tpr\": 0.18181818181818182, \"n\": 18}, {\"threshold\": 0.986, \"p\": 11, \"fpr\": 0.0, \"tpr\": 0.18181818181818182, \"n\": 18}, {\"threshold\": 0.987, \"p\": 11, \"fpr\": 0.0, \"tpr\": 0.09090909090909091, \"n\": 18}, {\"threshold\": 0.988, \"p\": 11, \"fpr\": 0.0, \"tpr\": 0.09090909090909091, \"n\": 18}, {\"threshold\": 0.989, \"p\": 11, \"fpr\": 0.0, \"tpr\": 0.09090909090909091, \"n\": 18}, {\"threshold\": 0.99, \"p\": 11, \"fpr\": 0.0, \"tpr\": 0.09090909090909091, \"n\": 18}, {\"threshold\": 0.991, \"p\": 11, \"fpr\": 0.0, \"tpr\": 0.09090909090909091, \"n\": 18}, {\"threshold\": 0.992, \"p\": 11, \"fpr\": 0.0, \"tpr\": 0.0, \"n\": 18}, {\"threshold\": 0.993, \"p\": 11, \"fpr\": 0.0, \"tpr\": 0.0, \"n\": 18}, {\"threshold\": 0.994, \"p\": 11, \"fpr\": 0.0, \"tpr\": 0.0, \"n\": 18}, {\"threshold\": 0.995, \"p\": 11, \"fpr\": 0.0, \"tpr\": 0.0, \"n\": 18}, {\"threshold\": 0.996, \"p\": 11, \"fpr\": 0.0, \"tpr\": 0.0, \"n\": 18}, {\"threshold\": 0.997, \"p\": 11, \"fpr\": 0.0, \"tpr\": 0.0, \"n\": 18}, {\"threshold\": 0.998, \"p\": 11, \"fpr\": 0.0, \"tpr\": 0.0, \"n\": 18}, {\"threshold\": 0.999, \"p\": 11, \"fpr\": 0.0, \"tpr\": 0.0, \"n\": 18}, {\"threshold\": 1.0, \"p\": 11, \"fpr\": 0.0, \"tpr\": 0.0, \"n\": 18}]}]], \"type\": \"Model\"}, \"ipython\": true, \"view_params\": {\"model_type\": \"regression\", \"view\": \"Evaluation\"}, \"model_type\": \"regression\", \"attributes\": {\"section_titles\": [\"Schema\", \"Hyperparameters\", \"Training Summary\", \"Settings\", \"Highest Positive Coefficients\", \"Lowest Negative Coefficients\"], \"sections\": [[[\"Number of coefficients\", 1100], [\"Number of examples\", 157], [\"Number of classes\", 2], [\"Number of feature columns\", 1], [\"Number of unpacked features\", 1099]], [[\"L1 penalty\", 0.0], [\"L2 penalty\", 0.01]], [[\"Solver\", \"lbfgs\"], [\"Solver iterations\", 10], [\"Solver status\", \"TERMINATED: Iteration limit reached.\"], [\"Training time (sec)\", 0.032]], [[\"Log-likelihood\", 3.2141]], [[\"word_count[https://t.co/wjkvobt0ui]\", 1.9568], [\"word_count[@arko_dev_sinha:]\", 1.8999], [\"word_count[@tinni_aphrodite:]\", 1.7617], [\"word_count[ideology]\", 1.4908], [\"word_count[@aniltpyc:]\", 1.4908]], [[\"word_count[jai]\", -1.6927], [\"word_count[hind]\", -1.6927], [\"word_count[@princess_pathak]\", -1.6927], [\"word_count[communal]\", -1.6751], [\"word_count[#save_bhu_from_bjp]\", -1.6751]]]}, \"evaluations\": [[\"test_data\", {\"roc_curve\": [{\"threshold\": 0.0, \"p\": 11, \"fpr\": 1.0, \"tpr\": 1.0, \"n\": 18}, {\"threshold\": 0.001, \"p\": 11, \"fpr\": 1.0, \"tpr\": 1.0, \"n\": 18}, {\"threshold\": 0.002, \"p\": 11, \"fpr\": 0.9444444444444444, \"tpr\": 1.0, \"n\": 18}, {\"threshold\": 0.003, \"p\": 11, \"fpr\": 0.8888888888888888, \"tpr\": 1.0, \"n\": 18}, {\"threshold\": 0.004, \"p\": 11, \"fpr\": 0.8333333333333334, \"tpr\": 1.0, \"n\": 18}, {\"threshold\": 0.005, \"p\": 11, \"fpr\": 0.7222222222222222, \"tpr\": 1.0, \"n\": 18}, {\"threshold\": 0.006, \"p\": 11, \"fpr\": 0.7222222222222222, \"tpr\": 1.0, \"n\": 18}, {\"threshold\": 0.007, \"p\": 11, \"fpr\": 0.6666666666666666, \"tpr\": 1.0, \"n\": 18}, {\"threshold\": 0.008, \"p\": 11, \"fpr\": 0.6666666666666666, \"tpr\": 1.0, \"n\": 18}, {\"threshold\": 0.009, \"p\": 11, \"fpr\": 0.6111111111111112, \"tpr\": 1.0, \"n\": 18}, {\"threshold\": 0.01, \"p\": 11, \"fpr\": 0.6111111111111112, \"tpr\": 1.0, \"n\": 18}, {\"threshold\": 0.011, \"p\": 11, \"fpr\": 0.6111111111111112, \"tpr\": 1.0, \"n\": 18}, {\"threshold\": 0.012, \"p\": 11, \"fpr\": 0.6111111111111112, \"tpr\": 1.0, \"n\": 18}, {\"threshold\": 0.013, \"p\": 11, \"fpr\": 0.6111111111111112, \"tpr\": 1.0, \"n\": 18}, {\"threshold\": 0.014, \"p\": 11, \"fpr\": 0.6111111111111112, \"tpr\": 1.0, \"n\": 18}, {\"threshold\": 0.015, \"p\": 11, \"fpr\": 0.6111111111111112, \"tpr\": 1.0, \"n\": 18}, {\"threshold\": 0.016, \"p\": 11, \"fpr\": 0.6111111111111112, \"tpr\": 1.0, \"n\": 18}, {\"threshold\": 0.017, \"p\": 11, \"fpr\": 0.6111111111111112, \"tpr\": 1.0, \"n\": 18}, {\"threshold\": 0.018, \"p\": 11, \"fpr\": 0.6111111111111112, \"tpr\": 1.0, \"n\": 18}, {\"threshold\": 0.019, \"p\": 11, \"fpr\": 0.6111111111111112, \"tpr\": 1.0, \"n\": 18}, {\"threshold\": 0.02, \"p\": 11, \"fpr\": 0.6111111111111112, \"tpr\": 1.0, \"n\": 18}, {\"threshold\": 0.021, \"p\": 11, \"fpr\": 0.6111111111111112, \"tpr\": 1.0, \"n\": 18}, {\"threshold\": 0.022, \"p\": 11, \"fpr\": 0.6111111111111112, \"tpr\": 1.0, \"n\": 18}, {\"threshold\": 0.023, \"p\": 11, \"fpr\": 0.6111111111111112, \"tpr\": 1.0, \"n\": 18}, {\"threshold\": 0.024, \"p\": 11, \"fpr\": 0.6111111111111112, \"tpr\": 1.0, \"n\": 18}, {\"threshold\": 0.025, \"p\": 11, \"fpr\": 0.6111111111111112, \"tpr\": 1.0, \"n\": 18}, {\"threshold\": 0.026, \"p\": 11, \"fpr\": 0.6111111111111112, \"tpr\": 1.0, \"n\": 18}, {\"threshold\": 0.027, \"p\": 11, \"fpr\": 0.6111111111111112, \"tpr\": 1.0, \"n\": 18}, {\"threshold\": 0.028, \"p\": 11, \"fpr\": 0.6111111111111112, \"tpr\": 1.0, \"n\": 18}, {\"threshold\": 0.029, \"p\": 11, \"fpr\": 0.6111111111111112, \"tpr\": 1.0, \"n\": 18}, {\"threshold\": 0.03, \"p\": 11, \"fpr\": 0.6111111111111112, \"tpr\": 1.0, \"n\": 18}, {\"threshold\": 0.031, \"p\": 11, \"fpr\": 0.6111111111111112, \"tpr\": 1.0, \"n\": 18}, {\"threshold\": 0.032, \"p\": 11, \"fpr\": 0.6111111111111112, \"tpr\": 1.0, \"n\": 18}, {\"threshold\": 0.033, \"p\": 11, \"fpr\": 0.6111111111111112, \"tpr\": 1.0, \"n\": 18}, {\"threshold\": 0.034, \"p\": 11, \"fpr\": 0.6111111111111112, \"tpr\": 1.0, \"n\": 18}, {\"threshold\": 0.035, \"p\": 11, \"fpr\": 0.6111111111111112, \"tpr\": 1.0, \"n\": 18}, {\"threshold\": 0.036, \"p\": 11, \"fpr\": 0.6111111111111112, \"tpr\": 1.0, \"n\": 18}, {\"threshold\": 0.037, \"p\": 11, \"fpr\": 0.6111111111111112, \"tpr\": 1.0, \"n\": 18}, {\"threshold\": 0.038, \"p\": 11, \"fpr\": 0.6111111111111112, \"tpr\": 1.0, \"n\": 18}, {\"threshold\": 0.039, \"p\": 11, \"fpr\": 0.6111111111111112, \"tpr\": 1.0, \"n\": 18}, {\"threshold\": 0.04, \"p\": 11, \"fpr\": 0.6111111111111112, \"tpr\": 1.0, \"n\": 18}, {\"threshold\": 0.041, \"p\": 11, \"fpr\": 0.6111111111111112, \"tpr\": 1.0, \"n\": 18}, {\"threshold\": 0.042, \"p\": 11, \"fpr\": 0.6111111111111112, \"tpr\": 1.0, \"n\": 18}, {\"threshold\": 0.043, \"p\": 11, \"fpr\": 0.6111111111111112, \"tpr\": 1.0, \"n\": 18}, {\"threshold\": 0.044, \"p\": 11, \"fpr\": 0.6111111111111112, \"tpr\": 1.0, \"n\": 18}, {\"threshold\": 0.045, \"p\": 11, \"fpr\": 0.6111111111111112, \"tpr\": 1.0, \"n\": 18}, {\"threshold\": 0.046, \"p\": 11, \"fpr\": 0.6111111111111112, \"tpr\": 1.0, \"n\": 18}, {\"threshold\": 0.047, \"p\": 11, \"fpr\": 0.6111111111111112, \"tpr\": 1.0, \"n\": 18}, {\"threshold\": 0.048, \"p\": 11, \"fpr\": 0.6111111111111112, \"tpr\": 1.0, \"n\": 18}, {\"threshold\": 0.049, \"p\": 11, \"fpr\": 0.6111111111111112, \"tpr\": 1.0, \"n\": 18}, {\"threshold\": 0.05, \"p\": 11, \"fpr\": 0.6111111111111112, \"tpr\": 1.0, \"n\": 18}, {\"threshold\": 0.051, \"p\": 11, \"fpr\": 0.6111111111111112, \"tpr\": 1.0, \"n\": 18}, {\"threshold\": 0.052, \"p\": 11, \"fpr\": 0.6111111111111112, \"tpr\": 1.0, \"n\": 18}, {\"threshold\": 0.053, \"p\": 11, \"fpr\": 0.6111111111111112, \"tpr\": 1.0, \"n\": 18}, {\"threshold\": 0.054, \"p\": 11, \"fpr\": 0.5555555555555556, \"tpr\": 1.0, \"n\": 18}, {\"threshold\": 0.055, \"p\": 11, \"fpr\": 0.5555555555555556, \"tpr\": 1.0, \"n\": 18}, {\"threshold\": 0.056, \"p\": 11, \"fpr\": 0.5555555555555556, \"tpr\": 1.0, \"n\": 18}, {\"threshold\": 0.057, \"p\": 11, \"fpr\": 0.5555555555555556, \"tpr\": 1.0, \"n\": 18}, {\"threshold\": 0.058, \"p\": 11, \"fpr\": 0.5555555555555556, \"tpr\": 1.0, \"n\": 18}, {\"threshold\": 0.059, \"p\": 11, \"fpr\": 0.5555555555555556, \"tpr\": 1.0, \"n\": 18}, {\"threshold\": 0.06, \"p\": 11, \"fpr\": 0.5555555555555556, \"tpr\": 1.0, \"n\": 18}, {\"threshold\": 0.061, \"p\": 11, \"fpr\": 0.5555555555555556, \"tpr\": 1.0, \"n\": 18}, {\"threshold\": 0.062, \"p\": 11, \"fpr\": 0.5555555555555556, \"tpr\": 1.0, \"n\": 18}, {\"threshold\": 0.063, \"p\": 11, \"fpr\": 0.5555555555555556, \"tpr\": 1.0, \"n\": 18}, {\"threshold\": 0.064, \"p\": 11, \"fpr\": 0.5555555555555556, \"tpr\": 1.0, \"n\": 18}, {\"threshold\": 0.065, \"p\": 11, \"fpr\": 0.5555555555555556, \"tpr\": 1.0, \"n\": 18}, {\"threshold\": 0.066, \"p\": 11, \"fpr\": 0.5555555555555556, \"tpr\": 1.0, \"n\": 18}, {\"threshold\": 0.067, \"p\": 11, \"fpr\": 0.5555555555555556, \"tpr\": 1.0, \"n\": 18}, {\"threshold\": 0.068, \"p\": 11, \"fpr\": 0.5555555555555556, \"tpr\": 1.0, \"n\": 18}, {\"threshold\": 0.069, \"p\": 11, \"fpr\": 0.5555555555555556, \"tpr\": 1.0, \"n\": 18}, {\"threshold\": 0.07, \"p\": 11, \"fpr\": 0.5555555555555556, \"tpr\": 1.0, \"n\": 18}, {\"threshold\": 0.071, \"p\": 11, \"fpr\": 0.5555555555555556, \"tpr\": 1.0, \"n\": 18}, {\"threshold\": 0.072, \"p\": 11, \"fpr\": 0.5555555555555556, \"tpr\": 1.0, \"n\": 18}, {\"threshold\": 0.073, \"p\": 11, \"fpr\": 0.5555555555555556, \"tpr\": 1.0, \"n\": 18}, {\"threshold\": 0.074, \"p\": 11, \"fpr\": 0.5555555555555556, \"tpr\": 1.0, \"n\": 18}, {\"threshold\": 0.075, \"p\": 11, \"fpr\": 0.5555555555555556, \"tpr\": 1.0, \"n\": 18}, {\"threshold\": 0.076, \"p\": 11, \"fpr\": 0.5555555555555556, \"tpr\": 1.0, \"n\": 18}, {\"threshold\": 0.077, \"p\": 11, \"fpr\": 0.5555555555555556, \"tpr\": 1.0, \"n\": 18}, {\"threshold\": 0.078, \"p\": 11, \"fpr\": 0.5555555555555556, \"tpr\": 1.0, \"n\": 18}, {\"threshold\": 0.079, \"p\": 11, \"fpr\": 0.5555555555555556, \"tpr\": 1.0, \"n\": 18}, {\"threshold\": 0.08, \"p\": 11, \"fpr\": 0.5555555555555556, \"tpr\": 1.0, \"n\": 18}, {\"threshold\": 0.081, \"p\": 11, \"fpr\": 0.5555555555555556, \"tpr\": 1.0, \"n\": 18}, {\"threshold\": 0.082, \"p\": 11, \"fpr\": 0.5, \"tpr\": 1.0, \"n\": 18}, {\"threshold\": 0.083, \"p\": 11, \"fpr\": 0.5, \"tpr\": 1.0, \"n\": 18}, {\"threshold\": 0.084, \"p\": 11, \"fpr\": 0.5, \"tpr\": 1.0, \"n\": 18}, {\"threshold\": 0.085, \"p\": 11, \"fpr\": 0.5, \"tpr\": 1.0, \"n\": 18}, {\"threshold\": 0.086, \"p\": 11, \"fpr\": 0.5, \"tpr\": 1.0, \"n\": 18}, {\"threshold\": 0.087, \"p\": 11, \"fpr\": 0.5, \"tpr\": 1.0, \"n\": 18}, {\"threshold\": 0.088, \"p\": 11, \"fpr\": 0.5, \"tpr\": 1.0, \"n\": 18}, {\"threshold\": 0.089, \"p\": 11, \"fpr\": 0.5, \"tpr\": 1.0, \"n\": 18}, {\"threshold\": 0.09, \"p\": 11, \"fpr\": 0.5, \"tpr\": 1.0, \"n\": 18}, {\"threshold\": 0.091, \"p\": 11, \"fpr\": 0.5, \"tpr\": 1.0, \"n\": 18}, {\"threshold\": 0.092, \"p\": 11, \"fpr\": 0.5, \"tpr\": 1.0, \"n\": 18}, {\"threshold\": 0.093, \"p\": 11, \"fpr\": 0.5, \"tpr\": 1.0, \"n\": 18}, {\"threshold\": 0.094, \"p\": 11, \"fpr\": 0.5, \"tpr\": 1.0, \"n\": 18}, {\"threshold\": 0.095, \"p\": 11, \"fpr\": 0.5, \"tpr\": 1.0, \"n\": 18}, {\"threshold\": 0.096, \"p\": 11, \"fpr\": 0.5, \"tpr\": 1.0, \"n\": 18}, {\"threshold\": 0.097, \"p\": 11, \"fpr\": 0.5, \"tpr\": 1.0, \"n\": 18}, {\"threshold\": 0.098, \"p\": 11, \"fpr\": 0.5, \"tpr\": 1.0, \"n\": 18}, {\"threshold\": 0.099, \"p\": 11, \"fpr\": 0.5, \"tpr\": 1.0, \"n\": 18}, {\"threshold\": 0.1, \"p\": 11, \"fpr\": 0.5, \"tpr\": 1.0, \"n\": 18}, {\"threshold\": 0.101, \"p\": 11, \"fpr\": 0.5, \"tpr\": 1.0, \"n\": 18}, {\"threshold\": 0.102, \"p\": 11, \"fpr\": 0.5, \"tpr\": 1.0, \"n\": 18}, {\"threshold\": 0.103, \"p\": 11, \"fpr\": 0.5, \"tpr\": 1.0, \"n\": 18}, {\"threshold\": 0.104, \"p\": 11, \"fpr\": 0.5, \"tpr\": 1.0, \"n\": 18}, {\"threshold\": 0.105, \"p\": 11, \"fpr\": 0.5, \"tpr\": 1.0, \"n\": 18}, {\"threshold\": 0.106, \"p\": 11, \"fpr\": 0.5, \"tpr\": 1.0, \"n\": 18}, {\"threshold\": 0.107, \"p\": 11, \"fpr\": 0.5, \"tpr\": 1.0, \"n\": 18}, {\"threshold\": 0.108, \"p\": 11, \"fpr\": 0.5, \"tpr\": 1.0, \"n\": 18}, {\"threshold\": 0.109, \"p\": 11, \"fpr\": 0.5, \"tpr\": 1.0, \"n\": 18}, {\"threshold\": 0.11, \"p\": 11, \"fpr\": 0.5, \"tpr\": 1.0, \"n\": 18}, {\"threshold\": 0.111, \"p\": 11, \"fpr\": 0.5, \"tpr\": 1.0, \"n\": 18}, {\"threshold\": 0.112, \"p\": 11, \"fpr\": 0.5, \"tpr\": 1.0, \"n\": 18}, {\"threshold\": 0.113, \"p\": 11, \"fpr\": 0.5, \"tpr\": 1.0, \"n\": 18}, {\"threshold\": 0.114, \"p\": 11, \"fpr\": 0.5, \"tpr\": 1.0, \"n\": 18}, {\"threshold\": 0.115, \"p\": 11, \"fpr\": 0.5, \"tpr\": 1.0, \"n\": 18}, {\"threshold\": 0.116, \"p\": 11, \"fpr\": 0.5, \"tpr\": 1.0, \"n\": 18}, {\"threshold\": 0.117, \"p\": 11, \"fpr\": 0.5, \"tpr\": 1.0, \"n\": 18}, {\"threshold\": 0.118, \"p\": 11, \"fpr\": 0.5, \"tpr\": 1.0, \"n\": 18}, {\"threshold\": 0.119, \"p\": 11, \"fpr\": 0.5, \"tpr\": 1.0, \"n\": 18}, {\"threshold\": 0.12, \"p\": 11, \"fpr\": 0.5, \"tpr\": 1.0, \"n\": 18}, {\"threshold\": 0.121, \"p\": 11, \"fpr\": 0.5, \"tpr\": 1.0, \"n\": 18}, {\"threshold\": 0.122, \"p\": 11, \"fpr\": 0.5, \"tpr\": 1.0, \"n\": 18}, {\"threshold\": 0.123, \"p\": 11, \"fpr\": 0.5, \"tpr\": 1.0, \"n\": 18}, {\"threshold\": 0.124, \"p\": 11, \"fpr\": 0.4444444444444444, \"tpr\": 1.0, \"n\": 18}, {\"threshold\": 0.125, \"p\": 11, \"fpr\": 0.4444444444444444, \"tpr\": 1.0, \"n\": 18}, {\"threshold\": 0.126, \"p\": 11, \"fpr\": 0.4444444444444444, \"tpr\": 1.0, \"n\": 18}, {\"threshold\": 0.127, \"p\": 11, \"fpr\": 0.4444444444444444, \"tpr\": 1.0, \"n\": 18}, {\"threshold\": 0.128, \"p\": 11, \"fpr\": 0.4444444444444444, \"tpr\": 1.0, \"n\": 18}, {\"threshold\": 0.129, \"p\": 11, \"fpr\": 0.4444444444444444, \"tpr\": 1.0, \"n\": 18}, {\"threshold\": 0.13, \"p\": 11, \"fpr\": 0.4444444444444444, \"tpr\": 1.0, \"n\": 18}, {\"threshold\": 0.131, \"p\": 11, \"fpr\": 0.4444444444444444, \"tpr\": 1.0, \"n\": 18}, {\"threshold\": 0.132, \"p\": 11, \"fpr\": 0.4444444444444444, \"tpr\": 1.0, \"n\": 18}, {\"threshold\": 0.133, \"p\": 11, \"fpr\": 0.4444444444444444, \"tpr\": 1.0, \"n\": 18}, {\"threshold\": 0.134, \"p\": 11, \"fpr\": 0.4444444444444444, \"tpr\": 1.0, \"n\": 18}, {\"threshold\": 0.135, \"p\": 11, \"fpr\": 0.4444444444444444, \"tpr\": 1.0, \"n\": 18}, {\"threshold\": 0.136, \"p\": 11, \"fpr\": 0.4444444444444444, \"tpr\": 1.0, \"n\": 18}, {\"threshold\": 0.137, \"p\": 11, \"fpr\": 0.4444444444444444, \"tpr\": 1.0, \"n\": 18}, {\"threshold\": 0.138, \"p\": 11, \"fpr\": 0.4444444444444444, \"tpr\": 1.0, \"n\": 18}, {\"threshold\": 0.139, \"p\": 11, \"fpr\": 0.4444444444444444, \"tpr\": 1.0, \"n\": 18}, {\"threshold\": 0.14, \"p\": 11, \"fpr\": 0.4444444444444444, \"tpr\": 1.0, \"n\": 18}, {\"threshold\": 0.141, \"p\": 11, \"fpr\": 0.3888888888888889, \"tpr\": 1.0, \"n\": 18}, {\"threshold\": 0.142, \"p\": 11, \"fpr\": 0.3888888888888889, \"tpr\": 1.0, \"n\": 18}, {\"threshold\": 0.143, \"p\": 11, \"fpr\": 0.3888888888888889, \"tpr\": 1.0, \"n\": 18}, {\"threshold\": 0.144, \"p\": 11, \"fpr\": 0.3888888888888889, \"tpr\": 1.0, \"n\": 18}, {\"threshold\": 0.145, \"p\": 11, \"fpr\": 0.3888888888888889, \"tpr\": 1.0, \"n\": 18}, {\"threshold\": 0.146, \"p\": 11, \"fpr\": 0.3888888888888889, \"tpr\": 1.0, \"n\": 18}, {\"threshold\": 0.147, \"p\": 11, \"fpr\": 0.3888888888888889, \"tpr\": 1.0, \"n\": 18}, {\"threshold\": 0.148, \"p\": 11, \"fpr\": 0.3888888888888889, \"tpr\": 1.0, \"n\": 18}, {\"threshold\": 0.149, \"p\": 11, \"fpr\": 0.3888888888888889, \"tpr\": 1.0, \"n\": 18}, {\"threshold\": 0.15, \"p\": 11, \"fpr\": 0.3333333333333333, \"tpr\": 1.0, \"n\": 18}, {\"threshold\": 0.151, \"p\": 11, \"fpr\": 0.2777777777777778, \"tpr\": 1.0, \"n\": 18}, {\"threshold\": 0.152, \"p\": 11, \"fpr\": 0.2777777777777778, \"tpr\": 1.0, \"n\": 18}, {\"threshold\": 0.153, \"p\": 11, \"fpr\": 0.2777777777777778, \"tpr\": 1.0, \"n\": 18}, {\"threshold\": 0.154, \"p\": 11, \"fpr\": 0.2777777777777778, \"tpr\": 1.0, \"n\": 18}, {\"threshold\": 0.155, \"p\": 11, \"fpr\": 0.2777777777777778, \"tpr\": 1.0, \"n\": 18}, {\"threshold\": 0.156, \"p\": 11, \"fpr\": 0.2777777777777778, \"tpr\": 1.0, \"n\": 18}, {\"threshold\": 0.157, \"p\": 11, \"fpr\": 0.2777777777777778, \"tpr\": 1.0, \"n\": 18}, {\"threshold\": 0.158, \"p\": 11, \"fpr\": 0.2777777777777778, \"tpr\": 1.0, \"n\": 18}, {\"threshold\": 0.159, \"p\": 11, \"fpr\": 0.2777777777777778, \"tpr\": 1.0, \"n\": 18}, {\"threshold\": 0.16, \"p\": 11, \"fpr\": 0.2777777777777778, \"tpr\": 1.0, \"n\": 18}, {\"threshold\": 0.161, \"p\": 11, \"fpr\": 0.2777777777777778, \"tpr\": 1.0, \"n\": 18}, {\"threshold\": 0.162, \"p\": 11, \"fpr\": 0.2777777777777778, \"tpr\": 1.0, \"n\": 18}, {\"threshold\": 0.163, \"p\": 11, \"fpr\": 0.2777777777777778, \"tpr\": 1.0, \"n\": 18}, {\"threshold\": 0.164, \"p\": 11, \"fpr\": 0.2777777777777778, \"tpr\": 1.0, \"n\": 18}, {\"threshold\": 0.165, \"p\": 11, \"fpr\": 0.2777777777777778, \"tpr\": 1.0, \"n\": 18}, {\"threshold\": 0.166, \"p\": 11, \"fpr\": 0.2777777777777778, \"tpr\": 1.0, \"n\": 18}, {\"threshold\": 0.167, \"p\": 11, \"fpr\": 0.2777777777777778, \"tpr\": 1.0, \"n\": 18}, {\"threshold\": 0.168, \"p\": 11, \"fpr\": 0.2777777777777778, \"tpr\": 1.0, \"n\": 18}, {\"threshold\": 0.169, \"p\": 11, \"fpr\": 0.2777777777777778, \"tpr\": 1.0, \"n\": 18}, {\"threshold\": 0.17, \"p\": 11, \"fpr\": 0.2777777777777778, \"tpr\": 1.0, \"n\": 18}, {\"threshold\": 0.171, \"p\": 11, \"fpr\": 0.2777777777777778, \"tpr\": 1.0, \"n\": 18}, {\"threshold\": 0.172, \"p\": 11, \"fpr\": 0.2777777777777778, \"tpr\": 1.0, \"n\": 18}, {\"threshold\": 0.173, \"p\": 11, \"fpr\": 0.2777777777777778, \"tpr\": 1.0, \"n\": 18}, {\"threshold\": 0.174, \"p\": 11, \"fpr\": 0.2777777777777778, \"tpr\": 1.0, \"n\": 18}, {\"threshold\": 0.175, \"p\": 11, \"fpr\": 0.2777777777777778, \"tpr\": 1.0, \"n\": 18}, {\"threshold\": 0.176, \"p\": 11, \"fpr\": 0.2777777777777778, \"tpr\": 1.0, \"n\": 18}, {\"threshold\": 0.177, \"p\": 11, \"fpr\": 0.2777777777777778, \"tpr\": 1.0, \"n\": 18}, {\"threshold\": 0.178, \"p\": 11, \"fpr\": 0.2777777777777778, \"tpr\": 1.0, \"n\": 18}, {\"threshold\": 0.179, \"p\": 11, \"fpr\": 0.2777777777777778, \"tpr\": 1.0, \"n\": 18}, {\"threshold\": 0.18, \"p\": 11, \"fpr\": 0.2777777777777778, \"tpr\": 1.0, \"n\": 18}, {\"threshold\": 0.181, \"p\": 11, \"fpr\": 0.2777777777777778, \"tpr\": 1.0, \"n\": 18}, {\"threshold\": 0.182, \"p\": 11, \"fpr\": 0.2777777777777778, \"tpr\": 1.0, \"n\": 18}, {\"threshold\": 0.183, \"p\": 11, \"fpr\": 0.2777777777777778, \"tpr\": 1.0, \"n\": 18}, {\"threshold\": 0.184, \"p\": 11, \"fpr\": 0.2777777777777778, \"tpr\": 1.0, \"n\": 18}, {\"threshold\": 0.185, \"p\": 11, \"fpr\": 0.2777777777777778, \"tpr\": 1.0, \"n\": 18}, {\"threshold\": 0.186, \"p\": 11, \"fpr\": 0.2777777777777778, \"tpr\": 1.0, \"n\": 18}, {\"threshold\": 0.187, \"p\": 11, \"fpr\": 0.2777777777777778, \"tpr\": 1.0, \"n\": 18}, {\"threshold\": 0.188, \"p\": 11, \"fpr\": 0.2777777777777778, \"tpr\": 1.0, \"n\": 18}, {\"threshold\": 0.189, \"p\": 11, \"fpr\": 0.2777777777777778, \"tpr\": 1.0, \"n\": 18}, {\"threshold\": 0.19, \"p\": 11, \"fpr\": 0.2777777777777778, \"tpr\": 1.0, \"n\": 18}, {\"threshold\": 0.191, \"p\": 11, \"fpr\": 0.2777777777777778, \"tpr\": 1.0, \"n\": 18}, {\"threshold\": 0.192, \"p\": 11, \"fpr\": 0.2777777777777778, \"tpr\": 1.0, \"n\": 18}, {\"threshold\": 0.193, \"p\": 11, \"fpr\": 0.2777777777777778, \"tpr\": 1.0, \"n\": 18}, {\"threshold\": 0.194, \"p\": 11, \"fpr\": 0.2777777777777778, \"tpr\": 1.0, \"n\": 18}, {\"threshold\": 0.195, \"p\": 11, \"fpr\": 0.2777777777777778, \"tpr\": 1.0, \"n\": 18}, {\"threshold\": 0.196, \"p\": 11, \"fpr\": 0.2777777777777778, \"tpr\": 1.0, \"n\": 18}, {\"threshold\": 0.197, \"p\": 11, \"fpr\": 0.2777777777777778, \"tpr\": 1.0, \"n\": 18}, {\"threshold\": 0.198, \"p\": 11, \"fpr\": 0.2777777777777778, \"tpr\": 1.0, \"n\": 18}, {\"threshold\": 0.199, \"p\": 11, \"fpr\": 0.2777777777777778, \"tpr\": 1.0, \"n\": 18}, {\"threshold\": 0.2, \"p\": 11, \"fpr\": 0.2777777777777778, \"tpr\": 1.0, \"n\": 18}, {\"threshold\": 0.201, \"p\": 11, \"fpr\": 0.2777777777777778, \"tpr\": 1.0, \"n\": 18}, {\"threshold\": 0.202, \"p\": 11, \"fpr\": 0.2777777777777778, \"tpr\": 1.0, \"n\": 18}, {\"threshold\": 0.203, \"p\": 11, \"fpr\": 0.2777777777777778, \"tpr\": 1.0, \"n\": 18}, {\"threshold\": 0.204, \"p\": 11, \"fpr\": 0.2777777777777778, \"tpr\": 1.0, \"n\": 18}, {\"threshold\": 0.205, \"p\": 11, \"fpr\": 0.2777777777777778, \"tpr\": 1.0, \"n\": 18}, {\"threshold\": 0.206, \"p\": 11, \"fpr\": 0.2777777777777778, \"tpr\": 1.0, \"n\": 18}, {\"threshold\": 0.207, \"p\": 11, \"fpr\": 0.2777777777777778, \"tpr\": 1.0, \"n\": 18}, {\"threshold\": 0.208, \"p\": 11, \"fpr\": 0.2777777777777778, \"tpr\": 1.0, \"n\": 18}, {\"threshold\": 0.209, \"p\": 11, \"fpr\": 0.2777777777777778, \"tpr\": 1.0, \"n\": 18}, {\"threshold\": 0.21, \"p\": 11, \"fpr\": 0.2777777777777778, \"tpr\": 1.0, \"n\": 18}, {\"threshold\": 0.211, \"p\": 11, \"fpr\": 0.2777777777777778, \"tpr\": 1.0, \"n\": 18}, {\"threshold\": 0.212, \"p\": 11, \"fpr\": 0.2777777777777778, \"tpr\": 1.0, \"n\": 18}, {\"threshold\": 0.213, \"p\": 11, \"fpr\": 0.2777777777777778, \"tpr\": 1.0, \"n\": 18}, {\"threshold\": 0.214, \"p\": 11, \"fpr\": 0.2777777777777778, \"tpr\": 1.0, \"n\": 18}, {\"threshold\": 0.215, \"p\": 11, \"fpr\": 0.2777777777777778, \"tpr\": 1.0, \"n\": 18}, {\"threshold\": 0.216, \"p\": 11, \"fpr\": 0.2777777777777778, \"tpr\": 1.0, \"n\": 18}, {\"threshold\": 0.217, \"p\": 11, \"fpr\": 0.2777777777777778, \"tpr\": 1.0, \"n\": 18}, {\"threshold\": 0.218, \"p\": 11, \"fpr\": 0.2777777777777778, \"tpr\": 1.0, \"n\": 18}, {\"threshold\": 0.219, \"p\": 11, \"fpr\": 0.2777777777777778, \"tpr\": 1.0, \"n\": 18}, {\"threshold\": 0.22, \"p\": 11, \"fpr\": 0.2777777777777778, \"tpr\": 1.0, \"n\": 18}, {\"threshold\": 0.221, \"p\": 11, \"fpr\": 0.2777777777777778, \"tpr\": 1.0, \"n\": 18}, {\"threshold\": 0.222, \"p\": 11, \"fpr\": 0.2777777777777778, \"tpr\": 1.0, \"n\": 18}, {\"threshold\": 0.223, \"p\": 11, \"fpr\": 0.2777777777777778, \"tpr\": 1.0, \"n\": 18}, {\"threshold\": 0.224, \"p\": 11, \"fpr\": 0.2777777777777778, \"tpr\": 1.0, \"n\": 18}, {\"threshold\": 0.225, \"p\": 11, \"fpr\": 0.2777777777777778, \"tpr\": 1.0, \"n\": 18}, {\"threshold\": 0.226, \"p\": 11, \"fpr\": 0.2777777777777778, \"tpr\": 1.0, \"n\": 18}, {\"threshold\": 0.227, \"p\": 11, \"fpr\": 0.2777777777777778, \"tpr\": 1.0, \"n\": 18}, {\"threshold\": 0.228, \"p\": 11, \"fpr\": 0.2777777777777778, \"tpr\": 1.0, \"n\": 18}, {\"threshold\": 0.229, \"p\": 11, \"fpr\": 0.2777777777777778, \"tpr\": 1.0, \"n\": 18}, {\"threshold\": 0.23, \"p\": 11, \"fpr\": 0.2777777777777778, \"tpr\": 1.0, \"n\": 18}, {\"threshold\": 0.231, \"p\": 11, \"fpr\": 0.2777777777777778, \"tpr\": 1.0, \"n\": 18}, {\"threshold\": 0.232, \"p\": 11, \"fpr\": 0.2777777777777778, \"tpr\": 1.0, \"n\": 18}, {\"threshold\": 0.233, \"p\": 11, \"fpr\": 0.2777777777777778, \"tpr\": 1.0, \"n\": 18}, {\"threshold\": 0.234, \"p\": 11, \"fpr\": 0.2777777777777778, \"tpr\": 1.0, \"n\": 18}, {\"threshold\": 0.235, \"p\": 11, \"fpr\": 0.2777777777777778, \"tpr\": 1.0, \"n\": 18}, {\"threshold\": 0.236, \"p\": 11, \"fpr\": 0.2777777777777778, \"tpr\": 1.0, \"n\": 18}, {\"threshold\": 0.237, \"p\": 11, \"fpr\": 0.2777777777777778, \"tpr\": 1.0, \"n\": 18}, {\"threshold\": 0.238, \"p\": 11, \"fpr\": 0.2777777777777778, \"tpr\": 1.0, \"n\": 18}, {\"threshold\": 0.239, \"p\": 11, \"fpr\": 0.2777777777777778, \"tpr\": 1.0, \"n\": 18}, {\"threshold\": 0.24, \"p\": 11, \"fpr\": 0.2777777777777778, \"tpr\": 1.0, \"n\": 18}, {\"threshold\": 0.241, \"p\": 11, \"fpr\": 0.2777777777777778, \"tpr\": 1.0, \"n\": 18}, {\"threshold\": 0.242, \"p\": 11, \"fpr\": 0.2777777777777778, \"tpr\": 1.0, \"n\": 18}, {\"threshold\": 0.243, \"p\": 11, \"fpr\": 0.2777777777777778, \"tpr\": 1.0, \"n\": 18}, {\"threshold\": 0.244, \"p\": 11, \"fpr\": 0.2777777777777778, \"tpr\": 1.0, \"n\": 18}, {\"threshold\": 0.245, \"p\": 11, \"fpr\": 0.2777777777777778, \"tpr\": 1.0, \"n\": 18}, {\"threshold\": 0.246, \"p\": 11, \"fpr\": 0.2777777777777778, \"tpr\": 1.0, \"n\": 18}, {\"threshold\": 0.247, \"p\": 11, \"fpr\": 0.2777777777777778, \"tpr\": 1.0, \"n\": 18}, {\"threshold\": 0.248, \"p\": 11, \"fpr\": 0.2777777777777778, \"tpr\": 1.0, \"n\": 18}, {\"threshold\": 0.249, \"p\": 11, \"fpr\": 0.2777777777777778, \"tpr\": 1.0, \"n\": 18}, {\"threshold\": 0.25, \"p\": 11, \"fpr\": 0.2777777777777778, \"tpr\": 1.0, \"n\": 18}, {\"threshold\": 0.251, \"p\": 11, \"fpr\": 0.2777777777777778, \"tpr\": 1.0, \"n\": 18}, {\"threshold\": 0.252, \"p\": 11, \"fpr\": 0.2777777777777778, \"tpr\": 1.0, \"n\": 18}, {\"threshold\": 0.253, \"p\": 11, \"fpr\": 0.2777777777777778, \"tpr\": 1.0, \"n\": 18}, {\"threshold\": 0.254, \"p\": 11, \"fpr\": 0.2777777777777778, \"tpr\": 1.0, \"n\": 18}, {\"threshold\": 0.255, \"p\": 11, \"fpr\": 0.2777777777777778, \"tpr\": 1.0, \"n\": 18}, {\"threshold\": 0.256, \"p\": 11, \"fpr\": 0.2777777777777778, \"tpr\": 1.0, \"n\": 18}, {\"threshold\": 0.257, \"p\": 11, \"fpr\": 0.2777777777777778, \"tpr\": 1.0, \"n\": 18}, {\"threshold\": 0.258, \"p\": 11, \"fpr\": 0.2777777777777778, \"tpr\": 1.0, \"n\": 18}, {\"threshold\": 0.259, \"p\": 11, \"fpr\": 0.2777777777777778, \"tpr\": 1.0, \"n\": 18}, {\"threshold\": 0.26, \"p\": 11, \"fpr\": 0.2777777777777778, \"tpr\": 1.0, \"n\": 18}, {\"threshold\": 0.261, \"p\": 11, \"fpr\": 0.2777777777777778, \"tpr\": 1.0, \"n\": 18}, {\"threshold\": 0.262, \"p\": 11, \"fpr\": 0.2777777777777778, \"tpr\": 1.0, \"n\": 18}, {\"threshold\": 0.263, \"p\": 11, \"fpr\": 0.2777777777777778, \"tpr\": 1.0, \"n\": 18}, {\"threshold\": 0.264, \"p\": 11, \"fpr\": 0.2777777777777778, \"tpr\": 1.0, \"n\": 18}, {\"threshold\": 0.265, \"p\": 11, \"fpr\": 0.2777777777777778, \"tpr\": 1.0, \"n\": 18}, {\"threshold\": 0.266, \"p\": 11, \"fpr\": 0.2777777777777778, \"tpr\": 1.0, \"n\": 18}, {\"threshold\": 0.267, \"p\": 11, \"fpr\": 0.2777777777777778, \"tpr\": 1.0, \"n\": 18}, {\"threshold\": 0.268, \"p\": 11, \"fpr\": 0.2777777777777778, \"tpr\": 1.0, \"n\": 18}, {\"threshold\": 0.269, \"p\": 11, \"fpr\": 0.2777777777777778, \"tpr\": 1.0, \"n\": 18}, {\"threshold\": 0.27, \"p\": 11, \"fpr\": 0.2777777777777778, \"tpr\": 1.0, \"n\": 18}, {\"threshold\": 0.271, \"p\": 11, \"fpr\": 0.2777777777777778, \"tpr\": 1.0, \"n\": 18}, {\"threshold\": 0.272, \"p\": 11, \"fpr\": 0.2777777777777778, \"tpr\": 1.0, \"n\": 18}, {\"threshold\": 0.273, \"p\": 11, \"fpr\": 0.2777777777777778, \"tpr\": 1.0, \"n\": 18}, {\"threshold\": 0.274, \"p\": 11, \"fpr\": 0.2777777777777778, \"tpr\": 1.0, \"n\": 18}, {\"threshold\": 0.275, \"p\": 11, \"fpr\": 0.2777777777777778, \"tpr\": 1.0, \"n\": 18}, {\"threshold\": 0.276, \"p\": 11, \"fpr\": 0.2777777777777778, \"tpr\": 1.0, \"n\": 18}, {\"threshold\": 0.277, \"p\": 11, \"fpr\": 0.2777777777777778, \"tpr\": 1.0, \"n\": 18}, {\"threshold\": 0.278, \"p\": 11, \"fpr\": 0.2777777777777778, \"tpr\": 1.0, \"n\": 18}, {\"threshold\": 0.279, \"p\": 11, \"fpr\": 0.2777777777777778, \"tpr\": 1.0, \"n\": 18}, {\"threshold\": 0.28, \"p\": 11, \"fpr\": 0.2777777777777778, \"tpr\": 1.0, \"n\": 18}, {\"threshold\": 0.281, \"p\": 11, \"fpr\": 0.2777777777777778, \"tpr\": 1.0, \"n\": 18}, {\"threshold\": 0.282, \"p\": 11, \"fpr\": 0.2777777777777778, \"tpr\": 1.0, \"n\": 18}, {\"threshold\": 0.283, \"p\": 11, \"fpr\": 0.2777777777777778, \"tpr\": 1.0, \"n\": 18}, {\"threshold\": 0.284, \"p\": 11, \"fpr\": 0.2777777777777778, \"tpr\": 1.0, \"n\": 18}, {\"threshold\": 0.285, \"p\": 11, \"fpr\": 0.2777777777777778, \"tpr\": 1.0, \"n\": 18}, {\"threshold\": 0.286, \"p\": 11, \"fpr\": 0.2777777777777778, \"tpr\": 1.0, \"n\": 18}, {\"threshold\": 0.287, \"p\": 11, \"fpr\": 0.2777777777777778, \"tpr\": 1.0, \"n\": 18}, {\"threshold\": 0.288, \"p\": 11, \"fpr\": 0.2777777777777778, \"tpr\": 1.0, \"n\": 18}, {\"threshold\": 0.289, \"p\": 11, \"fpr\": 0.2777777777777778, \"tpr\": 1.0, \"n\": 18}, {\"threshold\": 0.29, \"p\": 11, \"fpr\": 0.2777777777777778, \"tpr\": 1.0, \"n\": 18}, {\"threshold\": 0.291, \"p\": 11, \"fpr\": 0.2777777777777778, \"tpr\": 1.0, \"n\": 18}, {\"threshold\": 0.292, \"p\": 11, \"fpr\": 0.2777777777777778, \"tpr\": 1.0, \"n\": 18}, {\"threshold\": 0.293, \"p\": 11, \"fpr\": 0.2777777777777778, \"tpr\": 1.0, \"n\": 18}, {\"threshold\": 0.294, \"p\": 11, \"fpr\": 0.2777777777777778, \"tpr\": 1.0, \"n\": 18}, {\"threshold\": 0.295, \"p\": 11, \"fpr\": 0.2777777777777778, \"tpr\": 1.0, \"n\": 18}, {\"threshold\": 0.296, \"p\": 11, \"fpr\": 0.2777777777777778, \"tpr\": 1.0, \"n\": 18}, {\"threshold\": 0.297, \"p\": 11, \"fpr\": 0.2777777777777778, \"tpr\": 1.0, \"n\": 18}, {\"threshold\": 0.298, \"p\": 11, \"fpr\": 0.2777777777777778, \"tpr\": 1.0, \"n\": 18}, {\"threshold\": 0.299, \"p\": 11, \"fpr\": 0.2777777777777778, \"tpr\": 1.0, \"n\": 18}, {\"threshold\": 0.3, \"p\": 11, \"fpr\": 0.2777777777777778, \"tpr\": 1.0, \"n\": 18}, {\"threshold\": 0.301, \"p\": 11, \"fpr\": 0.2777777777777778, \"tpr\": 1.0, \"n\": 18}, {\"threshold\": 0.302, \"p\": 11, \"fpr\": 0.2777777777777778, \"tpr\": 1.0, \"n\": 18}, {\"threshold\": 0.303, \"p\": 11, \"fpr\": 0.2777777777777778, \"tpr\": 1.0, \"n\": 18}, {\"threshold\": 0.304, \"p\": 11, \"fpr\": 0.2777777777777778, \"tpr\": 1.0, \"n\": 18}, {\"threshold\": 0.305, \"p\": 11, \"fpr\": 0.2777777777777778, \"tpr\": 1.0, \"n\": 18}, {\"threshold\": 0.306, \"p\": 11, \"fpr\": 0.2777777777777778, \"tpr\": 1.0, \"n\": 18}, {\"threshold\": 0.307, \"p\": 11, \"fpr\": 0.2777777777777778, \"tpr\": 1.0, \"n\": 18}, {\"threshold\": 0.308, \"p\": 11, \"fpr\": 0.2777777777777778, \"tpr\": 1.0, \"n\": 18}, {\"threshold\": 0.309, \"p\": 11, \"fpr\": 0.2777777777777778, \"tpr\": 1.0, \"n\": 18}, {\"threshold\": 0.31, \"p\": 11, \"fpr\": 0.2777777777777778, \"tpr\": 1.0, \"n\": 18}, {\"threshold\": 0.311, \"p\": 11, \"fpr\": 0.2777777777777778, \"tpr\": 1.0, \"n\": 18}, {\"threshold\": 0.312, \"p\": 11, \"fpr\": 0.2777777777777778, \"tpr\": 1.0, \"n\": 18}, {\"threshold\": 0.313, \"p\": 11, \"fpr\": 0.2222222222222222, \"tpr\": 1.0, \"n\": 18}, {\"threshold\": 0.314, \"p\": 11, \"fpr\": 0.2222222222222222, \"tpr\": 1.0, \"n\": 18}, {\"threshold\": 0.315, \"p\": 11, \"fpr\": 0.2222222222222222, \"tpr\": 1.0, \"n\": 18}, {\"threshold\": 0.316, \"p\": 11, \"fpr\": 0.2222222222222222, \"tpr\": 1.0, \"n\": 18}, {\"threshold\": 0.317, \"p\": 11, \"fpr\": 0.2222222222222222, \"tpr\": 1.0, \"n\": 18}, {\"threshold\": 0.318, \"p\": 11, \"fpr\": 0.2222222222222222, \"tpr\": 1.0, \"n\": 18}, {\"threshold\": 0.319, \"p\": 11, \"fpr\": 0.2222222222222222, \"tpr\": 1.0, \"n\": 18}, {\"threshold\": 0.32, \"p\": 11, \"fpr\": 0.2222222222222222, \"tpr\": 1.0, \"n\": 18}, {\"threshold\": 0.321, \"p\": 11, \"fpr\": 0.2222222222222222, \"tpr\": 1.0, \"n\": 18}, {\"threshold\": 0.322, \"p\": 11, \"fpr\": 0.2222222222222222, \"tpr\": 1.0, \"n\": 18}, {\"threshold\": 0.323, \"p\": 11, \"fpr\": 0.2222222222222222, \"tpr\": 1.0, \"n\": 18}, {\"threshold\": 0.324, \"p\": 11, \"fpr\": 0.2222222222222222, \"tpr\": 1.0, \"n\": 18}, {\"threshold\": 0.325, \"p\": 11, \"fpr\": 0.2222222222222222, \"tpr\": 1.0, \"n\": 18}, {\"threshold\": 0.326, \"p\": 11, \"fpr\": 0.2222222222222222, \"tpr\": 1.0, \"n\": 18}, {\"threshold\": 0.327, \"p\": 11, \"fpr\": 0.2222222222222222, \"tpr\": 0.9090909090909091, \"n\": 18}, {\"threshold\": 0.328, \"p\": 11, \"fpr\": 0.2222222222222222, \"tpr\": 0.9090909090909091, \"n\": 18}, {\"threshold\": 0.329, \"p\": 11, \"fpr\": 0.2222222222222222, \"tpr\": 0.9090909090909091, \"n\": 18}, {\"threshold\": 0.33, \"p\": 11, \"fpr\": 0.2222222222222222, \"tpr\": 0.9090909090909091, \"n\": 18}, {\"threshold\": 0.331, \"p\": 11, \"fpr\": 0.2222222222222222, \"tpr\": 0.9090909090909091, \"n\": 18}, {\"threshold\": 0.332, \"p\": 11, \"fpr\": 0.2222222222222222, \"tpr\": 0.9090909090909091, \"n\": 18}, {\"threshold\": 0.333, \"p\": 11, \"fpr\": 0.2222222222222222, \"tpr\": 0.9090909090909091, \"n\": 18}, {\"threshold\": 0.334, \"p\": 11, \"fpr\": 0.2222222222222222, \"tpr\": 0.9090909090909091, \"n\": 18}, {\"threshold\": 0.335, \"p\": 11, \"fpr\": 0.2222222222222222, \"tpr\": 0.9090909090909091, \"n\": 18}, {\"threshold\": 0.336, \"p\": 11, \"fpr\": 0.2222222222222222, \"tpr\": 0.9090909090909091, \"n\": 18}, {\"threshold\": 0.337, \"p\": 11, \"fpr\": 0.2222222222222222, \"tpr\": 0.9090909090909091, \"n\": 18}, {\"threshold\": 0.338, \"p\": 11, \"fpr\": 0.2222222222222222, \"tpr\": 0.9090909090909091, \"n\": 18}, {\"threshold\": 0.339, \"p\": 11, \"fpr\": 0.2222222222222222, \"tpr\": 0.9090909090909091, \"n\": 18}, {\"threshold\": 0.34, \"p\": 11, \"fpr\": 0.2222222222222222, \"tpr\": 0.9090909090909091, \"n\": 18}, {\"threshold\": 0.341, \"p\": 11, \"fpr\": 0.2222222222222222, \"tpr\": 0.9090909090909091, \"n\": 18}, {\"threshold\": 0.342, \"p\": 11, \"fpr\": 0.2222222222222222, \"tpr\": 0.9090909090909091, \"n\": 18}, {\"threshold\": 0.343, \"p\": 11, \"fpr\": 0.2222222222222222, \"tpr\": 0.9090909090909091, \"n\": 18}, {\"threshold\": 0.344, \"p\": 11, \"fpr\": 0.2222222222222222, \"tpr\": 0.9090909090909091, \"n\": 18}, {\"threshold\": 0.345, \"p\": 11, \"fpr\": 0.2222222222222222, \"tpr\": 0.9090909090909091, \"n\": 18}, {\"threshold\": 0.346, \"p\": 11, \"fpr\": 0.2222222222222222, \"tpr\": 0.9090909090909091, \"n\": 18}, {\"threshold\": 0.347, \"p\": 11, \"fpr\": 0.2222222222222222, \"tpr\": 0.9090909090909091, \"n\": 18}, {\"threshold\": 0.348, \"p\": 11, \"fpr\": 0.2222222222222222, \"tpr\": 0.9090909090909091, \"n\": 18}, {\"threshold\": 0.349, \"p\": 11, \"fpr\": 0.2222222222222222, \"tpr\": 0.9090909090909091, \"n\": 18}, {\"threshold\": 0.35, \"p\": 11, \"fpr\": 0.16666666666666666, \"tpr\": 0.9090909090909091, \"n\": 18}, {\"threshold\": 0.351, \"p\": 11, \"fpr\": 0.16666666666666666, \"tpr\": 0.9090909090909091, \"n\": 18}, {\"threshold\": 0.352, \"p\": 11, \"fpr\": 0.16666666666666666, \"tpr\": 0.9090909090909091, \"n\": 18}, {\"threshold\": 0.353, \"p\": 11, \"fpr\": 0.16666666666666666, \"tpr\": 0.9090909090909091, \"n\": 18}, {\"threshold\": 0.354, \"p\": 11, \"fpr\": 0.1111111111111111, \"tpr\": 0.9090909090909091, \"n\": 18}, {\"threshold\": 0.355, \"p\": 11, \"fpr\": 0.1111111111111111, \"tpr\": 0.9090909090909091, \"n\": 18}, {\"threshold\": 0.356, \"p\": 11, \"fpr\": 0.1111111111111111, \"tpr\": 0.9090909090909091, \"n\": 18}, {\"threshold\": 0.357, \"p\": 11, \"fpr\": 0.1111111111111111, \"tpr\": 0.9090909090909091, \"n\": 18}, {\"threshold\": 0.358, \"p\": 11, \"fpr\": 0.1111111111111111, \"tpr\": 0.9090909090909091, \"n\": 18}, {\"threshold\": 0.359, \"p\": 11, \"fpr\": 0.1111111111111111, \"tpr\": 0.9090909090909091, \"n\": 18}, {\"threshold\": 0.36, \"p\": 11, \"fpr\": 0.1111111111111111, \"tpr\": 0.9090909090909091, \"n\": 18}, {\"threshold\": 0.361, \"p\": 11, \"fpr\": 0.1111111111111111, \"tpr\": 0.9090909090909091, \"n\": 18}, {\"threshold\": 0.362, \"p\": 11, \"fpr\": 0.1111111111111111, \"tpr\": 0.9090909090909091, \"n\": 18}, {\"threshold\": 0.363, \"p\": 11, \"fpr\": 0.1111111111111111, \"tpr\": 0.9090909090909091, \"n\": 18}, {\"threshold\": 0.364, \"p\": 11, \"fpr\": 0.1111111111111111, \"tpr\": 0.9090909090909091, \"n\": 18}, {\"threshold\": 0.365, \"p\": 11, \"fpr\": 0.1111111111111111, \"tpr\": 0.9090909090909091, \"n\": 18}, {\"threshold\": 0.366, \"p\": 11, \"fpr\": 0.1111111111111111, \"tpr\": 0.9090909090909091, \"n\": 18}, {\"threshold\": 0.367, \"p\": 11, \"fpr\": 0.1111111111111111, \"tpr\": 0.9090909090909091, \"n\": 18}, {\"threshold\": 0.368, \"p\": 11, \"fpr\": 0.1111111111111111, \"tpr\": 0.9090909090909091, \"n\": 18}, {\"threshold\": 0.369, \"p\": 11, \"fpr\": 0.1111111111111111, \"tpr\": 0.9090909090909091, \"n\": 18}, {\"threshold\": 0.37, \"p\": 11, \"fpr\": 0.1111111111111111, \"tpr\": 0.9090909090909091, \"n\": 18}, {\"threshold\": 0.371, \"p\": 11, \"fpr\": 0.1111111111111111, \"tpr\": 0.9090909090909091, \"n\": 18}, {\"threshold\": 0.372, \"p\": 11, \"fpr\": 0.1111111111111111, \"tpr\": 0.9090909090909091, \"n\": 18}, {\"threshold\": 0.373, \"p\": 11, \"fpr\": 0.1111111111111111, \"tpr\": 0.9090909090909091, \"n\": 18}, {\"threshold\": 0.374, \"p\": 11, \"fpr\": 0.1111111111111111, \"tpr\": 0.9090909090909091, \"n\": 18}, {\"threshold\": 0.375, \"p\": 11, \"fpr\": 0.1111111111111111, \"tpr\": 0.9090909090909091, \"n\": 18}, {\"threshold\": 0.376, \"p\": 11, \"fpr\": 0.1111111111111111, \"tpr\": 0.9090909090909091, \"n\": 18}, {\"threshold\": 0.377, \"p\": 11, \"fpr\": 0.1111111111111111, \"tpr\": 0.9090909090909091, \"n\": 18}, {\"threshold\": 0.378, \"p\": 11, \"fpr\": 0.1111111111111111, \"tpr\": 0.9090909090909091, \"n\": 18}, {\"threshold\": 0.379, \"p\": 11, \"fpr\": 0.1111111111111111, \"tpr\": 0.9090909090909091, \"n\": 18}, {\"threshold\": 0.38, \"p\": 11, \"fpr\": 0.1111111111111111, \"tpr\": 0.9090909090909091, \"n\": 18}, {\"threshold\": 0.381, \"p\": 11, \"fpr\": 0.1111111111111111, \"tpr\": 0.9090909090909091, \"n\": 18}, {\"threshold\": 0.382, \"p\": 11, \"fpr\": 0.1111111111111111, \"tpr\": 0.9090909090909091, \"n\": 18}, {\"threshold\": 0.383, \"p\": 11, \"fpr\": 0.1111111111111111, \"tpr\": 0.9090909090909091, \"n\": 18}, {\"threshold\": 0.384, \"p\": 11, \"fpr\": 0.1111111111111111, \"tpr\": 0.9090909090909091, \"n\": 18}, {\"threshold\": 0.385, \"p\": 11, \"fpr\": 0.1111111111111111, \"tpr\": 0.9090909090909091, \"n\": 18}, {\"threshold\": 0.386, \"p\": 11, \"fpr\": 0.1111111111111111, \"tpr\": 0.9090909090909091, \"n\": 18}, {\"threshold\": 0.387, \"p\": 11, \"fpr\": 0.1111111111111111, \"tpr\": 0.9090909090909091, \"n\": 18}, {\"threshold\": 0.388, \"p\": 11, \"fpr\": 0.1111111111111111, \"tpr\": 0.9090909090909091, \"n\": 18}, {\"threshold\": 0.389, \"p\": 11, \"fpr\": 0.1111111111111111, \"tpr\": 0.9090909090909091, \"n\": 18}, {\"threshold\": 0.39, \"p\": 11, \"fpr\": 0.1111111111111111, \"tpr\": 0.9090909090909091, \"n\": 18}, {\"threshold\": 0.391, \"p\": 11, \"fpr\": 0.1111111111111111, \"tpr\": 0.9090909090909091, \"n\": 18}, {\"threshold\": 0.392, \"p\": 11, \"fpr\": 0.1111111111111111, \"tpr\": 0.9090909090909091, \"n\": 18}, {\"threshold\": 0.393, \"p\": 11, \"fpr\": 0.1111111111111111, \"tpr\": 0.9090909090909091, \"n\": 18}, {\"threshold\": 0.394, \"p\": 11, \"fpr\": 0.1111111111111111, \"tpr\": 0.9090909090909091, \"n\": 18}, {\"threshold\": 0.395, \"p\": 11, \"fpr\": 0.1111111111111111, \"tpr\": 0.9090909090909091, \"n\": 18}, {\"threshold\": 0.396, \"p\": 11, \"fpr\": 0.1111111111111111, \"tpr\": 0.9090909090909091, \"n\": 18}, {\"threshold\": 0.397, \"p\": 11, \"fpr\": 0.1111111111111111, \"tpr\": 0.9090909090909091, \"n\": 18}, {\"threshold\": 0.398, \"p\": 11, \"fpr\": 0.1111111111111111, \"tpr\": 0.9090909090909091, \"n\": 18}, {\"threshold\": 0.399, \"p\": 11, \"fpr\": 0.1111111111111111, \"tpr\": 0.9090909090909091, \"n\": 18}, {\"threshold\": 0.4, \"p\": 11, \"fpr\": 0.1111111111111111, \"tpr\": 0.9090909090909091, \"n\": 18}, {\"threshold\": 0.401, \"p\": 11, \"fpr\": 0.1111111111111111, \"tpr\": 0.9090909090909091, \"n\": 18}, {\"threshold\": 0.402, \"p\": 11, \"fpr\": 0.1111111111111111, \"tpr\": 0.9090909090909091, \"n\": 18}, {\"threshold\": 0.403, \"p\": 11, \"fpr\": 0.1111111111111111, \"tpr\": 0.9090909090909091, \"n\": 18}, {\"threshold\": 0.404, \"p\": 11, \"fpr\": 0.1111111111111111, \"tpr\": 0.9090909090909091, \"n\": 18}, {\"threshold\": 0.405, \"p\": 11, \"fpr\": 0.1111111111111111, \"tpr\": 0.9090909090909091, \"n\": 18}, {\"threshold\": 0.406, \"p\": 11, \"fpr\": 0.1111111111111111, \"tpr\": 0.9090909090909091, \"n\": 18}, {\"threshold\": 0.407, \"p\": 11, \"fpr\": 0.1111111111111111, \"tpr\": 0.9090909090909091, \"n\": 18}, {\"threshold\": 0.408, \"p\": 11, \"fpr\": 0.1111111111111111, \"tpr\": 0.9090909090909091, \"n\": 18}, {\"threshold\": 0.409, \"p\": 11, \"fpr\": 0.1111111111111111, \"tpr\": 0.9090909090909091, \"n\": 18}, {\"threshold\": 0.41, \"p\": 11, \"fpr\": 0.1111111111111111, \"tpr\": 0.9090909090909091, \"n\": 18}, {\"threshold\": 0.411, \"p\": 11, \"fpr\": 0.1111111111111111, \"tpr\": 0.9090909090909091, \"n\": 18}, {\"threshold\": 0.412, \"p\": 11, \"fpr\": 0.1111111111111111, \"tpr\": 0.9090909090909091, \"n\": 18}, {\"threshold\": 0.413, \"p\": 11, \"fpr\": 0.1111111111111111, \"tpr\": 0.9090909090909091, \"n\": 18}, {\"threshold\": 0.414, \"p\": 11, \"fpr\": 0.1111111111111111, \"tpr\": 0.9090909090909091, \"n\": 18}, {\"threshold\": 0.415, \"p\": 11, \"fpr\": 0.1111111111111111, \"tpr\": 0.9090909090909091, \"n\": 18}, {\"threshold\": 0.416, \"p\": 11, \"fpr\": 0.1111111111111111, \"tpr\": 0.9090909090909091, \"n\": 18}, {\"threshold\": 0.417, \"p\": 11, \"fpr\": 0.1111111111111111, \"tpr\": 0.9090909090909091, \"n\": 18}, {\"threshold\": 0.418, \"p\": 11, \"fpr\": 0.1111111111111111, \"tpr\": 0.9090909090909091, \"n\": 18}, {\"threshold\": 0.419, \"p\": 11, \"fpr\": 0.1111111111111111, \"tpr\": 0.9090909090909091, \"n\": 18}, {\"threshold\": 0.42, \"p\": 11, \"fpr\": 0.1111111111111111, \"tpr\": 0.9090909090909091, \"n\": 18}, {\"threshold\": 0.421, \"p\": 11, \"fpr\": 0.1111111111111111, \"tpr\": 0.9090909090909091, \"n\": 18}, {\"threshold\": 0.422, \"p\": 11, \"fpr\": 0.1111111111111111, \"tpr\": 0.9090909090909091, \"n\": 18}, {\"threshold\": 0.423, \"p\": 11, \"fpr\": 0.1111111111111111, \"tpr\": 0.9090909090909091, \"n\": 18}, {\"threshold\": 0.424, \"p\": 11, \"fpr\": 0.1111111111111111, \"tpr\": 0.9090909090909091, \"n\": 18}, {\"threshold\": 0.425, \"p\": 11, \"fpr\": 0.1111111111111111, \"tpr\": 0.9090909090909091, \"n\": 18}, {\"threshold\": 0.426, \"p\": 11, \"fpr\": 0.1111111111111111, \"tpr\": 0.9090909090909091, \"n\": 18}, {\"threshold\": 0.427, \"p\": 11, \"fpr\": 0.1111111111111111, \"tpr\": 0.9090909090909091, \"n\": 18}, {\"threshold\": 0.428, \"p\": 11, \"fpr\": 0.1111111111111111, \"tpr\": 0.9090909090909091, \"n\": 18}, {\"threshold\": 0.429, \"p\": 11, \"fpr\": 0.1111111111111111, \"tpr\": 0.9090909090909091, \"n\": 18}, {\"threshold\": 0.43, \"p\": 11, \"fpr\": 0.1111111111111111, \"tpr\": 0.9090909090909091, \"n\": 18}, {\"threshold\": 0.431, \"p\": 11, \"fpr\": 0.1111111111111111, \"tpr\": 0.9090909090909091, \"n\": 18}, {\"threshold\": 0.432, \"p\": 11, \"fpr\": 0.1111111111111111, \"tpr\": 0.9090909090909091, \"n\": 18}, {\"threshold\": 0.433, \"p\": 11, \"fpr\": 0.1111111111111111, \"tpr\": 0.9090909090909091, \"n\": 18}, {\"threshold\": 0.434, \"p\": 11, \"fpr\": 0.1111111111111111, \"tpr\": 0.9090909090909091, \"n\": 18}, {\"threshold\": 0.435, \"p\": 11, \"fpr\": 0.1111111111111111, \"tpr\": 0.9090909090909091, \"n\": 18}, {\"threshold\": 0.436, \"p\": 11, \"fpr\": 0.1111111111111111, \"tpr\": 0.9090909090909091, \"n\": 18}, {\"threshold\": 0.437, \"p\": 11, \"fpr\": 0.1111111111111111, \"tpr\": 0.9090909090909091, \"n\": 18}, {\"threshold\": 0.438, \"p\": 11, \"fpr\": 0.1111111111111111, \"tpr\": 0.9090909090909091, \"n\": 18}, {\"threshold\": 0.439, \"p\": 11, \"fpr\": 0.1111111111111111, \"tpr\": 0.9090909090909091, \"n\": 18}, {\"threshold\": 0.44, \"p\": 11, \"fpr\": 0.1111111111111111, \"tpr\": 0.9090909090909091, \"n\": 18}, {\"threshold\": 0.441, \"p\": 11, \"fpr\": 0.1111111111111111, \"tpr\": 0.9090909090909091, \"n\": 18}, {\"threshold\": 0.442, \"p\": 11, \"fpr\": 0.1111111111111111, \"tpr\": 0.9090909090909091, \"n\": 18}, {\"threshold\": 0.443, \"p\": 11, \"fpr\": 0.1111111111111111, \"tpr\": 0.9090909090909091, \"n\": 18}, {\"threshold\": 0.444, \"p\": 11, \"fpr\": 0.1111111111111111, \"tpr\": 0.9090909090909091, \"n\": 18}, {\"threshold\": 0.445, \"p\": 11, \"fpr\": 0.1111111111111111, \"tpr\": 0.9090909090909091, \"n\": 18}, {\"threshold\": 0.446, \"p\": 11, \"fpr\": 0.1111111111111111, \"tpr\": 0.9090909090909091, \"n\": 18}, {\"threshold\": 0.447, \"p\": 11, \"fpr\": 0.1111111111111111, \"tpr\": 0.9090909090909091, \"n\": 18}, {\"threshold\": 0.448, \"p\": 11, \"fpr\": 0.1111111111111111, \"tpr\": 0.9090909090909091, \"n\": 18}, {\"threshold\": 0.449, \"p\": 11, \"fpr\": 0.1111111111111111, \"tpr\": 0.9090909090909091, \"n\": 18}, {\"threshold\": 0.45, \"p\": 11, \"fpr\": 0.1111111111111111, \"tpr\": 0.9090909090909091, \"n\": 18}, {\"threshold\": 0.451, \"p\": 11, \"fpr\": 0.1111111111111111, \"tpr\": 0.9090909090909091, \"n\": 18}, {\"threshold\": 0.452, \"p\": 11, \"fpr\": 0.1111111111111111, \"tpr\": 0.9090909090909091, \"n\": 18}, {\"threshold\": 0.453, \"p\": 11, \"fpr\": 0.1111111111111111, \"tpr\": 0.9090909090909091, \"n\": 18}, {\"threshold\": 0.454, \"p\": 11, \"fpr\": 0.1111111111111111, \"tpr\": 0.9090909090909091, \"n\": 18}, {\"threshold\": 0.455, \"p\": 11, \"fpr\": 0.1111111111111111, \"tpr\": 0.9090909090909091, \"n\": 18}, {\"threshold\": 0.456, \"p\": 11, \"fpr\": 0.1111111111111111, \"tpr\": 0.9090909090909091, \"n\": 18}, {\"threshold\": 0.457, \"p\": 11, \"fpr\": 0.1111111111111111, \"tpr\": 0.9090909090909091, \"n\": 18}, {\"threshold\": 0.458, \"p\": 11, \"fpr\": 0.1111111111111111, \"tpr\": 0.9090909090909091, \"n\": 18}, {\"threshold\": 0.459, \"p\": 11, \"fpr\": 0.1111111111111111, \"tpr\": 0.9090909090909091, \"n\": 18}, {\"threshold\": 0.46, \"p\": 11, \"fpr\": 0.1111111111111111, \"tpr\": 0.9090909090909091, \"n\": 18}, {\"threshold\": 0.461, \"p\": 11, \"fpr\": 0.1111111111111111, \"tpr\": 0.9090909090909091, \"n\": 18}, {\"threshold\": 0.462, \"p\": 11, \"fpr\": 0.1111111111111111, \"tpr\": 0.9090909090909091, \"n\": 18}, {\"threshold\": 0.463, \"p\": 11, \"fpr\": 0.1111111111111111, \"tpr\": 0.9090909090909091, \"n\": 18}, {\"threshold\": 0.464, \"p\": 11, \"fpr\": 0.1111111111111111, \"tpr\": 0.9090909090909091, \"n\": 18}, {\"threshold\": 0.465, \"p\": 11, \"fpr\": 0.1111111111111111, \"tpr\": 0.9090909090909091, \"n\": 18}, {\"threshold\": 0.466, \"p\": 11, \"fpr\": 0.1111111111111111, \"tpr\": 0.9090909090909091, \"n\": 18}, {\"threshold\": 0.467, \"p\": 11, \"fpr\": 0.1111111111111111, \"tpr\": 0.9090909090909091, \"n\": 18}, {\"threshold\": 0.468, \"p\": 11, \"fpr\": 0.1111111111111111, \"tpr\": 0.9090909090909091, \"n\": 18}, {\"threshold\": 0.469, \"p\": 11, \"fpr\": 0.1111111111111111, \"tpr\": 0.9090909090909091, \"n\": 18}, {\"threshold\": 0.47, \"p\": 11, \"fpr\": 0.1111111111111111, \"tpr\": 0.9090909090909091, \"n\": 18}, {\"threshold\": 0.471, \"p\": 11, \"fpr\": 0.1111111111111111, \"tpr\": 0.9090909090909091, \"n\": 18}, {\"threshold\": 0.472, \"p\": 11, \"fpr\": 0.1111111111111111, \"tpr\": 0.9090909090909091, \"n\": 18}, {\"threshold\": 0.473, \"p\": 11, \"fpr\": 0.1111111111111111, \"tpr\": 0.9090909090909091, \"n\": 18}, {\"threshold\": 0.474, \"p\": 11, \"fpr\": 0.1111111111111111, \"tpr\": 0.9090909090909091, \"n\": 18}, {\"threshold\": 0.475, \"p\": 11, \"fpr\": 0.1111111111111111, \"tpr\": 0.9090909090909091, \"n\": 18}, {\"threshold\": 0.476, \"p\": 11, \"fpr\": 0.1111111111111111, \"tpr\": 0.9090909090909091, \"n\": 18}, {\"threshold\": 0.477, \"p\": 11, \"fpr\": 0.1111111111111111, \"tpr\": 0.9090909090909091, \"n\": 18}, {\"threshold\": 0.478, \"p\": 11, \"fpr\": 0.1111111111111111, \"tpr\": 0.9090909090909091, \"n\": 18}, {\"threshold\": 0.479, \"p\": 11, \"fpr\": 0.1111111111111111, \"tpr\": 0.9090909090909091, \"n\": 18}, {\"threshold\": 0.48, \"p\": 11, \"fpr\": 0.1111111111111111, \"tpr\": 0.9090909090909091, \"n\": 18}, {\"threshold\": 0.481, \"p\": 11, \"fpr\": 0.1111111111111111, \"tpr\": 0.9090909090909091, \"n\": 18}, {\"threshold\": 0.482, \"p\": 11, \"fpr\": 0.1111111111111111, \"tpr\": 0.9090909090909091, \"n\": 18}, {\"threshold\": 0.483, \"p\": 11, \"fpr\": 0.1111111111111111, \"tpr\": 0.9090909090909091, \"n\": 18}, {\"threshold\": 0.484, \"p\": 11, \"fpr\": 0.1111111111111111, \"tpr\": 0.9090909090909091, \"n\": 18}, {\"threshold\": 0.485, \"p\": 11, \"fpr\": 0.1111111111111111, \"tpr\": 0.9090909090909091, \"n\": 18}, {\"threshold\": 0.486, \"p\": 11, \"fpr\": 0.1111111111111111, \"tpr\": 0.9090909090909091, \"n\": 18}, {\"threshold\": 0.487, \"p\": 11, \"fpr\": 0.1111111111111111, \"tpr\": 0.9090909090909091, \"n\": 18}, {\"threshold\": 0.488, \"p\": 11, \"fpr\": 0.1111111111111111, \"tpr\": 0.9090909090909091, \"n\": 18}, {\"threshold\": 0.489, \"p\": 11, \"fpr\": 0.1111111111111111, \"tpr\": 0.9090909090909091, \"n\": 18}, {\"threshold\": 0.49, \"p\": 11, \"fpr\": 0.1111111111111111, \"tpr\": 0.9090909090909091, \"n\": 18}, {\"threshold\": 0.491, \"p\": 11, \"fpr\": 0.1111111111111111, \"tpr\": 0.9090909090909091, \"n\": 18}, {\"threshold\": 0.492, \"p\": 11, \"fpr\": 0.1111111111111111, \"tpr\": 0.9090909090909091, \"n\": 18}, {\"threshold\": 0.493, \"p\": 11, \"fpr\": 0.1111111111111111, \"tpr\": 0.9090909090909091, \"n\": 18}, {\"threshold\": 0.494, \"p\": 11, \"fpr\": 0.1111111111111111, \"tpr\": 0.9090909090909091, \"n\": 18}, {\"threshold\": 0.495, \"p\": 11, \"fpr\": 0.1111111111111111, \"tpr\": 0.9090909090909091, \"n\": 18}, {\"threshold\": 0.496, \"p\": 11, \"fpr\": 0.1111111111111111, \"tpr\": 0.9090909090909091, \"n\": 18}, {\"threshold\": 0.497, \"p\": 11, \"fpr\": 0.1111111111111111, \"tpr\": 0.9090909090909091, \"n\": 18}, {\"threshold\": 0.498, \"p\": 11, \"fpr\": 0.1111111111111111, \"tpr\": 0.9090909090909091, \"n\": 18}, {\"threshold\": 0.499, \"p\": 11, \"fpr\": 0.1111111111111111, \"tpr\": 0.9090909090909091, \"n\": 18}, {\"threshold\": 0.5, \"p\": 11, \"fpr\": 0.1111111111111111, \"tpr\": 0.9090909090909091, \"n\": 18}, {\"threshold\": 0.501, \"p\": 11, \"fpr\": 0.1111111111111111, \"tpr\": 0.9090909090909091, \"n\": 18}, {\"threshold\": 0.502, \"p\": 11, \"fpr\": 0.1111111111111111, \"tpr\": 0.9090909090909091, \"n\": 18}, {\"threshold\": 0.503, \"p\": 11, \"fpr\": 0.1111111111111111, \"tpr\": 0.9090909090909091, \"n\": 18}, {\"threshold\": 0.504, \"p\": 11, \"fpr\": 0.1111111111111111, \"tpr\": 0.9090909090909091, \"n\": 18}, {\"threshold\": 0.505, \"p\": 11, \"fpr\": 0.1111111111111111, \"tpr\": 0.9090909090909091, \"n\": 18}, {\"threshold\": 0.506, \"p\": 11, \"fpr\": 0.1111111111111111, \"tpr\": 0.9090909090909091, \"n\": 18}, {\"threshold\": 0.507, \"p\": 11, \"fpr\": 0.1111111111111111, \"tpr\": 0.9090909090909091, \"n\": 18}, {\"threshold\": 0.508, \"p\": 11, \"fpr\": 0.1111111111111111, \"tpr\": 0.9090909090909091, \"n\": 18}, {\"threshold\": 0.509, \"p\": 11, \"fpr\": 0.1111111111111111, \"tpr\": 0.9090909090909091, \"n\": 18}, {\"threshold\": 0.51, \"p\": 11, \"fpr\": 0.1111111111111111, \"tpr\": 0.9090909090909091, \"n\": 18}, {\"threshold\": 0.511, \"p\": 11, \"fpr\": 0.1111111111111111, \"tpr\": 0.9090909090909091, \"n\": 18}, {\"threshold\": 0.512, \"p\": 11, \"fpr\": 0.1111111111111111, \"tpr\": 0.9090909090909091, \"n\": 18}, {\"threshold\": 0.513, \"p\": 11, \"fpr\": 0.1111111111111111, \"tpr\": 0.9090909090909091, \"n\": 18}, {\"threshold\": 0.514, \"p\": 11, \"fpr\": 0.1111111111111111, \"tpr\": 0.9090909090909091, \"n\": 18}, {\"threshold\": 0.515, \"p\": 11, \"fpr\": 0.1111111111111111, \"tpr\": 0.9090909090909091, \"n\": 18}, {\"threshold\": 0.516, \"p\": 11, \"fpr\": 0.1111111111111111, \"tpr\": 0.9090909090909091, \"n\": 18}, {\"threshold\": 0.517, \"p\": 11, \"fpr\": 0.1111111111111111, \"tpr\": 0.9090909090909091, \"n\": 18}, {\"threshold\": 0.518, \"p\": 11, \"fpr\": 0.1111111111111111, \"tpr\": 0.9090909090909091, \"n\": 18}, {\"threshold\": 0.519, \"p\": 11, \"fpr\": 0.1111111111111111, \"tpr\": 0.9090909090909091, \"n\": 18}, {\"threshold\": 0.52, \"p\": 11, \"fpr\": 0.1111111111111111, \"tpr\": 0.9090909090909091, \"n\": 18}, {\"threshold\": 0.521, \"p\": 11, \"fpr\": 0.1111111111111111, \"tpr\": 0.9090909090909091, \"n\": 18}, {\"threshold\": 0.522, \"p\": 11, \"fpr\": 0.1111111111111111, \"tpr\": 0.9090909090909091, \"n\": 18}, {\"threshold\": 0.523, \"p\": 11, \"fpr\": 0.1111111111111111, \"tpr\": 0.9090909090909091, \"n\": 18}, {\"threshold\": 0.524, \"p\": 11, \"fpr\": 0.05555555555555555, \"tpr\": 0.9090909090909091, \"n\": 18}, {\"threshold\": 0.525, \"p\": 11, \"fpr\": 0.05555555555555555, \"tpr\": 0.9090909090909091, \"n\": 18}, {\"threshold\": 0.526, \"p\": 11, \"fpr\": 0.05555555555555555, \"tpr\": 0.9090909090909091, \"n\": 18}, {\"threshold\": 0.527, \"p\": 11, \"fpr\": 0.05555555555555555, \"tpr\": 0.9090909090909091, \"n\": 18}, {\"threshold\": 0.528, \"p\": 11, \"fpr\": 0.05555555555555555, \"tpr\": 0.9090909090909091, \"n\": 18}, {\"threshold\": 0.529, \"p\": 11, \"fpr\": 0.05555555555555555, \"tpr\": 0.9090909090909091, \"n\": 18}, {\"threshold\": 0.53, \"p\": 11, \"fpr\": 0.05555555555555555, \"tpr\": 0.9090909090909091, \"n\": 18}, {\"threshold\": 0.531, \"p\": 11, \"fpr\": 0.05555555555555555, \"tpr\": 0.9090909090909091, \"n\": 18}, {\"threshold\": 0.532, \"p\": 11, \"fpr\": 0.05555555555555555, \"tpr\": 0.9090909090909091, \"n\": 18}, {\"threshold\": 0.533, \"p\": 11, \"fpr\": 0.05555555555555555, \"tpr\": 0.9090909090909091, \"n\": 18}, {\"threshold\": 0.534, \"p\": 11, \"fpr\": 0.05555555555555555, \"tpr\": 0.9090909090909091, \"n\": 18}, {\"threshold\": 0.535, \"p\": 11, \"fpr\": 0.05555555555555555, \"tpr\": 0.9090909090909091, \"n\": 18}, {\"threshold\": 0.536, \"p\": 11, \"fpr\": 0.05555555555555555, \"tpr\": 0.9090909090909091, \"n\": 18}, {\"threshold\": 0.537, \"p\": 11, \"fpr\": 0.05555555555555555, \"tpr\": 0.9090909090909091, \"n\": 18}, {\"threshold\": 0.538, \"p\": 11, \"fpr\": 0.05555555555555555, \"tpr\": 0.9090909090909091, \"n\": 18}, {\"threshold\": 0.539, \"p\": 11, \"fpr\": 0.05555555555555555, \"tpr\": 0.8181818181818182, \"n\": 18}, {\"threshold\": 0.54, \"p\": 11, \"fpr\": 0.05555555555555555, \"tpr\": 0.8181818181818182, \"n\": 18}, {\"threshold\": 0.541, \"p\": 11, \"fpr\": 0.05555555555555555, \"tpr\": 0.8181818181818182, \"n\": 18}, {\"threshold\": 0.542, \"p\": 11, \"fpr\": 0.05555555555555555, \"tpr\": 0.8181818181818182, \"n\": 18}, {\"threshold\": 0.543, \"p\": 11, \"fpr\": 0.05555555555555555, \"tpr\": 0.8181818181818182, \"n\": 18}, {\"threshold\": 0.544, \"p\": 11, \"fpr\": 0.05555555555555555, \"tpr\": 0.8181818181818182, \"n\": 18}, {\"threshold\": 0.545, \"p\": 11, \"fpr\": 0.05555555555555555, \"tpr\": 0.8181818181818182, \"n\": 18}, {\"threshold\": 0.546, \"p\": 11, \"fpr\": 0.05555555555555555, \"tpr\": 0.8181818181818182, \"n\": 18}, {\"threshold\": 0.547, \"p\": 11, \"fpr\": 0.05555555555555555, \"tpr\": 0.8181818181818182, \"n\": 18}, {\"threshold\": 0.548, \"p\": 11, \"fpr\": 0.05555555555555555, \"tpr\": 0.8181818181818182, \"n\": 18}, {\"threshold\": 0.549, \"p\": 11, \"fpr\": 0.05555555555555555, \"tpr\": 0.8181818181818182, \"n\": 18}, {\"threshold\": 0.55, \"p\": 11, \"fpr\": 0.05555555555555555, \"tpr\": 0.8181818181818182, \"n\": 18}, {\"threshold\": 0.551, \"p\": 11, \"fpr\": 0.05555555555555555, \"tpr\": 0.8181818181818182, \"n\": 18}, {\"threshold\": 0.552, \"p\": 11, \"fpr\": 0.05555555555555555, \"tpr\": 0.8181818181818182, \"n\": 18}, {\"threshold\": 0.553, \"p\": 11, \"fpr\": 0.05555555555555555, \"tpr\": 0.8181818181818182, \"n\": 18}, {\"threshold\": 0.554, \"p\": 11, \"fpr\": 0.05555555555555555, \"tpr\": 0.8181818181818182, \"n\": 18}, {\"threshold\": 0.555, \"p\": 11, \"fpr\": 0.05555555555555555, \"tpr\": 0.8181818181818182, \"n\": 18}, {\"threshold\": 0.556, \"p\": 11, \"fpr\": 0.05555555555555555, \"tpr\": 0.8181818181818182, \"n\": 18}, {\"threshold\": 0.557, \"p\": 11, \"fpr\": 0.05555555555555555, \"tpr\": 0.8181818181818182, \"n\": 18}, {\"threshold\": 0.558, \"p\": 11, \"fpr\": 0.05555555555555555, \"tpr\": 0.8181818181818182, \"n\": 18}, {\"threshold\": 0.559, \"p\": 11, \"fpr\": 0.05555555555555555, \"tpr\": 0.8181818181818182, \"n\": 18}, {\"threshold\": 0.56, \"p\": 11, \"fpr\": 0.0, \"tpr\": 0.8181818181818182, \"n\": 18}, {\"threshold\": 0.561, \"p\": 11, \"fpr\": 0.0, \"tpr\": 0.8181818181818182, \"n\": 18}, {\"threshold\": 0.562, \"p\": 11, \"fpr\": 0.0, \"tpr\": 0.8181818181818182, \"n\": 18}, {\"threshold\": 0.563, \"p\": 11, \"fpr\": 0.0, \"tpr\": 0.8181818181818182, \"n\": 18}, {\"threshold\": 0.564, \"p\": 11, \"fpr\": 0.0, \"tpr\": 0.8181818181818182, \"n\": 18}, {\"threshold\": 0.565, \"p\": 11, \"fpr\": 0.0, \"tpr\": 0.8181818181818182, \"n\": 18}, {\"threshold\": 0.566, \"p\": 11, \"fpr\": 0.0, \"tpr\": 0.8181818181818182, \"n\": 18}, {\"threshold\": 0.567, \"p\": 11, \"fpr\": 0.0, \"tpr\": 0.8181818181818182, \"n\": 18}, {\"threshold\": 0.568, \"p\": 11, \"fpr\": 0.0, \"tpr\": 0.8181818181818182, \"n\": 18}, {\"threshold\": 0.569, \"p\": 11, \"fpr\": 0.0, \"tpr\": 0.8181818181818182, \"n\": 18}, {\"threshold\": 0.57, \"p\": 11, \"fpr\": 0.0, \"tpr\": 0.8181818181818182, \"n\": 18}, {\"threshold\": 0.571, \"p\": 11, \"fpr\": 0.0, \"tpr\": 0.8181818181818182, \"n\": 18}, {\"threshold\": 0.572, \"p\": 11, \"fpr\": 0.0, \"tpr\": 0.8181818181818182, \"n\": 18}, {\"threshold\": 0.573, \"p\": 11, \"fpr\": 0.0, \"tpr\": 0.8181818181818182, \"n\": 18}, {\"threshold\": 0.574, \"p\": 11, \"fpr\": 0.0, \"tpr\": 0.8181818181818182, \"n\": 18}, {\"threshold\": 0.575, \"p\": 11, \"fpr\": 0.0, \"tpr\": 0.8181818181818182, \"n\": 18}, {\"threshold\": 0.576, \"p\": 11, \"fpr\": 0.0, \"tpr\": 0.8181818181818182, \"n\": 18}, {\"threshold\": 0.577, \"p\": 11, \"fpr\": 0.0, \"tpr\": 0.8181818181818182, \"n\": 18}, {\"threshold\": 0.578, \"p\": 11, \"fpr\": 0.0, \"tpr\": 0.8181818181818182, \"n\": 18}, {\"threshold\": 0.579, \"p\": 11, \"fpr\": 0.0, \"tpr\": 0.8181818181818182, \"n\": 18}, {\"threshold\": 0.58, \"p\": 11, \"fpr\": 0.0, \"tpr\": 0.8181818181818182, \"n\": 18}, {\"threshold\": 0.581, \"p\": 11, \"fpr\": 0.0, \"tpr\": 0.8181818181818182, \"n\": 18}, {\"threshold\": 0.582, \"p\": 11, \"fpr\": 0.0, \"tpr\": 0.8181818181818182, \"n\": 18}, {\"threshold\": 0.583, \"p\": 11, \"fpr\": 0.0, \"tpr\": 0.8181818181818182, \"n\": 18}, {\"threshold\": 0.584, \"p\": 11, \"fpr\": 0.0, \"tpr\": 0.8181818181818182, \"n\": 18}, {\"threshold\": 0.585, \"p\": 11, \"fpr\": 0.0, \"tpr\": 0.8181818181818182, \"n\": 18}, {\"threshold\": 0.586, \"p\": 11, \"fpr\": 0.0, \"tpr\": 0.8181818181818182, \"n\": 18}, {\"threshold\": 0.587, \"p\": 11, \"fpr\": 0.0, \"tpr\": 0.8181818181818182, \"n\": 18}, {\"threshold\": 0.588, \"p\": 11, \"fpr\": 0.0, \"tpr\": 0.8181818181818182, \"n\": 18}, {\"threshold\": 0.589, \"p\": 11, \"fpr\": 0.0, \"tpr\": 0.8181818181818182, \"n\": 18}, {\"threshold\": 0.59, \"p\": 11, \"fpr\": 0.0, \"tpr\": 0.8181818181818182, \"n\": 18}, {\"threshold\": 0.591, \"p\": 11, \"fpr\": 0.0, \"tpr\": 0.8181818181818182, \"n\": 18}, {\"threshold\": 0.592, \"p\": 11, \"fpr\": 0.0, \"tpr\": 0.8181818181818182, \"n\": 18}, {\"threshold\": 0.593, \"p\": 11, \"fpr\": 0.0, \"tpr\": 0.8181818181818182, \"n\": 18}, {\"threshold\": 0.594, \"p\": 11, \"fpr\": 0.0, \"tpr\": 0.8181818181818182, \"n\": 18}, {\"threshold\": 0.595, \"p\": 11, \"fpr\": 0.0, \"tpr\": 0.8181818181818182, \"n\": 18}, {\"threshold\": 0.596, \"p\": 11, \"fpr\": 0.0, \"tpr\": 0.8181818181818182, \"n\": 18}, {\"threshold\": 0.597, \"p\": 11, \"fpr\": 0.0, \"tpr\": 0.8181818181818182, \"n\": 18}, {\"threshold\": 0.598, \"p\": 11, \"fpr\": 0.0, \"tpr\": 0.8181818181818182, \"n\": 18}, {\"threshold\": 0.599, \"p\": 11, \"fpr\": 0.0, \"tpr\": 0.8181818181818182, \"n\": 18}, {\"threshold\": 0.6, \"p\": 11, \"fpr\": 0.0, \"tpr\": 0.8181818181818182, \"n\": 18}, {\"threshold\": 0.601, \"p\": 11, \"fpr\": 0.0, \"tpr\": 0.8181818181818182, \"n\": 18}, {\"threshold\": 0.602, \"p\": 11, \"fpr\": 0.0, \"tpr\": 0.8181818181818182, \"n\": 18}, {\"threshold\": 0.603, \"p\": 11, \"fpr\": 0.0, \"tpr\": 0.8181818181818182, \"n\": 18}, {\"threshold\": 0.604, \"p\": 11, \"fpr\": 0.0, \"tpr\": 0.8181818181818182, \"n\": 18}, {\"threshold\": 0.605, \"p\": 11, \"fpr\": 0.0, \"tpr\": 0.8181818181818182, \"n\": 18}, {\"threshold\": 0.606, \"p\": 11, \"fpr\": 0.0, \"tpr\": 0.8181818181818182, \"n\": 18}, {\"threshold\": 0.607, \"p\": 11, \"fpr\": 0.0, \"tpr\": 0.8181818181818182, \"n\": 18}, {\"threshold\": 0.608, \"p\": 11, \"fpr\": 0.0, \"tpr\": 0.8181818181818182, \"n\": 18}, {\"threshold\": 0.609, \"p\": 11, \"fpr\": 0.0, \"tpr\": 0.8181818181818182, \"n\": 18}, {\"threshold\": 0.61, \"p\": 11, \"fpr\": 0.0, \"tpr\": 0.8181818181818182, \"n\": 18}, {\"threshold\": 0.611, \"p\": 11, \"fpr\": 0.0, \"tpr\": 0.8181818181818182, \"n\": 18}, {\"threshold\": 0.612, \"p\": 11, \"fpr\": 0.0, \"tpr\": 0.8181818181818182, \"n\": 18}, {\"threshold\": 0.613, \"p\": 11, \"fpr\": 0.0, \"tpr\": 0.8181818181818182, \"n\": 18}, {\"threshold\": 0.614, \"p\": 11, \"fpr\": 0.0, \"tpr\": 0.8181818181818182, \"n\": 18}, {\"threshold\": 0.615, \"p\": 11, \"fpr\": 0.0, \"tpr\": 0.8181818181818182, \"n\": 18}, {\"threshold\": 0.616, \"p\": 11, \"fpr\": 0.0, \"tpr\": 0.8181818181818182, \"n\": 18}, {\"threshold\": 0.617, \"p\": 11, \"fpr\": 0.0, \"tpr\": 0.8181818181818182, \"n\": 18}, {\"threshold\": 0.618, \"p\": 11, \"fpr\": 0.0, \"tpr\": 0.8181818181818182, \"n\": 18}, {\"threshold\": 0.619, \"p\": 11, \"fpr\": 0.0, \"tpr\": 0.8181818181818182, \"n\": 18}, {\"threshold\": 0.62, \"p\": 11, \"fpr\": 0.0, \"tpr\": 0.8181818181818182, \"n\": 18}, {\"threshold\": 0.621, \"p\": 11, \"fpr\": 0.0, \"tpr\": 0.8181818181818182, \"n\": 18}, {\"threshold\": 0.622, \"p\": 11, \"fpr\": 0.0, \"tpr\": 0.8181818181818182, \"n\": 18}, {\"threshold\": 0.623, \"p\": 11, \"fpr\": 0.0, \"tpr\": 0.8181818181818182, \"n\": 18}, {\"threshold\": 0.624, \"p\": 11, \"fpr\": 0.0, \"tpr\": 0.8181818181818182, \"n\": 18}, {\"threshold\": 0.625, \"p\": 11, \"fpr\": 0.0, \"tpr\": 0.8181818181818182, \"n\": 18}, {\"threshold\": 0.626, \"p\": 11, \"fpr\": 0.0, \"tpr\": 0.8181818181818182, \"n\": 18}, {\"threshold\": 0.627, \"p\": 11, \"fpr\": 0.0, \"tpr\": 0.8181818181818182, \"n\": 18}, {\"threshold\": 0.628, \"p\": 11, \"fpr\": 0.0, \"tpr\": 0.8181818181818182, \"n\": 18}, {\"threshold\": 0.629, \"p\": 11, \"fpr\": 0.0, \"tpr\": 0.8181818181818182, \"n\": 18}, {\"threshold\": 0.63, \"p\": 11, \"fpr\": 0.0, \"tpr\": 0.8181818181818182, \"n\": 18}, {\"threshold\": 0.631, \"p\": 11, \"fpr\": 0.0, \"tpr\": 0.8181818181818182, \"n\": 18}, {\"threshold\": 0.632, \"p\": 11, \"fpr\": 0.0, \"tpr\": 0.8181818181818182, \"n\": 18}, {\"threshold\": 0.633, \"p\": 11, \"fpr\": 0.0, \"tpr\": 0.8181818181818182, \"n\": 18}, {\"threshold\": 0.634, \"p\": 11, \"fpr\": 0.0, \"tpr\": 0.8181818181818182, \"n\": 18}, {\"threshold\": 0.635, \"p\": 11, \"fpr\": 0.0, \"tpr\": 0.8181818181818182, \"n\": 18}, {\"threshold\": 0.636, \"p\": 11, \"fpr\": 0.0, \"tpr\": 0.8181818181818182, \"n\": 18}, {\"threshold\": 0.637, \"p\": 11, \"fpr\": 0.0, \"tpr\": 0.8181818181818182, \"n\": 18}, {\"threshold\": 0.638, \"p\": 11, \"fpr\": 0.0, \"tpr\": 0.8181818181818182, \"n\": 18}, {\"threshold\": 0.639, \"p\": 11, \"fpr\": 0.0, \"tpr\": 0.8181818181818182, \"n\": 18}, {\"threshold\": 0.64, \"p\": 11, \"fpr\": 0.0, \"tpr\": 0.8181818181818182, \"n\": 18}, {\"threshold\": 0.641, \"p\": 11, \"fpr\": 0.0, \"tpr\": 0.8181818181818182, \"n\": 18}, {\"threshold\": 0.642, \"p\": 11, \"fpr\": 0.0, \"tpr\": 0.8181818181818182, \"n\": 18}, {\"threshold\": 0.643, \"p\": 11, \"fpr\": 0.0, \"tpr\": 0.8181818181818182, \"n\": 18}, {\"threshold\": 0.644, \"p\": 11, \"fpr\": 0.0, \"tpr\": 0.8181818181818182, \"n\": 18}, {\"threshold\": 0.645, \"p\": 11, \"fpr\": 0.0, \"tpr\": 0.8181818181818182, \"n\": 18}, {\"threshold\": 0.646, \"p\": 11, \"fpr\": 0.0, \"tpr\": 0.8181818181818182, \"n\": 18}, {\"threshold\": 0.647, \"p\": 11, \"fpr\": 0.0, \"tpr\": 0.8181818181818182, \"n\": 18}, {\"threshold\": 0.648, \"p\": 11, \"fpr\": 0.0, \"tpr\": 0.8181818181818182, \"n\": 18}, {\"threshold\": 0.649, \"p\": 11, \"fpr\": 0.0, \"tpr\": 0.8181818181818182, \"n\": 18}, {\"threshold\": 0.65, \"p\": 11, \"fpr\": 0.0, \"tpr\": 0.8181818181818182, \"n\": 18}, {\"threshold\": 0.651, \"p\": 11, \"fpr\": 0.0, \"tpr\": 0.8181818181818182, \"n\": 18}, {\"threshold\": 0.652, \"p\": 11, \"fpr\": 0.0, \"tpr\": 0.8181818181818182, \"n\": 18}, {\"threshold\": 0.653, \"p\": 11, \"fpr\": 0.0, \"tpr\": 0.8181818181818182, \"n\": 18}, {\"threshold\": 0.654, \"p\": 11, \"fpr\": 0.0, \"tpr\": 0.8181818181818182, \"n\": 18}, {\"threshold\": 0.655, \"p\": 11, \"fpr\": 0.0, \"tpr\": 0.8181818181818182, \"n\": 18}, {\"threshold\": 0.656, \"p\": 11, \"fpr\": 0.0, \"tpr\": 0.8181818181818182, \"n\": 18}, {\"threshold\": 0.657, \"p\": 11, \"fpr\": 0.0, \"tpr\": 0.8181818181818182, \"n\": 18}, {\"threshold\": 0.658, \"p\": 11, \"fpr\": 0.0, \"tpr\": 0.8181818181818182, \"n\": 18}, {\"threshold\": 0.659, \"p\": 11, \"fpr\": 0.0, \"tpr\": 0.8181818181818182, \"n\": 18}, {\"threshold\": 0.66, \"p\": 11, \"fpr\": 0.0, \"tpr\": 0.8181818181818182, \"n\": 18}, {\"threshold\": 0.661, \"p\": 11, \"fpr\": 0.0, \"tpr\": 0.8181818181818182, \"n\": 18}, {\"threshold\": 0.662, \"p\": 11, \"fpr\": 0.0, \"tpr\": 0.8181818181818182, \"n\": 18}, {\"threshold\": 0.663, \"p\": 11, \"fpr\": 0.0, \"tpr\": 0.8181818181818182, \"n\": 18}, {\"threshold\": 0.664, \"p\": 11, \"fpr\": 0.0, \"tpr\": 0.8181818181818182, \"n\": 18}, {\"threshold\": 0.665, \"p\": 11, \"fpr\": 0.0, \"tpr\": 0.8181818181818182, \"n\": 18}, {\"threshold\": 0.666, \"p\": 11, \"fpr\": 0.0, \"tpr\": 0.8181818181818182, \"n\": 18}, {\"threshold\": 0.667, \"p\": 11, \"fpr\": 0.0, \"tpr\": 0.8181818181818182, \"n\": 18}, {\"threshold\": 0.668, \"p\": 11, \"fpr\": 0.0, \"tpr\": 0.8181818181818182, \"n\": 18}, {\"threshold\": 0.669, \"p\": 11, \"fpr\": 0.0, \"tpr\": 0.8181818181818182, \"n\": 18}, {\"threshold\": 0.67, \"p\": 11, \"fpr\": 0.0, \"tpr\": 0.8181818181818182, \"n\": 18}, {\"threshold\": 0.671, \"p\": 11, \"fpr\": 0.0, \"tpr\": 0.8181818181818182, \"n\": 18}, {\"threshold\": 0.672, \"p\": 11, \"fpr\": 0.0, \"tpr\": 0.8181818181818182, \"n\": 18}, {\"threshold\": 0.673, \"p\": 11, \"fpr\": 0.0, \"tpr\": 0.8181818181818182, \"n\": 18}, {\"threshold\": 0.674, \"p\": 11, \"fpr\": 0.0, \"tpr\": 0.8181818181818182, \"n\": 18}, {\"threshold\": 0.675, \"p\": 11, \"fpr\": 0.0, \"tpr\": 0.8181818181818182, \"n\": 18}, {\"threshold\": 0.676, \"p\": 11, \"fpr\": 0.0, \"tpr\": 0.8181818181818182, \"n\": 18}, {\"threshold\": 0.677, \"p\": 11, \"fpr\": 0.0, \"tpr\": 0.8181818181818182, \"n\": 18}, {\"threshold\": 0.678, \"p\": 11, \"fpr\": 0.0, \"tpr\": 0.8181818181818182, \"n\": 18}, {\"threshold\": 0.679, \"p\": 11, \"fpr\": 0.0, \"tpr\": 0.8181818181818182, \"n\": 18}, {\"threshold\": 0.68, \"p\": 11, \"fpr\": 0.0, \"tpr\": 0.8181818181818182, \"n\": 18}, {\"threshold\": 0.681, \"p\": 11, \"fpr\": 0.0, \"tpr\": 0.8181818181818182, \"n\": 18}, {\"threshold\": 0.682, \"p\": 11, \"fpr\": 0.0, \"tpr\": 0.8181818181818182, \"n\": 18}, {\"threshold\": 0.683, \"p\": 11, \"fpr\": 0.0, \"tpr\": 0.8181818181818182, \"n\": 18}, {\"threshold\": 0.684, \"p\": 11, \"fpr\": 0.0, \"tpr\": 0.8181818181818182, \"n\": 18}, {\"threshold\": 0.685, \"p\": 11, \"fpr\": 0.0, \"tpr\": 0.8181818181818182, \"n\": 18}, {\"threshold\": 0.686, \"p\": 11, \"fpr\": 0.0, \"tpr\": 0.8181818181818182, \"n\": 18}, {\"threshold\": 0.687, \"p\": 11, \"fpr\": 0.0, \"tpr\": 0.8181818181818182, \"n\": 18}, {\"threshold\": 0.688, \"p\": 11, \"fpr\": 0.0, \"tpr\": 0.8181818181818182, \"n\": 18}, {\"threshold\": 0.689, \"p\": 11, \"fpr\": 0.0, \"tpr\": 0.8181818181818182, \"n\": 18}, {\"threshold\": 0.69, \"p\": 11, \"fpr\": 0.0, \"tpr\": 0.8181818181818182, \"n\": 18}, {\"threshold\": 0.691, \"p\": 11, \"fpr\": 0.0, \"tpr\": 0.8181818181818182, \"n\": 18}, {\"threshold\": 0.692, \"p\": 11, \"fpr\": 0.0, \"tpr\": 0.8181818181818182, \"n\": 18}, {\"threshold\": 0.693, \"p\": 11, \"fpr\": 0.0, \"tpr\": 0.8181818181818182, \"n\": 18}, {\"threshold\": 0.694, \"p\": 11, \"fpr\": 0.0, \"tpr\": 0.8181818181818182, \"n\": 18}, {\"threshold\": 0.695, \"p\": 11, \"fpr\": 0.0, \"tpr\": 0.8181818181818182, \"n\": 18}, {\"threshold\": 0.696, \"p\": 11, \"fpr\": 0.0, \"tpr\": 0.8181818181818182, \"n\": 18}, {\"threshold\": 0.697, \"p\": 11, \"fpr\": 0.0, \"tpr\": 0.8181818181818182, \"n\": 18}, {\"threshold\": 0.698, \"p\": 11, \"fpr\": 0.0, \"tpr\": 0.8181818181818182, \"n\": 18}, {\"threshold\": 0.699, \"p\": 11, \"fpr\": 0.0, \"tpr\": 0.8181818181818182, \"n\": 18}, {\"threshold\": 0.7, \"p\": 11, \"fpr\": 0.0, \"tpr\": 0.8181818181818182, \"n\": 18}, {\"threshold\": 0.701, \"p\": 11, \"fpr\": 0.0, \"tpr\": 0.8181818181818182, \"n\": 18}, {\"threshold\": 0.702, \"p\": 11, \"fpr\": 0.0, \"tpr\": 0.8181818181818182, \"n\": 18}, {\"threshold\": 0.703, \"p\": 11, \"fpr\": 0.0, \"tpr\": 0.8181818181818182, \"n\": 18}, {\"threshold\": 0.704, \"p\": 11, \"fpr\": 0.0, \"tpr\": 0.8181818181818182, \"n\": 18}, {\"threshold\": 0.705, \"p\": 11, \"fpr\": 0.0, \"tpr\": 0.8181818181818182, \"n\": 18}, {\"threshold\": 0.706, \"p\": 11, \"fpr\": 0.0, \"tpr\": 0.8181818181818182, \"n\": 18}, {\"threshold\": 0.707, \"p\": 11, \"fpr\": 0.0, \"tpr\": 0.8181818181818182, \"n\": 18}, {\"threshold\": 0.708, \"p\": 11, \"fpr\": 0.0, \"tpr\": 0.8181818181818182, \"n\": 18}, {\"threshold\": 0.709, \"p\": 11, \"fpr\": 0.0, \"tpr\": 0.8181818181818182, \"n\": 18}, {\"threshold\": 0.71, \"p\": 11, \"fpr\": 0.0, \"tpr\": 0.8181818181818182, \"n\": 18}, {\"threshold\": 0.711, \"p\": 11, \"fpr\": 0.0, \"tpr\": 0.8181818181818182, \"n\": 18}, {\"threshold\": 0.712, \"p\": 11, \"fpr\": 0.0, \"tpr\": 0.7272727272727273, \"n\": 18}, {\"threshold\": 0.713, \"p\": 11, \"fpr\": 0.0, \"tpr\": 0.7272727272727273, \"n\": 18}, {\"threshold\": 0.714, \"p\": 11, \"fpr\": 0.0, \"tpr\": 0.7272727272727273, \"n\": 18}, {\"threshold\": 0.715, \"p\": 11, \"fpr\": 0.0, \"tpr\": 0.7272727272727273, \"n\": 18}, {\"threshold\": 0.716, \"p\": 11, \"fpr\": 0.0, \"tpr\": 0.7272727272727273, \"n\": 18}, {\"threshold\": 0.717, \"p\": 11, \"fpr\": 0.0, \"tpr\": 0.7272727272727273, \"n\": 18}, {\"threshold\": 0.718, \"p\": 11, \"fpr\": 0.0, \"tpr\": 0.7272727272727273, \"n\": 18}, {\"threshold\": 0.719, \"p\": 11, \"fpr\": 0.0, \"tpr\": 0.7272727272727273, \"n\": 18}, {\"threshold\": 0.72, \"p\": 11, \"fpr\": 0.0, \"tpr\": 0.7272727272727273, \"n\": 18}, {\"threshold\": 0.721, \"p\": 11, \"fpr\": 0.0, \"tpr\": 0.7272727272727273, \"n\": 18}, {\"threshold\": 0.722, \"p\": 11, \"fpr\": 0.0, \"tpr\": 0.7272727272727273, \"n\": 18}, {\"threshold\": 0.723, \"p\": 11, \"fpr\": 0.0, \"tpr\": 0.7272727272727273, \"n\": 18}, {\"threshold\": 0.724, \"p\": 11, \"fpr\": 0.0, \"tpr\": 0.7272727272727273, \"n\": 18}, {\"threshold\": 0.725, \"p\": 11, \"fpr\": 0.0, \"tpr\": 0.7272727272727273, \"n\": 18}, {\"threshold\": 0.726, \"p\": 11, \"fpr\": 0.0, \"tpr\": 0.7272727272727273, \"n\": 18}, {\"threshold\": 0.727, \"p\": 11, \"fpr\": 0.0, \"tpr\": 0.7272727272727273, \"n\": 18}, {\"threshold\": 0.728, \"p\": 11, \"fpr\": 0.0, \"tpr\": 0.7272727272727273, \"n\": 18}, {\"threshold\": 0.729, \"p\": 11, \"fpr\": 0.0, \"tpr\": 0.7272727272727273, \"n\": 18}, {\"threshold\": 0.73, \"p\": 11, \"fpr\": 0.0, \"tpr\": 0.7272727272727273, \"n\": 18}, {\"threshold\": 0.731, \"p\": 11, \"fpr\": 0.0, \"tpr\": 0.7272727272727273, \"n\": 18}, {\"threshold\": 0.732, \"p\": 11, \"fpr\": 0.0, \"tpr\": 0.7272727272727273, \"n\": 18}, {\"threshold\": 0.733, \"p\": 11, \"fpr\": 0.0, \"tpr\": 0.7272727272727273, \"n\": 18}, {\"threshold\": 0.734, \"p\": 11, \"fpr\": 0.0, \"tpr\": 0.7272727272727273, \"n\": 18}, {\"threshold\": 0.735, \"p\": 11, \"fpr\": 0.0, \"tpr\": 0.7272727272727273, \"n\": 18}, {\"threshold\": 0.736, \"p\": 11, \"fpr\": 0.0, \"tpr\": 0.7272727272727273, \"n\": 18}, {\"threshold\": 0.737, \"p\": 11, \"fpr\": 0.0, \"tpr\": 0.7272727272727273, \"n\": 18}, {\"threshold\": 0.738, \"p\": 11, \"fpr\": 0.0, \"tpr\": 0.7272727272727273, \"n\": 18}, {\"threshold\": 0.739, \"p\": 11, \"fpr\": 0.0, \"tpr\": 0.7272727272727273, \"n\": 18}, {\"threshold\": 0.74, \"p\": 11, \"fpr\": 0.0, \"tpr\": 0.7272727272727273, \"n\": 18}, {\"threshold\": 0.741, \"p\": 11, \"fpr\": 0.0, \"tpr\": 0.7272727272727273, \"n\": 18}, {\"threshold\": 0.742, \"p\": 11, \"fpr\": 0.0, \"tpr\": 0.7272727272727273, \"n\": 18}, {\"threshold\": 0.743, \"p\": 11, \"fpr\": 0.0, \"tpr\": 0.7272727272727273, \"n\": 18}, {\"threshold\": 0.744, \"p\": 11, \"fpr\": 0.0, \"tpr\": 0.7272727272727273, \"n\": 18}, {\"threshold\": 0.745, \"p\": 11, \"fpr\": 0.0, \"tpr\": 0.7272727272727273, \"n\": 18}, {\"threshold\": 0.746, \"p\": 11, \"fpr\": 0.0, \"tpr\": 0.7272727272727273, \"n\": 18}, {\"threshold\": 0.747, \"p\": 11, \"fpr\": 0.0, \"tpr\": 0.7272727272727273, \"n\": 18}, {\"threshold\": 0.748, \"p\": 11, \"fpr\": 0.0, \"tpr\": 0.7272727272727273, \"n\": 18}, {\"threshold\": 0.749, \"p\": 11, \"fpr\": 0.0, \"tpr\": 0.7272727272727273, \"n\": 18}, {\"threshold\": 0.75, \"p\": 11, \"fpr\": 0.0, \"tpr\": 0.7272727272727273, \"n\": 18}, {\"threshold\": 0.751, \"p\": 11, \"fpr\": 0.0, \"tpr\": 0.7272727272727273, \"n\": 18}, {\"threshold\": 0.752, \"p\": 11, \"fpr\": 0.0, \"tpr\": 0.7272727272727273, \"n\": 18}, {\"threshold\": 0.753, \"p\": 11, \"fpr\": 0.0, \"tpr\": 0.7272727272727273, \"n\": 18}, {\"threshold\": 0.754, \"p\": 11, \"fpr\": 0.0, \"tpr\": 0.7272727272727273, \"n\": 18}, {\"threshold\": 0.755, \"p\": 11, \"fpr\": 0.0, \"tpr\": 0.7272727272727273, \"n\": 18}, {\"threshold\": 0.756, \"p\": 11, \"fpr\": 0.0, \"tpr\": 0.7272727272727273, \"n\": 18}, {\"threshold\": 0.757, \"p\": 11, \"fpr\": 0.0, \"tpr\": 0.7272727272727273, \"n\": 18}, {\"threshold\": 0.758, \"p\": 11, \"fpr\": 0.0, \"tpr\": 0.7272727272727273, \"n\": 18}, {\"threshold\": 0.759, \"p\": 11, \"fpr\": 0.0, \"tpr\": 0.7272727272727273, \"n\": 18}, {\"threshold\": 0.76, \"p\": 11, \"fpr\": 0.0, \"tpr\": 0.7272727272727273, \"n\": 18}, {\"threshold\": 0.761, \"p\": 11, \"fpr\": 0.0, \"tpr\": 0.7272727272727273, \"n\": 18}, {\"threshold\": 0.762, \"p\": 11, \"fpr\": 0.0, \"tpr\": 0.7272727272727273, \"n\": 18}, {\"threshold\": 0.763, \"p\": 11, \"fpr\": 0.0, \"tpr\": 0.7272727272727273, \"n\": 18}, {\"threshold\": 0.764, \"p\": 11, \"fpr\": 0.0, \"tpr\": 0.7272727272727273, \"n\": 18}, {\"threshold\": 0.765, \"p\": 11, \"fpr\": 0.0, \"tpr\": 0.7272727272727273, \"n\": 18}, {\"threshold\": 0.766, \"p\": 11, \"fpr\": 0.0, \"tpr\": 0.7272727272727273, \"n\": 18}, {\"threshold\": 0.767, \"p\": 11, \"fpr\": 0.0, \"tpr\": 0.7272727272727273, \"n\": 18}, {\"threshold\": 0.768, \"p\": 11, \"fpr\": 0.0, \"tpr\": 0.7272727272727273, \"n\": 18}, {\"threshold\": 0.769, \"p\": 11, \"fpr\": 0.0, \"tpr\": 0.7272727272727273, \"n\": 18}, {\"threshold\": 0.77, \"p\": 11, \"fpr\": 0.0, \"tpr\": 0.7272727272727273, \"n\": 18}, {\"threshold\": 0.771, \"p\": 11, \"fpr\": 0.0, \"tpr\": 0.7272727272727273, \"n\": 18}, {\"threshold\": 0.772, \"p\": 11, \"fpr\": 0.0, \"tpr\": 0.7272727272727273, \"n\": 18}, {\"threshold\": 0.773, \"p\": 11, \"fpr\": 0.0, \"tpr\": 0.7272727272727273, \"n\": 18}, {\"threshold\": 0.774, \"p\": 11, \"fpr\": 0.0, \"tpr\": 0.7272727272727273, \"n\": 18}, {\"threshold\": 0.775, \"p\": 11, \"fpr\": 0.0, \"tpr\": 0.7272727272727273, \"n\": 18}, {\"threshold\": 0.776, \"p\": 11, \"fpr\": 0.0, \"tpr\": 0.7272727272727273, \"n\": 18}, {\"threshold\": 0.777, \"p\": 11, \"fpr\": 0.0, \"tpr\": 0.7272727272727273, \"n\": 18}, {\"threshold\": 0.778, \"p\": 11, \"fpr\": 0.0, \"tpr\": 0.7272727272727273, \"n\": 18}, {\"threshold\": 0.779, \"p\": 11, \"fpr\": 0.0, \"tpr\": 0.7272727272727273, \"n\": 18}, {\"threshold\": 0.78, \"p\": 11, \"fpr\": 0.0, \"tpr\": 0.7272727272727273, \"n\": 18}, {\"threshold\": 0.781, \"p\": 11, \"fpr\": 0.0, \"tpr\": 0.7272727272727273, \"n\": 18}, {\"threshold\": 0.782, \"p\": 11, \"fpr\": 0.0, \"tpr\": 0.7272727272727273, \"n\": 18}, {\"threshold\": 0.783, \"p\": 11, \"fpr\": 0.0, \"tpr\": 0.7272727272727273, \"n\": 18}, {\"threshold\": 0.784, \"p\": 11, \"fpr\": 0.0, \"tpr\": 0.7272727272727273, \"n\": 18}, {\"threshold\": 0.785, \"p\": 11, \"fpr\": 0.0, \"tpr\": 0.7272727272727273, \"n\": 18}, {\"threshold\": 0.786, \"p\": 11, \"fpr\": 0.0, \"tpr\": 0.7272727272727273, \"n\": 18}, {\"threshold\": 0.787, \"p\": 11, \"fpr\": 0.0, \"tpr\": 0.7272727272727273, \"n\": 18}, {\"threshold\": 0.788, \"p\": 11, \"fpr\": 0.0, \"tpr\": 0.7272727272727273, \"n\": 18}, {\"threshold\": 0.789, \"p\": 11, \"fpr\": 0.0, \"tpr\": 0.7272727272727273, \"n\": 18}, {\"threshold\": 0.79, \"p\": 11, \"fpr\": 0.0, \"tpr\": 0.7272727272727273, \"n\": 18}, {\"threshold\": 0.791, \"p\": 11, \"fpr\": 0.0, \"tpr\": 0.7272727272727273, \"n\": 18}, {\"threshold\": 0.792, \"p\": 11, \"fpr\": 0.0, \"tpr\": 0.6363636363636364, \"n\": 18}, {\"threshold\": 0.793, \"p\": 11, \"fpr\": 0.0, \"tpr\": 0.6363636363636364, \"n\": 18}, {\"threshold\": 0.794, \"p\": 11, \"fpr\": 0.0, \"tpr\": 0.6363636363636364, \"n\": 18}, {\"threshold\": 0.795, \"p\": 11, \"fpr\": 0.0, \"tpr\": 0.6363636363636364, \"n\": 18}, {\"threshold\": 0.796, \"p\": 11, \"fpr\": 0.0, \"tpr\": 0.6363636363636364, \"n\": 18}, {\"threshold\": 0.797, \"p\": 11, \"fpr\": 0.0, \"tpr\": 0.6363636363636364, \"n\": 18}, {\"threshold\": 0.798, \"p\": 11, \"fpr\": 0.0, \"tpr\": 0.6363636363636364, \"n\": 18}, {\"threshold\": 0.799, \"p\": 11, \"fpr\": 0.0, \"tpr\": 0.6363636363636364, \"n\": 18}, {\"threshold\": 0.8, \"p\": 11, \"fpr\": 0.0, \"tpr\": 0.6363636363636364, \"n\": 18}, {\"threshold\": 0.801, \"p\": 11, \"fpr\": 0.0, \"tpr\": 0.5454545454545454, \"n\": 18}, {\"threshold\": 0.802, \"p\": 11, \"fpr\": 0.0, \"tpr\": 0.5454545454545454, \"n\": 18}, {\"threshold\": 0.803, \"p\": 11, \"fpr\": 0.0, \"tpr\": 0.5454545454545454, \"n\": 18}, {\"threshold\": 0.804, \"p\": 11, \"fpr\": 0.0, \"tpr\": 0.5454545454545454, \"n\": 18}, {\"threshold\": 0.805, \"p\": 11, \"fpr\": 0.0, \"tpr\": 0.5454545454545454, \"n\": 18}, {\"threshold\": 0.806, \"p\": 11, \"fpr\": 0.0, \"tpr\": 0.5454545454545454, \"n\": 18}, {\"threshold\": 0.807, \"p\": 11, \"fpr\": 0.0, \"tpr\": 0.5454545454545454, \"n\": 18}, {\"threshold\": 0.808, \"p\": 11, \"fpr\": 0.0, \"tpr\": 0.5454545454545454, \"n\": 18}, {\"threshold\": 0.809, \"p\": 11, \"fpr\": 0.0, \"tpr\": 0.5454545454545454, \"n\": 18}, {\"threshold\": 0.81, \"p\": 11, \"fpr\": 0.0, \"tpr\": 0.5454545454545454, \"n\": 18}, {\"threshold\": 0.811, \"p\": 11, \"fpr\": 0.0, \"tpr\": 0.5454545454545454, \"n\": 18}, {\"threshold\": 0.812, \"p\": 11, \"fpr\": 0.0, \"tpr\": 0.5454545454545454, \"n\": 18}, {\"threshold\": 0.813, \"p\": 11, \"fpr\": 0.0, \"tpr\": 0.5454545454545454, \"n\": 18}, {\"threshold\": 0.814, \"p\": 11, \"fpr\": 0.0, \"tpr\": 0.5454545454545454, \"n\": 18}, {\"threshold\": 0.815, \"p\": 11, \"fpr\": 0.0, \"tpr\": 0.5454545454545454, \"n\": 18}, {\"threshold\": 0.816, \"p\": 11, \"fpr\": 0.0, \"tpr\": 0.5454545454545454, \"n\": 18}, {\"threshold\": 0.817, \"p\": 11, \"fpr\": 0.0, \"tpr\": 0.5454545454545454, \"n\": 18}, {\"threshold\": 0.818, \"p\": 11, \"fpr\": 0.0, \"tpr\": 0.5454545454545454, \"n\": 18}, {\"threshold\": 0.819, \"p\": 11, \"fpr\": 0.0, \"tpr\": 0.5454545454545454, \"n\": 18}, {\"threshold\": 0.82, \"p\": 11, \"fpr\": 0.0, \"tpr\": 0.5454545454545454, \"n\": 18}, {\"threshold\": 0.821, \"p\": 11, \"fpr\": 0.0, \"tpr\": 0.5454545454545454, \"n\": 18}, {\"threshold\": 0.822, \"p\": 11, \"fpr\": 0.0, \"tpr\": 0.5454545454545454, \"n\": 18}, {\"threshold\": 0.823, \"p\": 11, \"fpr\": 0.0, \"tpr\": 0.5454545454545454, \"n\": 18}, {\"threshold\": 0.824, \"p\": 11, \"fpr\": 0.0, \"tpr\": 0.5454545454545454, \"n\": 18}, {\"threshold\": 0.825, \"p\": 11, \"fpr\": 0.0, \"tpr\": 0.5454545454545454, \"n\": 18}, {\"threshold\": 0.826, \"p\": 11, \"fpr\": 0.0, \"tpr\": 0.5454545454545454, \"n\": 18}, {\"threshold\": 0.827, \"p\": 11, \"fpr\": 0.0, \"tpr\": 0.5454545454545454, \"n\": 18}, {\"threshold\": 0.828, \"p\": 11, \"fpr\": 0.0, \"tpr\": 0.5454545454545454, \"n\": 18}, {\"threshold\": 0.829, \"p\": 11, \"fpr\": 0.0, \"tpr\": 0.5454545454545454, \"n\": 18}, {\"threshold\": 0.83, \"p\": 11, \"fpr\": 0.0, \"tpr\": 0.5454545454545454, \"n\": 18}, {\"threshold\": 0.831, \"p\": 11, \"fpr\": 0.0, \"tpr\": 0.5454545454545454, \"n\": 18}, {\"threshold\": 0.832, \"p\": 11, \"fpr\": 0.0, \"tpr\": 0.5454545454545454, \"n\": 18}, {\"threshold\": 0.833, \"p\": 11, \"fpr\": 0.0, \"tpr\": 0.5454545454545454, \"n\": 18}, {\"threshold\": 0.834, \"p\": 11, \"fpr\": 0.0, \"tpr\": 0.5454545454545454, \"n\": 18}, {\"threshold\": 0.835, \"p\": 11, \"fpr\": 0.0, \"tpr\": 0.5454545454545454, \"n\": 18}, {\"threshold\": 0.836, \"p\": 11, \"fpr\": 0.0, \"tpr\": 0.5454545454545454, \"n\": 18}, {\"threshold\": 0.837, \"p\": 11, \"fpr\": 0.0, \"tpr\": 0.5454545454545454, \"n\": 18}, {\"threshold\": 0.838, \"p\": 11, \"fpr\": 0.0, \"tpr\": 0.5454545454545454, \"n\": 18}, {\"threshold\": 0.839, \"p\": 11, \"fpr\": 0.0, \"tpr\": 0.5454545454545454, \"n\": 18}, {\"threshold\": 0.84, \"p\": 11, \"fpr\": 0.0, \"tpr\": 0.5454545454545454, \"n\": 18}, {\"threshold\": 0.841, \"p\": 11, \"fpr\": 0.0, \"tpr\": 0.5454545454545454, \"n\": 18}, {\"threshold\": 0.842, \"p\": 11, \"fpr\": 0.0, \"tpr\": 0.5454545454545454, \"n\": 18}, {\"threshold\": 0.843, \"p\": 11, \"fpr\": 0.0, \"tpr\": 0.5454545454545454, \"n\": 18}, {\"threshold\": 0.844, \"p\": 11, \"fpr\": 0.0, \"tpr\": 0.5454545454545454, \"n\": 18}, {\"threshold\": 0.845, \"p\": 11, \"fpr\": 0.0, \"tpr\": 0.5454545454545454, \"n\": 18}, {\"threshold\": 0.846, \"p\": 11, \"fpr\": 0.0, \"tpr\": 0.5454545454545454, \"n\": 18}, {\"threshold\": 0.847, \"p\": 11, \"fpr\": 0.0, \"tpr\": 0.5454545454545454, \"n\": 18}, {\"threshold\": 0.848, \"p\": 11, \"fpr\": 0.0, \"tpr\": 0.5454545454545454, \"n\": 18}, {\"threshold\": 0.849, \"p\": 11, \"fpr\": 0.0, \"tpr\": 0.5454545454545454, \"n\": 18}, {\"threshold\": 0.85, \"p\": 11, \"fpr\": 0.0, \"tpr\": 0.5454545454545454, \"n\": 18}, {\"threshold\": 0.851, \"p\": 11, \"fpr\": 0.0, \"tpr\": 0.5454545454545454, \"n\": 18}, {\"threshold\": 0.852, \"p\": 11, \"fpr\": 0.0, \"tpr\": 0.5454545454545454, \"n\": 18}, {\"threshold\": 0.853, \"p\": 11, \"fpr\": 0.0, \"tpr\": 0.5454545454545454, \"n\": 18}, {\"threshold\": 0.854, \"p\": 11, \"fpr\": 0.0, \"tpr\": 0.5454545454545454, \"n\": 18}, {\"threshold\": 0.855, \"p\": 11, \"fpr\": 0.0, \"tpr\": 0.5454545454545454, \"n\": 18}, {\"threshold\": 0.856, \"p\": 11, \"fpr\": 0.0, \"tpr\": 0.5454545454545454, \"n\": 18}, {\"threshold\": 0.857, \"p\": 11, \"fpr\": 0.0, \"tpr\": 0.45454545454545453, \"n\": 18}, {\"threshold\": 0.858, \"p\": 11, \"fpr\": 0.0, \"tpr\": 0.45454545454545453, \"n\": 18}, {\"threshold\": 0.859, \"p\": 11, \"fpr\": 0.0, \"tpr\": 0.45454545454545453, \"n\": 18}, {\"threshold\": 0.86, \"p\": 11, \"fpr\": 0.0, \"tpr\": 0.45454545454545453, \"n\": 18}, {\"threshold\": 0.861, \"p\": 11, \"fpr\": 0.0, \"tpr\": 0.45454545454545453, \"n\": 18}, {\"threshold\": 0.862, \"p\": 11, \"fpr\": 0.0, \"tpr\": 0.45454545454545453, \"n\": 18}, {\"threshold\": 0.863, \"p\": 11, \"fpr\": 0.0, \"tpr\": 0.45454545454545453, \"n\": 18}, {\"threshold\": 0.864, \"p\": 11, \"fpr\": 0.0, \"tpr\": 0.45454545454545453, \"n\": 18}, {\"threshold\": 0.865, \"p\": 11, \"fpr\": 0.0, \"tpr\": 0.45454545454545453, \"n\": 18}, {\"threshold\": 0.866, \"p\": 11, \"fpr\": 0.0, \"tpr\": 0.45454545454545453, \"n\": 18}, {\"threshold\": 0.867, \"p\": 11, \"fpr\": 0.0, \"tpr\": 0.45454545454545453, \"n\": 18}, {\"threshold\": 0.868, \"p\": 11, \"fpr\": 0.0, \"tpr\": 0.45454545454545453, \"n\": 18}, {\"threshold\": 0.869, \"p\": 11, \"fpr\": 0.0, \"tpr\": 0.45454545454545453, \"n\": 18}, {\"threshold\": 0.87, \"p\": 11, \"fpr\": 0.0, \"tpr\": 0.45454545454545453, \"n\": 18}, {\"threshold\": 0.871, \"p\": 11, \"fpr\": 0.0, \"tpr\": 0.45454545454545453, \"n\": 18}, {\"threshold\": 0.872, \"p\": 11, \"fpr\": 0.0, \"tpr\": 0.45454545454545453, \"n\": 18}, {\"threshold\": 0.873, \"p\": 11, \"fpr\": 0.0, \"tpr\": 0.45454545454545453, \"n\": 18}, {\"threshold\": 0.874, \"p\": 11, \"fpr\": 0.0, \"tpr\": 0.45454545454545453, \"n\": 18}, {\"threshold\": 0.875, \"p\": 11, \"fpr\": 0.0, \"tpr\": 0.45454545454545453, \"n\": 18}, {\"threshold\": 0.876, \"p\": 11, \"fpr\": 0.0, \"tpr\": 0.45454545454545453, \"n\": 18}, {\"threshold\": 0.877, \"p\": 11, \"fpr\": 0.0, \"tpr\": 0.45454545454545453, \"n\": 18}, {\"threshold\": 0.878, \"p\": 11, \"fpr\": 0.0, \"tpr\": 0.45454545454545453, \"n\": 18}, {\"threshold\": 0.879, \"p\": 11, \"fpr\": 0.0, \"tpr\": 0.45454545454545453, \"n\": 18}, {\"threshold\": 0.88, \"p\": 11, \"fpr\": 0.0, \"tpr\": 0.45454545454545453, \"n\": 18}, {\"threshold\": 0.881, \"p\": 11, \"fpr\": 0.0, \"tpr\": 0.45454545454545453, \"n\": 18}, {\"threshold\": 0.882, \"p\": 11, \"fpr\": 0.0, \"tpr\": 0.45454545454545453, \"n\": 18}, {\"threshold\": 0.883, \"p\": 11, \"fpr\": 0.0, \"tpr\": 0.45454545454545453, \"n\": 18}, {\"threshold\": 0.884, \"p\": 11, \"fpr\": 0.0, \"tpr\": 0.45454545454545453, \"n\": 18}, {\"threshold\": 0.885, \"p\": 11, \"fpr\": 0.0, \"tpr\": 0.45454545454545453, \"n\": 18}, {\"threshold\": 0.886, \"p\": 11, \"fpr\": 0.0, \"tpr\": 0.45454545454545453, \"n\": 18}, {\"threshold\": 0.887, \"p\": 11, \"fpr\": 0.0, \"tpr\": 0.45454545454545453, \"n\": 18}, {\"threshold\": 0.888, \"p\": 11, \"fpr\": 0.0, \"tpr\": 0.45454545454545453, \"n\": 18}, {\"threshold\": 0.889, \"p\": 11, \"fpr\": 0.0, \"tpr\": 0.45454545454545453, \"n\": 18}, {\"threshold\": 0.89, \"p\": 11, \"fpr\": 0.0, \"tpr\": 0.45454545454545453, \"n\": 18}, {\"threshold\": 0.891, \"p\": 11, \"fpr\": 0.0, \"tpr\": 0.45454545454545453, \"n\": 18}, {\"threshold\": 0.892, \"p\": 11, \"fpr\": 0.0, \"tpr\": 0.45454545454545453, \"n\": 18}, {\"threshold\": 0.893, \"p\": 11, \"fpr\": 0.0, \"tpr\": 0.45454545454545453, \"n\": 18}, {\"threshold\": 0.894, \"p\": 11, \"fpr\": 0.0, \"tpr\": 0.45454545454545453, \"n\": 18}, {\"threshold\": 0.895, \"p\": 11, \"fpr\": 0.0, \"tpr\": 0.45454545454545453, \"n\": 18}, {\"threshold\": 0.896, \"p\": 11, \"fpr\": 0.0, \"tpr\": 0.45454545454545453, \"n\": 18}, {\"threshold\": 0.897, \"p\": 11, \"fpr\": 0.0, \"tpr\": 0.45454545454545453, \"n\": 18}, {\"threshold\": 0.898, \"p\": 11, \"fpr\": 0.0, \"tpr\": 0.45454545454545453, \"n\": 18}, {\"threshold\": 0.899, \"p\": 11, \"fpr\": 0.0, \"tpr\": 0.45454545454545453, \"n\": 18}, {\"threshold\": 0.9, \"p\": 11, \"fpr\": 0.0, \"tpr\": 0.45454545454545453, \"n\": 18}, {\"threshold\": 0.901, \"p\": 11, \"fpr\": 0.0, \"tpr\": 0.45454545454545453, \"n\": 18}, {\"threshold\": 0.902, \"p\": 11, \"fpr\": 0.0, \"tpr\": 0.45454545454545453, \"n\": 18}, {\"threshold\": 0.903, \"p\": 11, \"fpr\": 0.0, \"tpr\": 0.45454545454545453, \"n\": 18}, {\"threshold\": 0.904, \"p\": 11, \"fpr\": 0.0, \"tpr\": 0.45454545454545453, \"n\": 18}, {\"threshold\": 0.905, \"p\": 11, \"fpr\": 0.0, \"tpr\": 0.45454545454545453, \"n\": 18}, {\"threshold\": 0.906, \"p\": 11, \"fpr\": 0.0, \"tpr\": 0.45454545454545453, \"n\": 18}, {\"threshold\": 0.907, \"p\": 11, \"fpr\": 0.0, \"tpr\": 0.45454545454545453, \"n\": 18}, {\"threshold\": 0.908, \"p\": 11, \"fpr\": 0.0, \"tpr\": 0.45454545454545453, \"n\": 18}, {\"threshold\": 0.909, \"p\": 11, \"fpr\": 0.0, \"tpr\": 0.45454545454545453, \"n\": 18}, {\"threshold\": 0.91, \"p\": 11, \"fpr\": 0.0, \"tpr\": 0.45454545454545453, \"n\": 18}, {\"threshold\": 0.911, \"p\": 11, \"fpr\": 0.0, \"tpr\": 0.45454545454545453, \"n\": 18}, {\"threshold\": 0.912, \"p\": 11, \"fpr\": 0.0, \"tpr\": 0.45454545454545453, \"n\": 18}, {\"threshold\": 0.913, \"p\": 11, \"fpr\": 0.0, \"tpr\": 0.45454545454545453, \"n\": 18}, {\"threshold\": 0.914, \"p\": 11, \"fpr\": 0.0, \"tpr\": 0.45454545454545453, \"n\": 18}, {\"threshold\": 0.915, \"p\": 11, \"fpr\": 0.0, \"tpr\": 0.45454545454545453, \"n\": 18}, {\"threshold\": 0.916, \"p\": 11, \"fpr\": 0.0, \"tpr\": 0.45454545454545453, \"n\": 18}, {\"threshold\": 0.917, \"p\": 11, \"fpr\": 0.0, \"tpr\": 0.45454545454545453, \"n\": 18}, {\"threshold\": 0.918, \"p\": 11, \"fpr\": 0.0, \"tpr\": 0.45454545454545453, \"n\": 18}, {\"threshold\": 0.919, \"p\": 11, \"fpr\": 0.0, \"tpr\": 0.45454545454545453, \"n\": 18}, {\"threshold\": 0.92, \"p\": 11, \"fpr\": 0.0, \"tpr\": 0.45454545454545453, \"n\": 18}, {\"threshold\": 0.921, \"p\": 11, \"fpr\": 0.0, \"tpr\": 0.45454545454545453, \"n\": 18}, {\"threshold\": 0.922, \"p\": 11, \"fpr\": 0.0, \"tpr\": 0.45454545454545453, \"n\": 18}, {\"threshold\": 0.923, \"p\": 11, \"fpr\": 0.0, \"tpr\": 0.45454545454545453, \"n\": 18}, {\"threshold\": 0.924, \"p\": 11, \"fpr\": 0.0, \"tpr\": 0.45454545454545453, \"n\": 18}, {\"threshold\": 0.925, \"p\": 11, \"fpr\": 0.0, \"tpr\": 0.45454545454545453, \"n\": 18}, {\"threshold\": 0.926, \"p\": 11, \"fpr\": 0.0, \"tpr\": 0.45454545454545453, \"n\": 18}, {\"threshold\": 0.927, \"p\": 11, \"fpr\": 0.0, \"tpr\": 0.45454545454545453, \"n\": 18}, {\"threshold\": 0.928, \"p\": 11, \"fpr\": 0.0, \"tpr\": 0.45454545454545453, \"n\": 18}, {\"threshold\": 0.929, \"p\": 11, \"fpr\": 0.0, \"tpr\": 0.45454545454545453, \"n\": 18}, {\"threshold\": 0.93, \"p\": 11, \"fpr\": 0.0, \"tpr\": 0.45454545454545453, \"n\": 18}, {\"threshold\": 0.931, \"p\": 11, \"fpr\": 0.0, \"tpr\": 0.45454545454545453, \"n\": 18}, {\"threshold\": 0.932, \"p\": 11, \"fpr\": 0.0, \"tpr\": 0.45454545454545453, \"n\": 18}, {\"threshold\": 0.933, \"p\": 11, \"fpr\": 0.0, \"tpr\": 0.45454545454545453, \"n\": 18}, {\"threshold\": 0.934, \"p\": 11, \"fpr\": 0.0, \"tpr\": 0.45454545454545453, \"n\": 18}, {\"threshold\": 0.935, \"p\": 11, \"fpr\": 0.0, \"tpr\": 0.45454545454545453, \"n\": 18}, {\"threshold\": 0.936, \"p\": 11, \"fpr\": 0.0, \"tpr\": 0.45454545454545453, \"n\": 18}, {\"threshold\": 0.937, \"p\": 11, \"fpr\": 0.0, \"tpr\": 0.45454545454545453, \"n\": 18}, {\"threshold\": 0.938, \"p\": 11, \"fpr\": 0.0, \"tpr\": 0.45454545454545453, \"n\": 18}, {\"threshold\": 0.939, \"p\": 11, \"fpr\": 0.0, \"tpr\": 0.45454545454545453, \"n\": 18}, {\"threshold\": 0.94, \"p\": 11, \"fpr\": 0.0, \"tpr\": 0.45454545454545453, \"n\": 18}, {\"threshold\": 0.941, \"p\": 11, \"fpr\": 0.0, \"tpr\": 0.2727272727272727, \"n\": 18}, {\"threshold\": 0.942, \"p\": 11, \"fpr\": 0.0, \"tpr\": 0.2727272727272727, \"n\": 18}, {\"threshold\": 0.943, \"p\": 11, \"fpr\": 0.0, \"tpr\": 0.2727272727272727, \"n\": 18}, {\"threshold\": 0.944, \"p\": 11, \"fpr\": 0.0, \"tpr\": 0.2727272727272727, \"n\": 18}, {\"threshold\": 0.945, \"p\": 11, \"fpr\": 0.0, \"tpr\": 0.2727272727272727, \"n\": 18}, {\"threshold\": 0.946, \"p\": 11, \"fpr\": 0.0, \"tpr\": 0.2727272727272727, \"n\": 18}, {\"threshold\": 0.947, \"p\": 11, \"fpr\": 0.0, \"tpr\": 0.2727272727272727, \"n\": 18}, {\"threshold\": 0.948, \"p\": 11, \"fpr\": 0.0, \"tpr\": 0.2727272727272727, \"n\": 18}, {\"threshold\": 0.949, \"p\": 11, \"fpr\": 0.0, \"tpr\": 0.2727272727272727, \"n\": 18}, {\"threshold\": 0.95, \"p\": 11, \"fpr\": 0.0, \"tpr\": 0.2727272727272727, \"n\": 18}, {\"threshold\": 0.951, \"p\": 11, \"fpr\": 0.0, \"tpr\": 0.2727272727272727, \"n\": 18}, {\"threshold\": 0.952, \"p\": 11, \"fpr\": 0.0, \"tpr\": 0.2727272727272727, \"n\": 18}, {\"threshold\": 0.953, \"p\": 11, \"fpr\": 0.0, \"tpr\": 0.2727272727272727, \"n\": 18}, {\"threshold\": 0.954, \"p\": 11, \"fpr\": 0.0, \"tpr\": 0.2727272727272727, \"n\": 18}, {\"threshold\": 0.955, \"p\": 11, \"fpr\": 0.0, \"tpr\": 0.2727272727272727, \"n\": 18}, {\"threshold\": 0.956, \"p\": 11, \"fpr\": 0.0, \"tpr\": 0.2727272727272727, \"n\": 18}, {\"threshold\": 0.957, \"p\": 11, \"fpr\": 0.0, \"tpr\": 0.2727272727272727, \"n\": 18}, {\"threshold\": 0.958, \"p\": 11, \"fpr\": 0.0, \"tpr\": 0.2727272727272727, \"n\": 18}, {\"threshold\": 0.959, \"p\": 11, \"fpr\": 0.0, \"tpr\": 0.2727272727272727, \"n\": 18}, {\"threshold\": 0.96, \"p\": 11, \"fpr\": 0.0, \"tpr\": 0.2727272727272727, \"n\": 18}, {\"threshold\": 0.961, \"p\": 11, \"fpr\": 0.0, \"tpr\": 0.2727272727272727, \"n\": 18}, {\"threshold\": 0.962, \"p\": 11, \"fpr\": 0.0, \"tpr\": 0.2727272727272727, \"n\": 18}, {\"threshold\": 0.963, \"p\": 11, \"fpr\": 0.0, \"tpr\": 0.2727272727272727, \"n\": 18}, {\"threshold\": 0.964, \"p\": 11, \"fpr\": 0.0, \"tpr\": 0.2727272727272727, \"n\": 18}, {\"threshold\": 0.965, \"p\": 11, \"fpr\": 0.0, \"tpr\": 0.2727272727272727, \"n\": 18}, {\"threshold\": 0.966, \"p\": 11, \"fpr\": 0.0, \"tpr\": 0.2727272727272727, \"n\": 18}, {\"threshold\": 0.967, \"p\": 11, \"fpr\": 0.0, \"tpr\": 0.2727272727272727, \"n\": 18}, {\"threshold\": 0.968, \"p\": 11, \"fpr\": 0.0, \"tpr\": 0.2727272727272727, \"n\": 18}, {\"threshold\": 0.969, \"p\": 11, \"fpr\": 0.0, \"tpr\": 0.2727272727272727, \"n\": 18}, {\"threshold\": 0.97, \"p\": 11, \"fpr\": 0.0, \"tpr\": 0.2727272727272727, \"n\": 18}, {\"threshold\": 0.971, \"p\": 11, \"fpr\": 0.0, \"tpr\": 0.18181818181818182, \"n\": 18}, {\"threshold\": 0.972, \"p\": 11, \"fpr\": 0.0, \"tpr\": 0.18181818181818182, \"n\": 18}, {\"threshold\": 0.973, \"p\": 11, \"fpr\": 0.0, \"tpr\": 0.18181818181818182, \"n\": 18}, {\"threshold\": 0.974, \"p\": 11, \"fpr\": 0.0, \"tpr\": 0.18181818181818182, \"n\": 18}, {\"threshold\": 0.975, \"p\": 11, \"fpr\": 0.0, \"tpr\": 0.18181818181818182, \"n\": 18}, {\"threshold\": 0.976, \"p\": 11, \"fpr\": 0.0, \"tpr\": 0.18181818181818182, \"n\": 18}, {\"threshold\": 0.977, \"p\": 11, \"fpr\": 0.0, \"tpr\": 0.18181818181818182, \"n\": 18}, {\"threshold\": 0.978, \"p\": 11, \"fpr\": 0.0, \"tpr\": 0.18181818181818182, \"n\": 18}, {\"threshold\": 0.979, \"p\": 11, \"fpr\": 0.0, \"tpr\": 0.18181818181818182, \"n\": 18}, {\"threshold\": 0.98, \"p\": 11, \"fpr\": 0.0, \"tpr\": 0.18181818181818182, \"n\": 18}, {\"threshold\": 0.981, \"p\": 11, \"fpr\": 0.0, \"tpr\": 0.18181818181818182, \"n\": 18}, {\"threshold\": 0.982, \"p\": 11, \"fpr\": 0.0, \"tpr\": 0.18181818181818182, \"n\": 18}, {\"threshold\": 0.983, \"p\": 11, \"fpr\": 0.0, \"tpr\": 0.18181818181818182, \"n\": 18}, {\"threshold\": 0.984, \"p\": 11, \"fpr\": 0.0, \"tpr\": 0.18181818181818182, \"n\": 18}, {\"threshold\": 0.985, \"p\": 11, \"fpr\": 0.0, \"tpr\": 0.18181818181818182, \"n\": 18}, {\"threshold\": 0.986, \"p\": 11, \"fpr\": 0.0, \"tpr\": 0.18181818181818182, \"n\": 18}, {\"threshold\": 0.987, \"p\": 11, \"fpr\": 0.0, \"tpr\": 0.09090909090909091, \"n\": 18}, {\"threshold\": 0.988, \"p\": 11, \"fpr\": 0.0, \"tpr\": 0.09090909090909091, \"n\": 18}, {\"threshold\": 0.989, \"p\": 11, \"fpr\": 0.0, \"tpr\": 0.09090909090909091, \"n\": 18}, {\"threshold\": 0.99, \"p\": 11, \"fpr\": 0.0, \"tpr\": 0.09090909090909091, \"n\": 18}, {\"threshold\": 0.991, \"p\": 11, \"fpr\": 0.0, \"tpr\": 0.09090909090909091, \"n\": 18}, {\"threshold\": 0.992, \"p\": 11, \"fpr\": 0.0, \"tpr\": 0.0, \"n\": 18}, {\"threshold\": 0.993, \"p\": 11, \"fpr\": 0.0, \"tpr\": 0.0, \"n\": 18}, {\"threshold\": 0.994, \"p\": 11, \"fpr\": 0.0, \"tpr\": 0.0, \"n\": 18}, {\"threshold\": 0.995, \"p\": 11, \"fpr\": 0.0, \"tpr\": 0.0, \"n\": 18}, {\"threshold\": 0.996, \"p\": 11, \"fpr\": 0.0, \"tpr\": 0.0, \"n\": 18}, {\"threshold\": 0.997, \"p\": 11, \"fpr\": 0.0, \"tpr\": 0.0, \"n\": 18}, {\"threshold\": 0.998, \"p\": 11, \"fpr\": 0.0, \"tpr\": 0.0, \"n\": 18}, {\"threshold\": 0.999, \"p\": 11, \"fpr\": 0.0, \"tpr\": 0.0, \"n\": 18}, {\"threshold\": 1.0, \"p\": 11, \"fpr\": 0.0, \"tpr\": 0.0, \"n\": 18}]}]]}, e);\n",
       "                });\n",
       "            })();\n",
       "        "
      ]
     },
     "metadata": {},
     "output_type": "display_data"
    }
   ],
   "source": [
    "sentiment_model.show(view='Evaluation')"
   ]
  },
  {
   "cell_type": "markdown",
   "metadata": {},
   "source": [
    "Now you're gonna predict the score of each tweet with an unknown \"feeling\""
   ]
  },
  {
   "cell_type": "code",
   "execution_count": 82,
   "metadata": {
    "collapsed": true
   },
   "outputs": [],
   "source": [
    "sf1['predicted_sentiment'] = sentiment_model.predict(sf1, output_type='probability')"
   ]
  },
  {
   "cell_type": "code",
   "execution_count": 111,
   "metadata": {
    "collapsed": true
   },
   "outputs": [],
   "source": [
    "sf1 = sf1.sort('predicted_sentiment', ascending=True)"
   ]
  },
  {
   "cell_type": "code",
   "execution_count": 112,
   "metadata": {
    "collapsed": false
   },
   "outputs": [
    {
     "data": {
      "text/html": [
       "<div style=\"max-height:1000px;max-width:1500px;overflow:auto;\"><table frame=\"box\" rules=\"cols\">\n",
       "    <tr>\n",
       "        <th style=\"padding-left: 1em; padding-right: 1em; text-align: center\">Text</th>\n",
       "        <th style=\"padding-left: 1em; padding-right: 1em; text-align: center\">word_count</th>\n",
       "        <th style=\"padding-left: 1em; padding-right: 1em; text-align: center\">predicted_sentiment</th>\n",
       "    </tr>\n",
       "    <tr>\n",
       "        <td style=\"padding-left: 1em; padding-right: 1em; text-align: center; vertical-align: top\">RT @AtifBjp: These are<br>the common students of ...</td>\n",
       "        <td style=\"padding-left: 1em; padding-right: 1em; text-align: center; vertical-align: top\">{'rt': 1L,<br>'#nationalism': 1L, ...</td>\n",
       "        <td style=\"padding-left: 1em; padding-right: 1em; text-align: center; vertical-align: top\">0.00147559554554</td>\n",
       "    </tr>\n",
       "    <tr>\n",
       "        <td style=\"padding-left: 1em; padding-right: 1em; text-align: center; vertical-align: top\">RT @shekharchahal:<br>#ISupportABVP \\n\\n#Proud ...</td>\n",
       "        <td style=\"padding-left: 1em; padding-right: 1em; text-align: center; vertical-align: top\">{'rt': 1L,<br>'@babitaphogat': 1L, ...</td>\n",
       "        <td style=\"padding-left: 1em; padding-right: 1em; text-align: center; vertical-align: top\">0.0024149286308</td>\n",
       "    </tr>\n",
       "    <tr>\n",
       "        <td style=\"padding-left: 1em; padding-right: 1em; text-align: center; vertical-align: top\">RT @alka_saxena1: From<br>#JNU to #Ramjas to now ...</td>\n",
       "        <td style=\"padding-left: 1em; padding-right: 1em; text-align: center; vertical-align: top\">{'#jnu': 1L, 'divide':<br>1L, ...</td>\n",
       "        <td style=\"padding-left: 1em; padding-right: 1em; text-align: center; vertical-align: top\">0.0274670626987</td>\n",
       "    </tr>\n",
       "    <tr>\n",
       "        <td style=\"padding-left: 1em; padding-right: 1em; text-align: center; vertical-align: top\">RT @khud_gabbar007: Do we<br>need more proof that ...</td>\n",
       "        <td style=\"padding-left: 1em; padding-right: 1em; text-align: center; vertical-align: top\">{'rt': 1L, 'do': 1L,<br>'mind?': 1L, ...</td>\n",
       "        <td style=\"padding-left: 1em; padding-right: 1em; text-align: center; vertical-align: top\">0.0580557440741</td>\n",
       "    </tr>\n",
       "    <tr>\n",
       "        <td style=\"padding-left: 1em; padding-right: 1em; text-align: center; vertical-align: top\">@sweta_goswami @htTweets<br>@LambaAlka @htdelhi ...</td>\n",
       "        <td style=\"padding-left: 1em; padding-right: 1em; text-align: center; vertical-align: top\">{'r': 2L, 'still': 1L,<br>'for': 1L, '@htdelhi': ...</td>\n",
       "        <td style=\"padding-left: 1em; padding-right: 1em; text-align: center; vertical-align: top\">0.0603735409526</td>\n",
       "    </tr>\n",
       "    <tr>\n",
       "        <td style=\"padding-left: 1em; padding-right: 1em; text-align: center; vertical-align: top\">RT @myvotetoday:<br>Opposition plan campa ...</td>\n",
       "        <td style=\"padding-left: 1em; padding-right: 1em; text-align: center; vertical-align: top\">{'rt': 1L, 'on': 1L,<br>'his': 1L, 'like': 1L, ...</td>\n",
       "        <td style=\"padding-left: 1em; padding-right: 1em; text-align: center; vertical-align: top\">0.0774742718656</td>\n",
       "    </tr>\n",
       "    <tr>\n",
       "        <td style=\"padding-left: 1em; padding-right: 1em; text-align: center; vertical-align: top\">RT @rawat_narayan: Anti-<br>National Slogans👉Is  ...</td>\n",
       "        <td style=\"padding-left: 1em; padding-right: 1em; text-align: center; vertical-align: top\">{'rt': 1L, '#fakecase':<br>1L, '#endviolencecpm': ...</td>\n",
       "        <td style=\"padding-left: 1em; padding-right: 1em; text-align: center; vertical-align: top\">0.0850176700955</td>\n",
       "    </tr>\n",
       "    <tr>\n",
       "        <td style=\"padding-left: 1em; padding-right: 1em; text-align: center; vertical-align: top\">RT @Mehta19Brijesh:<br>#GurmeharKaur #bhuspeaks ...</td>\n",
       "        <td style=\"padding-left: 1em; padding-right: 1em; text-align: center; vertical-align: top\">{'rt': 1L,<br>'#gurmeharkaur': 1L, ...</td>\n",
       "        <td style=\"padding-left: 1em; padding-right: 1em; text-align: center; vertical-align: top\">0.111386834125</td>\n",
       "    </tr>\n",
       "    <tr>\n",
       "        <td style=\"padding-left: 1em; padding-right: 1em; text-align: center; vertical-align: top\">RT @budhdhadev45: Click<br>on the Pic to read what ...</td>\n",
       "        <td style=\"padding-left: 1em; padding-right: 1em; text-align: center; vertical-align: top\">{'rt': 1L, 'on': 1L,<br>'#abvp': 1L, 'says!!': ...</td>\n",
       "        <td style=\"padding-left: 1em; padding-right: 1em; text-align: center; vertical-align: top\">0.122946031721</td>\n",
       "    </tr>\n",
       "    <tr>\n",
       "        <td style=\"padding-left: 1em; padding-right: 1em; text-align: center; vertical-align: top\">RT @DailyO_: Does<br>#ChetanBhagat want #DU ...</td>\n",
       "        <td style=\"padding-left: 1em; padding-right: 1em; text-align: center; vertical-align: top\">{'rt': 1L, 'his': 1L,<br>'want': 1L, '#du': 1L, ...</td>\n",
       "        <td style=\"padding-left: 1em; padding-right: 1em; text-align: center; vertical-align: top\">0.127772969124</td>\n",
       "    </tr>\n",
       "</table>\n",
       "[82 rows x 3 columns]<br/>Note: Only the head of the SFrame is printed.<br/>You can use print_rows(num_rows=m, num_columns=n) to print more rows and columns.\n",
       "</div>"
      ],
      "text/plain": [
       "Columns:\n",
       "\tText\tstr\n",
       "\tword_count\tdict\n",
       "\tpredicted_sentiment\tfloat\n",
       "\n",
       "Rows: 82\n",
       "\n",
       "Data:\n",
       "+-------------------------------+-------------------------------+\n",
       "|              Text             |           word_count          |\n",
       "+-------------------------------+-------------------------------+\n",
       "| RT @AtifBjp: These are the... | {'rt': 1L, '#nationalism':... |\n",
       "| RT @shekharchahal: #ISuppo... | {'rt': 1L, '@babitaphogat'... |\n",
       "| RT @alka_saxena1: From #JN... | {'#jnu': 1L, 'divide': 1L,... |\n",
       "| RT @khud_gabbar007: Do we ... | {'rt': 1L, 'do': 1L, 'mind... |\n",
       "| @sweta_goswami @htTweets @... | {'r': 2L, 'still': 1L, 'fo... |\n",
       "| RT @myvotetoday: Oppositio... | {'rt': 1L, 'on': 1L, 'his'... |\n",
       "| RT @rawat_narayan: Anti-Na... | {'rt': 1L, '#fakecase': 1L... |\n",
       "| RT @Mehta19Brijesh: #Gurme... | {'rt': 1L, '#gurmeharkaur'... |\n",
       "| RT @budhdhadev45: Click on... | {'rt': 1L, 'on': 1L, '#abv... |\n",
       "| RT @DailyO_: Does #ChetanB... | {'rt': 1L, 'his': 1L, 'wan... |\n",
       "+-------------------------------+-------------------------------+\n",
       "+---------------------+\n",
       "| predicted_sentiment |\n",
       "+---------------------+\n",
       "|   0.00147559554554  |\n",
       "|   0.0024149286308   |\n",
       "|   0.0274670626987   |\n",
       "|   0.0580557440741   |\n",
       "|   0.0603735409526   |\n",
       "|   0.0774742718656   |\n",
       "|   0.0850176700955   |\n",
       "|    0.111386834125   |\n",
       "|    0.122946031721   |\n",
       "|    0.127772969124   |\n",
       "+---------------------+\n",
       "[82 rows x 3 columns]\n",
       "Note: Only the head of the SFrame is printed.\n",
       "You can use print_rows(num_rows=m, num_columns=n) to print more rows and columns."
      ]
     },
     "execution_count": 112,
     "metadata": {},
     "output_type": "execute_result"
    }
   ],
   "source": [
    "sf1"
   ]
  },
  {
   "cell_type": "code",
   "execution_count": 87,
   "metadata": {
    "collapsed": false
   },
   "outputs": [],
   "source": [
    "sf4=sf1[['Text','predicted_sentiment']]"
   ]
  },
  {
   "cell_type": "markdown",
   "metadata": {},
   "source": [
    "Let's just drop the word count now, make it look neater."
   ]
  },
  {
   "cell_type": "code",
   "execution_count": 109,
   "metadata": {
    "collapsed": false
   },
   "outputs": [],
   "source": [
    "sf4 = sf4.sort('predicted_sentiment', ascending=True)"
   ]
  },
  {
   "cell_type": "code",
   "execution_count": 110,
   "metadata": {
    "collapsed": false
   },
   "outputs": [
    {
     "data": {
      "text/html": [
       "<div style=\"max-height:1000px;max-width:1500px;overflow:auto;\"><table frame=\"box\" rules=\"cols\">\n",
       "    <tr>\n",
       "        <th style=\"padding-left: 1em; padding-right: 1em; text-align: center\">Text</th>\n",
       "        <th style=\"padding-left: 1em; padding-right: 1em; text-align: center\">predicted_sentiment</th>\n",
       "    </tr>\n",
       "    <tr>\n",
       "        <td style=\"padding-left: 1em; padding-right: 1em; text-align: center; vertical-align: top\">RT @AtifBjp: These are<br>the common students of ...</td>\n",
       "        <td style=\"padding-left: 1em; padding-right: 1em; text-align: center; vertical-align: top\">0.00147559554554</td>\n",
       "    </tr>\n",
       "    <tr>\n",
       "        <td style=\"padding-left: 1em; padding-right: 1em; text-align: center; vertical-align: top\">RT @shekharchahal:<br>#ISupportABVP \\n\\n#Proud ...</td>\n",
       "        <td style=\"padding-left: 1em; padding-right: 1em; text-align: center; vertical-align: top\">0.0024149286308</td>\n",
       "    </tr>\n",
       "    <tr>\n",
       "        <td style=\"padding-left: 1em; padding-right: 1em; text-align: center; vertical-align: top\">RT @alka_saxena1: From<br>#JNU to #Ramjas to now ...</td>\n",
       "        <td style=\"padding-left: 1em; padding-right: 1em; text-align: center; vertical-align: top\">0.0274670626987</td>\n",
       "    </tr>\n",
       "    <tr>\n",
       "        <td style=\"padding-left: 1em; padding-right: 1em; text-align: center; vertical-align: top\">RT @khud_gabbar007: Do we<br>need more proof that ...</td>\n",
       "        <td style=\"padding-left: 1em; padding-right: 1em; text-align: center; vertical-align: top\">0.0580557440741</td>\n",
       "    </tr>\n",
       "    <tr>\n",
       "        <td style=\"padding-left: 1em; padding-right: 1em; text-align: center; vertical-align: top\">@sweta_goswami @htTweets<br>@LambaAlka @htdelhi ...</td>\n",
       "        <td style=\"padding-left: 1em; padding-right: 1em; text-align: center; vertical-align: top\">0.0603735409526</td>\n",
       "    </tr>\n",
       "    <tr>\n",
       "        <td style=\"padding-left: 1em; padding-right: 1em; text-align: center; vertical-align: top\">RT @myvotetoday:<br>Opposition plan campa ...</td>\n",
       "        <td style=\"padding-left: 1em; padding-right: 1em; text-align: center; vertical-align: top\">0.0774742718656</td>\n",
       "    </tr>\n",
       "    <tr>\n",
       "        <td style=\"padding-left: 1em; padding-right: 1em; text-align: center; vertical-align: top\">RT @rawat_narayan: Anti-<br>National Slogans👉Is  ...</td>\n",
       "        <td style=\"padding-left: 1em; padding-right: 1em; text-align: center; vertical-align: top\">0.0850176700955</td>\n",
       "    </tr>\n",
       "    <tr>\n",
       "        <td style=\"padding-left: 1em; padding-right: 1em; text-align: center; vertical-align: top\">RT @Mehta19Brijesh:<br>#GurmeharKaur #bhuspeaks ...</td>\n",
       "        <td style=\"padding-left: 1em; padding-right: 1em; text-align: center; vertical-align: top\">0.111386834125</td>\n",
       "    </tr>\n",
       "    <tr>\n",
       "        <td style=\"padding-left: 1em; padding-right: 1em; text-align: center; vertical-align: top\">RT @budhdhadev45: Click<br>on the Pic to read what ...</td>\n",
       "        <td style=\"padding-left: 1em; padding-right: 1em; text-align: center; vertical-align: top\">0.122946031721</td>\n",
       "    </tr>\n",
       "    <tr>\n",
       "        <td style=\"padding-left: 1em; padding-right: 1em; text-align: center; vertical-align: top\">RT @DailyO_: Does<br>#ChetanBhagat want #DU ...</td>\n",
       "        <td style=\"padding-left: 1em; padding-right: 1em; text-align: center; vertical-align: top\">0.127772969124</td>\n",
       "    </tr>\n",
       "</table>\n",
       "[82 rows x 2 columns]<br/>Note: Only the head of the SFrame is printed.<br/>You can use print_rows(num_rows=m, num_columns=n) to print more rows and columns.\n",
       "</div>"
      ],
      "text/plain": [
       "Columns:\n",
       "\tText\tstr\n",
       "\tpredicted_sentiment\tfloat\n",
       "\n",
       "Rows: 82\n",
       "\n",
       "Data:\n",
       "+-------------------------------+---------------------+\n",
       "|              Text             | predicted_sentiment |\n",
       "+-------------------------------+---------------------+\n",
       "| RT @AtifBjp: These are the... |   0.00147559554554  |\n",
       "| RT @shekharchahal: #ISuppo... |   0.0024149286308   |\n",
       "| RT @alka_saxena1: From #JN... |   0.0274670626987   |\n",
       "| RT @khud_gabbar007: Do we ... |   0.0580557440741   |\n",
       "| @sweta_goswami @htTweets @... |   0.0603735409526   |\n",
       "| RT @myvotetoday: Oppositio... |   0.0774742718656   |\n",
       "| RT @rawat_narayan: Anti-Na... |   0.0850176700955   |\n",
       "| RT @Mehta19Brijesh: #Gurme... |    0.111386834125   |\n",
       "| RT @budhdhadev45: Click on... |    0.122946031721   |\n",
       "| RT @DailyO_: Does #ChetanB... |    0.127772969124   |\n",
       "+-------------------------------+---------------------+\n",
       "[82 rows x 2 columns]\n",
       "Note: Only the head of the SFrame is printed.\n",
       "You can use print_rows(num_rows=m, num_columns=n) to print more rows and columns."
      ]
     },
     "execution_count": 110,
     "metadata": {},
     "output_type": "execute_result"
    }
   ],
   "source": [
    "sf4"
   ]
  },
  {
   "cell_type": "markdown",
   "metadata": {},
   "source": [
    "Let me just print the entire thing."
   ]
  },
  {
   "cell_type": "code",
   "execution_count": 113,
   "metadata": {
    "collapsed": false
   },
   "outputs": [
    {
     "name": "stdout",
     "output_type": "stream",
     "text": [
      "+-------------------------------+---------------------+\n",
      "|              Text             | predicted_sentiment |\n",
      "+-------------------------------+---------------------+\n",
      "| RT @AtifBjp: These are the... |   0.00147559554554  |\n",
      "| RT @shekharchahal: #ISuppo... |   0.0024149286308   |\n",
      "| RT @alka_saxena1: From #JN... |   0.0274670626987   |\n",
      "| RT @khud_gabbar007: Do we ... |   0.0580557440741   |\n",
      "| @sweta_goswami @htTweets @... |   0.0603735409526   |\n",
      "| RT @myvotetoday: Oppositio... |   0.0774742718656   |\n",
      "| RT @rawat_narayan: Anti-Na... |   0.0850176700955   |\n",
      "| RT @Mehta19Brijesh: #Gurme... |    0.111386834125   |\n",
      "| RT @budhdhadev45: Click on... |    0.122946031721   |\n",
      "| RT @DailyO_: Does #ChetanB... |    0.127772969124   |\n",
      "| RT @myvotetoday: Was the #... |    0.132532188854   |\n",
      "| RT @savarkar5200: #JNU , #... |    0.140884261087   |\n",
      "| RT @iampatelji: That's wha... |    0.141934139521   |\n",
      "| RT @vermaaakash10: Please ... |    0.147840744181   |\n",
      "| RT @Mehta19Brijesh: In war... |    0.150532440238   |\n",
      "| Great news!\\n\\n#PunjabPoll... |    0.15630563617    |\n",
      "| Retweeted Vande Mataram (@... |    0.160436171005   |\n",
      "| RT @NaIna0806: Entire #Gur... |    0.161257368456   |\n",
      "| Expressing frustration thr... |    0.169962682478   |\n",
      "| RT @advmonikaarora: Commun... |    0.190570877581   |\n",
      "| RT @Abhina_Prakash: My art... |    0.190873223862   |\n",
      "| https://t.co/B3j8IDuyeR bo... |    0.192309963963   |\n",
      "| RT @alokpi: Delhi HC washe... |    0.193072490688   |\n",
      "| Is the #Opposition using a... |    0.199097488296   |\n",
      "| RT @AshishSainram: 1st voi... |    0.201583286851   |\n",
      "| RT @saifizm: How #Modi's I... |    0.201668495472   |\n",
      "| Why all of sudden this dea... |    0.206738452759   |\n",
      "| RT @NaIna0806: These are #... |    0.209645355236   |\n",
      "| RT @NaIna0806: 2)Prof Bimo... |    0.213355925059   |\n",
      "| RT @virendersahwag: Jawed ... |    0.219531423159   |\n",
      "| RT @FCAHarsh: #RamjasRow I... |    0.223902698778   |\n",
      "| RT @AnkitSSangwan: Ace Sin... |    0.225934466971   |\n",
      "| The need for a debate on f... |    0.232499737367   |\n",
      "| RT @myvotetoday: Is the #O... |    0.236249029534   |\n",
      "| Lesson for us #indiafirst ... |    0.241548678013   |\n",
      "| RT @confess2gaurav: Pic A ... |    0.251833647421   |\n",
      "| True incident-#Ramjas guys... |    0.253357008533   |\n",
      "| @ETNOWlive @jayantsinha #r... |    0.257129371198   |\n",
      "| #Ramjas fallout: Ex-servic... |    0.261830907662   |\n",
      "| RT @ndtv: President #Prana... |    0.276920505061   |\n",
      "| RT @Mehta19Brijesh: No one... |    0.288728694443   |\n",
      "| RT @Abhina_Prakash: True i... |    0.296880275084   |\n",
      "| https://t.co/B3j8IDM9Dr an... |    0.298037672978   |\n",
      "| Was the #RamjasRow pre-pla... |    0.30477557699    |\n",
      "| RT @Atheist_Krishna: So a ... |    0.308671131319   |\n",
      "| RT @BahugunaSaket: Communi... |    0.342358382085   |\n",
      "| When we have lot of other ... |    0.345357843021   |\n",
      "| RT @SmortPollster: Was the... |    0.352956273282   |\n",
      "| RT @SmortPollster: VOTE NO... |    0.36225805724    |\n",
      "| The DU prof beaten up duri... |    0.377549087671   |\n",
      "| #TehelkaMagazine\\nCollege ... |    0.395890765054   |\n",
      "| RT @myvotetoday: When we h... |    0.396297019776   |\n",
      "| RT @nsui: Students from al... |    0.417063964437   |\n",
      "| RT @ANI_news: Delhi HC dis... |    0.424652689475   |\n",
      "| RT @myvotetoday: There are... |    0.424822234282   |\n",
      "| RT @sweta_goswami: The DU ... |    0.430116742461   |\n",
      "| #news #summary:  #ramjas  ... |    0.431706522758   |\n",
      "| VOTE NOW\\n\\nWas the #Ramja... |    0.441031661845   |\n",
      "| RT @Tehelka: #TehelkaMagaz... |    0.449169357399   |\n",
      "| India's #MainstreamMedia c... |    0.504354774759   |\n",
      "| RT @BhimBassi: #Ramjas sho... |    0.522156139745   |\n",
      "| #Heated #debate in #Delhi ... |    0.560870834685   |\n",
      "| #Heated #debate in #Delhi ... |    0.560870834685   |\n",
      "| .#RamjasRow a deliberate c... |    0.60499595073    |\n",
      "| RT @panwar_cyss: Targeted,... |    0.635556874903   |\n",
      "| RT @YesIamSaffron: Must Wa... |    0.637621342122   |\n",
      "| RT @kavita_krishnan: Must ... |    0.642227059321   |\n",
      "| DU prof @Abhina_Prakash ji... |    0.650643648973   |\n",
      "| RT @NewsWorldIN: #BREAKING... |    0.653388521601   |\n",
      "| RT @myvotetoday: .#RamjasR... |    0.655863670399   |\n",
      "| And am i the only one who ... |    0.667435320776   |\n",
      "| .#RamjasRow is orchestrate... |    0.693508417507   |\n",
      "| RT @Guruprakash88: A must ... |    0.693554902553   |\n",
      "| RT @myvotetoday: Poster gi... |    0.730528858231   |\n",
      "| RT @jitubana26: Real face ... |    0.732542359636   |\n",
      "| RT @myvotetoday: .#RamjasR... |    0.737915509731   |\n",
      "| RT @videathink: #Ramjas Th... |    0.748462847506   |\n",
      "| RT @AnandhJose: ABVP's vio... |    0.769702527804   |\n",
      "| RT @facepalm92: #RamjasRow... |    0.769709532132   |\n",
      "| RT @MMathew_: ABVP's viole... |    0.796264168994   |\n",
      "| RT @iampatelji: In this co... |    0.832465454226   |\n",
      "| RT @TheIndianPoller: Those... |    0.996497541165   |\n",
      "+-------------------------------+---------------------+\n",
      "[82 rows x 2 columns]\n",
      "\n"
     ]
    }
   ],
   "source": [
    "sf4.print_rows(num_rows=82, num_columns=3)"
   ]
  },
  {
   "cell_type": "markdown",
   "metadata": {},
   "source": [
    "Let's first print the support tweets."
   ]
  },
  {
   "cell_type": "code",
   "execution_count": 115,
   "metadata": {
    "collapsed": false
   },
   "outputs": [
    {
     "data": {
      "text/plain": [
       "{'Text': 'RT @AtifBjp: These are the common students of #Ramjas &amp; DU &amp; they r with #nationalism #vandematram\\n#ISupportABVP \\n@SunilAmbekarM \\n@ABVPVoic\\xe2\\x80\\xa6',\n",
       " 'predicted_sentiment': 0.0014755955455409738}"
      ]
     },
     "execution_count": 115,
     "metadata": {},
     "output_type": "execute_result"
    }
   ],
   "source": [
    "sf4[0]"
   ]
  },
  {
   "cell_type": "markdown",
   "metadata": {},
   "source": [
    "This guy expresses loud support, prediction is correct"
   ]
  },
  {
   "cell_type": "code",
   "execution_count": 116,
   "metadata": {
    "collapsed": false
   },
   "outputs": [
    {
     "data": {
      "text/plain": [
       "{'Text': \"RT @alka_saxena1: From #JNU to #Ramjas to now #BHU, Never seen such a wide divide in Media on political lines in my thirty  year's career.\\xe2\\x80\\xa6\",\n",
       " 'predicted_sentiment': 0.02746706269873801}"
      ]
     },
     "execution_count": 116,
     "metadata": {},
     "output_type": "execute_result"
    }
   ],
   "source": [
    "sf4[2]"
   ]
  },
  {
   "cell_type": "markdown",
   "metadata": {},
   "source": [
    "Pretty correct this time as well."
   ]
  },
  {
   "cell_type": "code",
   "execution_count": 117,
   "metadata": {
    "collapsed": false
   },
   "outputs": [
    {
     "data": {
      "text/plain": [
       "{'Text': \"RT @khud_gabbar007: Do we need more proof that someone is polluting girl's mind?  #RamjasRow #DU #Gurmehar #\\xe0\\xa4\\xb9\\xe0\\xa4\\xae\\xe0\\xa5\\x87\\xe0\\xa4\\x82_\\xe0\\xa4\\x9a\\xe0\\xa4\\xbe\\xe0\\xa4\\xb9\\xe0\\xa4\\xbf\\xe0\\xa4\\xaf\\xe0\\xa5\\x87_\\xe0\\xa4\\x86\\xe0\\xa4\\x9c\\xe0\\xa4\\xbe\\xe0\\xa4\\xa6\\xe0\\xa5\\x80 #ABVP_\\xe0\\xa4\\x95\\xe0\\xa5\\x87_\\xe0\\xa4\\x97\\xe0\\xa5\\x81\\xe0\\xa4\\xa3\\xe0\\xa5\\x8d\\xe2\\x80\\xa6\",\n",
       " 'predicted_sentiment': 0.05805574407407617}"
      ]
     },
     "execution_count": 117,
     "metadata": {},
     "output_type": "execute_result"
    }
   ],
   "source": [
    "sf4[3]"
   ]
  },
  {
   "cell_type": "code",
   "execution_count": 118,
   "metadata": {
    "collapsed": false
   },
   "outputs": [
    {
     "data": {
      "text/plain": [
       "{'Text': '@sweta_goswami @htTweets @LambaAlka @htdelhi #RamjasRow R they talking about the studies or still they r preparing for #antinationalactivity',\n",
       " 'predicted_sentiment': 0.060373540952617585}"
      ]
     },
     "execution_count": 118,
     "metadata": {},
     "output_type": "execute_result"
    }
   ],
   "source": [
    "sf4[4]"
   ]
  },
  {
   "cell_type": "markdown",
   "metadata": {},
   "source": [
    "We are on a roll people. But control you're happiness this the first error that pops up. The beolw tweet should have expressed a support sentiment but because the user used an inappropriate hashtag, it flipped sides and became the most inaccurate reading of our activity."
   ]
  },
  {
   "cell_type": "code",
   "execution_count": 119,
   "metadata": {
    "collapsed": false
   },
   "outputs": [
    {
     "data": {
      "text/plain": [
       "{'Text': 'RT @TheIndianPoller: Those who say #BanABVP, must watch this. Retweet if you love India. \\xf0\\x9f\\x87\\xae\\xf0\\x9f\\x87\\xb3\\n\\n#GurmeharKaur #RamjasRow #bhuspeaks #BHU \\nhttp\\xe2\\x80\\xa6',\n",
       " 'predicted_sentiment': 0.9964975411649354}"
      ]
     },
     "execution_count": 119,
     "metadata": {},
     "output_type": "execute_result"
    }
   ],
   "source": [
    "sf4[-1]"
   ]
  },
  {
   "cell_type": "code",
   "execution_count": 120,
   "metadata": {
    "collapsed": false
   },
   "outputs": [
    {
     "data": {
      "text/plain": [
       "{'Text': 'RT @iampatelji: In this counrty if you want to become popular very soon, then just abuse the country and get popular \\xf0\\x9f\\x98\\xaf #RamjasRow',\n",
       " 'predicted_sentiment': 0.8324654542262547}"
      ]
     },
     "execution_count": 120,
     "metadata": {},
     "output_type": "execute_result"
    }
   ],
   "source": [
    "sf4[-2]"
   ]
  },
  {
   "cell_type": "markdown",
   "metadata": {},
   "source": [
    "Apart from these few inaccuracies all our predictions have been correct. Look at the tweets below. they are condemning ABVP with all their might."
   ]
  },
  {
   "cell_type": "code",
   "execution_count": 121,
   "metadata": {
    "collapsed": false
   },
   "outputs": [
    {
     "data": {
      "text/plain": [
       "{'Text': \"RT @MMathew_: ABVP's violence in #Ramjas reveals its frustration. In last 1year, students across country have stood unitedly #StudentsAgain\\xe2\\x80\\xa6\",\n",
       " 'predicted_sentiment': 0.7962641689941152}"
      ]
     },
     "execution_count": 121,
     "metadata": {},
     "output_type": "execute_result"
    }
   ],
   "source": [
    "sf4[-3]"
   ]
  },
  {
   "cell_type": "code",
   "execution_count": 122,
   "metadata": {
    "collapsed": false
   },
   "outputs": [
    {
     "data": {
      "text/plain": [
       "{'Text': 'RT @facepalm92: #RamjasRow: Delhi Police tells HC a high level committee is setup to inquire into the incident. 4 constables already suspen\\xe2\\x80\\xa6',\n",
       " 'predicted_sentiment': 0.7697095321315749}"
      ]
     },
     "execution_count": 122,
     "metadata": {},
     "output_type": "execute_result"
    }
   ],
   "source": [
    "sf4[-4]"
   ]
  },
  {
   "cell_type": "code",
   "execution_count": 123,
   "metadata": {
    "collapsed": false
   },
   "outputs": [
    {
     "data": {
      "text/plain": [
       "{'Text': \"RT @AnandhJose: ABVP's violence in #Ramjas reveals its frustration. Students across the country have stood unitedly against them. #Students\\xe2\\x80\\xa6\",\n",
       " 'predicted_sentiment': 0.7697025278035853}"
      ]
     },
     "execution_count": 123,
     "metadata": {},
     "output_type": "execute_result"
    }
   ],
   "source": [
    "sf4[-5]"
   ]
  },
  {
   "cell_type": "code",
   "execution_count": 124,
   "metadata": {
    "collapsed": false
   },
   "outputs": [
    {
     "data": {
      "text/plain": [
       "{'Text': 'RT @videathink: #Ramjas The Kind of violent activities Communist has been involved everyone knows. Khaleed is a scumbag trying to have a ca\\xe2\\x80\\xa6',\n",
       " 'predicted_sentiment': 0.7484628475063195}"
      ]
     },
     "execution_count": 124,
     "metadata": {},
     "output_type": "execute_result"
    }
   ],
   "source": [
    "sf4[-6]"
   ]
  },
  {
   "cell_type": "markdown",
   "metadata": {},
   "source": [
    "These are just insights amidst the recent political chaos in Delhi. \n",
    "What does this really do?\n",
    "According to me, until you've tried simple classifiers and understood where they wrong and how you can modify them as per your needs, you won't truly enjoy it. Try it on some popular event in your area. It sure as hell will be fun!"
   ]
  },
  {
   "cell_type": "code",
   "execution_count": null,
   "metadata": {
    "collapsed": true
   },
   "outputs": [],
   "source": []
  }
 ],
 "metadata": {
  "kernelspec": {
   "display_name": "Python 2",
   "language": "python",
   "name": "python2"
  },
  "language_info": {
   "codemirror_mode": {
    "name": "ipython",
    "version": 2
   },
   "file_extension": ".py",
   "mimetype": "text/x-python",
   "name": "python",
   "nbconvert_exporter": "python",
   "pygments_lexer": "ipython2",
   "version": "2.7.11"
  }
 },
 "nbformat": 4,
 "nbformat_minor": 0
}
