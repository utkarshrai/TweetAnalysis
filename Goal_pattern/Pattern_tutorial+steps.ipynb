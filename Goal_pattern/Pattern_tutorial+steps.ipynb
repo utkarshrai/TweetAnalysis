{
 "cells": [
  {
   "cell_type": "markdown",
   "metadata": {},
   "source": [
    "Make sure you've installed the pattern repository, if you haven't, use pip install pattern \n",
    "# The first module we're trying is pattern.web\n",
    "\n",
    "Some advantages over Twython:\n",
    "1. We do not need Twitter access keys to fetch tweets.\n",
    "2. We can simply save the entire database as an Excel file,(some issue with CSV regarding ASCII-Unicode(as always)) \n"
   ]
  },
  {
   "cell_type": "code",
   "execution_count": 1,
   "metadata": {
    "collapsed": true
   },
   "outputs": [],
   "source": [
    "from pattern.web import Twitter, plaintext"
   ]
  },
  {
   "cell_type": "markdown",
   "metadata": {},
   "source": [
    "Lets just restrict ourselves to English for now"
   ]
  },
  {
   "cell_type": "code",
   "execution_count": 2,
   "metadata": {
    "collapsed": true
   },
   "outputs": [],
   "source": [
    "twitter = Twitter(language='en')"
   ]
  },
  {
   "cell_type": "markdown",
   "metadata": {},
   "source": [
    "Twitter and plaintext are within pattern.web. A tweet further has several features, we're only interested in "
   ]
  },
  {
   "cell_type": "code",
   "execution_count": 3,
   "metadata": {
    "collapsed": false
   },
   "outputs": [
    {
     "name": "stdout",
     "output_type": "stream",
     "text": [
      "RT @wordstionary: \"Attitudes are more important than facts.\"\n",
      "— Dr. Karl Menninger\n",
      "Skillsoft Research Establishes Books are More Important Than Ever\n",
      "@Skillsoft\n",
      "https://t.co/gHdETIvb6R https://t.co/YRxZzVpdQl\n",
      "RT @McTestaInc: Our tax breaks are more important than your actual lives. #GOPHealthPlanIn10Words\n",
      "RT @SyedKawishAli: The 21st century: Deleting history is often more important than making it.\n",
      "@SenSchumer Americans need 2 know that their security first is more important than your self righteous game playing cause U don't like POTUS\n",
      "RT @McTestaInc: Our tax breaks are more important than your actual lives. #GOPHealthPlanIn10Words\n",
      "RT @FogelDavid: For all #Startup #founders to read - > Why attitude is more important than IQ https://t.co/po7FPDANY3 Resilience & ability…\n",
      "RT @WWF_DG: #EarthHour is approaching. More important than ever to make our voice heard about the need to beat #ClimateChange & embrace #Re…\n",
      "Important that we #saveNPR from the Trump budget axe. Objective news is more important than ever. https://t.co/YgJk7JVraQ\n",
      "Global marketers say #socialmedia will be even more important than Web by 2020! https://t.co/srrtxc1IaH https://t.co/KjUvHf1POF\n"
     ]
    }
   ],
   "source": [
    "for tweet in twitter.search('\"more important than\"', cached=False):\n",
    "    print plaintext(tweet.text)"
   ]
  },
  {
   "cell_type": "markdown",
   "metadata": {},
   "source": [
    "Lets try one of our own analysis that we had earlier performed with Twython"
   ]
  },
  {
   "cell_type": "code",
   "execution_count": 4,
   "metadata": {
    "collapsed": false
   },
   "outputs": [
    {
     "name": "stdout",
     "output_type": "stream",
     "text": [
      "RT @_sufiyana_: What Ramjas teaches | 3rd-yr student Anushka Baruah rips apart Makarand Paranajape's appalling defence of ABVP thugs\n",
      "https:…\n",
      "By using sedition to stifle dissent, BJP is imitating British Raj in the name of nationalism https://t.co/CaRw8aZjbG\n",
      "Shame https://t.co/32bpAgc4AB\n",
      "Watch: Citizens March to Parliament in Solidarity With Protesting Students of Delhi University https://t.co/fyDDdGTGFk\n",
      "RT @AshishSainram: 1st voice of dissent in #Ramjas was its college President bt being anti-left it was conveniently ignored #YogitRathi\n",
      "htt…\n",
      "RT @kavita_krishnan: Ramjas student Anushka Baruah takes down the ABVP thugs' apologist/advisor Makarand Paranjape. #mustread https://t.co/…\n",
      "RT @jimmy9_girl: #FightBackDU\n",
      "Outside #Ramjas College NOW! https://t.co/RdohFD0aQU\n",
      "RT @taslimanasreen: I believe in Umar Khalid's free speech. Does Umar Khalid and his supporters believe in my free speech? Just curious. #…\n",
      "Every attempt will be made to prove PM right and CM of UP wrong. Similar like in Jnu and ramjas. It's better not challenge BJP, RSS & ABVP.\n",
      "Now you see why there was a ruckus in Ramjas the other day.??? https://t.co/lPztc3LbVb\n"
     ]
    }
   ],
   "source": [
    "for tweet in twitter.search('\"Ramjas\"', cached=False):\n",
    "    print plaintext(tweet.text)"
   ]
  },
  {
   "cell_type": "markdown",
   "metadata": {},
   "source": [
    "Let's attempt writing this to CSV"
   ]
  },
  {
   "cell_type": "code",
   "execution_count": 7,
   "metadata": {
    "collapsed": false
   },
   "outputs": [
    {
     "ename": "UnicodeEncodeError",
     "evalue": "'ascii' codec can't encode character u'\\u2026' in position 0: ordinal not in range(128)",
     "output_type": "error",
     "traceback": [
      "\u001b[0;31m---------------------------------------------------------------------------\u001b[0m",
      "\u001b[0;31mUnicodeEncodeError\u001b[0m                        Traceback (most recent call last)",
      "\u001b[0;32m<ipython-input-7-80332ba76352>\u001b[0m in \u001b[0;36m<module>\u001b[0;34m()\u001b[0m\n\u001b[1;32m      3\u001b[0m     \u001b[0mwriter\u001b[0m \u001b[1;33m=\u001b[0m \u001b[0mcsv\u001b[0m\u001b[1;33m.\u001b[0m\u001b[0mwriter\u001b[0m\u001b[1;33m(\u001b[0m\u001b[0mf\u001b[0m\u001b[1;33m,\u001b[0m \u001b[0mdialect\u001b[0m\u001b[1;33m=\u001b[0m\u001b[1;34m'excel'\u001b[0m\u001b[1;33m)\u001b[0m\u001b[1;33m\u001b[0m\u001b[0m\n\u001b[1;32m      4\u001b[0m     \u001b[1;32mfor\u001b[0m \u001b[0mtweet\u001b[0m \u001b[1;32min\u001b[0m \u001b[0mtwitter\u001b[0m\u001b[1;33m.\u001b[0m\u001b[0msearch\u001b[0m\u001b[1;33m(\u001b[0m\u001b[1;34m'\"Ramjas\"'\u001b[0m\u001b[1;33m,\u001b[0m \u001b[0mcached\u001b[0m\u001b[1;33m=\u001b[0m\u001b[0mFalse\u001b[0m\u001b[1;33m)\u001b[0m\u001b[1;33m:\u001b[0m\u001b[1;33m\u001b[0m\u001b[0m\n\u001b[0;32m----> 5\u001b[0;31m         \u001b[0mwriter\u001b[0m\u001b[1;33m.\u001b[0m\u001b[0mwriterow\u001b[0m\u001b[1;33m(\u001b[0m\u001b[0mtweet\u001b[0m\u001b[1;33m.\u001b[0m\u001b[0mtext\u001b[0m\u001b[1;33m)\u001b[0m\u001b[1;33m\u001b[0m\u001b[0m\n\u001b[0m",
      "\u001b[0;31mUnicodeEncodeError\u001b[0m: 'ascii' codec can't encode character u'\\u2026' in position 0: ordinal not in range(128)"
     ]
    }
   ],
   "source": [
    "import csv\n",
    "with open(\"file_name.csv\",'wb') as f:\n",
    "    writer = csv.writer(f, dialect='excel')\n",
    "    for tweet in twitter.search('\"Ramjas\"', cached=False):\n",
    "        writer.writerow(tweet.text)"
   ]
  },
  {
   "cell_type": "markdown",
   "metadata": {},
   "source": [
    "As always ASCII is an issue. Let us make it an xlsx workbook as it is doesn't worry too much about the ASCII."
   ]
  },
  {
   "cell_type": "code",
   "execution_count": 30,
   "metadata": {
    "collapsed": false
   },
   "outputs": [],
   "source": [
    "from openpyxl import Workbook\n",
    "\n",
    "wb = Workbook()\n",
    "\n",
    "ws = wb.active\n",
    "\n",
    "row_cell = 2\n",
    "\n",
    "for tweet in twitter.search('\"Ramjas\"', cached=False):\n",
    "    column_cell = 'A'\n",
    "    ws[column_cell+str(row_cell+2)] = tweet.text\n",
    "    row_cell=row_cell+1\n",
    "wb.save(\"row_creation_loop.xlsx\")"
   ]
  },
  {
   "cell_type": "markdown",
   "metadata": {},
   "source": [
    "Well, you have suceesfully saved the tweets as a xlsx file. Now let's makes a pandas dataframe. Once I have a dataframe I am relieved because the analysis can now be begun."
   ]
  },
  {
   "cell_type": "code",
   "execution_count": 31,
   "metadata": {
    "collapsed": false
   },
   "outputs": [],
   "source": [
    "import pandas as pd\n",
    "df=pd.read_excel('row_creation_loop.xlsx')"
   ]
  },
  {
   "cell_type": "code",
   "execution_count": 32,
   "metadata": {
    "collapsed": false
   },
   "outputs": [
    {
     "data": {
      "text/html": [
       "<div>\n",
       "<table border=\"1\" class=\"dataframe\">\n",
       "  <thead>\n",
       "    <tr style=\"text-align: right;\">\n",
       "      <th></th>\n",
       "      <th>RT @BahugunaSaket: @htTweets's @Shrads_chettri reports how communists had even brought school students (apart from uncles &amp;amp; aunties) for th…</th>\n",
       "    </tr>\n",
       "  </thead>\n",
       "  <tbody>\n",
       "    <tr>\n",
       "      <th>0</th>\n",
       "      <td>RT @BahugunaSaket: @htTweets's @Shrads_chettri...</td>\n",
       "    </tr>\n",
       "    <tr>\n",
       "      <th>1</th>\n",
       "      <td>RT @SaffronWatch: RSS backing makes Modi more ...</td>\n",
       "    </tr>\n",
       "    <tr>\n",
       "      <th>2</th>\n",
       "      <td>RT @DikshaaVerma: Watch this video to know the...</td>\n",
       "    </tr>\n",
       "    <tr>\n",
       "      <th>3</th>\n",
       "      <td>RT @BahugunaSaket: @htTweets's @Shrads_chettri...</td>\n",
       "    </tr>\n",
       "    <tr>\n",
       "      <th>4</th>\n",
       "      <td>RT @sardesairajdeep: Thank you Pranabda for sp...</td>\n",
       "    </tr>\n",
       "    <tr>\n",
       "      <th>5</th>\n",
       "      <td>Panel Set Up To Look Into #Ramjas College Viol...</td>\n",
       "    </tr>\n",
       "    <tr>\n",
       "      <th>6</th>\n",
       "      <td>#STUDENTS OF @Delhiuniversit @ramjas_college @...</td>\n",
       "    </tr>\n",
       "    <tr>\n",
       "      <th>7</th>\n",
       "      <td>RT @_sufiyana_: What Ramjas teaches | 3rd-yr s...</td>\n",
       "    </tr>\n",
       "    <tr>\n",
       "      <th>8</th>\n",
       "      <td>RT @yesimpooja: \"No political party has the mo...</td>\n",
       "    </tr>\n",
       "  </tbody>\n",
       "</table>\n",
       "</div>"
      ],
      "text/plain": [
       "  RT @BahugunaSaket: @htTweets's @Shrads_chettri reports how communists had even brought school students (apart from uncles &amp; aunties) for th…\n",
       "0  RT @BahugunaSaket: @htTweets's @Shrads_chettri...                                                                                              \n",
       "1  RT @SaffronWatch: RSS backing makes Modi more ...                                                                                              \n",
       "2  RT @DikshaaVerma: Watch this video to know the...                                                                                              \n",
       "3  RT @BahugunaSaket: @htTweets's @Shrads_chettri...                                                                                              \n",
       "4  RT @sardesairajdeep: Thank you Pranabda for sp...                                                                                              \n",
       "5  Panel Set Up To Look Into #Ramjas College Viol...                                                                                              \n",
       "6  #STUDENTS OF @Delhiuniversit @ramjas_college @...                                                                                              \n",
       "7  RT @_sufiyana_: What Ramjas teaches | 3rd-yr s...                                                                                              \n",
       "8  RT @yesimpooja: \"No political party has the mo...                                                                                              "
      ]
     },
     "execution_count": 32,
     "metadata": {},
     "output_type": "execute_result"
    }
   ],
   "source": [
    "df"
   ]
  },
  {
   "cell_type": "code",
   "execution_count": null,
   "metadata": {
    "collapsed": true
   },
   "outputs": [],
   "source": []
  },
  {
   "cell_type": "code",
   "execution_count": 33,
   "metadata": {
    "collapsed": true
   },
   "outputs": [],
   "source": [
    "from openpyxl import Workbook\n",
    "\n",
    "wb = Workbook()\n",
    "\n",
    "ws = wb.active\n",
    "\n",
    "row_cell = 2\n",
    "\n",
    "for tweet in twitter.search('\"Facebook\"', cached=False):\n",
    "    column_cell = 'A'\n",
    "    ws[column_cell+str(row_cell+2)] = tweet.text\n",
    "    row_cell=row_cell+1\n",
    "wb.save(\"row_creation_loop2.xlsx\")"
   ]
  },
  {
   "cell_type": "code",
   "execution_count": 36,
   "metadata": {
    "collapsed": true
   },
   "outputs": [],
   "source": [
    "df2=pd.read_excel('row_creation_loop2.xlsx')"
   ]
  },
  {
   "cell_type": "code",
   "execution_count": 37,
   "metadata": {
    "collapsed": false
   },
   "outputs": [
    {
     "data": {
      "text/html": [
       "<div>\n",
       "<table border=\"1\" class=\"dataframe\">\n",
       "  <thead>\n",
       "    <tr style=\"text-align: right;\">\n",
       "      <th></th>\n",
       "      <th>ANNOUNCING...I've just been signed to Click Models of Atlanta. Excited about being part of the Click Fam!  S/O to... https://t.co/UFEoMeUNdH</th>\n",
       "    </tr>\n",
       "  </thead>\n",
       "  <tbody>\n",
       "    <tr>\n",
       "      <th>0</th>\n",
       "      <td>W.O.E. {Word of Exhortation} *Acts 14:22\\n\\nLi...</td>\n",
       "    </tr>\n",
       "    <tr>\n",
       "      <th>1</th>\n",
       "      <td>RT @zsk: Facebook asked BBC for proof of child...</td>\n",
       "    </tr>\n",
       "    <tr>\n",
       "      <th>2</th>\n",
       "      <td>Pack Your Bags and Go Deal\\n\\n7 night all incl...</td>\n",
       "    </tr>\n",
       "    <tr>\n",
       "      <th>3</th>\n",
       "      <td>It's Tallboy Tuesday Today\\n$2 PBR Tallboys al...</td>\n",
       "    </tr>\n",
       "    <tr>\n",
       "      <th>4</th>\n",
       "      <td>RT @nellyjmakeup: Follow me on instagram @ nel...</td>\n",
       "    </tr>\n",
       "    <tr>\n",
       "      <th>5</th>\n",
       "      <td>5* review came in this morning :-)  Thank you ...</td>\n",
       "    </tr>\n",
       "    <tr>\n",
       "      <th>6</th>\n",
       "      <td>RT @BEATLESMAGAZINE: ★Tomorrow don´t iss the s...</td>\n",
       "    </tr>\n",
       "    <tr>\n",
       "      <th>7</th>\n",
       "      <td>David has sent you a heart. https://t.co/X5m0D...</td>\n",
       "    </tr>\n",
       "    <tr>\n",
       "      <th>8</th>\n",
       "      <td>RT @EUScienceInnov: Don't miss @Moedas on #Fac...</td>\n",
       "    </tr>\n",
       "  </tbody>\n",
       "</table>\n",
       "</div>"
      ],
      "text/plain": [
       "  ANNOUNCING...I've just been signed to Click Models of Atlanta. Excited about being part of the Click Fam!  S/O to... https://t.co/UFEoMeUNdH\n",
       "0  W.O.E. {Word of Exhortation} *Acts 14:22\\n\\nLi...                                                                                          \n",
       "1  RT @zsk: Facebook asked BBC for proof of child...                                                                                          \n",
       "2  Pack Your Bags and Go Deal\\n\\n7 night all incl...                                                                                          \n",
       "3  It's Tallboy Tuesday Today\\n$2 PBR Tallboys al...                                                                                          \n",
       "4  RT @nellyjmakeup: Follow me on instagram @ nel...                                                                                          \n",
       "5  5* review came in this morning :-)  Thank you ...                                                                                          \n",
       "6  RT @BEATLESMAGAZINE: ★Tomorrow don´t iss the s...                                                                                          \n",
       "7  David has sent you a heart. https://t.co/X5m0D...                                                                                          \n",
       "8  RT @EUScienceInnov: Don't miss @Moedas on #Fac...                                                                                          "
      ]
     },
     "execution_count": 37,
     "metadata": {},
     "output_type": "execute_result"
    }
   ],
   "source": [
    "df2"
   ]
  },
  {
   "cell_type": "markdown",
   "metadata": {},
   "source": [
    "#NOTE: For more than the default 10 unit dataframe use \n"," for tweet in twitter.search("'hello'", start=1, count=100, cached=False): \n","Once you've created a pandas dataframe, the sky is the limit. We can do all sorts of analysis on our tweets."
   ]
  },
  {
   "cell_type": "code",
   "execution_count": null,
   "metadata": {
    "collapsed": true
   },
   "outputs": [],
   "source": []
  }
 ],
 "metadata": {
  "anaconda-cloud": {},
  "kernelspec": {
   "display_name": "Python [default]",
   "language": "python",
   "name": "python2"
  },
  "language_info": {
   "codemirror_mode": {
    "name": "ipython",
    "version": 2
   },
   "file_extension": ".py",
   "mimetype": "text/x-python",
   "name": "python",
   "nbconvert_exporter": "python",
   "pygments_lexer": "ipython2",
   "version": "2.7.12"
  }
 },
 "nbformat": 4,
 "nbformat_minor": 1
}
