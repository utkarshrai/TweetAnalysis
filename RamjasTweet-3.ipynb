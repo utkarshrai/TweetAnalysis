{
 "cells": [
  {
   "cell_type": "code",
   "execution_count": 62,
   "metadata": {
    "collapsed": true
   },
   "outputs": [],
   "source": [
    "#if you're viewing this,a well documented version is up as RamjasTweet_Edit1. Check it here\n" ,
    "#https://github.com/utkarshrai/TweetAnalysis/blob/master/RamjasTweet_Edit1-1.ipynb\n"
    "import graphlab"
   ]
  },
  {
   "cell_type": "code",
   "execution_count": 2,
   "metadata": {
    "collapsed": false
   },
   "outputs": [],
   "source": [
    "from twython import Twython\n",
    "\n",
    "TWITTER_APP_KEY = 'xxxxx' #supply the appropriate value\n",
    "TWITTER_APP_KEY_SECRET = 'xxxxx' \n",
    "TWITTER_ACCESS_TOKEN = 'xxxxx'\n",
    "TWITTER_ACCESS_TOKEN_SECRET = 'xxxxx'"
   ]
  },
  {
   "cell_type": "code",
   "execution_count": 26,
   "metadata": {
    "collapsed": false
   },
   "outputs": [],
   "source": [
    "t = Twython(app_key=TWITTER_APP_KEY, \n",
    "            app_secret=TWITTER_APP_KEY_SECRET, \n",
    "            oauth_token=TWITTER_ACCESS_TOKEN, \n",
    "            oauth_token_secret=TWITTER_ACCESS_TOKEN_SECRET)\n",
    "search = t.search(q='#Ramjas',   #**supply whatever query you want here**\n",
    "                  count=10000)\n",
    "\n",
    "tweets = search['statuses']"
   ]
  },
  {
   "cell_type": "code",
   "execution_count": 131,
   "metadata": {
    "collapsed": false
   },
   "outputs": [],
   "source": [
    "search2 = t.search(q='#BanABVP',   #**supply whatever query you want here**\n",
    "                  count=10000)"
   ]
  },
  {
   "cell_type": "code",
   "execution_count": 136,
   "metadata": {
    "collapsed": false
   },
   "outputs": [],
   "source": [
    "import numpy as np\n",
    "np.savetxt(\"file_name5.csv\", search3['statuses'], delimiter=\",\", fmt='%s', header='')"
   ]
  },
  {
   "cell_type": "code",
   "execution_count": 135,
   "metadata": {
    "collapsed": false
   },
   "outputs": [],
   "source": [
    "search3 = t.search(q='#BoycottABVP',   #**supply whatever query you want here**\n",
    "                  count=10000)"
   ]
  },
  {
   "cell_type": "code",
   "execution_count": 137,
   "metadata": {
    "collapsed": false
   },
   "outputs": [],
   "source": [
    "search4 = t.search(q='#ABVPVoice',   #**supply whatever query you want here**\n",
    "                  count=10000)"
   ]
  },
  {
   "cell_type": "code",
   "execution_count": 138,
   "metadata": {
    "collapsed": true
   },
   "outputs": [],
   "source": [
    "np.savetxt(\"file_name7.csv\", search4['statuses'], delimiter=\",\", fmt='%s', header='')"
   ]
  },
  {
   "cell_type": "code",
   "execution_count": 139,
   "metadata": {
    "collapsed": false
   },
   "outputs": [],
   "source": [
    "search5 = t.search(q='#RamjasRow',   #**supply whatever query you want here**\n",
    "                  count=10000)"
   ]
  },
  {
   "cell_type": "code",
   "execution_count": 140,
   "metadata": {
    "collapsed": false
   },
   "outputs": [],
   "source": [
    "np.savetxt(\"file_name9.csv\", search5['statuses'], delimiter=\",\", fmt='%s', header='')"
   ]
  },
  {
   "cell_type": "code",
   "execution_count": 186,
   "metadata": {
    "collapsed": false
   },
   "outputs": [
    {
     "data": {
      "text/html": [
       "<pre>Finished parsing file C:\\Users\\Jyoti\\file_name3.csv</pre>"
      ],
      "text/plain": [
       "Finished parsing file C:\\Users\\Jyoti\\file_name3.csv"
      ]
     },
     "metadata": {},
     "output_type": "display_data"
    },
    {
     "data": {
      "text/html": [
       "<pre>Parsing completed. Parsed 100 lines in 0.077005 secs.</pre>"
      ],
      "text/plain": [
       "Parsing completed. Parsed 100 lines in 0.077005 secs."
      ]
     },
     "metadata": {},
     "output_type": "display_data"
    },
    {
     "name": "stdout",
     "output_type": "stream",
     "text": [
      "------------------------------------------------------\n",
      "Inferred types from first 100 line(s) of file as \n",
      "column_type_hints=[str,str,long]\n",
      "If parsing fails due to incorrect types, you can correct\n",
      "the inferred type list above and pass it to read_csv in\n",
      "the column_type_hints argument\n",
      "------------------------------------------------------\n"
     ]
    },
    {
     "data": {
      "text/html": [
       "<pre>Finished parsing file C:\\Users\\Jyoti\\file_name3.csv</pre>"
      ],
      "text/plain": [
       "Finished parsing file C:\\Users\\Jyoti\\file_name3.csv"
      ]
     },
     "metadata": {},
     "output_type": "display_data"
    },
    {
     "data": {
      "text/html": [
       "<pre>Parsing completed. Parsed 203 lines in 0.072004 secs.</pre>"
      ],
      "text/plain": [
       "Parsing completed. Parsed 203 lines in 0.072004 secs."
      ]
     },
     "metadata": {},
     "output_type": "display_data"
    }
   ],
   "source": [
    "sf1=graphlab.SFrame.read_csv('file_name3.csv')"
   ]
  },
  {
   "cell_type": "code",
   "execution_count": 187,
   "metadata": {
    "collapsed": false
   },
   "outputs": [],
   "source": [
    "sf1['word_count'] = graphlab.text_analytics.count_words(sf1['Text'])"
   ]
  },
  {
   "cell_type": "code",
   "execution_count": 188,
   "metadata": {
    "collapsed": false
   },
   "outputs": [
    {
     "data": {
      "text/html": [
       "<div style=\"max-height:1000px;max-width:1500px;overflow:auto;\"><table frame=\"box\" rules=\"cols\">\n",
       "    <tr>\n",
       "        <th style=\"padding-left: 1em; padding-right: 1em; text-align: center\">Text</th>\n",
       "        <th style=\"padding-left: 1em; padding-right: 1em; text-align: center\">ID</th>\n",
       "        <th style=\"padding-left: 1em; padding-right: 1em; text-align: center\">sentiment</th>\n",
       "        <th style=\"padding-left: 1em; padding-right: 1em; text-align: center\">word_count</th>\n",
       "    </tr>\n",
       "    <tr>\n",
       "        <td style=\"padding-left: 1em; padding-right: 1em; text-align: center; vertical-align: top\">@AmritaDhawan1: Ban ABVP<br>they have time and again ...</td>\n",
       "        <td style=\"padding-left: 1em; padding-right: 1em; text-align: center; vertical-align: top\">838057331480985600L</td>\n",
       "        <td style=\"padding-left: 1em; padding-right: 1em; text-align: center; vertical-align: top\">1</td>\n",
       "        <td style=\"padding-left: 1em; padding-right: 1em; text-align: center; vertical-align: top\">{'and': 2L, 'again': 1L,<br>'@amritadhawan1:': 1L, ...</td>\n",
       "    </tr>\n",
       "    <tr>\n",
       "        <td style=\"padding-left: 1em; padding-right: 1em; text-align: center; vertical-align: top\">@ananyasaikia4:<br>Intolerance has no place ...</td>\n",
       "        <td style=\"padding-left: 1em; padding-right: 1em; text-align: center; vertical-align: top\">838057165042634752L</td>\n",
       "        <td style=\"padding-left: 1em; padding-right: 1em; text-align: center; vertical-align: top\">1</td>\n",
       "        <td style=\"padding-left: 1em; padding-right: 1em; text-align: center; vertical-align: top\">{'intolerance': 1L,<br>'democracy.ban': 1L, ...</td>\n",
       "    </tr>\n",
       "    <tr>\n",
       "        <td style=\"padding-left: 1em; padding-right: 1em; text-align: center; vertical-align: top\">@AmritaDhawan1: Ban ABVP<br>they have time and again ...</td>\n",
       "        <td style=\"padding-left: 1em; padding-right: 1em; text-align: center; vertical-align: top\">838057053255946241L</td>\n",
       "        <td style=\"padding-left: 1em; padding-right: 1em; text-align: center; vertical-align: top\">1</td>\n",
       "        <td style=\"padding-left: 1em; padding-right: 1em; text-align: center; vertical-align: top\">{'and': 2L, 'again': 1L,<br>'@amritadhawan1:': 1L, ...</td>\n",
       "    </tr>\n",
       "    <tr>\n",
       "        <td style=\"padding-left: 1em; padding-right: 1em; text-align: center; vertical-align: top\">@b00dcc4743fc487:<br>@b00dcc4743fc487 \\n\\n ...</td>\n",
       "        <td style=\"padding-left: 1em; padding-right: 1em; text-align: center; vertical-align: top\">838055926942810112L</td>\n",
       "        <td style=\"padding-left: 1em; padding-right: 1em; text-align: center; vertical-align: top\">1</td>\n",
       "        <td style=\"padding-left: 1em; padding-right: 1em; text-align: center; vertical-align: top\">{'\\\\u0917\\\\u0908': 1L,<br>'@b00dcc4743fc487': 1 ...</td>\n",
       "    </tr>\n",
       "    <tr>\n",
       "        <td style=\"padding-left: 1em; padding-right: 1em; text-align: center; vertical-align: top\">@AngellicAribam: DUSU<br>Joint Secretary submi ...</td>\n",
       "        <td style=\"padding-left: 1em; padding-right: 1em; text-align: center; vertical-align: top\">838054735546626048L</td>\n",
       "        <td style=\"padding-left: 1em; padding-right: 1em; text-align: center; vertical-align: top\">1</td>\n",
       "        <td style=\"padding-left: 1em; padding-right: 1em; text-align: center; vertical-align: top\">{'delhi': 1L, 'from': 1L,<br>\"https://t.co/oqhfx\\\\ ...</td>\n",
       "    </tr>\n",
       "    <tr>\n",
       "        <td style=\"padding-left: 1em; padding-right: 1em; text-align: center; vertical-align: top\">@b00dcc4743fc487:<br>@b00dcc4743fc487 \\n\\n ...</td>\n",
       "        <td style=\"padding-left: 1em; padding-right: 1em; text-align: center; vertical-align: top\">838054246037798914L</td>\n",
       "        <td style=\"padding-left: 1em; padding-right: 1em; text-align: center; vertical-align: top\">1</td>\n",
       "        <td style=\"padding-left: 1em; padding-right: 1em; text-align: center; vertical-align: top\">{'\\\\u0917\\\\u0908': 1L,<br>'@b00dcc4743fc487': 1 ...</td>\n",
       "    </tr>\n",
       "    <tr>\n",
       "        <td style=\"padding-left: 1em; padding-right: 1em; text-align: center; vertical-align: top\">@sandeepmuana: Ban ABVP<br>Ban ABVP Ban ABVP Ban ...</td>\n",
       "        <td style=\"padding-left: 1em; padding-right: 1em; text-align: center; vertical-align: top\">838053685020196864L</td>\n",
       "        <td style=\"padding-left: 1em; padding-right: 1em; text-align: center; vertical-align: top\">1</td>\n",
       "        <td style=\"padding-left: 1em; padding-right: 1em; text-align: center; vertical-align: top\">{\"@pumpinsui'\": 1L, 'abvp<br>\\\\n@kambojmeenakshi': ...</td>\n",
       "    </tr>\n",
       "    <tr>\n",
       "        <td style=\"padding-left: 1em; padding-right: 1em; text-align: center; vertical-align: top\"> @Omkar_Purohit: If not<br>GurmeharKaur's Dad and ...</td>\n",
       "        <td style=\"padding-left: 1em; padding-right: 1em; text-align: center; vertical-align: top\">838050940368269314L</td>\n",
       "        <td style=\"padding-left: 1em; padding-right: 1em; text-align: center; vertical-align: top\">1</td>\n",
       "        <td style=\"padding-left: 1em; padding-right: 1em; text-align: center; vertical-align: top\">{'and': 1L, 'videos': 1L,<br>'have': 1L, 'soldiers': ...</td>\n",
       "    </tr>\n",
       "    <tr>\n",
       "        <td style=\"padding-left: 1em; padding-right: 1em; text-align: center; vertical-align: top\">@LaraibNeyazi: BJP \\u0938<br>\\u0924\\u094d\\u0924\\u093e ...</td>\n",
       "        <td style=\"padding-left: 1em; padding-right: 1em; text-align: center; vertical-align: top\">838050654719524864L</td>\n",
       "        <td style=\"padding-left: 1em; padding-right: 1em; text-align: center; vertical-align: top\">1</td>\n",
       "        <td style=\"padding-left: 1em; padding-right: 1em; text-align: center; vertical-align: top\">{'\\\\u0924\\\\u094b': 1L,<br>'\\\\u092e\\\\u0947\\\\u0902': ...</td>\n",
       "    </tr>\n",
       "    <tr>\n",
       "        <td style=\"padding-left: 1em; padding-right: 1em; text-align: center; vertical-align: top\">@21_wave: Ya Ban it<br>should be banned from ...</td>\n",
       "        <td style=\"padding-left: 1em; padding-right: 1em; text-align: center; vertical-align: top\">838047040785436675L</td>\n",
       "        <td style=\"padding-left: 1em; padding-right: 1em; text-align: center; vertical-align: top\">1</td>\n",
       "        <td style=\"padding-left: 1em; padding-right: 1em; text-align: center; vertical-align: top\">{'be': 1L, 'all': 1L,<br>'from': 1L, 'campuses': ...</td>\n",
       "    </tr>\n",
       "</table>\n",
       "[203 rows x 4 columns]<br/>Note: Only the head of the SFrame is printed.<br/>You can use print_rows(num_rows=m, num_columns=n) to print more rows and columns.\n",
       "</div>"
      ],
      "text/plain": [
       "Columns:\n",
       "\tText\tstr\n",
       "\tID\tstr\n",
       "\tsentiment\tint\n",
       "\tword_count\tdict\n",
       "\n",
       "Rows: 203\n",
       "\n",
       "Data:\n",
       "+-------------------------------+---------------------+-----------+\n",
       "|              Text             |          ID         | sentiment |\n",
       "+-------------------------------+---------------------+-----------+\n",
       "| @AmritaDhawan1: Ban ABVP t... | 838057331480985600L |     1     |\n",
       "| @ananyasaikia4: Intoleranc... | 838057165042634752L |     1     |\n",
       "| @AmritaDhawan1: Ban ABVP t... | 838057053255946241L |     1     |\n",
       "| @b00dcc4743fc487: @b00dcc4... | 838055926942810112L |     1     |\n",
       "| @AngellicAribam: DUSU Join... | 838054735546626048L |     1     |\n",
       "| @b00dcc4743fc487: @b00dcc4... | 838054246037798914L |     1     |\n",
       "| @sandeepmuana: Ban ABVP Ba... | 838053685020196864L |     1     |\n",
       "|  @Omkar_Purohit: If not Gu... | 838050940368269314L |     1     |\n",
       "| @LaraibNeyazi: BJP \\u0938\\... | 838050654719524864L |     1     |\n",
       "| @21_wave: Ya Ban it   shou... | 838047040785436675L |     1     |\n",
       "+-------------------------------+---------------------+-----------+\n",
       "+-------------------------------+\n",
       "|           word_count          |\n",
       "+-------------------------------+\n",
       "| {'and': 2L, 'again': 1L, '... |\n",
       "| {'intolerance': 1L, 'democ... |\n",
       "| {'and': 2L, 'again': 1L, '... |\n",
       "| {'\\\\u0917\\\\u0908': 1L, '@b... |\n",
       "| {'delhi': 1L, 'from': 1L, ... |\n",
       "| {'\\\\u0917\\\\u0908': 1L, '@b... |\n",
       "| {\"@pumpinsui'\": 1L, 'abvp\\... |\n",
       "| {'and': 1L, 'videos': 1L, ... |\n",
       "| {'\\\\u0924\\\\u094b': 1L, '\\\\... |\n",
       "| {'be': 1L, 'all': 1L, 'fro... |\n",
       "+-------------------------------+\n",
       "[203 rows x 4 columns]\n",
       "Note: Only the head of the SFrame is printed.\n",
       "You can use print_rows(num_rows=m, num_columns=n) to print more rows and columns."
      ]
     },
     "execution_count": 188,
     "metadata": {},
     "output_type": "execute_result"
    }
   ],
   "source": [
    "sf1"
   ]
  },
  {
   "cell_type": "code",
   "execution_count": 189,
   "metadata": {
    "collapsed": true
   },
   "outputs": [],
   "source": [
    "graphlab.canvas.set_target('ipynb')"
   ]
  },
  {
   "cell_type": "code",
   "execution_count": 190,
   "metadata": {
    "collapsed": false
   },
   "outputs": [],
   "source": [
    "train_data,test_data = sf1.random_split(.8, seed=0)"
   ]
  },
  {
   "cell_type": "code",
   "execution_count": 191,
   "metadata": {
    "collapsed": false,
    "scrolled": false
   },
   "outputs": [
    {
     "data": {
      "text/html": [
       "<pre>WARNING: The number of feature dimensions in this problem is very large in comparison with the number of examples. Unless an appropriate regularization value is set, this model may not provide accurate predictions for a validation/test set.</pre>"
      ],
      "text/plain": [
       "WARNING: The number of feature dimensions in this problem is very large in comparison with the number of examples. Unless an appropriate regularization value is set, this model may not provide accurate predictions for a validation/test set."
      ]
     },
     "metadata": {},
     "output_type": "display_data"
    },
    {
     "data": {
      "text/html": [
       "<pre>Logistic regression:</pre>"
      ],
      "text/plain": [
       "Logistic regression:"
      ]
     },
     "metadata": {},
     "output_type": "display_data"
    },
    {
     "data": {
      "text/html": [
       "<pre>--------------------------------------------------------</pre>"
      ],
      "text/plain": [
       "--------------------------------------------------------"
      ]
     },
     "metadata": {},
     "output_type": "display_data"
    },
    {
     "data": {
      "text/html": [
       "<pre>Number of examples          : 173</pre>"
      ],
      "text/plain": [
       "Number of examples          : 173"
      ]
     },
     "metadata": {},
     "output_type": "display_data"
    },
    {
     "data": {
      "text/html": [
       "<pre>Number of classes           : 2</pre>"
      ],
      "text/plain": [
       "Number of classes           : 2"
      ]
     },
     "metadata": {},
     "output_type": "display_data"
    },
    {
     "data": {
      "text/html": [
       "<pre>Number of feature columns   : 1</pre>"
      ],
      "text/plain": [
       "Number of feature columns   : 1"
      ]
     },
     "metadata": {},
     "output_type": "display_data"
    },
    {
     "data": {
      "text/html": [
       "<pre>Number of unpacked features : 974</pre>"
      ],
      "text/plain": [
       "Number of unpacked features : 974"
      ]
     },
     "metadata": {},
     "output_type": "display_data"
    },
    {
     "data": {
      "text/html": [
       "<pre>Number of coefficients    : 975</pre>"
      ],
      "text/plain": [
       "Number of coefficients    : 975"
      ]
     },
     "metadata": {},
     "output_type": "display_data"
    },
    {
     "data": {
      "text/html": [
       "<pre>Starting L-BFGS</pre>"
      ],
      "text/plain": [
       "Starting L-BFGS"
      ]
     },
     "metadata": {},
     "output_type": "display_data"
    },
    {
     "data": {
      "text/html": [
       "<pre>--------------------------------------------------------</pre>"
      ],
      "text/plain": [
       "--------------------------------------------------------"
      ]
     },
     "metadata": {},
     "output_type": "display_data"
    },
    {
     "data": {
      "text/html": [
       "<pre>+-----------+----------+-----------+--------------+-------------------+---------------------+</pre>"
      ],
      "text/plain": [
       "+-----------+----------+-----------+--------------+-------------------+---------------------+"
      ]
     },
     "metadata": {},
     "output_type": "display_data"
    },
    {
     "data": {
      "text/html": [
       "<pre>| Iteration | Passes   | Step size | Elapsed Time | Training-accuracy | Validation-accuracy |</pre>"
      ],
      "text/plain": [
       "| Iteration | Passes   | Step size | Elapsed Time | Training-accuracy | Validation-accuracy |"
      ]
     },
     "metadata": {},
     "output_type": "display_data"
    },
    {
     "data": {
      "text/html": [
       "<pre>+-----------+----------+-----------+--------------+-------------------+---------------------+</pre>"
      ],
      "text/plain": [
       "+-----------+----------+-----------+--------------+-------------------+---------------------+"
      ]
     },
     "metadata": {},
     "output_type": "display_data"
    },
    {
     "data": {
      "text/html": [
       "<pre>| 1         | 3        | 0.005780  | 0.002000     | 0.988439          | 0.833333            |</pre>"
      ],
      "text/plain": [
       "| 1         | 3        | 0.005780  | 0.002000     | 0.988439          | 0.833333            |"
      ]
     },
     "metadata": {},
     "output_type": "display_data"
    },
    {
     "data": {
      "text/html": [
       "<pre>| 2         | 5        | 1.000000  | 0.007000     | 0.994220          | 0.866667            |</pre>"
      ],
      "text/plain": [
       "| 2         | 5        | 1.000000  | 0.007000     | 0.994220          | 0.866667            |"
      ]
     },
     "metadata": {},
     "output_type": "display_data"
    },
    {
     "data": {
      "text/html": [
       "<pre>| 3         | 6        | 1.000000  | 0.009001     | 1.000000          | 0.866667            |</pre>"
      ],
      "text/plain": [
       "| 3         | 6        | 1.000000  | 0.009001     | 1.000000          | 0.866667            |"
      ]
     },
     "metadata": {},
     "output_type": "display_data"
    },
    {
     "data": {
      "text/html": [
       "<pre>| 4         | 7        | 1.000000  | 0.011001     | 1.000000          | 0.866667            |</pre>"
      ],
      "text/plain": [
       "| 4         | 7        | 1.000000  | 0.011001     | 1.000000          | 0.866667            |"
      ]
     },
     "metadata": {},
     "output_type": "display_data"
    },
    {
     "data": {
      "text/html": [
       "<pre>| 5         | 8        | 1.000000  | 0.013001     | 1.000000          | 0.900000            |</pre>"
      ],
      "text/plain": [
       "| 5         | 8        | 1.000000  | 0.013001     | 1.000000          | 0.900000            |"
      ]
     },
     "metadata": {},
     "output_type": "display_data"
    },
    {
     "data": {
      "text/html": [
       "<pre>| 6         | 9        | 1.000000  | 0.017001     | 1.000000          | 0.900000            |</pre>"
      ],
      "text/plain": [
       "| 6         | 9        | 1.000000  | 0.017001     | 1.000000          | 0.900000            |"
      ]
     },
     "metadata": {},
     "output_type": "display_data"
    },
    {
     "data": {
      "text/html": [
       "<pre>+-----------+----------+-----------+--------------+-------------------+---------------------+</pre>"
      ],
      "text/plain": [
       "+-----------+----------+-----------+--------------+-------------------+---------------------+"
      ]
     },
     "metadata": {},
     "output_type": "display_data"
    },
    {
     "data": {
      "text/html": [
       "<pre>TERMINATED: Iteration limit reached.</pre>"
      ],
      "text/plain": [
       "TERMINATED: Iteration limit reached."
      ]
     },
     "metadata": {},
     "output_type": "display_data"
    },
    {
     "data": {
      "text/html": [
       "<pre>This model may not be optimal. To improve it, consider increasing `max_iterations`.</pre>"
      ],
      "text/plain": [
       "This model may not be optimal. To improve it, consider increasing `max_iterations`."
      ]
     },
     "metadata": {},
     "output_type": "display_data"
    }
   ],
   "source": [
    "sentiment_model = graphlab.logistic_classifier.create(train_data,\n",
    "                                                     target='sentiment',\n",
    "                                                     features=['word_count'],\n",
    "                                                     validation_set=test_data)"
   ]
  },
  {
   "cell_type": "code",
   "execution_count": 192,
   "metadata": {
    "collapsed": false
   },
   "outputs": [
    {
     "data": {
      "text/plain": [
       "{'roc_curve': Columns:\n",
       " \tthreshold\tfloat\n",
       " \tfpr\tfloat\n",
       " \ttpr\tfloat\n",
       " \tp\tint\n",
       " \tn\tint\n",
       " \n",
       " Rows: 100001\n",
       " \n",
       " Data:\n",
       " +-----------+-----+-----+----+----+\n",
       " | threshold | fpr | tpr | p  | n  |\n",
       " +-----------+-----+-----+----+----+\n",
       " |    0.0    | 1.0 | 1.0 | 16 | 14 |\n",
       " |   1e-05   | 1.0 | 1.0 | 16 | 14 |\n",
       " |   2e-05   | 1.0 | 1.0 | 16 | 14 |\n",
       " |   3e-05   | 1.0 | 1.0 | 16 | 14 |\n",
       " |   4e-05   | 1.0 | 1.0 | 16 | 14 |\n",
       " |   5e-05   | 1.0 | 1.0 | 16 | 14 |\n",
       " |   6e-05   | 1.0 | 1.0 | 16 | 14 |\n",
       " |   7e-05   | 1.0 | 1.0 | 16 | 14 |\n",
       " |   8e-05   | 1.0 | 1.0 | 16 | 14 |\n",
       " |   9e-05   | 1.0 | 1.0 | 16 | 14 |\n",
       " +-----------+-----+-----+----+----+\n",
       " [100001 rows x 5 columns]\n",
       " Note: Only the head of the SFrame is printed.\n",
       " You can use print_rows(num_rows=m, num_columns=n) to print more rows and columns.}"
      ]
     },
     "execution_count": 192,
     "metadata": {},
     "output_type": "execute_result"
    }
   ],
   "source": [
    "sentiment_model.evaluate(test_data, metric='roc_curve')"
   ]
  },
  {
   "cell_type": "code",
   "execution_count": 193,
   "metadata": {
    "collapsed": false,
    "scrolled": true
   },
   "outputs": [
    {
     "data": {
      "application/javascript": [
       "$(\"head\").append($(\"<link/>\").attr({\n",
       "  rel:  \"stylesheet\",\n",
       "  type: \"text/css\",\n",
       "  href: \"//cdnjs.cloudflare.com/ajax/libs/font-awesome/4.1.0/css/font-awesome.min.css\"\n",
       "}));\n",
       "$(\"head\").append($(\"<link/>\").attr({\n",
       "  rel:  \"stylesheet\",\n",
       "  type: \"text/css\",\n",
       "  href: \"https://static.turi.com/products/graphlab-create/2.1/canvas/css/canvas.css\"\n",
       "}));\n",
       "\n",
       "            (function(){\n",
       "\n",
       "                var e = null;\n",
       "                if (typeof element == 'undefined') {\n",
       "                    var scripts = document.getElementsByTagName('script');\n",
       "                    var thisScriptTag = scripts[scripts.length-1];\n",
       "                    var parentDiv = thisScriptTag.parentNode;\n",
       "                    e = document.createElement('div');\n",
       "                    parentDiv.appendChild(e);\n",
       "                } else {\n",
       "                    e = element[0];\n",
       "                }\n",
       "\n",
       "                if (typeof requirejs !== 'undefined') {\n",
       "                    // disable load timeout; ipython_app.js is large and can take a while to load.\n",
       "                    requirejs.config({waitSeconds: 0});\n",
       "                }\n",
       "\n",
       "                require(['https://static.turi.com/products/graphlab-create/2.1/canvas/js/ipython_app.js'], function(IPythonApp){\n",
       "                    var app = new IPythonApp();\n",
       "                    app.attachView('model','Evaluation', {\"comparison\": null, \"selected_variable\": {\"comparison\": null, \"name\": [\"sentiment_model\"], \"view_file\": \"model\", \"view_component\": \"Evaluation\", \"view_params\": {\"model_type\": \"regression\", \"view\": \"Evaluation\"}, \"view_components\": [\"Summary\", \"Evaluation\", \"Comparison\"], \"model_type\": \"regression\", \"attributes\": {\"section_titles\": [\"Schema\", \"Hyperparameters\", \"Training Summary\", \"Settings\", \"Highest Positive Coefficients\", \"Lowest Negative Coefficients\"], \"sections\": [[[\"Number of coefficients\", 975], [\"Number of examples\", 173], [\"Number of classes\", 2], [\"Number of feature columns\", 1], [\"Number of unpacked features\", 974]], [[\"L1 penalty\", 0.0], [\"L2 penalty\", 0.01]], [[\"Solver\", \"lbfgs\"], [\"Solver iterations\", 10], [\"Solver status\", \"TERMINATED: Iteration limit reached.\"], [\"Training time (sec)\", 0.027]], [[\"Log-likelihood\", 0.047]], [[\"word_count[@__its_ninja__:]\", 3.0822], [\"word_count[https://t.co/ko7spwru93']\", 1.894], [\"word_count[vc.\\\\n#gtu\\\\n#isupportabvp\\\\n#answerthearmy\\\\n#fightbackdu\\\\n#boycottabvp\\\\n#studentsagainstabvp\\\\n@abvpvoice\\\\u2026]\", 1.894], [\"word_count[gtu]\", 1.894], [\"word_count[voice]\", 1.894]], [[\"word_count[@135_raviabvpvoice]\", -7.6493], [\"word_count[@satishmaisuriyaabvpvoice']\", -6.3397], [\"word_count[u'abvpvoice']\", -6.3397], [\"word_count[@__its_ninja__abvpvoice]\", -5.5251], [\"word_count[https://t.co/qymkahzjoz']\", -4.6239]]]}, \"evaluations\": [[\"test_data\", {\"roc_curve\": [{\"threshold\": 0.0, \"p\": 16, \"fpr\": 1.0, \"tpr\": 1.0, \"n\": 14}, {\"threshold\": 0.001, \"p\": 16, \"fpr\": 0.7142857142857143, \"tpr\": 1.0, \"n\": 14}, {\"threshold\": 0.002, \"p\": 16, \"fpr\": 0.7142857142857143, \"tpr\": 1.0, \"n\": 14}, {\"threshold\": 0.003, \"p\": 16, \"fpr\": 0.6428571428571429, \"tpr\": 1.0, \"n\": 14}, {\"threshold\": 0.004, \"p\": 16, \"fpr\": 0.6428571428571429, \"tpr\": 1.0, \"n\": 14}, {\"threshold\": 0.005, \"p\": 16, \"fpr\": 0.6428571428571429, \"tpr\": 1.0, \"n\": 14}, {\"threshold\": 0.006, \"p\": 16, \"fpr\": 0.5714285714285714, \"tpr\": 1.0, \"n\": 14}, {\"threshold\": 0.007, \"p\": 16, \"fpr\": 0.5714285714285714, \"tpr\": 1.0, \"n\": 14}, {\"threshold\": 0.008, \"p\": 16, \"fpr\": 0.5714285714285714, \"tpr\": 1.0, \"n\": 14}, {\"threshold\": 0.009, \"p\": 16, \"fpr\": 0.5714285714285714, \"tpr\": 1.0, \"n\": 14}, {\"threshold\": 0.01, \"p\": 16, \"fpr\": 0.5714285714285714, \"tpr\": 1.0, \"n\": 14}, {\"threshold\": 0.011, \"p\": 16, \"fpr\": 0.5714285714285714, \"tpr\": 1.0, \"n\": 14}, {\"threshold\": 0.012, \"p\": 16, \"fpr\": 0.5714285714285714, \"tpr\": 1.0, \"n\": 14}, {\"threshold\": 0.013, \"p\": 16, \"fpr\": 0.5714285714285714, \"tpr\": 1.0, \"n\": 14}, {\"threshold\": 0.014, \"p\": 16, \"fpr\": 0.5714285714285714, \"tpr\": 1.0, \"n\": 14}, {\"threshold\": 0.015, \"p\": 16, \"fpr\": 0.5714285714285714, \"tpr\": 1.0, \"n\": 14}, {\"threshold\": 0.016, \"p\": 16, \"fpr\": 0.42857142857142855, \"tpr\": 1.0, \"n\": 14}, {\"threshold\": 0.017, \"p\": 16, \"fpr\": 0.42857142857142855, \"tpr\": 1.0, \"n\": 14}, {\"threshold\": 0.018, \"p\": 16, \"fpr\": 0.42857142857142855, \"tpr\": 1.0, \"n\": 14}, {\"threshold\": 0.019, \"p\": 16, \"fpr\": 0.42857142857142855, \"tpr\": 1.0, \"n\": 14}, {\"threshold\": 0.02, \"p\": 16, \"fpr\": 0.42857142857142855, \"tpr\": 1.0, \"n\": 14}, {\"threshold\": 0.021, \"p\": 16, \"fpr\": 0.42857142857142855, \"tpr\": 1.0, \"n\": 14}, {\"threshold\": 0.022, \"p\": 16, \"fpr\": 0.42857142857142855, \"tpr\": 1.0, \"n\": 14}, {\"threshold\": 0.023, \"p\": 16, \"fpr\": 0.42857142857142855, \"tpr\": 1.0, \"n\": 14}, {\"threshold\": 0.024, \"p\": 16, \"fpr\": 0.42857142857142855, \"tpr\": 1.0, \"n\": 14}, {\"threshold\": 0.025, \"p\": 16, \"fpr\": 0.42857142857142855, \"tpr\": 1.0, \"n\": 14}, {\"threshold\": 0.026, \"p\": 16, \"fpr\": 0.42857142857142855, \"tpr\": 1.0, \"n\": 14}, {\"threshold\": 0.027, \"p\": 16, \"fpr\": 0.42857142857142855, \"tpr\": 1.0, \"n\": 14}, {\"threshold\": 0.028, \"p\": 16, \"fpr\": 0.42857142857142855, \"tpr\": 1.0, \"n\": 14}, {\"threshold\": 0.029, \"p\": 16, \"fpr\": 0.42857142857142855, \"tpr\": 1.0, \"n\": 14}, {\"threshold\": 0.03, \"p\": 16, \"fpr\": 0.42857142857142855, \"tpr\": 1.0, \"n\": 14}, {\"threshold\": 0.031, \"p\": 16, \"fpr\": 0.42857142857142855, \"tpr\": 1.0, \"n\": 14}, {\"threshold\": 0.032, \"p\": 16, \"fpr\": 0.42857142857142855, \"tpr\": 1.0, \"n\": 14}, {\"threshold\": 0.033, \"p\": 16, \"fpr\": 0.42857142857142855, \"tpr\": 1.0, \"n\": 14}, {\"threshold\": 0.034, \"p\": 16, \"fpr\": 0.42857142857142855, \"tpr\": 1.0, \"n\": 14}, {\"threshold\": 0.035, \"p\": 16, \"fpr\": 0.42857142857142855, \"tpr\": 1.0, \"n\": 14}, {\"threshold\": 0.036, \"p\": 16, \"fpr\": 0.42857142857142855, \"tpr\": 1.0, \"n\": 14}, {\"threshold\": 0.037, \"p\": 16, \"fpr\": 0.42857142857142855, \"tpr\": 1.0, \"n\": 14}, {\"threshold\": 0.038, \"p\": 16, \"fpr\": 0.42857142857142855, \"tpr\": 1.0, \"n\": 14}, {\"threshold\": 0.039, \"p\": 16, \"fpr\": 0.42857142857142855, \"tpr\": 1.0, \"n\": 14}, {\"threshold\": 0.04, \"p\": 16, \"fpr\": 0.42857142857142855, \"tpr\": 1.0, \"n\": 14}, {\"threshold\": 0.041, \"p\": 16, \"fpr\": 0.42857142857142855, \"tpr\": 1.0, \"n\": 14}, {\"threshold\": 0.042, \"p\": 16, \"fpr\": 0.42857142857142855, \"tpr\": 1.0, \"n\": 14}, {\"threshold\": 0.043, \"p\": 16, \"fpr\": 0.42857142857142855, \"tpr\": 1.0, \"n\": 14}, {\"threshold\": 0.044, \"p\": 16, \"fpr\": 0.42857142857142855, \"tpr\": 1.0, \"n\": 14}, {\"threshold\": 0.045, \"p\": 16, \"fpr\": 0.42857142857142855, \"tpr\": 1.0, \"n\": 14}, {\"threshold\": 0.046, \"p\": 16, \"fpr\": 0.42857142857142855, \"tpr\": 1.0, \"n\": 14}, {\"threshold\": 0.047, \"p\": 16, \"fpr\": 0.42857142857142855, \"tpr\": 1.0, \"n\": 14}, {\"threshold\": 0.048, \"p\": 16, \"fpr\": 0.42857142857142855, \"tpr\": 1.0, \"n\": 14}, {\"threshold\": 0.049, \"p\": 16, \"fpr\": 0.42857142857142855, \"tpr\": 1.0, \"n\": 14}, {\"threshold\": 0.05, \"p\": 16, \"fpr\": 0.42857142857142855, \"tpr\": 1.0, \"n\": 14}, {\"threshold\": 0.051, \"p\": 16, \"fpr\": 0.42857142857142855, \"tpr\": 1.0, \"n\": 14}, {\"threshold\": 0.052, \"p\": 16, \"fpr\": 0.42857142857142855, \"tpr\": 1.0, \"n\": 14}, {\"threshold\": 0.053, \"p\": 16, \"fpr\": 0.42857142857142855, \"tpr\": 1.0, \"n\": 14}, {\"threshold\": 0.054, \"p\": 16, \"fpr\": 0.42857142857142855, \"tpr\": 1.0, \"n\": 14}, {\"threshold\": 0.055, \"p\": 16, \"fpr\": 0.42857142857142855, \"tpr\": 1.0, \"n\": 14}, {\"threshold\": 0.056, \"p\": 16, \"fpr\": 0.42857142857142855, \"tpr\": 1.0, \"n\": 14}, {\"threshold\": 0.057, \"p\": 16, \"fpr\": 0.42857142857142855, \"tpr\": 1.0, \"n\": 14}, {\"threshold\": 0.058, \"p\": 16, \"fpr\": 0.42857142857142855, \"tpr\": 1.0, \"n\": 14}, {\"threshold\": 0.059, \"p\": 16, \"fpr\": 0.42857142857142855, \"tpr\": 1.0, \"n\": 14}, {\"threshold\": 0.06, \"p\": 16, \"fpr\": 0.42857142857142855, \"tpr\": 1.0, \"n\": 14}, {\"threshold\": 0.061, \"p\": 16, \"fpr\": 0.42857142857142855, \"tpr\": 1.0, \"n\": 14}, {\"threshold\": 0.062, \"p\": 16, \"fpr\": 0.42857142857142855, \"tpr\": 1.0, \"n\": 14}, {\"threshold\": 0.063, \"p\": 16, \"fpr\": 0.42857142857142855, \"tpr\": 1.0, \"n\": 14}, {\"threshold\": 0.064, \"p\": 16, \"fpr\": 0.42857142857142855, \"tpr\": 1.0, \"n\": 14}, {\"threshold\": 0.065, \"p\": 16, \"fpr\": 0.42857142857142855, \"tpr\": 1.0, \"n\": 14}, {\"threshold\": 0.066, \"p\": 16, \"fpr\": 0.42857142857142855, \"tpr\": 1.0, \"n\": 14}, {\"threshold\": 0.067, \"p\": 16, \"fpr\": 0.42857142857142855, \"tpr\": 1.0, \"n\": 14}, {\"threshold\": 0.068, \"p\": 16, \"fpr\": 0.42857142857142855, \"tpr\": 1.0, \"n\": 14}, {\"threshold\": 0.069, \"p\": 16, \"fpr\": 0.42857142857142855, \"tpr\": 1.0, \"n\": 14}, {\"threshold\": 0.07, \"p\": 16, \"fpr\": 0.42857142857142855, \"tpr\": 1.0, \"n\": 14}, {\"threshold\": 0.071, \"p\": 16, \"fpr\": 0.42857142857142855, \"tpr\": 1.0, \"n\": 14}, {\"threshold\": 0.072, \"p\": 16, \"fpr\": 0.42857142857142855, \"tpr\": 1.0, \"n\": 14}, {\"threshold\": 0.073, \"p\": 16, \"fpr\": 0.42857142857142855, \"tpr\": 1.0, \"n\": 14}, {\"threshold\": 0.074, \"p\": 16, \"fpr\": 0.42857142857142855, \"tpr\": 1.0, \"n\": 14}, {\"threshold\": 0.075, \"p\": 16, \"fpr\": 0.42857142857142855, \"tpr\": 1.0, \"n\": 14}, {\"threshold\": 0.076, \"p\": 16, \"fpr\": 0.42857142857142855, \"tpr\": 1.0, \"n\": 14}, {\"threshold\": 0.077, \"p\": 16, \"fpr\": 0.42857142857142855, \"tpr\": 1.0, \"n\": 14}, {\"threshold\": 0.078, \"p\": 16, \"fpr\": 0.42857142857142855, \"tpr\": 1.0, \"n\": 14}, {\"threshold\": 0.079, \"p\": 16, \"fpr\": 0.42857142857142855, \"tpr\": 1.0, \"n\": 14}, {\"threshold\": 0.08, \"p\": 16, \"fpr\": 0.42857142857142855, \"tpr\": 1.0, \"n\": 14}, {\"threshold\": 0.081, \"p\": 16, \"fpr\": 0.42857142857142855, \"tpr\": 1.0, \"n\": 14}, {\"threshold\": 0.082, \"p\": 16, \"fpr\": 0.42857142857142855, \"tpr\": 1.0, \"n\": 14}, {\"threshold\": 0.083, \"p\": 16, \"fpr\": 0.42857142857142855, \"tpr\": 1.0, \"n\": 14}, {\"threshold\": 0.084, \"p\": 16, \"fpr\": 0.42857142857142855, \"tpr\": 1.0, \"n\": 14}, {\"threshold\": 0.085, \"p\": 16, \"fpr\": 0.42857142857142855, \"tpr\": 1.0, \"n\": 14}, {\"threshold\": 0.086, \"p\": 16, \"fpr\": 0.42857142857142855, \"tpr\": 1.0, \"n\": 14}, {\"threshold\": 0.087, \"p\": 16, \"fpr\": 0.42857142857142855, \"tpr\": 1.0, \"n\": 14}, {\"threshold\": 0.088, \"p\": 16, \"fpr\": 0.42857142857142855, \"tpr\": 1.0, \"n\": 14}, {\"threshold\": 0.089, \"p\": 16, \"fpr\": 0.42857142857142855, \"tpr\": 1.0, \"n\": 14}, {\"threshold\": 0.09, \"p\": 16, \"fpr\": 0.42857142857142855, \"tpr\": 1.0, \"n\": 14}, {\"threshold\": 0.091, \"p\": 16, \"fpr\": 0.42857142857142855, \"tpr\": 1.0, \"n\": 14}, {\"threshold\": 0.092, \"p\": 16, \"fpr\": 0.42857142857142855, \"tpr\": 1.0, \"n\": 14}, {\"threshold\": 0.093, \"p\": 16, \"fpr\": 0.42857142857142855, \"tpr\": 1.0, \"n\": 14}, {\"threshold\": 0.094, \"p\": 16, \"fpr\": 0.42857142857142855, \"tpr\": 1.0, \"n\": 14}, {\"threshold\": 0.095, \"p\": 16, \"fpr\": 0.42857142857142855, \"tpr\": 1.0, \"n\": 14}, {\"threshold\": 0.096, \"p\": 16, \"fpr\": 0.42857142857142855, \"tpr\": 1.0, \"n\": 14}, {\"threshold\": 0.097, \"p\": 16, \"fpr\": 0.42857142857142855, \"tpr\": 1.0, \"n\": 14}, {\"threshold\": 0.098, \"p\": 16, \"fpr\": 0.42857142857142855, \"tpr\": 1.0, \"n\": 14}, {\"threshold\": 0.099, \"p\": 16, \"fpr\": 0.42857142857142855, \"tpr\": 1.0, \"n\": 14}, {\"threshold\": 0.1, \"p\": 16, \"fpr\": 0.42857142857142855, \"tpr\": 1.0, \"n\": 14}, {\"threshold\": 0.101, \"p\": 16, \"fpr\": 0.42857142857142855, \"tpr\": 1.0, \"n\": 14}, {\"threshold\": 0.102, \"p\": 16, \"fpr\": 0.42857142857142855, \"tpr\": 1.0, \"n\": 14}, {\"threshold\": 0.103, \"p\": 16, \"fpr\": 0.42857142857142855, \"tpr\": 1.0, \"n\": 14}, {\"threshold\": 0.104, \"p\": 16, \"fpr\": 0.42857142857142855, \"tpr\": 1.0, \"n\": 14}, {\"threshold\": 0.105, \"p\": 16, \"fpr\": 0.42857142857142855, \"tpr\": 1.0, \"n\": 14}, {\"threshold\": 0.106, \"p\": 16, \"fpr\": 0.42857142857142855, \"tpr\": 1.0, \"n\": 14}, {\"threshold\": 0.107, \"p\": 16, \"fpr\": 0.42857142857142855, \"tpr\": 1.0, \"n\": 14}, {\"threshold\": 0.108, \"p\": 16, \"fpr\": 0.42857142857142855, \"tpr\": 1.0, \"n\": 14}, {\"threshold\": 0.109, \"p\": 16, \"fpr\": 0.42857142857142855, \"tpr\": 1.0, \"n\": 14}, {\"threshold\": 0.11, \"p\": 16, \"fpr\": 0.42857142857142855, \"tpr\": 1.0, \"n\": 14}, {\"threshold\": 0.111, \"p\": 16, \"fpr\": 0.42857142857142855, \"tpr\": 1.0, \"n\": 14}, {\"threshold\": 0.112, \"p\": 16, \"fpr\": 0.42857142857142855, \"tpr\": 1.0, \"n\": 14}, {\"threshold\": 0.113, \"p\": 16, \"fpr\": 0.42857142857142855, \"tpr\": 1.0, \"n\": 14}, {\"threshold\": 0.114, \"p\": 16, \"fpr\": 0.42857142857142855, \"tpr\": 1.0, \"n\": 14}, {\"threshold\": 0.115, \"p\": 16, \"fpr\": 0.42857142857142855, \"tpr\": 1.0, \"n\": 14}, {\"threshold\": 0.116, \"p\": 16, \"fpr\": 0.42857142857142855, \"tpr\": 1.0, \"n\": 14}, {\"threshold\": 0.117, \"p\": 16, \"fpr\": 0.42857142857142855, \"tpr\": 1.0, \"n\": 14}, {\"threshold\": 0.118, \"p\": 16, \"fpr\": 0.42857142857142855, \"tpr\": 1.0, \"n\": 14}, {\"threshold\": 0.119, \"p\": 16, \"fpr\": 0.42857142857142855, \"tpr\": 1.0, \"n\": 14}, {\"threshold\": 0.12, \"p\": 16, \"fpr\": 0.42857142857142855, \"tpr\": 1.0, \"n\": 14}, {\"threshold\": 0.121, \"p\": 16, \"fpr\": 0.42857142857142855, \"tpr\": 1.0, \"n\": 14}, {\"threshold\": 0.122, \"p\": 16, \"fpr\": 0.42857142857142855, \"tpr\": 1.0, \"n\": 14}, {\"threshold\": 0.123, \"p\": 16, \"fpr\": 0.42857142857142855, \"tpr\": 1.0, \"n\": 14}, {\"threshold\": 0.124, \"p\": 16, \"fpr\": 0.42857142857142855, \"tpr\": 1.0, \"n\": 14}, {\"threshold\": 0.125, \"p\": 16, \"fpr\": 0.42857142857142855, \"tpr\": 1.0, \"n\": 14}, {\"threshold\": 0.126, \"p\": 16, \"fpr\": 0.42857142857142855, \"tpr\": 1.0, \"n\": 14}, {\"threshold\": 0.127, \"p\": 16, \"fpr\": 0.42857142857142855, \"tpr\": 1.0, \"n\": 14}, {\"threshold\": 0.128, \"p\": 16, \"fpr\": 0.42857142857142855, \"tpr\": 1.0, \"n\": 14}, {\"threshold\": 0.129, \"p\": 16, \"fpr\": 0.42857142857142855, \"tpr\": 1.0, \"n\": 14}, {\"threshold\": 0.13, \"p\": 16, \"fpr\": 0.42857142857142855, \"tpr\": 1.0, \"n\": 14}, {\"threshold\": 0.131, \"p\": 16, \"fpr\": 0.42857142857142855, \"tpr\": 1.0, \"n\": 14}, {\"threshold\": 0.132, \"p\": 16, \"fpr\": 0.42857142857142855, \"tpr\": 1.0, \"n\": 14}, {\"threshold\": 0.133, \"p\": 16, \"fpr\": 0.42857142857142855, \"tpr\": 1.0, \"n\": 14}, {\"threshold\": 0.134, \"p\": 16, \"fpr\": 0.42857142857142855, \"tpr\": 1.0, \"n\": 14}, {\"threshold\": 0.135, \"p\": 16, \"fpr\": 0.42857142857142855, \"tpr\": 1.0, \"n\": 14}, {\"threshold\": 0.136, \"p\": 16, \"fpr\": 0.42857142857142855, \"tpr\": 1.0, \"n\": 14}, {\"threshold\": 0.137, \"p\": 16, \"fpr\": 0.42857142857142855, \"tpr\": 1.0, \"n\": 14}, {\"threshold\": 0.138, \"p\": 16, \"fpr\": 0.42857142857142855, \"tpr\": 1.0, \"n\": 14}, {\"threshold\": 0.139, \"p\": 16, \"fpr\": 0.42857142857142855, \"tpr\": 1.0, \"n\": 14}, {\"threshold\": 0.14, \"p\": 16, \"fpr\": 0.42857142857142855, \"tpr\": 1.0, \"n\": 14}, {\"threshold\": 0.141, \"p\": 16, \"fpr\": 0.42857142857142855, \"tpr\": 1.0, \"n\": 14}, {\"threshold\": 0.142, \"p\": 16, \"fpr\": 0.42857142857142855, \"tpr\": 1.0, \"n\": 14}, {\"threshold\": 0.143, \"p\": 16, \"fpr\": 0.42857142857142855, \"tpr\": 1.0, \"n\": 14}, {\"threshold\": 0.144, \"p\": 16, \"fpr\": 0.42857142857142855, \"tpr\": 1.0, \"n\": 14}, {\"threshold\": 0.145, \"p\": 16, \"fpr\": 0.42857142857142855, \"tpr\": 1.0, \"n\": 14}, {\"threshold\": 0.146, \"p\": 16, \"fpr\": 0.42857142857142855, \"tpr\": 1.0, \"n\": 14}, {\"threshold\": 0.147, \"p\": 16, \"fpr\": 0.42857142857142855, \"tpr\": 1.0, \"n\": 14}, {\"threshold\": 0.148, \"p\": 16, \"fpr\": 0.42857142857142855, \"tpr\": 1.0, \"n\": 14}, {\"threshold\": 0.149, \"p\": 16, \"fpr\": 0.42857142857142855, \"tpr\": 1.0, \"n\": 14}, {\"threshold\": 0.15, \"p\": 16, \"fpr\": 0.42857142857142855, \"tpr\": 1.0, \"n\": 14}, {\"threshold\": 0.151, \"p\": 16, \"fpr\": 0.42857142857142855, \"tpr\": 1.0, \"n\": 14}, {\"threshold\": 0.152, \"p\": 16, \"fpr\": 0.42857142857142855, \"tpr\": 1.0, \"n\": 14}, {\"threshold\": 0.153, \"p\": 16, \"fpr\": 0.35714285714285715, \"tpr\": 1.0, \"n\": 14}, {\"threshold\": 0.154, \"p\": 16, \"fpr\": 0.35714285714285715, \"tpr\": 1.0, \"n\": 14}, {\"threshold\": 0.155, \"p\": 16, \"fpr\": 0.35714285714285715, \"tpr\": 1.0, \"n\": 14}, {\"threshold\": 0.156, \"p\": 16, \"fpr\": 0.35714285714285715, \"tpr\": 1.0, \"n\": 14}, {\"threshold\": 0.157, \"p\": 16, \"fpr\": 0.35714285714285715, \"tpr\": 1.0, \"n\": 14}, {\"threshold\": 0.158, \"p\": 16, \"fpr\": 0.35714285714285715, \"tpr\": 1.0, \"n\": 14}, {\"threshold\": 0.159, \"p\": 16, \"fpr\": 0.35714285714285715, \"tpr\": 1.0, \"n\": 14}, {\"threshold\": 0.16, \"p\": 16, \"fpr\": 0.35714285714285715, \"tpr\": 1.0, \"n\": 14}, {\"threshold\": 0.161, \"p\": 16, \"fpr\": 0.35714285714285715, \"tpr\": 1.0, \"n\": 14}, {\"threshold\": 0.162, \"p\": 16, \"fpr\": 0.35714285714285715, \"tpr\": 1.0, \"n\": 14}, {\"threshold\": 0.163, \"p\": 16, \"fpr\": 0.35714285714285715, \"tpr\": 1.0, \"n\": 14}, {\"threshold\": 0.164, \"p\": 16, \"fpr\": 0.35714285714285715, \"tpr\": 1.0, \"n\": 14}, {\"threshold\": 0.165, \"p\": 16, \"fpr\": 0.35714285714285715, \"tpr\": 1.0, \"n\": 14}, {\"threshold\": 0.166, \"p\": 16, \"fpr\": 0.35714285714285715, \"tpr\": 1.0, \"n\": 14}, {\"threshold\": 0.167, \"p\": 16, \"fpr\": 0.35714285714285715, \"tpr\": 1.0, \"n\": 14}, {\"threshold\": 0.168, \"p\": 16, \"fpr\": 0.35714285714285715, \"tpr\": 1.0, \"n\": 14}, {\"threshold\": 0.169, \"p\": 16, \"fpr\": 0.35714285714285715, \"tpr\": 1.0, \"n\": 14}, {\"threshold\": 0.17, \"p\": 16, \"fpr\": 0.35714285714285715, \"tpr\": 1.0, \"n\": 14}, {\"threshold\": 0.171, \"p\": 16, \"fpr\": 0.35714285714285715, \"tpr\": 1.0, \"n\": 14}, {\"threshold\": 0.172, \"p\": 16, \"fpr\": 0.35714285714285715, \"tpr\": 1.0, \"n\": 14}, {\"threshold\": 0.173, \"p\": 16, \"fpr\": 0.35714285714285715, \"tpr\": 1.0, \"n\": 14}, {\"threshold\": 0.174, \"p\": 16, \"fpr\": 0.35714285714285715, \"tpr\": 1.0, \"n\": 14}, {\"threshold\": 0.175, \"p\": 16, \"fpr\": 0.35714285714285715, \"tpr\": 1.0, \"n\": 14}, {\"threshold\": 0.176, \"p\": 16, \"fpr\": 0.35714285714285715, \"tpr\": 1.0, \"n\": 14}, {\"threshold\": 0.177, \"p\": 16, \"fpr\": 0.35714285714285715, \"tpr\": 1.0, \"n\": 14}, {\"threshold\": 0.178, \"p\": 16, \"fpr\": 0.35714285714285715, \"tpr\": 1.0, \"n\": 14}, {\"threshold\": 0.179, \"p\": 16, \"fpr\": 0.35714285714285715, \"tpr\": 1.0, \"n\": 14}, {\"threshold\": 0.18, \"p\": 16, \"fpr\": 0.35714285714285715, \"tpr\": 1.0, \"n\": 14}, {\"threshold\": 0.181, \"p\": 16, \"fpr\": 0.35714285714285715, \"tpr\": 1.0, \"n\": 14}, {\"threshold\": 0.182, \"p\": 16, \"fpr\": 0.35714285714285715, \"tpr\": 1.0, \"n\": 14}, {\"threshold\": 0.183, \"p\": 16, \"fpr\": 0.35714285714285715, \"tpr\": 1.0, \"n\": 14}, {\"threshold\": 0.184, \"p\": 16, \"fpr\": 0.35714285714285715, \"tpr\": 1.0, \"n\": 14}, {\"threshold\": 0.185, \"p\": 16, \"fpr\": 0.35714285714285715, \"tpr\": 1.0, \"n\": 14}, {\"threshold\": 0.186, \"p\": 16, \"fpr\": 0.35714285714285715, \"tpr\": 1.0, \"n\": 14}, {\"threshold\": 0.187, \"p\": 16, \"fpr\": 0.35714285714285715, \"tpr\": 1.0, \"n\": 14}, {\"threshold\": 0.188, \"p\": 16, \"fpr\": 0.35714285714285715, \"tpr\": 1.0, \"n\": 14}, {\"threshold\": 0.189, \"p\": 16, \"fpr\": 0.35714285714285715, \"tpr\": 1.0, \"n\": 14}, {\"threshold\": 0.19, \"p\": 16, \"fpr\": 0.35714285714285715, \"tpr\": 1.0, \"n\": 14}, {\"threshold\": 0.191, \"p\": 16, \"fpr\": 0.35714285714285715, \"tpr\": 1.0, \"n\": 14}, {\"threshold\": 0.192, \"p\": 16, \"fpr\": 0.35714285714285715, \"tpr\": 1.0, \"n\": 14}, {\"threshold\": 0.193, \"p\": 16, \"fpr\": 0.35714285714285715, \"tpr\": 1.0, \"n\": 14}, {\"threshold\": 0.194, \"p\": 16, \"fpr\": 0.35714285714285715, \"tpr\": 1.0, \"n\": 14}, {\"threshold\": 0.195, \"p\": 16, \"fpr\": 0.35714285714285715, \"tpr\": 1.0, \"n\": 14}, {\"threshold\": 0.196, \"p\": 16, \"fpr\": 0.35714285714285715, \"tpr\": 1.0, \"n\": 14}, {\"threshold\": 0.197, \"p\": 16, \"fpr\": 0.35714285714285715, \"tpr\": 1.0, \"n\": 14}, {\"threshold\": 0.198, \"p\": 16, \"fpr\": 0.35714285714285715, \"tpr\": 1.0, \"n\": 14}, {\"threshold\": 0.199, \"p\": 16, \"fpr\": 0.35714285714285715, \"tpr\": 1.0, \"n\": 14}, {\"threshold\": 0.2, \"p\": 16, \"fpr\": 0.35714285714285715, \"tpr\": 1.0, \"n\": 14}, {\"threshold\": 0.201, \"p\": 16, \"fpr\": 0.35714285714285715, \"tpr\": 1.0, \"n\": 14}, {\"threshold\": 0.202, \"p\": 16, \"fpr\": 0.35714285714285715, \"tpr\": 1.0, \"n\": 14}, {\"threshold\": 0.203, \"p\": 16, \"fpr\": 0.35714285714285715, \"tpr\": 1.0, \"n\": 14}, {\"threshold\": 0.204, \"p\": 16, \"fpr\": 0.35714285714285715, \"tpr\": 1.0, \"n\": 14}, {\"threshold\": 0.205, \"p\": 16, \"fpr\": 0.35714285714285715, \"tpr\": 1.0, \"n\": 14}, {\"threshold\": 0.206, \"p\": 16, \"fpr\": 0.35714285714285715, \"tpr\": 1.0, \"n\": 14}, {\"threshold\": 0.207, \"p\": 16, \"fpr\": 0.35714285714285715, \"tpr\": 1.0, \"n\": 14}, {\"threshold\": 0.208, \"p\": 16, \"fpr\": 0.35714285714285715, \"tpr\": 1.0, \"n\": 14}, {\"threshold\": 0.209, \"p\": 16, \"fpr\": 0.35714285714285715, \"tpr\": 1.0, \"n\": 14}, {\"threshold\": 0.21, \"p\": 16, \"fpr\": 0.35714285714285715, \"tpr\": 1.0, \"n\": 14}, {\"threshold\": 0.211, \"p\": 16, \"fpr\": 0.35714285714285715, \"tpr\": 1.0, \"n\": 14}, {\"threshold\": 0.212, \"p\": 16, \"fpr\": 0.35714285714285715, \"tpr\": 1.0, \"n\": 14}, {\"threshold\": 0.213, \"p\": 16, \"fpr\": 0.35714285714285715, \"tpr\": 1.0, \"n\": 14}, {\"threshold\": 0.214, \"p\": 16, \"fpr\": 0.35714285714285715, \"tpr\": 1.0, \"n\": 14}, {\"threshold\": 0.215, \"p\": 16, \"fpr\": 0.35714285714285715, \"tpr\": 1.0, \"n\": 14}, {\"threshold\": 0.216, \"p\": 16, \"fpr\": 0.35714285714285715, \"tpr\": 1.0, \"n\": 14}, {\"threshold\": 0.217, \"p\": 16, \"fpr\": 0.35714285714285715, \"tpr\": 1.0, \"n\": 14}, {\"threshold\": 0.218, \"p\": 16, \"fpr\": 0.35714285714285715, \"tpr\": 1.0, \"n\": 14}, {\"threshold\": 0.219, \"p\": 16, \"fpr\": 0.35714285714285715, \"tpr\": 1.0, \"n\": 14}, {\"threshold\": 0.22, \"p\": 16, \"fpr\": 0.35714285714285715, \"tpr\": 1.0, \"n\": 14}, {\"threshold\": 0.221, \"p\": 16, \"fpr\": 0.35714285714285715, \"tpr\": 1.0, \"n\": 14}, {\"threshold\": 0.222, \"p\": 16, \"fpr\": 0.35714285714285715, \"tpr\": 1.0, \"n\": 14}, {\"threshold\": 0.223, \"p\": 16, \"fpr\": 0.35714285714285715, \"tpr\": 1.0, \"n\": 14}, {\"threshold\": 0.224, \"p\": 16, \"fpr\": 0.35714285714285715, \"tpr\": 1.0, \"n\": 14}, {\"threshold\": 0.225, \"p\": 16, \"fpr\": 0.35714285714285715, \"tpr\": 1.0, \"n\": 14}, {\"threshold\": 0.226, \"p\": 16, \"fpr\": 0.35714285714285715, \"tpr\": 1.0, \"n\": 14}, {\"threshold\": 0.227, \"p\": 16, \"fpr\": 0.35714285714285715, \"tpr\": 1.0, \"n\": 14}, {\"threshold\": 0.228, \"p\": 16, \"fpr\": 0.35714285714285715, \"tpr\": 1.0, \"n\": 14}, {\"threshold\": 0.229, \"p\": 16, \"fpr\": 0.35714285714285715, \"tpr\": 1.0, \"n\": 14}, {\"threshold\": 0.23, \"p\": 16, \"fpr\": 0.35714285714285715, \"tpr\": 1.0, \"n\": 14}, {\"threshold\": 0.231, \"p\": 16, \"fpr\": 0.35714285714285715, \"tpr\": 1.0, \"n\": 14}, {\"threshold\": 0.232, \"p\": 16, \"fpr\": 0.35714285714285715, \"tpr\": 1.0, \"n\": 14}, {\"threshold\": 0.233, \"p\": 16, \"fpr\": 0.35714285714285715, \"tpr\": 1.0, \"n\": 14}, {\"threshold\": 0.234, \"p\": 16, \"fpr\": 0.35714285714285715, \"tpr\": 1.0, \"n\": 14}, {\"threshold\": 0.235, \"p\": 16, \"fpr\": 0.35714285714285715, \"tpr\": 1.0, \"n\": 14}, {\"threshold\": 0.236, \"p\": 16, \"fpr\": 0.35714285714285715, \"tpr\": 1.0, \"n\": 14}, {\"threshold\": 0.237, \"p\": 16, \"fpr\": 0.35714285714285715, \"tpr\": 1.0, \"n\": 14}, {\"threshold\": 0.238, \"p\": 16, \"fpr\": 0.35714285714285715, \"tpr\": 1.0, \"n\": 14}, {\"threshold\": 0.239, \"p\": 16, \"fpr\": 0.35714285714285715, \"tpr\": 1.0, \"n\": 14}, {\"threshold\": 0.24, \"p\": 16, \"fpr\": 0.35714285714285715, \"tpr\": 1.0, \"n\": 14}, {\"threshold\": 0.241, \"p\": 16, \"fpr\": 0.35714285714285715, \"tpr\": 1.0, \"n\": 14}, {\"threshold\": 0.242, \"p\": 16, \"fpr\": 0.35714285714285715, \"tpr\": 1.0, \"n\": 14}, {\"threshold\": 0.243, \"p\": 16, \"fpr\": 0.35714285714285715, \"tpr\": 1.0, \"n\": 14}, {\"threshold\": 0.244, \"p\": 16, \"fpr\": 0.35714285714285715, \"tpr\": 1.0, \"n\": 14}, {\"threshold\": 0.245, \"p\": 16, \"fpr\": 0.35714285714285715, \"tpr\": 1.0, \"n\": 14}, {\"threshold\": 0.246, \"p\": 16, \"fpr\": 0.35714285714285715, \"tpr\": 1.0, \"n\": 14}, {\"threshold\": 0.247, \"p\": 16, \"fpr\": 0.35714285714285715, \"tpr\": 1.0, \"n\": 14}, {\"threshold\": 0.248, \"p\": 16, \"fpr\": 0.35714285714285715, \"tpr\": 1.0, \"n\": 14}, {\"threshold\": 0.249, \"p\": 16, \"fpr\": 0.35714285714285715, \"tpr\": 1.0, \"n\": 14}, {\"threshold\": 0.25, \"p\": 16, \"fpr\": 0.35714285714285715, \"tpr\": 1.0, \"n\": 14}, {\"threshold\": 0.251, \"p\": 16, \"fpr\": 0.35714285714285715, \"tpr\": 1.0, \"n\": 14}, {\"threshold\": 0.252, \"p\": 16, \"fpr\": 0.35714285714285715, \"tpr\": 1.0, \"n\": 14}, {\"threshold\": 0.253, \"p\": 16, \"fpr\": 0.35714285714285715, \"tpr\": 1.0, \"n\": 14}, {\"threshold\": 0.254, \"p\": 16, \"fpr\": 0.35714285714285715, \"tpr\": 1.0, \"n\": 14}, {\"threshold\": 0.255, \"p\": 16, \"fpr\": 0.35714285714285715, \"tpr\": 1.0, \"n\": 14}, {\"threshold\": 0.256, \"p\": 16, \"fpr\": 0.35714285714285715, \"tpr\": 1.0, \"n\": 14}, {\"threshold\": 0.257, \"p\": 16, \"fpr\": 0.35714285714285715, \"tpr\": 1.0, \"n\": 14}, {\"threshold\": 0.258, \"p\": 16, \"fpr\": 0.35714285714285715, \"tpr\": 1.0, \"n\": 14}, {\"threshold\": 0.259, \"p\": 16, \"fpr\": 0.35714285714285715, \"tpr\": 1.0, \"n\": 14}, {\"threshold\": 0.26, \"p\": 16, \"fpr\": 0.35714285714285715, \"tpr\": 1.0, \"n\": 14}, {\"threshold\": 0.261, \"p\": 16, \"fpr\": 0.35714285714285715, \"tpr\": 1.0, \"n\": 14}, {\"threshold\": 0.262, \"p\": 16, \"fpr\": 0.35714285714285715, \"tpr\": 1.0, \"n\": 14}, {\"threshold\": 0.263, \"p\": 16, \"fpr\": 0.35714285714285715, \"tpr\": 1.0, \"n\": 14}, {\"threshold\": 0.264, \"p\": 16, \"fpr\": 0.35714285714285715, \"tpr\": 1.0, \"n\": 14}, {\"threshold\": 0.265, \"p\": 16, \"fpr\": 0.35714285714285715, \"tpr\": 1.0, \"n\": 14}, {\"threshold\": 0.266, \"p\": 16, \"fpr\": 0.35714285714285715, \"tpr\": 1.0, \"n\": 14}, {\"threshold\": 0.267, \"p\": 16, \"fpr\": 0.35714285714285715, \"tpr\": 1.0, \"n\": 14}, {\"threshold\": 0.268, \"p\": 16, \"fpr\": 0.35714285714285715, \"tpr\": 1.0, \"n\": 14}, {\"threshold\": 0.269, \"p\": 16, \"fpr\": 0.35714285714285715, \"tpr\": 1.0, \"n\": 14}, {\"threshold\": 0.27, \"p\": 16, \"fpr\": 0.35714285714285715, \"tpr\": 1.0, \"n\": 14}, {\"threshold\": 0.271, \"p\": 16, \"fpr\": 0.35714285714285715, \"tpr\": 1.0, \"n\": 14}, {\"threshold\": 0.272, \"p\": 16, \"fpr\": 0.35714285714285715, \"tpr\": 1.0, \"n\": 14}, {\"threshold\": 0.273, \"p\": 16, \"fpr\": 0.35714285714285715, \"tpr\": 1.0, \"n\": 14}, {\"threshold\": 0.274, \"p\": 16, \"fpr\": 0.35714285714285715, \"tpr\": 1.0, \"n\": 14}, {\"threshold\": 0.275, \"p\": 16, \"fpr\": 0.35714285714285715, \"tpr\": 1.0, \"n\": 14}, {\"threshold\": 0.276, \"p\": 16, \"fpr\": 0.35714285714285715, \"tpr\": 1.0, \"n\": 14}, {\"threshold\": 0.277, \"p\": 16, \"fpr\": 0.2857142857142857, \"tpr\": 1.0, \"n\": 14}, {\"threshold\": 0.278, \"p\": 16, \"fpr\": 0.2857142857142857, \"tpr\": 1.0, \"n\": 14}, {\"threshold\": 0.279, \"p\": 16, \"fpr\": 0.2857142857142857, \"tpr\": 1.0, \"n\": 14}, {\"threshold\": 0.28, \"p\": 16, \"fpr\": 0.2857142857142857, \"tpr\": 1.0, \"n\": 14}, {\"threshold\": 0.281, \"p\": 16, \"fpr\": 0.2857142857142857, \"tpr\": 1.0, \"n\": 14}, {\"threshold\": 0.282, \"p\": 16, \"fpr\": 0.2857142857142857, \"tpr\": 1.0, \"n\": 14}, {\"threshold\": 0.283, \"p\": 16, \"fpr\": 0.2857142857142857, \"tpr\": 1.0, \"n\": 14}, {\"threshold\": 0.284, \"p\": 16, \"fpr\": 0.2857142857142857, \"tpr\": 1.0, \"n\": 14}, {\"threshold\": 0.285, \"p\": 16, \"fpr\": 0.2857142857142857, \"tpr\": 1.0, \"n\": 14}, {\"threshold\": 0.286, \"p\": 16, \"fpr\": 0.2857142857142857, \"tpr\": 1.0, \"n\": 14}, {\"threshold\": 0.287, \"p\": 16, \"fpr\": 0.2857142857142857, \"tpr\": 1.0, \"n\": 14}, {\"threshold\": 0.288, \"p\": 16, \"fpr\": 0.2857142857142857, \"tpr\": 1.0, \"n\": 14}, {\"threshold\": 0.289, \"p\": 16, \"fpr\": 0.2857142857142857, \"tpr\": 1.0, \"n\": 14}, {\"threshold\": 0.29, \"p\": 16, \"fpr\": 0.2857142857142857, \"tpr\": 1.0, \"n\": 14}, {\"threshold\": 0.291, \"p\": 16, \"fpr\": 0.2857142857142857, \"tpr\": 1.0, \"n\": 14}, {\"threshold\": 0.292, \"p\": 16, \"fpr\": 0.2857142857142857, \"tpr\": 1.0, \"n\": 14}, {\"threshold\": 0.293, \"p\": 16, \"fpr\": 0.2857142857142857, \"tpr\": 1.0, \"n\": 14}, {\"threshold\": 0.294, \"p\": 16, \"fpr\": 0.2857142857142857, \"tpr\": 1.0, \"n\": 14}, {\"threshold\": 0.295, \"p\": 16, \"fpr\": 0.2857142857142857, \"tpr\": 1.0, \"n\": 14}, {\"threshold\": 0.296, \"p\": 16, \"fpr\": 0.2857142857142857, \"tpr\": 1.0, \"n\": 14}, {\"threshold\": 0.297, \"p\": 16, \"fpr\": 0.2857142857142857, \"tpr\": 1.0, \"n\": 14}, {\"threshold\": 0.298, \"p\": 16, \"fpr\": 0.2857142857142857, \"tpr\": 1.0, \"n\": 14}, {\"threshold\": 0.299, \"p\": 16, \"fpr\": 0.2857142857142857, \"tpr\": 1.0, \"n\": 14}, {\"threshold\": 0.3, \"p\": 16, \"fpr\": 0.2857142857142857, \"tpr\": 1.0, \"n\": 14}, {\"threshold\": 0.301, \"p\": 16, \"fpr\": 0.2857142857142857, \"tpr\": 1.0, \"n\": 14}, {\"threshold\": 0.302, \"p\": 16, \"fpr\": 0.2857142857142857, \"tpr\": 1.0, \"n\": 14}, {\"threshold\": 0.303, \"p\": 16, \"fpr\": 0.2857142857142857, \"tpr\": 1.0, \"n\": 14}, {\"threshold\": 0.304, \"p\": 16, \"fpr\": 0.2857142857142857, \"tpr\": 1.0, \"n\": 14}, {\"threshold\": 0.305, \"p\": 16, \"fpr\": 0.2857142857142857, \"tpr\": 1.0, \"n\": 14}, {\"threshold\": 0.306, \"p\": 16, \"fpr\": 0.2857142857142857, \"tpr\": 1.0, \"n\": 14}, {\"threshold\": 0.307, \"p\": 16, \"fpr\": 0.2857142857142857, \"tpr\": 1.0, \"n\": 14}, {\"threshold\": 0.308, \"p\": 16, \"fpr\": 0.2857142857142857, \"tpr\": 1.0, \"n\": 14}, {\"threshold\": 0.309, \"p\": 16, \"fpr\": 0.2857142857142857, \"tpr\": 1.0, \"n\": 14}, {\"threshold\": 0.31, \"p\": 16, \"fpr\": 0.2857142857142857, \"tpr\": 1.0, \"n\": 14}, {\"threshold\": 0.311, \"p\": 16, \"fpr\": 0.2857142857142857, \"tpr\": 1.0, \"n\": 14}, {\"threshold\": 0.312, \"p\": 16, \"fpr\": 0.2857142857142857, \"tpr\": 1.0, \"n\": 14}, {\"threshold\": 0.313, \"p\": 16, \"fpr\": 0.2857142857142857, \"tpr\": 1.0, \"n\": 14}, {\"threshold\": 0.314, \"p\": 16, \"fpr\": 0.2857142857142857, \"tpr\": 1.0, \"n\": 14}, {\"threshold\": 0.315, \"p\": 16, \"fpr\": 0.2857142857142857, \"tpr\": 1.0, \"n\": 14}, {\"threshold\": 0.316, \"p\": 16, \"fpr\": 0.2857142857142857, \"tpr\": 1.0, \"n\": 14}, {\"threshold\": 0.317, \"p\": 16, \"fpr\": 0.2857142857142857, \"tpr\": 1.0, \"n\": 14}, {\"threshold\": 0.318, \"p\": 16, \"fpr\": 0.2857142857142857, \"tpr\": 1.0, \"n\": 14}, {\"threshold\": 0.319, \"p\": 16, \"fpr\": 0.2857142857142857, \"tpr\": 1.0, \"n\": 14}, {\"threshold\": 0.32, \"p\": 16, \"fpr\": 0.2857142857142857, \"tpr\": 1.0, \"n\": 14}, {\"threshold\": 0.321, \"p\": 16, \"fpr\": 0.2857142857142857, \"tpr\": 1.0, \"n\": 14}, {\"threshold\": 0.322, \"p\": 16, \"fpr\": 0.2857142857142857, \"tpr\": 1.0, \"n\": 14}, {\"threshold\": 0.323, \"p\": 16, \"fpr\": 0.2857142857142857, \"tpr\": 1.0, \"n\": 14}, {\"threshold\": 0.324, \"p\": 16, \"fpr\": 0.2857142857142857, \"tpr\": 1.0, \"n\": 14}, {\"threshold\": 0.325, \"p\": 16, \"fpr\": 0.2857142857142857, \"tpr\": 1.0, \"n\": 14}, {\"threshold\": 0.326, \"p\": 16, \"fpr\": 0.2857142857142857, \"tpr\": 1.0, \"n\": 14}, {\"threshold\": 0.327, \"p\": 16, \"fpr\": 0.2857142857142857, \"tpr\": 1.0, \"n\": 14}, {\"threshold\": 0.328, \"p\": 16, \"fpr\": 0.2857142857142857, \"tpr\": 1.0, \"n\": 14}, {\"threshold\": 0.329, \"p\": 16, \"fpr\": 0.2857142857142857, \"tpr\": 1.0, \"n\": 14}, {\"threshold\": 0.33, \"p\": 16, \"fpr\": 0.2857142857142857, \"tpr\": 1.0, \"n\": 14}, {\"threshold\": 0.331, \"p\": 16, \"fpr\": 0.2857142857142857, \"tpr\": 1.0, \"n\": 14}, {\"threshold\": 0.332, \"p\": 16, \"fpr\": 0.2857142857142857, \"tpr\": 1.0, \"n\": 14}, {\"threshold\": 0.333, \"p\": 16, \"fpr\": 0.2857142857142857, \"tpr\": 1.0, \"n\": 14}, {\"threshold\": 0.334, \"p\": 16, \"fpr\": 0.2857142857142857, \"tpr\": 1.0, \"n\": 14}, {\"threshold\": 0.335, \"p\": 16, \"fpr\": 0.2857142857142857, \"tpr\": 1.0, \"n\": 14}, {\"threshold\": 0.336, \"p\": 16, \"fpr\": 0.2857142857142857, \"tpr\": 1.0, \"n\": 14}, {\"threshold\": 0.337, \"p\": 16, \"fpr\": 0.2857142857142857, \"tpr\": 1.0, \"n\": 14}, {\"threshold\": 0.338, \"p\": 16, \"fpr\": 0.2857142857142857, \"tpr\": 1.0, \"n\": 14}, {\"threshold\": 0.339, \"p\": 16, \"fpr\": 0.2857142857142857, \"tpr\": 1.0, \"n\": 14}, {\"threshold\": 0.34, \"p\": 16, \"fpr\": 0.2857142857142857, \"tpr\": 1.0, \"n\": 14}, {\"threshold\": 0.341, \"p\": 16, \"fpr\": 0.2857142857142857, \"tpr\": 1.0, \"n\": 14}, {\"threshold\": 0.342, \"p\": 16, \"fpr\": 0.2857142857142857, \"tpr\": 1.0, \"n\": 14}, {\"threshold\": 0.343, \"p\": 16, \"fpr\": 0.2857142857142857, \"tpr\": 1.0, \"n\": 14}, {\"threshold\": 0.344, \"p\": 16, \"fpr\": 0.2857142857142857, \"tpr\": 1.0, \"n\": 14}, {\"threshold\": 0.345, \"p\": 16, \"fpr\": 0.2857142857142857, \"tpr\": 1.0, \"n\": 14}, {\"threshold\": 0.346, \"p\": 16, \"fpr\": 0.2857142857142857, \"tpr\": 1.0, \"n\": 14}, {\"threshold\": 0.347, \"p\": 16, \"fpr\": 0.2857142857142857, \"tpr\": 1.0, \"n\": 14}, {\"threshold\": 0.348, \"p\": 16, \"fpr\": 0.2857142857142857, \"tpr\": 1.0, \"n\": 14}, {\"threshold\": 0.349, \"p\": 16, \"fpr\": 0.2857142857142857, \"tpr\": 1.0, \"n\": 14}, {\"threshold\": 0.35, \"p\": 16, \"fpr\": 0.2857142857142857, \"tpr\": 1.0, \"n\": 14}, {\"threshold\": 0.351, \"p\": 16, \"fpr\": 0.2857142857142857, \"tpr\": 1.0, \"n\": 14}, {\"threshold\": 0.352, \"p\": 16, \"fpr\": 0.2857142857142857, \"tpr\": 1.0, \"n\": 14}, {\"threshold\": 0.353, \"p\": 16, \"fpr\": 0.2857142857142857, \"tpr\": 1.0, \"n\": 14}, {\"threshold\": 0.354, \"p\": 16, \"fpr\": 0.2857142857142857, \"tpr\": 1.0, \"n\": 14}, {\"threshold\": 0.355, \"p\": 16, \"fpr\": 0.2857142857142857, \"tpr\": 1.0, \"n\": 14}, {\"threshold\": 0.356, \"p\": 16, \"fpr\": 0.2857142857142857, \"tpr\": 1.0, \"n\": 14}, {\"threshold\": 0.357, \"p\": 16, \"fpr\": 0.2857142857142857, \"tpr\": 1.0, \"n\": 14}, {\"threshold\": 0.358, \"p\": 16, \"fpr\": 0.2857142857142857, \"tpr\": 1.0, \"n\": 14}, {\"threshold\": 0.359, \"p\": 16, \"fpr\": 0.2857142857142857, \"tpr\": 1.0, \"n\": 14}, {\"threshold\": 0.36, \"p\": 16, \"fpr\": 0.2857142857142857, \"tpr\": 1.0, \"n\": 14}, {\"threshold\": 0.361, \"p\": 16, \"fpr\": 0.2857142857142857, \"tpr\": 1.0, \"n\": 14}, {\"threshold\": 0.362, \"p\": 16, \"fpr\": 0.2857142857142857, \"tpr\": 1.0, \"n\": 14}, {\"threshold\": 0.363, \"p\": 16, \"fpr\": 0.2857142857142857, \"tpr\": 1.0, \"n\": 14}, {\"threshold\": 0.364, \"p\": 16, \"fpr\": 0.2857142857142857, \"tpr\": 1.0, \"n\": 14}, {\"threshold\": 0.365, \"p\": 16, \"fpr\": 0.2857142857142857, \"tpr\": 1.0, \"n\": 14}, {\"threshold\": 0.366, \"p\": 16, \"fpr\": 0.2857142857142857, \"tpr\": 1.0, \"n\": 14}, {\"threshold\": 0.367, \"p\": 16, \"fpr\": 0.2857142857142857, \"tpr\": 1.0, \"n\": 14}, {\"threshold\": 0.368, \"p\": 16, \"fpr\": 0.2857142857142857, \"tpr\": 1.0, \"n\": 14}, {\"threshold\": 0.369, \"p\": 16, \"fpr\": 0.2857142857142857, \"tpr\": 1.0, \"n\": 14}, {\"threshold\": 0.37, \"p\": 16, \"fpr\": 0.2857142857142857, \"tpr\": 1.0, \"n\": 14}, {\"threshold\": 0.371, \"p\": 16, \"fpr\": 0.2857142857142857, \"tpr\": 1.0, \"n\": 14}, {\"threshold\": 0.372, \"p\": 16, \"fpr\": 0.2857142857142857, \"tpr\": 1.0, \"n\": 14}, {\"threshold\": 0.373, \"p\": 16, \"fpr\": 0.2857142857142857, \"tpr\": 1.0, \"n\": 14}, {\"threshold\": 0.374, \"p\": 16, \"fpr\": 0.2857142857142857, \"tpr\": 1.0, \"n\": 14}, {\"threshold\": 0.375, \"p\": 16, \"fpr\": 0.2857142857142857, \"tpr\": 1.0, \"n\": 14}, {\"threshold\": 0.376, \"p\": 16, \"fpr\": 0.2857142857142857, \"tpr\": 1.0, \"n\": 14}, {\"threshold\": 0.377, \"p\": 16, \"fpr\": 0.2857142857142857, \"tpr\": 1.0, \"n\": 14}, {\"threshold\": 0.378, \"p\": 16, \"fpr\": 0.2857142857142857, \"tpr\": 1.0, \"n\": 14}, {\"threshold\": 0.379, \"p\": 16, \"fpr\": 0.2857142857142857, \"tpr\": 1.0, \"n\": 14}, {\"threshold\": 0.38, \"p\": 16, \"fpr\": 0.2857142857142857, \"tpr\": 1.0, \"n\": 14}, {\"threshold\": 0.381, \"p\": 16, \"fpr\": 0.2857142857142857, \"tpr\": 1.0, \"n\": 14}, {\"threshold\": 0.382, \"p\": 16, \"fpr\": 0.2857142857142857, \"tpr\": 1.0, \"n\": 14}, {\"threshold\": 0.383, \"p\": 16, \"fpr\": 0.2857142857142857, \"tpr\": 1.0, \"n\": 14}, {\"threshold\": 0.384, \"p\": 16, \"fpr\": 0.2857142857142857, \"tpr\": 1.0, \"n\": 14}, {\"threshold\": 0.385, \"p\": 16, \"fpr\": 0.2857142857142857, \"tpr\": 1.0, \"n\": 14}, {\"threshold\": 0.386, \"p\": 16, \"fpr\": 0.2857142857142857, \"tpr\": 1.0, \"n\": 14}, {\"threshold\": 0.387, \"p\": 16, \"fpr\": 0.2857142857142857, \"tpr\": 1.0, \"n\": 14}, {\"threshold\": 0.388, \"p\": 16, \"fpr\": 0.2857142857142857, \"tpr\": 1.0, \"n\": 14}, {\"threshold\": 0.389, \"p\": 16, \"fpr\": 0.2857142857142857, \"tpr\": 1.0, \"n\": 14}, {\"threshold\": 0.39, \"p\": 16, \"fpr\": 0.2857142857142857, \"tpr\": 1.0, \"n\": 14}, {\"threshold\": 0.391, \"p\": 16, \"fpr\": 0.2857142857142857, \"tpr\": 1.0, \"n\": 14}, {\"threshold\": 0.392, \"p\": 16, \"fpr\": 0.2857142857142857, \"tpr\": 1.0, \"n\": 14}, {\"threshold\": 0.393, \"p\": 16, \"fpr\": 0.2857142857142857, \"tpr\": 1.0, \"n\": 14}, {\"threshold\": 0.394, \"p\": 16, \"fpr\": 0.2857142857142857, \"tpr\": 1.0, \"n\": 14}, {\"threshold\": 0.395, \"p\": 16, \"fpr\": 0.2857142857142857, \"tpr\": 1.0, \"n\": 14}, {\"threshold\": 0.396, \"p\": 16, \"fpr\": 0.2857142857142857, \"tpr\": 1.0, \"n\": 14}, {\"threshold\": 0.397, \"p\": 16, \"fpr\": 0.2857142857142857, \"tpr\": 1.0, \"n\": 14}, {\"threshold\": 0.398, \"p\": 16, \"fpr\": 0.2857142857142857, \"tpr\": 1.0, \"n\": 14}, {\"threshold\": 0.399, \"p\": 16, \"fpr\": 0.2857142857142857, \"tpr\": 1.0, \"n\": 14}, {\"threshold\": 0.4, \"p\": 16, \"fpr\": 0.2857142857142857, \"tpr\": 1.0, \"n\": 14}, {\"threshold\": 0.401, \"p\": 16, \"fpr\": 0.2857142857142857, \"tpr\": 1.0, \"n\": 14}, {\"threshold\": 0.402, \"p\": 16, \"fpr\": 0.2857142857142857, \"tpr\": 1.0, \"n\": 14}, {\"threshold\": 0.403, \"p\": 16, \"fpr\": 0.2857142857142857, \"tpr\": 1.0, \"n\": 14}, {\"threshold\": 0.404, \"p\": 16, \"fpr\": 0.2857142857142857, \"tpr\": 1.0, \"n\": 14}, {\"threshold\": 0.405, \"p\": 16, \"fpr\": 0.2857142857142857, \"tpr\": 1.0, \"n\": 14}, {\"threshold\": 0.406, \"p\": 16, \"fpr\": 0.2857142857142857, \"tpr\": 1.0, \"n\": 14}, {\"threshold\": 0.407, \"p\": 16, \"fpr\": 0.2857142857142857, \"tpr\": 1.0, \"n\": 14}, {\"threshold\": 0.408, \"p\": 16, \"fpr\": 0.2857142857142857, \"tpr\": 1.0, \"n\": 14}, {\"threshold\": 0.409, \"p\": 16, \"fpr\": 0.2857142857142857, \"tpr\": 1.0, \"n\": 14}, {\"threshold\": 0.41, \"p\": 16, \"fpr\": 0.2857142857142857, \"tpr\": 1.0, \"n\": 14}, {\"threshold\": 0.411, \"p\": 16, \"fpr\": 0.21428571428571427, \"tpr\": 1.0, \"n\": 14}, {\"threshold\": 0.412, \"p\": 16, \"fpr\": 0.21428571428571427, \"tpr\": 1.0, \"n\": 14}, {\"threshold\": 0.413, \"p\": 16, \"fpr\": 0.21428571428571427, \"tpr\": 1.0, \"n\": 14}, {\"threshold\": 0.414, \"p\": 16, \"fpr\": 0.21428571428571427, \"tpr\": 1.0, \"n\": 14}, {\"threshold\": 0.415, \"p\": 16, \"fpr\": 0.21428571428571427, \"tpr\": 1.0, \"n\": 14}, {\"threshold\": 0.416, \"p\": 16, \"fpr\": 0.21428571428571427, \"tpr\": 1.0, \"n\": 14}, {\"threshold\": 0.417, \"p\": 16, \"fpr\": 0.21428571428571427, \"tpr\": 1.0, \"n\": 14}, {\"threshold\": 0.418, \"p\": 16, \"fpr\": 0.21428571428571427, \"tpr\": 1.0, \"n\": 14}, {\"threshold\": 0.419, \"p\": 16, \"fpr\": 0.21428571428571427, \"tpr\": 1.0, \"n\": 14}, {\"threshold\": 0.42, \"p\": 16, \"fpr\": 0.21428571428571427, \"tpr\": 1.0, \"n\": 14}, {\"threshold\": 0.421, \"p\": 16, \"fpr\": 0.21428571428571427, \"tpr\": 1.0, \"n\": 14}, {\"threshold\": 0.422, \"p\": 16, \"fpr\": 0.21428571428571427, \"tpr\": 1.0, \"n\": 14}, {\"threshold\": 0.423, \"p\": 16, \"fpr\": 0.21428571428571427, \"tpr\": 1.0, \"n\": 14}, {\"threshold\": 0.424, \"p\": 16, \"fpr\": 0.21428571428571427, \"tpr\": 1.0, \"n\": 14}, {\"threshold\": 0.425, \"p\": 16, \"fpr\": 0.21428571428571427, \"tpr\": 1.0, \"n\": 14}, {\"threshold\": 0.426, \"p\": 16, \"fpr\": 0.21428571428571427, \"tpr\": 1.0, \"n\": 14}, {\"threshold\": 0.427, \"p\": 16, \"fpr\": 0.21428571428571427, \"tpr\": 1.0, \"n\": 14}, {\"threshold\": 0.428, \"p\": 16, \"fpr\": 0.21428571428571427, \"tpr\": 1.0, \"n\": 14}, {\"threshold\": 0.429, \"p\": 16, \"fpr\": 0.21428571428571427, \"tpr\": 1.0, \"n\": 14}, {\"threshold\": 0.43, \"p\": 16, \"fpr\": 0.21428571428571427, \"tpr\": 1.0, \"n\": 14}, {\"threshold\": 0.431, \"p\": 16, \"fpr\": 0.21428571428571427, \"tpr\": 1.0, \"n\": 14}, {\"threshold\": 0.432, \"p\": 16, \"fpr\": 0.21428571428571427, \"tpr\": 1.0, \"n\": 14}, {\"threshold\": 0.433, \"p\": 16, \"fpr\": 0.21428571428571427, \"tpr\": 1.0, \"n\": 14}, {\"threshold\": 0.434, \"p\": 16, \"fpr\": 0.21428571428571427, \"tpr\": 1.0, \"n\": 14}, {\"threshold\": 0.435, \"p\": 16, \"fpr\": 0.21428571428571427, \"tpr\": 1.0, \"n\": 14}, {\"threshold\": 0.436, \"p\": 16, \"fpr\": 0.21428571428571427, \"tpr\": 1.0, \"n\": 14}, {\"threshold\": 0.437, \"p\": 16, \"fpr\": 0.21428571428571427, \"tpr\": 1.0, \"n\": 14}, {\"threshold\": 0.438, \"p\": 16, \"fpr\": 0.21428571428571427, \"tpr\": 1.0, \"n\": 14}, {\"threshold\": 0.439, \"p\": 16, \"fpr\": 0.21428571428571427, \"tpr\": 1.0, \"n\": 14}, {\"threshold\": 0.44, \"p\": 16, \"fpr\": 0.21428571428571427, \"tpr\": 1.0, \"n\": 14}, {\"threshold\": 0.441, \"p\": 16, \"fpr\": 0.21428571428571427, \"tpr\": 1.0, \"n\": 14}, {\"threshold\": 0.442, \"p\": 16, \"fpr\": 0.21428571428571427, \"tpr\": 1.0, \"n\": 14}, {\"threshold\": 0.443, \"p\": 16, \"fpr\": 0.21428571428571427, \"tpr\": 1.0, \"n\": 14}, {\"threshold\": 0.444, \"p\": 16, \"fpr\": 0.21428571428571427, \"tpr\": 1.0, \"n\": 14}, {\"threshold\": 0.445, \"p\": 16, \"fpr\": 0.21428571428571427, \"tpr\": 1.0, \"n\": 14}, {\"threshold\": 0.446, \"p\": 16, \"fpr\": 0.21428571428571427, \"tpr\": 1.0, \"n\": 14}, {\"threshold\": 0.447, \"p\": 16, \"fpr\": 0.21428571428571427, \"tpr\": 1.0, \"n\": 14}, {\"threshold\": 0.448, \"p\": 16, \"fpr\": 0.21428571428571427, \"tpr\": 1.0, \"n\": 14}, {\"threshold\": 0.449, \"p\": 16, \"fpr\": 0.21428571428571427, \"tpr\": 1.0, \"n\": 14}, {\"threshold\": 0.45, \"p\": 16, \"fpr\": 0.21428571428571427, \"tpr\": 1.0, \"n\": 14}, {\"threshold\": 0.451, \"p\": 16, \"fpr\": 0.21428571428571427, \"tpr\": 1.0, \"n\": 14}, {\"threshold\": 0.452, \"p\": 16, \"fpr\": 0.21428571428571427, \"tpr\": 1.0, \"n\": 14}, {\"threshold\": 0.453, \"p\": 16, \"fpr\": 0.21428571428571427, \"tpr\": 1.0, \"n\": 14}, {\"threshold\": 0.454, \"p\": 16, \"fpr\": 0.21428571428571427, \"tpr\": 1.0, \"n\": 14}, {\"threshold\": 0.455, \"p\": 16, \"fpr\": 0.21428571428571427, \"tpr\": 1.0, \"n\": 14}, {\"threshold\": 0.456, \"p\": 16, \"fpr\": 0.21428571428571427, \"tpr\": 1.0, \"n\": 14}, {\"threshold\": 0.457, \"p\": 16, \"fpr\": 0.21428571428571427, \"tpr\": 1.0, \"n\": 14}, {\"threshold\": 0.458, \"p\": 16, \"fpr\": 0.21428571428571427, \"tpr\": 1.0, \"n\": 14}, {\"threshold\": 0.459, \"p\": 16, \"fpr\": 0.21428571428571427, \"tpr\": 1.0, \"n\": 14}, {\"threshold\": 0.46, \"p\": 16, \"fpr\": 0.21428571428571427, \"tpr\": 1.0, \"n\": 14}, {\"threshold\": 0.461, \"p\": 16, \"fpr\": 0.21428571428571427, \"tpr\": 1.0, \"n\": 14}, {\"threshold\": 0.462, \"p\": 16, \"fpr\": 0.21428571428571427, \"tpr\": 1.0, \"n\": 14}, {\"threshold\": 0.463, \"p\": 16, \"fpr\": 0.21428571428571427, \"tpr\": 1.0, \"n\": 14}, {\"threshold\": 0.464, \"p\": 16, \"fpr\": 0.21428571428571427, \"tpr\": 1.0, \"n\": 14}, {\"threshold\": 0.465, \"p\": 16, \"fpr\": 0.21428571428571427, \"tpr\": 1.0, \"n\": 14}, {\"threshold\": 0.466, \"p\": 16, \"fpr\": 0.21428571428571427, \"tpr\": 1.0, \"n\": 14}, {\"threshold\": 0.467, \"p\": 16, \"fpr\": 0.21428571428571427, \"tpr\": 1.0, \"n\": 14}, {\"threshold\": 0.468, \"p\": 16, \"fpr\": 0.21428571428571427, \"tpr\": 1.0, \"n\": 14}, {\"threshold\": 0.469, \"p\": 16, \"fpr\": 0.21428571428571427, \"tpr\": 1.0, \"n\": 14}, {\"threshold\": 0.47, \"p\": 16, \"fpr\": 0.21428571428571427, \"tpr\": 1.0, \"n\": 14}, {\"threshold\": 0.471, \"p\": 16, \"fpr\": 0.21428571428571427, \"tpr\": 1.0, \"n\": 14}, {\"threshold\": 0.472, \"p\": 16, \"fpr\": 0.21428571428571427, \"tpr\": 1.0, \"n\": 14}, {\"threshold\": 0.473, \"p\": 16, \"fpr\": 0.21428571428571427, \"tpr\": 1.0, \"n\": 14}, {\"threshold\": 0.474, \"p\": 16, \"fpr\": 0.21428571428571427, \"tpr\": 1.0, \"n\": 14}, {\"threshold\": 0.475, \"p\": 16, \"fpr\": 0.21428571428571427, \"tpr\": 1.0, \"n\": 14}, {\"threshold\": 0.476, \"p\": 16, \"fpr\": 0.21428571428571427, \"tpr\": 1.0, \"n\": 14}, {\"threshold\": 0.477, \"p\": 16, \"fpr\": 0.21428571428571427, \"tpr\": 1.0, \"n\": 14}, {\"threshold\": 0.478, \"p\": 16, \"fpr\": 0.21428571428571427, \"tpr\": 1.0, \"n\": 14}, {\"threshold\": 0.479, \"p\": 16, \"fpr\": 0.21428571428571427, \"tpr\": 1.0, \"n\": 14}, {\"threshold\": 0.48, \"p\": 16, \"fpr\": 0.21428571428571427, \"tpr\": 1.0, \"n\": 14}, {\"threshold\": 0.481, \"p\": 16, \"fpr\": 0.21428571428571427, \"tpr\": 1.0, \"n\": 14}, {\"threshold\": 0.482, \"p\": 16, \"fpr\": 0.21428571428571427, \"tpr\": 1.0, \"n\": 14}, {\"threshold\": 0.483, \"p\": 16, \"fpr\": 0.21428571428571427, \"tpr\": 1.0, \"n\": 14}, {\"threshold\": 0.484, \"p\": 16, \"fpr\": 0.21428571428571427, \"tpr\": 1.0, \"n\": 14}, {\"threshold\": 0.485, \"p\": 16, \"fpr\": 0.21428571428571427, \"tpr\": 1.0, \"n\": 14}, {\"threshold\": 0.486, \"p\": 16, \"fpr\": 0.21428571428571427, \"tpr\": 1.0, \"n\": 14}, {\"threshold\": 0.487, \"p\": 16, \"fpr\": 0.21428571428571427, \"tpr\": 0.9375, \"n\": 14}, {\"threshold\": 0.488, \"p\": 16, \"fpr\": 0.21428571428571427, \"tpr\": 0.9375, \"n\": 14}, {\"threshold\": 0.489, \"p\": 16, \"fpr\": 0.21428571428571427, \"tpr\": 0.9375, \"n\": 14}, {\"threshold\": 0.49, \"p\": 16, \"fpr\": 0.21428571428571427, \"tpr\": 0.9375, \"n\": 14}, {\"threshold\": 0.491, \"p\": 16, \"fpr\": 0.21428571428571427, \"tpr\": 0.9375, \"n\": 14}, {\"threshold\": 0.492, \"p\": 16, \"fpr\": 0.21428571428571427, \"tpr\": 0.9375, \"n\": 14}, {\"threshold\": 0.493, \"p\": 16, \"fpr\": 0.21428571428571427, \"tpr\": 0.9375, \"n\": 14}, {\"threshold\": 0.494, \"p\": 16, \"fpr\": 0.21428571428571427, \"tpr\": 0.9375, \"n\": 14}, {\"threshold\": 0.495, \"p\": 16, \"fpr\": 0.21428571428571427, \"tpr\": 0.9375, \"n\": 14}, {\"threshold\": 0.496, \"p\": 16, \"fpr\": 0.21428571428571427, \"tpr\": 0.9375, \"n\": 14}, {\"threshold\": 0.497, \"p\": 16, \"fpr\": 0.21428571428571427, \"tpr\": 0.9375, \"n\": 14}, {\"threshold\": 0.498, \"p\": 16, \"fpr\": 0.21428571428571427, \"tpr\": 0.9375, \"n\": 14}, {\"threshold\": 0.499, \"p\": 16, \"fpr\": 0.21428571428571427, \"tpr\": 0.9375, \"n\": 14}, {\"threshold\": 0.5, \"p\": 16, \"fpr\": 0.21428571428571427, \"tpr\": 0.9375, \"n\": 14}, {\"threshold\": 0.501, \"p\": 16, \"fpr\": 0.21428571428571427, \"tpr\": 0.9375, \"n\": 14}, {\"threshold\": 0.502, \"p\": 16, \"fpr\": 0.21428571428571427, \"tpr\": 0.9375, \"n\": 14}, {\"threshold\": 0.503, \"p\": 16, \"fpr\": 0.21428571428571427, \"tpr\": 0.9375, \"n\": 14}, {\"threshold\": 0.504, \"p\": 16, \"fpr\": 0.21428571428571427, \"tpr\": 0.9375, \"n\": 14}, {\"threshold\": 0.505, \"p\": 16, \"fpr\": 0.21428571428571427, \"tpr\": 0.9375, \"n\": 14}, {\"threshold\": 0.506, \"p\": 16, \"fpr\": 0.21428571428571427, \"tpr\": 0.9375, \"n\": 14}, {\"threshold\": 0.507, \"p\": 16, \"fpr\": 0.21428571428571427, \"tpr\": 0.9375, \"n\": 14}, {\"threshold\": 0.508, \"p\": 16, \"fpr\": 0.21428571428571427, \"tpr\": 0.9375, \"n\": 14}, {\"threshold\": 0.509, \"p\": 16, \"fpr\": 0.21428571428571427, \"tpr\": 0.9375, \"n\": 14}, {\"threshold\": 0.51, \"p\": 16, \"fpr\": 0.21428571428571427, \"tpr\": 0.9375, \"n\": 14}, {\"threshold\": 0.511, \"p\": 16, \"fpr\": 0.21428571428571427, \"tpr\": 0.9375, \"n\": 14}, {\"threshold\": 0.512, \"p\": 16, \"fpr\": 0.21428571428571427, \"tpr\": 0.9375, \"n\": 14}, {\"threshold\": 0.513, \"p\": 16, \"fpr\": 0.21428571428571427, \"tpr\": 0.9375, \"n\": 14}, {\"threshold\": 0.514, \"p\": 16, \"fpr\": 0.21428571428571427, \"tpr\": 0.9375, \"n\": 14}, {\"threshold\": 0.515, \"p\": 16, \"fpr\": 0.21428571428571427, \"tpr\": 0.9375, \"n\": 14}, {\"threshold\": 0.516, \"p\": 16, \"fpr\": 0.21428571428571427, \"tpr\": 0.9375, \"n\": 14}, {\"threshold\": 0.517, \"p\": 16, \"fpr\": 0.21428571428571427, \"tpr\": 0.9375, \"n\": 14}, {\"threshold\": 0.518, \"p\": 16, \"fpr\": 0.21428571428571427, \"tpr\": 0.9375, \"n\": 14}, {\"threshold\": 0.519, \"p\": 16, \"fpr\": 0.21428571428571427, \"tpr\": 0.9375, \"n\": 14}, {\"threshold\": 0.52, \"p\": 16, \"fpr\": 0.21428571428571427, \"tpr\": 0.9375, \"n\": 14}, {\"threshold\": 0.521, \"p\": 16, \"fpr\": 0.21428571428571427, \"tpr\": 0.9375, \"n\": 14}, {\"threshold\": 0.522, \"p\": 16, \"fpr\": 0.21428571428571427, \"tpr\": 0.9375, \"n\": 14}, {\"threshold\": 0.523, \"p\": 16, \"fpr\": 0.21428571428571427, \"tpr\": 0.9375, \"n\": 14}, {\"threshold\": 0.524, \"p\": 16, \"fpr\": 0.21428571428571427, \"tpr\": 0.9375, \"n\": 14}, {\"threshold\": 0.525, \"p\": 16, \"fpr\": 0.21428571428571427, \"tpr\": 0.9375, \"n\": 14}, {\"threshold\": 0.526, \"p\": 16, \"fpr\": 0.21428571428571427, \"tpr\": 0.9375, \"n\": 14}, {\"threshold\": 0.527, \"p\": 16, \"fpr\": 0.21428571428571427, \"tpr\": 0.9375, \"n\": 14}, {\"threshold\": 0.528, \"p\": 16, \"fpr\": 0.21428571428571427, \"tpr\": 0.9375, \"n\": 14}, {\"threshold\": 0.529, \"p\": 16, \"fpr\": 0.21428571428571427, \"tpr\": 0.9375, \"n\": 14}, {\"threshold\": 0.53, \"p\": 16, \"fpr\": 0.21428571428571427, \"tpr\": 0.875, \"n\": 14}, {\"threshold\": 0.531, \"p\": 16, \"fpr\": 0.21428571428571427, \"tpr\": 0.875, \"n\": 14}, {\"threshold\": 0.532, \"p\": 16, \"fpr\": 0.21428571428571427, \"tpr\": 0.875, \"n\": 14}, {\"threshold\": 0.533, \"p\": 16, \"fpr\": 0.21428571428571427, \"tpr\": 0.875, \"n\": 14}, {\"threshold\": 0.534, \"p\": 16, \"fpr\": 0.21428571428571427, \"tpr\": 0.875, \"n\": 14}, {\"threshold\": 0.535, \"p\": 16, \"fpr\": 0.21428571428571427, \"tpr\": 0.875, \"n\": 14}, {\"threshold\": 0.536, \"p\": 16, \"fpr\": 0.21428571428571427, \"tpr\": 0.875, \"n\": 14}, {\"threshold\": 0.537, \"p\": 16, \"fpr\": 0.21428571428571427, \"tpr\": 0.875, \"n\": 14}, {\"threshold\": 0.538, \"p\": 16, \"fpr\": 0.21428571428571427, \"tpr\": 0.875, \"n\": 14}, {\"threshold\": 0.539, \"p\": 16, \"fpr\": 0.21428571428571427, \"tpr\": 0.875, \"n\": 14}, {\"threshold\": 0.54, \"p\": 16, \"fpr\": 0.21428571428571427, \"tpr\": 0.875, \"n\": 14}, {\"threshold\": 0.541, \"p\": 16, \"fpr\": 0.21428571428571427, \"tpr\": 0.875, \"n\": 14}, {\"threshold\": 0.542, \"p\": 16, \"fpr\": 0.21428571428571427, \"tpr\": 0.875, \"n\": 14}, {\"threshold\": 0.543, \"p\": 16, \"fpr\": 0.21428571428571427, \"tpr\": 0.875, \"n\": 14}, {\"threshold\": 0.544, \"p\": 16, \"fpr\": 0.21428571428571427, \"tpr\": 0.875, \"n\": 14}, {\"threshold\": 0.545, \"p\": 16, \"fpr\": 0.21428571428571427, \"tpr\": 0.875, \"n\": 14}, {\"threshold\": 0.546, \"p\": 16, \"fpr\": 0.21428571428571427, \"tpr\": 0.875, \"n\": 14}, {\"threshold\": 0.547, \"p\": 16, \"fpr\": 0.21428571428571427, \"tpr\": 0.875, \"n\": 14}, {\"threshold\": 0.548, \"p\": 16, \"fpr\": 0.21428571428571427, \"tpr\": 0.875, \"n\": 14}, {\"threshold\": 0.549, \"p\": 16, \"fpr\": 0.21428571428571427, \"tpr\": 0.875, \"n\": 14}, {\"threshold\": 0.55, \"p\": 16, \"fpr\": 0.21428571428571427, \"tpr\": 0.875, \"n\": 14}, {\"threshold\": 0.551, \"p\": 16, \"fpr\": 0.21428571428571427, \"tpr\": 0.875, \"n\": 14}, {\"threshold\": 0.552, \"p\": 16, \"fpr\": 0.21428571428571427, \"tpr\": 0.875, \"n\": 14}, {\"threshold\": 0.553, \"p\": 16, \"fpr\": 0.21428571428571427, \"tpr\": 0.875, \"n\": 14}, {\"threshold\": 0.554, \"p\": 16, \"fpr\": 0.21428571428571427, \"tpr\": 0.875, \"n\": 14}, {\"threshold\": 0.555, \"p\": 16, \"fpr\": 0.21428571428571427, \"tpr\": 0.875, \"n\": 14}, {\"threshold\": 0.556, \"p\": 16, \"fpr\": 0.21428571428571427, \"tpr\": 0.875, \"n\": 14}, {\"threshold\": 0.557, \"p\": 16, \"fpr\": 0.21428571428571427, \"tpr\": 0.875, \"n\": 14}, {\"threshold\": 0.558, \"p\": 16, \"fpr\": 0.21428571428571427, \"tpr\": 0.875, \"n\": 14}, {\"threshold\": 0.559, \"p\": 16, \"fpr\": 0.21428571428571427, \"tpr\": 0.875, \"n\": 14}, {\"threshold\": 0.56, \"p\": 16, \"fpr\": 0.21428571428571427, \"tpr\": 0.875, \"n\": 14}, {\"threshold\": 0.561, \"p\": 16, \"fpr\": 0.21428571428571427, \"tpr\": 0.875, \"n\": 14}, {\"threshold\": 0.562, \"p\": 16, \"fpr\": 0.21428571428571427, \"tpr\": 0.875, \"n\": 14}, {\"threshold\": 0.563, \"p\": 16, \"fpr\": 0.21428571428571427, \"tpr\": 0.875, \"n\": 14}, {\"threshold\": 0.564, \"p\": 16, \"fpr\": 0.21428571428571427, \"tpr\": 0.875, \"n\": 14}, {\"threshold\": 0.565, \"p\": 16, \"fpr\": 0.21428571428571427, \"tpr\": 0.875, \"n\": 14}, {\"threshold\": 0.566, \"p\": 16, \"fpr\": 0.21428571428571427, \"tpr\": 0.875, \"n\": 14}, {\"threshold\": 0.567, \"p\": 16, \"fpr\": 0.21428571428571427, \"tpr\": 0.875, \"n\": 14}, {\"threshold\": 0.568, \"p\": 16, \"fpr\": 0.21428571428571427, \"tpr\": 0.875, \"n\": 14}, {\"threshold\": 0.569, \"p\": 16, \"fpr\": 0.21428571428571427, \"tpr\": 0.875, \"n\": 14}, {\"threshold\": 0.57, \"p\": 16, \"fpr\": 0.21428571428571427, \"tpr\": 0.875, \"n\": 14}, {\"threshold\": 0.571, \"p\": 16, \"fpr\": 0.21428571428571427, \"tpr\": 0.875, \"n\": 14}, {\"threshold\": 0.572, \"p\": 16, \"fpr\": 0.21428571428571427, \"tpr\": 0.875, \"n\": 14}, {\"threshold\": 0.573, \"p\": 16, \"fpr\": 0.21428571428571427, \"tpr\": 0.875, \"n\": 14}, {\"threshold\": 0.574, \"p\": 16, \"fpr\": 0.21428571428571427, \"tpr\": 0.875, \"n\": 14}, {\"threshold\": 0.575, \"p\": 16, \"fpr\": 0.21428571428571427, \"tpr\": 0.875, \"n\": 14}, {\"threshold\": 0.576, \"p\": 16, \"fpr\": 0.21428571428571427, \"tpr\": 0.875, \"n\": 14}, {\"threshold\": 0.577, \"p\": 16, \"fpr\": 0.21428571428571427, \"tpr\": 0.875, \"n\": 14}, {\"threshold\": 0.578, \"p\": 16, \"fpr\": 0.21428571428571427, \"tpr\": 0.875, \"n\": 14}, {\"threshold\": 0.579, \"p\": 16, \"fpr\": 0.21428571428571427, \"tpr\": 0.875, \"n\": 14}, {\"threshold\": 0.58, \"p\": 16, \"fpr\": 0.21428571428571427, \"tpr\": 0.875, \"n\": 14}, {\"threshold\": 0.581, \"p\": 16, \"fpr\": 0.21428571428571427, \"tpr\": 0.875, \"n\": 14}, {\"threshold\": 0.582, \"p\": 16, \"fpr\": 0.21428571428571427, \"tpr\": 0.875, \"n\": 14}, {\"threshold\": 0.583, \"p\": 16, \"fpr\": 0.21428571428571427, \"tpr\": 0.875, \"n\": 14}, {\"threshold\": 0.584, \"p\": 16, \"fpr\": 0.21428571428571427, \"tpr\": 0.875, \"n\": 14}, {\"threshold\": 0.585, \"p\": 16, \"fpr\": 0.21428571428571427, \"tpr\": 0.875, \"n\": 14}, {\"threshold\": 0.586, \"p\": 16, \"fpr\": 0.21428571428571427, \"tpr\": 0.875, \"n\": 14}, {\"threshold\": 0.587, \"p\": 16, \"fpr\": 0.21428571428571427, \"tpr\": 0.875, \"n\": 14}, {\"threshold\": 0.588, \"p\": 16, \"fpr\": 0.21428571428571427, \"tpr\": 0.875, \"n\": 14}, {\"threshold\": 0.589, \"p\": 16, \"fpr\": 0.21428571428571427, \"tpr\": 0.875, \"n\": 14}, {\"threshold\": 0.59, \"p\": 16, \"fpr\": 0.21428571428571427, \"tpr\": 0.875, \"n\": 14}, {\"threshold\": 0.591, \"p\": 16, \"fpr\": 0.21428571428571427, \"tpr\": 0.875, \"n\": 14}, {\"threshold\": 0.592, \"p\": 16, \"fpr\": 0.21428571428571427, \"tpr\": 0.875, \"n\": 14}, {\"threshold\": 0.593, \"p\": 16, \"fpr\": 0.21428571428571427, \"tpr\": 0.875, \"n\": 14}, {\"threshold\": 0.594, \"p\": 16, \"fpr\": 0.21428571428571427, \"tpr\": 0.875, \"n\": 14}, {\"threshold\": 0.595, \"p\": 16, \"fpr\": 0.21428571428571427, \"tpr\": 0.875, \"n\": 14}, {\"threshold\": 0.596, \"p\": 16, \"fpr\": 0.21428571428571427, \"tpr\": 0.875, \"n\": 14}, {\"threshold\": 0.597, \"p\": 16, \"fpr\": 0.21428571428571427, \"tpr\": 0.875, \"n\": 14}, {\"threshold\": 0.598, \"p\": 16, \"fpr\": 0.21428571428571427, \"tpr\": 0.875, \"n\": 14}, {\"threshold\": 0.599, \"p\": 16, \"fpr\": 0.14285714285714285, \"tpr\": 0.875, \"n\": 14}, {\"threshold\": 0.6, \"p\": 16, \"fpr\": 0.14285714285714285, \"tpr\": 0.875, \"n\": 14}, {\"threshold\": 0.601, \"p\": 16, \"fpr\": 0.14285714285714285, \"tpr\": 0.875, \"n\": 14}, {\"threshold\": 0.602, \"p\": 16, \"fpr\": 0.14285714285714285, \"tpr\": 0.875, \"n\": 14}, {\"threshold\": 0.603, \"p\": 16, \"fpr\": 0.14285714285714285, \"tpr\": 0.875, \"n\": 14}, {\"threshold\": 0.604, \"p\": 16, \"fpr\": 0.14285714285714285, \"tpr\": 0.875, \"n\": 14}, {\"threshold\": 0.605, \"p\": 16, \"fpr\": 0.14285714285714285, \"tpr\": 0.875, \"n\": 14}, {\"threshold\": 0.606, \"p\": 16, \"fpr\": 0.14285714285714285, \"tpr\": 0.875, \"n\": 14}, {\"threshold\": 0.607, \"p\": 16, \"fpr\": 0.14285714285714285, \"tpr\": 0.875, \"n\": 14}, {\"threshold\": 0.608, \"p\": 16, \"fpr\": 0.14285714285714285, \"tpr\": 0.875, \"n\": 14}, {\"threshold\": 0.609, \"p\": 16, \"fpr\": 0.14285714285714285, \"tpr\": 0.875, \"n\": 14}, {\"threshold\": 0.61, \"p\": 16, \"fpr\": 0.14285714285714285, \"tpr\": 0.875, \"n\": 14}, {\"threshold\": 0.611, \"p\": 16, \"fpr\": 0.14285714285714285, \"tpr\": 0.875, \"n\": 14}, {\"threshold\": 0.612, \"p\": 16, \"fpr\": 0.14285714285714285, \"tpr\": 0.875, \"n\": 14}, {\"threshold\": 0.613, \"p\": 16, \"fpr\": 0.14285714285714285, \"tpr\": 0.875, \"n\": 14}, {\"threshold\": 0.614, \"p\": 16, \"fpr\": 0.14285714285714285, \"tpr\": 0.875, \"n\": 14}, {\"threshold\": 0.615, \"p\": 16, \"fpr\": 0.14285714285714285, \"tpr\": 0.875, \"n\": 14}, {\"threshold\": 0.616, \"p\": 16, \"fpr\": 0.14285714285714285, \"tpr\": 0.875, \"n\": 14}, {\"threshold\": 0.617, \"p\": 16, \"fpr\": 0.14285714285714285, \"tpr\": 0.875, \"n\": 14}, {\"threshold\": 0.618, \"p\": 16, \"fpr\": 0.14285714285714285, \"tpr\": 0.875, \"n\": 14}, {\"threshold\": 0.619, \"p\": 16, \"fpr\": 0.14285714285714285, \"tpr\": 0.875, \"n\": 14}, {\"threshold\": 0.62, \"p\": 16, \"fpr\": 0.14285714285714285, \"tpr\": 0.875, \"n\": 14}, {\"threshold\": 0.621, \"p\": 16, \"fpr\": 0.14285714285714285, \"tpr\": 0.875, \"n\": 14}, {\"threshold\": 0.622, \"p\": 16, \"fpr\": 0.14285714285714285, \"tpr\": 0.875, \"n\": 14}, {\"threshold\": 0.623, \"p\": 16, \"fpr\": 0.14285714285714285, \"tpr\": 0.875, \"n\": 14}, {\"threshold\": 0.624, \"p\": 16, \"fpr\": 0.14285714285714285, \"tpr\": 0.875, \"n\": 14}, {\"threshold\": 0.625, \"p\": 16, \"fpr\": 0.14285714285714285, \"tpr\": 0.875, \"n\": 14}, {\"threshold\": 0.626, \"p\": 16, \"fpr\": 0.14285714285714285, \"tpr\": 0.875, \"n\": 14}, {\"threshold\": 0.627, \"p\": 16, \"fpr\": 0.14285714285714285, \"tpr\": 0.875, \"n\": 14}, {\"threshold\": 0.628, \"p\": 16, \"fpr\": 0.14285714285714285, \"tpr\": 0.875, \"n\": 14}, {\"threshold\": 0.629, \"p\": 16, \"fpr\": 0.14285714285714285, \"tpr\": 0.875, \"n\": 14}, {\"threshold\": 0.63, \"p\": 16, \"fpr\": 0.14285714285714285, \"tpr\": 0.875, \"n\": 14}, {\"threshold\": 0.631, \"p\": 16, \"fpr\": 0.14285714285714285, \"tpr\": 0.875, \"n\": 14}, {\"threshold\": 0.632, \"p\": 16, \"fpr\": 0.14285714285714285, \"tpr\": 0.875, \"n\": 14}, {\"threshold\": 0.633, \"p\": 16, \"fpr\": 0.14285714285714285, \"tpr\": 0.875, \"n\": 14}, {\"threshold\": 0.634, \"p\": 16, \"fpr\": 0.14285714285714285, \"tpr\": 0.875, \"n\": 14}, {\"threshold\": 0.635, \"p\": 16, \"fpr\": 0.14285714285714285, \"tpr\": 0.875, \"n\": 14}, {\"threshold\": 0.636, \"p\": 16, \"fpr\": 0.14285714285714285, \"tpr\": 0.875, \"n\": 14}, {\"threshold\": 0.637, \"p\": 16, \"fpr\": 0.14285714285714285, \"tpr\": 0.875, \"n\": 14}, {\"threshold\": 0.638, \"p\": 16, \"fpr\": 0.14285714285714285, \"tpr\": 0.875, \"n\": 14}, {\"threshold\": 0.639, \"p\": 16, \"fpr\": 0.14285714285714285, \"tpr\": 0.875, \"n\": 14}, {\"threshold\": 0.64, \"p\": 16, \"fpr\": 0.14285714285714285, \"tpr\": 0.875, \"n\": 14}, {\"threshold\": 0.641, \"p\": 16, \"fpr\": 0.14285714285714285, \"tpr\": 0.875, \"n\": 14}, {\"threshold\": 0.642, \"p\": 16, \"fpr\": 0.14285714285714285, \"tpr\": 0.875, \"n\": 14}, {\"threshold\": 0.643, \"p\": 16, \"fpr\": 0.14285714285714285, \"tpr\": 0.875, \"n\": 14}, {\"threshold\": 0.644, \"p\": 16, \"fpr\": 0.14285714285714285, \"tpr\": 0.8125, \"n\": 14}, {\"threshold\": 0.645, \"p\": 16, \"fpr\": 0.14285714285714285, \"tpr\": 0.8125, \"n\": 14}, {\"threshold\": 0.646, \"p\": 16, \"fpr\": 0.14285714285714285, \"tpr\": 0.8125, \"n\": 14}, {\"threshold\": 0.647, \"p\": 16, \"fpr\": 0.14285714285714285, \"tpr\": 0.8125, \"n\": 14}, {\"threshold\": 0.648, \"p\": 16, \"fpr\": 0.14285714285714285, \"tpr\": 0.8125, \"n\": 14}, {\"threshold\": 0.649, \"p\": 16, \"fpr\": 0.14285714285714285, \"tpr\": 0.8125, \"n\": 14}, {\"threshold\": 0.65, \"p\": 16, \"fpr\": 0.14285714285714285, \"tpr\": 0.8125, \"n\": 14}, {\"threshold\": 0.651, \"p\": 16, \"fpr\": 0.14285714285714285, \"tpr\": 0.8125, \"n\": 14}, {\"threshold\": 0.652, \"p\": 16, \"fpr\": 0.14285714285714285, \"tpr\": 0.8125, \"n\": 14}, {\"threshold\": 0.653, \"p\": 16, \"fpr\": 0.14285714285714285, \"tpr\": 0.8125, \"n\": 14}, {\"threshold\": 0.654, \"p\": 16, \"fpr\": 0.14285714285714285, \"tpr\": 0.8125, \"n\": 14}, {\"threshold\": 0.655, \"p\": 16, \"fpr\": 0.14285714285714285, \"tpr\": 0.8125, \"n\": 14}, {\"threshold\": 0.656, \"p\": 16, \"fpr\": 0.14285714285714285, \"tpr\": 0.8125, \"n\": 14}, {\"threshold\": 0.657, \"p\": 16, \"fpr\": 0.14285714285714285, \"tpr\": 0.8125, \"n\": 14}, {\"threshold\": 0.658, \"p\": 16, \"fpr\": 0.14285714285714285, \"tpr\": 0.8125, \"n\": 14}, {\"threshold\": 0.659, \"p\": 16, \"fpr\": 0.14285714285714285, \"tpr\": 0.8125, \"n\": 14}, {\"threshold\": 0.66, \"p\": 16, \"fpr\": 0.14285714285714285, \"tpr\": 0.8125, \"n\": 14}, {\"threshold\": 0.661, \"p\": 16, \"fpr\": 0.14285714285714285, \"tpr\": 0.8125, \"n\": 14}, {\"threshold\": 0.662, \"p\": 16, \"fpr\": 0.14285714285714285, \"tpr\": 0.8125, \"n\": 14}, {\"threshold\": 0.663, \"p\": 16, \"fpr\": 0.14285714285714285, \"tpr\": 0.8125, \"n\": 14}, {\"threshold\": 0.664, \"p\": 16, \"fpr\": 0.14285714285714285, \"tpr\": 0.8125, \"n\": 14}, {\"threshold\": 0.665, \"p\": 16, \"fpr\": 0.14285714285714285, \"tpr\": 0.8125, \"n\": 14}, {\"threshold\": 0.666, \"p\": 16, \"fpr\": 0.14285714285714285, \"tpr\": 0.8125, \"n\": 14}, {\"threshold\": 0.667, \"p\": 16, \"fpr\": 0.14285714285714285, \"tpr\": 0.8125, \"n\": 14}, {\"threshold\": 0.668, \"p\": 16, \"fpr\": 0.14285714285714285, \"tpr\": 0.8125, \"n\": 14}, {\"threshold\": 0.669, \"p\": 16, \"fpr\": 0.14285714285714285, \"tpr\": 0.8125, \"n\": 14}, {\"threshold\": 0.67, \"p\": 16, \"fpr\": 0.14285714285714285, \"tpr\": 0.8125, \"n\": 14}, {\"threshold\": 0.671, \"p\": 16, \"fpr\": 0.14285714285714285, \"tpr\": 0.8125, \"n\": 14}, {\"threshold\": 0.672, \"p\": 16, \"fpr\": 0.14285714285714285, \"tpr\": 0.8125, \"n\": 14}, {\"threshold\": 0.673, \"p\": 16, \"fpr\": 0.14285714285714285, \"tpr\": 0.8125, \"n\": 14}, {\"threshold\": 0.674, \"p\": 16, \"fpr\": 0.14285714285714285, \"tpr\": 0.8125, \"n\": 14}, {\"threshold\": 0.675, \"p\": 16, \"fpr\": 0.14285714285714285, \"tpr\": 0.8125, \"n\": 14}, {\"threshold\": 0.676, \"p\": 16, \"fpr\": 0.14285714285714285, \"tpr\": 0.8125, \"n\": 14}, {\"threshold\": 0.677, \"p\": 16, \"fpr\": 0.14285714285714285, \"tpr\": 0.8125, \"n\": 14}, {\"threshold\": 0.678, \"p\": 16, \"fpr\": 0.14285714285714285, \"tpr\": 0.8125, \"n\": 14}, {\"threshold\": 0.679, \"p\": 16, \"fpr\": 0.14285714285714285, \"tpr\": 0.8125, \"n\": 14}, {\"threshold\": 0.68, \"p\": 16, \"fpr\": 0.14285714285714285, \"tpr\": 0.8125, \"n\": 14}, {\"threshold\": 0.681, \"p\": 16, \"fpr\": 0.14285714285714285, \"tpr\": 0.8125, \"n\": 14}, {\"threshold\": 0.682, \"p\": 16, \"fpr\": 0.14285714285714285, \"tpr\": 0.8125, \"n\": 14}, {\"threshold\": 0.683, \"p\": 16, \"fpr\": 0.14285714285714285, \"tpr\": 0.8125, \"n\": 14}, {\"threshold\": 0.684, \"p\": 16, \"fpr\": 0.14285714285714285, \"tpr\": 0.8125, \"n\": 14}, {\"threshold\": 0.685, \"p\": 16, \"fpr\": 0.14285714285714285, \"tpr\": 0.8125, \"n\": 14}, {\"threshold\": 0.686, \"p\": 16, \"fpr\": 0.14285714285714285, \"tpr\": 0.8125, \"n\": 14}, {\"threshold\": 0.687, \"p\": 16, \"fpr\": 0.07142857142857142, \"tpr\": 0.8125, \"n\": 14}, {\"threshold\": 0.688, \"p\": 16, \"fpr\": 0.07142857142857142, \"tpr\": 0.8125, \"n\": 14}, {\"threshold\": 0.689, \"p\": 16, \"fpr\": 0.07142857142857142, \"tpr\": 0.8125, \"n\": 14}, {\"threshold\": 0.69, \"p\": 16, \"fpr\": 0.07142857142857142, \"tpr\": 0.8125, \"n\": 14}, {\"threshold\": 0.691, \"p\": 16, \"fpr\": 0.07142857142857142, \"tpr\": 0.8125, \"n\": 14}, {\"threshold\": 0.692, \"p\": 16, \"fpr\": 0.07142857142857142, \"tpr\": 0.8125, \"n\": 14}, {\"threshold\": 0.693, \"p\": 16, \"fpr\": 0.07142857142857142, \"tpr\": 0.8125, \"n\": 14}, {\"threshold\": 0.694, \"p\": 16, \"fpr\": 0.07142857142857142, \"tpr\": 0.8125, \"n\": 14}, {\"threshold\": 0.695, \"p\": 16, \"fpr\": 0.07142857142857142, \"tpr\": 0.8125, \"n\": 14}, {\"threshold\": 0.696, \"p\": 16, \"fpr\": 0.07142857142857142, \"tpr\": 0.8125, \"n\": 14}, {\"threshold\": 0.697, \"p\": 16, \"fpr\": 0.07142857142857142, \"tpr\": 0.8125, \"n\": 14}, {\"threshold\": 0.698, \"p\": 16, \"fpr\": 0.07142857142857142, \"tpr\": 0.8125, \"n\": 14}, {\"threshold\": 0.699, \"p\": 16, \"fpr\": 0.07142857142857142, \"tpr\": 0.8125, \"n\": 14}, {\"threshold\": 0.7, \"p\": 16, \"fpr\": 0.07142857142857142, \"tpr\": 0.75, \"n\": 14}, {\"threshold\": 0.701, \"p\": 16, \"fpr\": 0.07142857142857142, \"tpr\": 0.75, \"n\": 14}, {\"threshold\": 0.702, \"p\": 16, \"fpr\": 0.07142857142857142, \"tpr\": 0.75, \"n\": 14}, {\"threshold\": 0.703, \"p\": 16, \"fpr\": 0.07142857142857142, \"tpr\": 0.75, \"n\": 14}, {\"threshold\": 0.704, \"p\": 16, \"fpr\": 0.07142857142857142, \"tpr\": 0.75, \"n\": 14}, {\"threshold\": 0.705, \"p\": 16, \"fpr\": 0.07142857142857142, \"tpr\": 0.75, \"n\": 14}, {\"threshold\": 0.706, \"p\": 16, \"fpr\": 0.07142857142857142, \"tpr\": 0.75, \"n\": 14}, {\"threshold\": 0.707, \"p\": 16, \"fpr\": 0.07142857142857142, \"tpr\": 0.75, \"n\": 14}, {\"threshold\": 0.708, \"p\": 16, \"fpr\": 0.07142857142857142, \"tpr\": 0.75, \"n\": 14}, {\"threshold\": 0.709, \"p\": 16, \"fpr\": 0.07142857142857142, \"tpr\": 0.75, \"n\": 14}, {\"threshold\": 0.71, \"p\": 16, \"fpr\": 0.07142857142857142, \"tpr\": 0.75, \"n\": 14}, {\"threshold\": 0.711, \"p\": 16, \"fpr\": 0.07142857142857142, \"tpr\": 0.75, \"n\": 14}, {\"threshold\": 0.712, \"p\": 16, \"fpr\": 0.07142857142857142, \"tpr\": 0.75, \"n\": 14}, {\"threshold\": 0.713, \"p\": 16, \"fpr\": 0.07142857142857142, \"tpr\": 0.75, \"n\": 14}, {\"threshold\": 0.714, \"p\": 16, \"fpr\": 0.07142857142857142, \"tpr\": 0.75, \"n\": 14}, {\"threshold\": 0.715, \"p\": 16, \"fpr\": 0.07142857142857142, \"tpr\": 0.75, \"n\": 14}, {\"threshold\": 0.716, \"p\": 16, \"fpr\": 0.07142857142857142, \"tpr\": 0.75, \"n\": 14}, {\"threshold\": 0.717, \"p\": 16, \"fpr\": 0.07142857142857142, \"tpr\": 0.75, \"n\": 14}, {\"threshold\": 0.718, \"p\": 16, \"fpr\": 0.07142857142857142, \"tpr\": 0.6875, \"n\": 14}, {\"threshold\": 0.719, \"p\": 16, \"fpr\": 0.07142857142857142, \"tpr\": 0.6875, \"n\": 14}, {\"threshold\": 0.72, \"p\": 16, \"fpr\": 0.07142857142857142, \"tpr\": 0.6875, \"n\": 14}, {\"threshold\": 0.721, \"p\": 16, \"fpr\": 0.07142857142857142, \"tpr\": 0.6875, \"n\": 14}, {\"threshold\": 0.722, \"p\": 16, \"fpr\": 0.07142857142857142, \"tpr\": 0.6875, \"n\": 14}, {\"threshold\": 0.723, \"p\": 16, \"fpr\": 0.07142857142857142, \"tpr\": 0.6875, \"n\": 14}, {\"threshold\": 0.724, \"p\": 16, \"fpr\": 0.07142857142857142, \"tpr\": 0.6875, \"n\": 14}, {\"threshold\": 0.725, \"p\": 16, \"fpr\": 0.07142857142857142, \"tpr\": 0.6875, \"n\": 14}, {\"threshold\": 0.726, \"p\": 16, \"fpr\": 0.07142857142857142, \"tpr\": 0.6875, \"n\": 14}, {\"threshold\": 0.727, \"p\": 16, \"fpr\": 0.07142857142857142, \"tpr\": 0.6875, \"n\": 14}, {\"threshold\": 0.728, \"p\": 16, \"fpr\": 0.07142857142857142, \"tpr\": 0.6875, \"n\": 14}, {\"threshold\": 0.729, \"p\": 16, \"fpr\": 0.07142857142857142, \"tpr\": 0.6875, \"n\": 14}, {\"threshold\": 0.73, \"p\": 16, \"fpr\": 0.07142857142857142, \"tpr\": 0.6875, \"n\": 14}, {\"threshold\": 0.731, \"p\": 16, \"fpr\": 0.07142857142857142, \"tpr\": 0.6875, \"n\": 14}, {\"threshold\": 0.732, \"p\": 16, \"fpr\": 0.07142857142857142, \"tpr\": 0.6875, \"n\": 14}, {\"threshold\": 0.733, \"p\": 16, \"fpr\": 0.07142857142857142, \"tpr\": 0.6875, \"n\": 14}, {\"threshold\": 0.734, \"p\": 16, \"fpr\": 0.07142857142857142, \"tpr\": 0.6875, \"n\": 14}, {\"threshold\": 0.735, \"p\": 16, \"fpr\": 0.07142857142857142, \"tpr\": 0.6875, \"n\": 14}, {\"threshold\": 0.736, \"p\": 16, \"fpr\": 0.07142857142857142, \"tpr\": 0.6875, \"n\": 14}, {\"threshold\": 0.737, \"p\": 16, \"fpr\": 0.07142857142857142, \"tpr\": 0.6875, \"n\": 14}, {\"threshold\": 0.738, \"p\": 16, \"fpr\": 0.07142857142857142, \"tpr\": 0.6875, \"n\": 14}, {\"threshold\": 0.739, \"p\": 16, \"fpr\": 0.07142857142857142, \"tpr\": 0.6875, \"n\": 14}, {\"threshold\": 0.74, \"p\": 16, \"fpr\": 0.07142857142857142, \"tpr\": 0.625, \"n\": 14}, {\"threshold\": 0.741, \"p\": 16, \"fpr\": 0.07142857142857142, \"tpr\": 0.625, \"n\": 14}, {\"threshold\": 0.742, \"p\": 16, \"fpr\": 0.07142857142857142, \"tpr\": 0.625, \"n\": 14}, {\"threshold\": 0.743, \"p\": 16, \"fpr\": 0.07142857142857142, \"tpr\": 0.625, \"n\": 14}, {\"threshold\": 0.744, \"p\": 16, \"fpr\": 0.07142857142857142, \"tpr\": 0.625, \"n\": 14}, {\"threshold\": 0.745, \"p\": 16, \"fpr\": 0.07142857142857142, \"tpr\": 0.625, \"n\": 14}, {\"threshold\": 0.746, \"p\": 16, \"fpr\": 0.07142857142857142, \"tpr\": 0.625, \"n\": 14}, {\"threshold\": 0.747, \"p\": 16, \"fpr\": 0.07142857142857142, \"tpr\": 0.625, \"n\": 14}, {\"threshold\": 0.748, \"p\": 16, \"fpr\": 0.07142857142857142, \"tpr\": 0.625, \"n\": 14}, {\"threshold\": 0.749, \"p\": 16, \"fpr\": 0.07142857142857142, \"tpr\": 0.625, \"n\": 14}, {\"threshold\": 0.75, \"p\": 16, \"fpr\": 0.07142857142857142, \"tpr\": 0.625, \"n\": 14}, {\"threshold\": 0.751, \"p\": 16, \"fpr\": 0.07142857142857142, \"tpr\": 0.625, \"n\": 14}, {\"threshold\": 0.752, \"p\": 16, \"fpr\": 0.07142857142857142, \"tpr\": 0.625, \"n\": 14}, {\"threshold\": 0.753, \"p\": 16, \"fpr\": 0.07142857142857142, \"tpr\": 0.625, \"n\": 14}, {\"threshold\": 0.754, \"p\": 16, \"fpr\": 0.07142857142857142, \"tpr\": 0.625, \"n\": 14}, {\"threshold\": 0.755, \"p\": 16, \"fpr\": 0.07142857142857142, \"tpr\": 0.625, \"n\": 14}, {\"threshold\": 0.756, \"p\": 16, \"fpr\": 0.07142857142857142, \"tpr\": 0.625, \"n\": 14}, {\"threshold\": 0.757, \"p\": 16, \"fpr\": 0.07142857142857142, \"tpr\": 0.625, \"n\": 14}, {\"threshold\": 0.758, \"p\": 16, \"fpr\": 0.07142857142857142, \"tpr\": 0.625, \"n\": 14}, {\"threshold\": 0.759, \"p\": 16, \"fpr\": 0.07142857142857142, \"tpr\": 0.625, \"n\": 14}, {\"threshold\": 0.76, \"p\": 16, \"fpr\": 0.07142857142857142, \"tpr\": 0.625, \"n\": 14}, {\"threshold\": 0.761, \"p\": 16, \"fpr\": 0.07142857142857142, \"tpr\": 0.625, \"n\": 14}, {\"threshold\": 0.762, \"p\": 16, \"fpr\": 0.07142857142857142, \"tpr\": 0.625, \"n\": 14}, {\"threshold\": 0.763, \"p\": 16, \"fpr\": 0.07142857142857142, \"tpr\": 0.625, \"n\": 14}, {\"threshold\": 0.764, \"p\": 16, \"fpr\": 0.07142857142857142, \"tpr\": 0.625, \"n\": 14}, {\"threshold\": 0.765, \"p\": 16, \"fpr\": 0.07142857142857142, \"tpr\": 0.625, \"n\": 14}, {\"threshold\": 0.766, \"p\": 16, \"fpr\": 0.07142857142857142, \"tpr\": 0.625, \"n\": 14}, {\"threshold\": 0.767, \"p\": 16, \"fpr\": 0.07142857142857142, \"tpr\": 0.625, \"n\": 14}, {\"threshold\": 0.768, \"p\": 16, \"fpr\": 0.07142857142857142, \"tpr\": 0.5625, \"n\": 14}, {\"threshold\": 0.769, \"p\": 16, \"fpr\": 0.07142857142857142, \"tpr\": 0.5625, \"n\": 14}, {\"threshold\": 0.77, \"p\": 16, \"fpr\": 0.07142857142857142, \"tpr\": 0.5625, \"n\": 14}, {\"threshold\": 0.771, \"p\": 16, \"fpr\": 0.07142857142857142, \"tpr\": 0.5625, \"n\": 14}, {\"threshold\": 0.772, \"p\": 16, \"fpr\": 0.07142857142857142, \"tpr\": 0.5625, \"n\": 14}, {\"threshold\": 0.773, \"p\": 16, \"fpr\": 0.07142857142857142, \"tpr\": 0.5625, \"n\": 14}, {\"threshold\": 0.774, \"p\": 16, \"fpr\": 0.07142857142857142, \"tpr\": 0.5625, \"n\": 14}, {\"threshold\": 0.775, \"p\": 16, \"fpr\": 0.07142857142857142, \"tpr\": 0.5625, \"n\": 14}, {\"threshold\": 0.776, \"p\": 16, \"fpr\": 0.07142857142857142, \"tpr\": 0.5625, \"n\": 14}, {\"threshold\": 0.777, \"p\": 16, \"fpr\": 0.07142857142857142, \"tpr\": 0.5625, \"n\": 14}, {\"threshold\": 0.778, \"p\": 16, \"fpr\": 0.07142857142857142, \"tpr\": 0.5625, \"n\": 14}, {\"threshold\": 0.779, \"p\": 16, \"fpr\": 0.07142857142857142, \"tpr\": 0.5625, \"n\": 14}, {\"threshold\": 0.78, \"p\": 16, \"fpr\": 0.07142857142857142, \"tpr\": 0.5625, \"n\": 14}, {\"threshold\": 0.781, \"p\": 16, \"fpr\": 0.07142857142857142, \"tpr\": 0.5625, \"n\": 14}, {\"threshold\": 0.782, \"p\": 16, \"fpr\": 0.07142857142857142, \"tpr\": 0.5625, \"n\": 14}, {\"threshold\": 0.783, \"p\": 16, \"fpr\": 0.07142857142857142, \"tpr\": 0.5625, \"n\": 14}, {\"threshold\": 0.784, \"p\": 16, \"fpr\": 0.07142857142857142, \"tpr\": 0.5625, \"n\": 14}, {\"threshold\": 0.785, \"p\": 16, \"fpr\": 0.07142857142857142, \"tpr\": 0.5625, \"n\": 14}, {\"threshold\": 0.786, \"p\": 16, \"fpr\": 0.07142857142857142, \"tpr\": 0.5625, \"n\": 14}, {\"threshold\": 0.787, \"p\": 16, \"fpr\": 0.07142857142857142, \"tpr\": 0.5625, \"n\": 14}, {\"threshold\": 0.788, \"p\": 16, \"fpr\": 0.07142857142857142, \"tpr\": 0.5625, \"n\": 14}, {\"threshold\": 0.789, \"p\": 16, \"fpr\": 0.07142857142857142, \"tpr\": 0.5625, \"n\": 14}, {\"threshold\": 0.79, \"p\": 16, \"fpr\": 0.07142857142857142, \"tpr\": 0.5625, \"n\": 14}, {\"threshold\": 0.791, \"p\": 16, \"fpr\": 0.07142857142857142, \"tpr\": 0.5625, \"n\": 14}, {\"threshold\": 0.792, \"p\": 16, \"fpr\": 0.07142857142857142, \"tpr\": 0.5625, \"n\": 14}, {\"threshold\": 0.793, \"p\": 16, \"fpr\": 0.07142857142857142, \"tpr\": 0.5625, \"n\": 14}, {\"threshold\": 0.794, \"p\": 16, \"fpr\": 0.07142857142857142, \"tpr\": 0.5625, \"n\": 14}, {\"threshold\": 0.795, \"p\": 16, \"fpr\": 0.07142857142857142, \"tpr\": 0.5625, \"n\": 14}, {\"threshold\": 0.796, \"p\": 16, \"fpr\": 0.07142857142857142, \"tpr\": 0.5625, \"n\": 14}, {\"threshold\": 0.797, \"p\": 16, \"fpr\": 0.07142857142857142, \"tpr\": 0.5625, \"n\": 14}, {\"threshold\": 0.798, \"p\": 16, \"fpr\": 0.07142857142857142, \"tpr\": 0.5625, \"n\": 14}, {\"threshold\": 0.799, \"p\": 16, \"fpr\": 0.07142857142857142, \"tpr\": 0.5625, \"n\": 14}, {\"threshold\": 0.8, \"p\": 16, \"fpr\": 0.07142857142857142, \"tpr\": 0.5625, \"n\": 14}, {\"threshold\": 0.801, \"p\": 16, \"fpr\": 0.07142857142857142, \"tpr\": 0.5625, \"n\": 14}, {\"threshold\": 0.802, \"p\": 16, \"fpr\": 0.07142857142857142, \"tpr\": 0.5625, \"n\": 14}, {\"threshold\": 0.803, \"p\": 16, \"fpr\": 0.07142857142857142, \"tpr\": 0.5625, \"n\": 14}, {\"threshold\": 0.804, \"p\": 16, \"fpr\": 0.07142857142857142, \"tpr\": 0.5625, \"n\": 14}, {\"threshold\": 0.805, \"p\": 16, \"fpr\": 0.07142857142857142, \"tpr\": 0.5625, \"n\": 14}, {\"threshold\": 0.806, \"p\": 16, \"fpr\": 0.07142857142857142, \"tpr\": 0.5625, \"n\": 14}, {\"threshold\": 0.807, \"p\": 16, \"fpr\": 0.07142857142857142, \"tpr\": 0.5625, \"n\": 14}, {\"threshold\": 0.808, \"p\": 16, \"fpr\": 0.07142857142857142, \"tpr\": 0.5625, \"n\": 14}, {\"threshold\": 0.809, \"p\": 16, \"fpr\": 0.07142857142857142, \"tpr\": 0.5625, \"n\": 14}, {\"threshold\": 0.81, \"p\": 16, \"fpr\": 0.07142857142857142, \"tpr\": 0.5625, \"n\": 14}, {\"threshold\": 0.811, \"p\": 16, \"fpr\": 0.07142857142857142, \"tpr\": 0.5625, \"n\": 14}, {\"threshold\": 0.812, \"p\": 16, \"fpr\": 0.07142857142857142, \"tpr\": 0.5625, \"n\": 14}, {\"threshold\": 0.813, \"p\": 16, \"fpr\": 0.07142857142857142, \"tpr\": 0.5625, \"n\": 14}, {\"threshold\": 0.814, \"p\": 16, \"fpr\": 0.07142857142857142, \"tpr\": 0.5625, \"n\": 14}, {\"threshold\": 0.815, \"p\": 16, \"fpr\": 0.07142857142857142, \"tpr\": 0.5625, \"n\": 14}, {\"threshold\": 0.816, \"p\": 16, \"fpr\": 0.07142857142857142, \"tpr\": 0.5625, \"n\": 14}, {\"threshold\": 0.817, \"p\": 16, \"fpr\": 0.07142857142857142, \"tpr\": 0.5625, \"n\": 14}, {\"threshold\": 0.818, \"p\": 16, \"fpr\": 0.07142857142857142, \"tpr\": 0.5625, \"n\": 14}, {\"threshold\": 0.819, \"p\": 16, \"fpr\": 0.07142857142857142, \"tpr\": 0.5625, \"n\": 14}, {\"threshold\": 0.82, \"p\": 16, \"fpr\": 0.07142857142857142, \"tpr\": 0.5625, \"n\": 14}, {\"threshold\": 0.821, \"p\": 16, \"fpr\": 0.07142857142857142, \"tpr\": 0.5625, \"n\": 14}, {\"threshold\": 0.822, \"p\": 16, \"fpr\": 0.07142857142857142, \"tpr\": 0.5625, \"n\": 14}, {\"threshold\": 0.823, \"p\": 16, \"fpr\": 0.07142857142857142, \"tpr\": 0.5625, \"n\": 14}, {\"threshold\": 0.824, \"p\": 16, \"fpr\": 0.07142857142857142, \"tpr\": 0.5625, \"n\": 14}, {\"threshold\": 0.825, \"p\": 16, \"fpr\": 0.07142857142857142, \"tpr\": 0.5625, \"n\": 14}, {\"threshold\": 0.826, \"p\": 16, \"fpr\": 0.07142857142857142, \"tpr\": 0.5625, \"n\": 14}, {\"threshold\": 0.827, \"p\": 16, \"fpr\": 0.07142857142857142, \"tpr\": 0.5625, \"n\": 14}, {\"threshold\": 0.828, \"p\": 16, \"fpr\": 0.07142857142857142, \"tpr\": 0.5625, \"n\": 14}, {\"threshold\": 0.829, \"p\": 16, \"fpr\": 0.07142857142857142, \"tpr\": 0.5625, \"n\": 14}, {\"threshold\": 0.83, \"p\": 16, \"fpr\": 0.07142857142857142, \"tpr\": 0.5625, \"n\": 14}, {\"threshold\": 0.831, \"p\": 16, \"fpr\": 0.07142857142857142, \"tpr\": 0.5625, \"n\": 14}, {\"threshold\": 0.832, \"p\": 16, \"fpr\": 0.07142857142857142, \"tpr\": 0.5625, \"n\": 14}, {\"threshold\": 0.833, \"p\": 16, \"fpr\": 0.07142857142857142, \"tpr\": 0.5625, \"n\": 14}, {\"threshold\": 0.834, \"p\": 16, \"fpr\": 0.07142857142857142, \"tpr\": 0.5625, \"n\": 14}, {\"threshold\": 0.835, \"p\": 16, \"fpr\": 0.07142857142857142, \"tpr\": 0.5625, \"n\": 14}, {\"threshold\": 0.836, \"p\": 16, \"fpr\": 0.07142857142857142, \"tpr\": 0.5625, \"n\": 14}, {\"threshold\": 0.837, \"p\": 16, \"fpr\": 0.07142857142857142, \"tpr\": 0.5625, \"n\": 14}, {\"threshold\": 0.838, \"p\": 16, \"fpr\": 0.07142857142857142, \"tpr\": 0.5625, \"n\": 14}, {\"threshold\": 0.839, \"p\": 16, \"fpr\": 0.07142857142857142, \"tpr\": 0.5625, \"n\": 14}, {\"threshold\": 0.84, \"p\": 16, \"fpr\": 0.07142857142857142, \"tpr\": 0.5625, \"n\": 14}, {\"threshold\": 0.841, \"p\": 16, \"fpr\": 0.07142857142857142, \"tpr\": 0.5625, \"n\": 14}, {\"threshold\": 0.842, \"p\": 16, \"fpr\": 0.07142857142857142, \"tpr\": 0.5625, \"n\": 14}, {\"threshold\": 0.843, \"p\": 16, \"fpr\": 0.07142857142857142, \"tpr\": 0.5625, \"n\": 14}, {\"threshold\": 0.844, \"p\": 16, \"fpr\": 0.07142857142857142, \"tpr\": 0.5625, \"n\": 14}, {\"threshold\": 0.845, \"p\": 16, \"fpr\": 0.07142857142857142, \"tpr\": 0.5625, \"n\": 14}, {\"threshold\": 0.846, \"p\": 16, \"fpr\": 0.07142857142857142, \"tpr\": 0.5625, \"n\": 14}, {\"threshold\": 0.847, \"p\": 16, \"fpr\": 0.07142857142857142, \"tpr\": 0.5625, \"n\": 14}, {\"threshold\": 0.848, \"p\": 16, \"fpr\": 0.07142857142857142, \"tpr\": 0.5625, \"n\": 14}, {\"threshold\": 0.849, \"p\": 16, \"fpr\": 0.07142857142857142, \"tpr\": 0.5625, \"n\": 14}, {\"threshold\": 0.85, \"p\": 16, \"fpr\": 0.07142857142857142, \"tpr\": 0.5625, \"n\": 14}, {\"threshold\": 0.851, \"p\": 16, \"fpr\": 0.07142857142857142, \"tpr\": 0.5625, \"n\": 14}, {\"threshold\": 0.852, \"p\": 16, \"fpr\": 0.07142857142857142, \"tpr\": 0.5625, \"n\": 14}, {\"threshold\": 0.853, \"p\": 16, \"fpr\": 0.07142857142857142, \"tpr\": 0.5625, \"n\": 14}, {\"threshold\": 0.854, \"p\": 16, \"fpr\": 0.07142857142857142, \"tpr\": 0.5625, \"n\": 14}, {\"threshold\": 0.855, \"p\": 16, \"fpr\": 0.07142857142857142, \"tpr\": 0.5625, \"n\": 14}, {\"threshold\": 0.856, \"p\": 16, \"fpr\": 0.07142857142857142, \"tpr\": 0.5625, \"n\": 14}, {\"threshold\": 0.857, \"p\": 16, \"fpr\": 0.07142857142857142, \"tpr\": 0.5625, \"n\": 14}, {\"threshold\": 0.858, \"p\": 16, \"fpr\": 0.07142857142857142, \"tpr\": 0.5625, \"n\": 14}, {\"threshold\": 0.859, \"p\": 16, \"fpr\": 0.07142857142857142, \"tpr\": 0.5625, \"n\": 14}, {\"threshold\": 0.86, \"p\": 16, \"fpr\": 0.07142857142857142, \"tpr\": 0.5625, \"n\": 14}, {\"threshold\": 0.861, \"p\": 16, \"fpr\": 0.07142857142857142, \"tpr\": 0.5625, \"n\": 14}, {\"threshold\": 0.862, \"p\": 16, \"fpr\": 0.07142857142857142, \"tpr\": 0.5625, \"n\": 14}, {\"threshold\": 0.863, \"p\": 16, \"fpr\": 0.07142857142857142, \"tpr\": 0.5625, \"n\": 14}, {\"threshold\": 0.864, \"p\": 16, \"fpr\": 0.07142857142857142, \"tpr\": 0.5625, \"n\": 14}, {\"threshold\": 0.865, \"p\": 16, \"fpr\": 0.07142857142857142, \"tpr\": 0.5625, \"n\": 14}, {\"threshold\": 0.866, \"p\": 16, \"fpr\": 0.07142857142857142, \"tpr\": 0.5625, \"n\": 14}, {\"threshold\": 0.867, \"p\": 16, \"fpr\": 0.07142857142857142, \"tpr\": 0.5625, \"n\": 14}, {\"threshold\": 0.868, \"p\": 16, \"fpr\": 0.07142857142857142, \"tpr\": 0.5625, \"n\": 14}, {\"threshold\": 0.869, \"p\": 16, \"fpr\": 0.07142857142857142, \"tpr\": 0.5625, \"n\": 14}, {\"threshold\": 0.87, \"p\": 16, \"fpr\": 0.07142857142857142, \"tpr\": 0.5625, \"n\": 14}, {\"threshold\": 0.871, \"p\": 16, \"fpr\": 0.07142857142857142, \"tpr\": 0.5625, \"n\": 14}, {\"threshold\": 0.872, \"p\": 16, \"fpr\": 0.07142857142857142, \"tpr\": 0.5625, \"n\": 14}, {\"threshold\": 0.873, \"p\": 16, \"fpr\": 0.07142857142857142, \"tpr\": 0.5625, \"n\": 14}, {\"threshold\": 0.874, \"p\": 16, \"fpr\": 0.07142857142857142, \"tpr\": 0.5625, \"n\": 14}, {\"threshold\": 0.875, \"p\": 16, \"fpr\": 0.07142857142857142, \"tpr\": 0.5625, \"n\": 14}, {\"threshold\": 0.876, \"p\": 16, \"fpr\": 0.07142857142857142, \"tpr\": 0.5625, \"n\": 14}, {\"threshold\": 0.877, \"p\": 16, \"fpr\": 0.07142857142857142, \"tpr\": 0.5625, \"n\": 14}, {\"threshold\": 0.878, \"p\": 16, \"fpr\": 0.07142857142857142, \"tpr\": 0.5625, \"n\": 14}, {\"threshold\": 0.879, \"p\": 16, \"fpr\": 0.07142857142857142, \"tpr\": 0.5625, \"n\": 14}, {\"threshold\": 0.88, \"p\": 16, \"fpr\": 0.07142857142857142, \"tpr\": 0.5625, \"n\": 14}, {\"threshold\": 0.881, \"p\": 16, \"fpr\": 0.07142857142857142, \"tpr\": 0.5625, \"n\": 14}, {\"threshold\": 0.882, \"p\": 16, \"fpr\": 0.07142857142857142, \"tpr\": 0.5625, \"n\": 14}, {\"threshold\": 0.883, \"p\": 16, \"fpr\": 0.07142857142857142, \"tpr\": 0.5625, \"n\": 14}, {\"threshold\": 0.884, \"p\": 16, \"fpr\": 0.07142857142857142, \"tpr\": 0.5625, \"n\": 14}, {\"threshold\": 0.885, \"p\": 16, \"fpr\": 0.07142857142857142, \"tpr\": 0.5625, \"n\": 14}, {\"threshold\": 0.886, \"p\": 16, \"fpr\": 0.07142857142857142, \"tpr\": 0.5625, \"n\": 14}, {\"threshold\": 0.887, \"p\": 16, \"fpr\": 0.07142857142857142, \"tpr\": 0.5625, \"n\": 14}, {\"threshold\": 0.888, \"p\": 16, \"fpr\": 0.07142857142857142, \"tpr\": 0.5625, \"n\": 14}, {\"threshold\": 0.889, \"p\": 16, \"fpr\": 0.07142857142857142, \"tpr\": 0.5625, \"n\": 14}, {\"threshold\": 0.89, \"p\": 16, \"fpr\": 0.07142857142857142, \"tpr\": 0.5625, \"n\": 14}, {\"threshold\": 0.891, \"p\": 16, \"fpr\": 0.07142857142857142, \"tpr\": 0.5625, \"n\": 14}, {\"threshold\": 0.892, \"p\": 16, \"fpr\": 0.07142857142857142, \"tpr\": 0.5625, \"n\": 14}, {\"threshold\": 0.893, \"p\": 16, \"fpr\": 0.07142857142857142, \"tpr\": 0.5625, \"n\": 14}, {\"threshold\": 0.894, \"p\": 16, \"fpr\": 0.07142857142857142, \"tpr\": 0.5625, \"n\": 14}, {\"threshold\": 0.895, \"p\": 16, \"fpr\": 0.07142857142857142, \"tpr\": 0.5625, \"n\": 14}, {\"threshold\": 0.896, \"p\": 16, \"fpr\": 0.07142857142857142, \"tpr\": 0.5625, \"n\": 14}, {\"threshold\": 0.897, \"p\": 16, \"fpr\": 0.07142857142857142, \"tpr\": 0.5625, \"n\": 14}, {\"threshold\": 0.898, \"p\": 16, \"fpr\": 0.07142857142857142, \"tpr\": 0.5625, \"n\": 14}, {\"threshold\": 0.899, \"p\": 16, \"fpr\": 0.07142857142857142, \"tpr\": 0.5625, \"n\": 14}, {\"threshold\": 0.9, \"p\": 16, \"fpr\": 0.07142857142857142, \"tpr\": 0.5625, \"n\": 14}, {\"threshold\": 0.901, \"p\": 16, \"fpr\": 0.07142857142857142, \"tpr\": 0.5625, \"n\": 14}, {\"threshold\": 0.902, \"p\": 16, \"fpr\": 0.07142857142857142, \"tpr\": 0.5625, \"n\": 14}, {\"threshold\": 0.903, \"p\": 16, \"fpr\": 0.07142857142857142, \"tpr\": 0.5625, \"n\": 14}, {\"threshold\": 0.904, \"p\": 16, \"fpr\": 0.07142857142857142, \"tpr\": 0.5625, \"n\": 14}, {\"threshold\": 0.905, \"p\": 16, \"fpr\": 0.07142857142857142, \"tpr\": 0.5625, \"n\": 14}, {\"threshold\": 0.906, \"p\": 16, \"fpr\": 0.07142857142857142, \"tpr\": 0.5625, \"n\": 14}, {\"threshold\": 0.907, \"p\": 16, \"fpr\": 0.07142857142857142, \"tpr\": 0.5625, \"n\": 14}, {\"threshold\": 0.908, \"p\": 16, \"fpr\": 0.07142857142857142, \"tpr\": 0.5625, \"n\": 14}, {\"threshold\": 0.909, \"p\": 16, \"fpr\": 0.07142857142857142, \"tpr\": 0.5625, \"n\": 14}, {\"threshold\": 0.91, \"p\": 16, \"fpr\": 0.07142857142857142, \"tpr\": 0.5625, \"n\": 14}, {\"threshold\": 0.911, \"p\": 16, \"fpr\": 0.07142857142857142, \"tpr\": 0.5625, \"n\": 14}, {\"threshold\": 0.912, \"p\": 16, \"fpr\": 0.0, \"tpr\": 0.5625, \"n\": 14}, {\"threshold\": 0.913, \"p\": 16, \"fpr\": 0.0, \"tpr\": 0.5625, \"n\": 14}, {\"threshold\": 0.914, \"p\": 16, \"fpr\": 0.0, \"tpr\": 0.5625, \"n\": 14}, {\"threshold\": 0.915, \"p\": 16, \"fpr\": 0.0, \"tpr\": 0.5625, \"n\": 14}, {\"threshold\": 0.916, \"p\": 16, \"fpr\": 0.0, \"tpr\": 0.5625, \"n\": 14}, {\"threshold\": 0.917, \"p\": 16, \"fpr\": 0.0, \"tpr\": 0.5625, \"n\": 14}, {\"threshold\": 0.918, \"p\": 16, \"fpr\": 0.0, \"tpr\": 0.5625, \"n\": 14}, {\"threshold\": 0.919, \"p\": 16, \"fpr\": 0.0, \"tpr\": 0.5625, \"n\": 14}, {\"threshold\": 0.92, \"p\": 16, \"fpr\": 0.0, \"tpr\": 0.5625, \"n\": 14}, {\"threshold\": 0.921, \"p\": 16, \"fpr\": 0.0, \"tpr\": 0.5625, \"n\": 14}, {\"threshold\": 0.922, \"p\": 16, \"fpr\": 0.0, \"tpr\": 0.5625, \"n\": 14}, {\"threshold\": 0.923, \"p\": 16, \"fpr\": 0.0, \"tpr\": 0.5625, \"n\": 14}, {\"threshold\": 0.924, \"p\": 16, \"fpr\": 0.0, \"tpr\": 0.5625, \"n\": 14}, {\"threshold\": 0.925, \"p\": 16, \"fpr\": 0.0, \"tpr\": 0.5625, \"n\": 14}, {\"threshold\": 0.926, \"p\": 16, \"fpr\": 0.0, \"tpr\": 0.5625, \"n\": 14}, {\"threshold\": 0.927, \"p\": 16, \"fpr\": 0.0, \"tpr\": 0.5625, \"n\": 14}, {\"threshold\": 0.928, \"p\": 16, \"fpr\": 0.0, \"tpr\": 0.5625, \"n\": 14}, {\"threshold\": 0.929, \"p\": 16, \"fpr\": 0.0, \"tpr\": 0.5625, \"n\": 14}, {\"threshold\": 0.93, \"p\": 16, \"fpr\": 0.0, \"tpr\": 0.5625, \"n\": 14}, {\"threshold\": 0.931, \"p\": 16, \"fpr\": 0.0, \"tpr\": 0.5625, \"n\": 14}, {\"threshold\": 0.932, \"p\": 16, \"fpr\": 0.0, \"tpr\": 0.5625, \"n\": 14}, {\"threshold\": 0.933, \"p\": 16, \"fpr\": 0.0, \"tpr\": 0.5625, \"n\": 14}, {\"threshold\": 0.934, \"p\": 16, \"fpr\": 0.0, \"tpr\": 0.5625, \"n\": 14}, {\"threshold\": 0.935, \"p\": 16, \"fpr\": 0.0, \"tpr\": 0.5625, \"n\": 14}, {\"threshold\": 0.936, \"p\": 16, \"fpr\": 0.0, \"tpr\": 0.5625, \"n\": 14}, {\"threshold\": 0.937, \"p\": 16, \"fpr\": 0.0, \"tpr\": 0.5625, \"n\": 14}, {\"threshold\": 0.938, \"p\": 16, \"fpr\": 0.0, \"tpr\": 0.5625, \"n\": 14}, {\"threshold\": 0.939, \"p\": 16, \"fpr\": 0.0, \"tpr\": 0.5625, \"n\": 14}, {\"threshold\": 0.94, \"p\": 16, \"fpr\": 0.0, \"tpr\": 0.5625, \"n\": 14}, {\"threshold\": 0.941, \"p\": 16, \"fpr\": 0.0, \"tpr\": 0.5625, \"n\": 14}, {\"threshold\": 0.942, \"p\": 16, \"fpr\": 0.0, \"tpr\": 0.5625, \"n\": 14}, {\"threshold\": 0.943, \"p\": 16, \"fpr\": 0.0, \"tpr\": 0.5625, \"n\": 14}, {\"threshold\": 0.944, \"p\": 16, \"fpr\": 0.0, \"tpr\": 0.5625, \"n\": 14}, {\"threshold\": 0.945, \"p\": 16, \"fpr\": 0.0, \"tpr\": 0.5625, \"n\": 14}, {\"threshold\": 0.946, \"p\": 16, \"fpr\": 0.0, \"tpr\": 0.5625, \"n\": 14}, {\"threshold\": 0.947, \"p\": 16, \"fpr\": 0.0, \"tpr\": 0.5625, \"n\": 14}, {\"threshold\": 0.948, \"p\": 16, \"fpr\": 0.0, \"tpr\": 0.5625, \"n\": 14}, {\"threshold\": 0.949, \"p\": 16, \"fpr\": 0.0, \"tpr\": 0.5625, \"n\": 14}, {\"threshold\": 0.95, \"p\": 16, \"fpr\": 0.0, \"tpr\": 0.5625, \"n\": 14}, {\"threshold\": 0.951, \"p\": 16, \"fpr\": 0.0, \"tpr\": 0.5625, \"n\": 14}, {\"threshold\": 0.952, \"p\": 16, \"fpr\": 0.0, \"tpr\": 0.5625, \"n\": 14}, {\"threshold\": 0.953, \"p\": 16, \"fpr\": 0.0, \"tpr\": 0.5625, \"n\": 14}, {\"threshold\": 0.954, \"p\": 16, \"fpr\": 0.0, \"tpr\": 0.5625, \"n\": 14}, {\"threshold\": 0.955, \"p\": 16, \"fpr\": 0.0, \"tpr\": 0.5625, \"n\": 14}, {\"threshold\": 0.956, \"p\": 16, \"fpr\": 0.0, \"tpr\": 0.5625, \"n\": 14}, {\"threshold\": 0.957, \"p\": 16, \"fpr\": 0.0, \"tpr\": 0.5625, \"n\": 14}, {\"threshold\": 0.958, \"p\": 16, \"fpr\": 0.0, \"tpr\": 0.5625, \"n\": 14}, {\"threshold\": 0.959, \"p\": 16, \"fpr\": 0.0, \"tpr\": 0.5625, \"n\": 14}, {\"threshold\": 0.96, \"p\": 16, \"fpr\": 0.0, \"tpr\": 0.5625, \"n\": 14}, {\"threshold\": 0.961, \"p\": 16, \"fpr\": 0.0, \"tpr\": 0.5625, \"n\": 14}, {\"threshold\": 0.962, \"p\": 16, \"fpr\": 0.0, \"tpr\": 0.5625, \"n\": 14}, {\"threshold\": 0.963, \"p\": 16, \"fpr\": 0.0, \"tpr\": 0.5625, \"n\": 14}, {\"threshold\": 0.964, \"p\": 16, \"fpr\": 0.0, \"tpr\": 0.5625, \"n\": 14}, {\"threshold\": 0.965, \"p\": 16, \"fpr\": 0.0, \"tpr\": 0.5625, \"n\": 14}, {\"threshold\": 0.966, \"p\": 16, \"fpr\": 0.0, \"tpr\": 0.5625, \"n\": 14}, {\"threshold\": 0.967, \"p\": 16, \"fpr\": 0.0, \"tpr\": 0.5625, \"n\": 14}, {\"threshold\": 0.968, \"p\": 16, \"fpr\": 0.0, \"tpr\": 0.5625, \"n\": 14}, {\"threshold\": 0.969, \"p\": 16, \"fpr\": 0.0, \"tpr\": 0.5625, \"n\": 14}, {\"threshold\": 0.97, \"p\": 16, \"fpr\": 0.0, \"tpr\": 0.5625, \"n\": 14}, {\"threshold\": 0.971, \"p\": 16, \"fpr\": 0.0, \"tpr\": 0.5625, \"n\": 14}, {\"threshold\": 0.972, \"p\": 16, \"fpr\": 0.0, \"tpr\": 0.5625, \"n\": 14}, {\"threshold\": 0.973, \"p\": 16, \"fpr\": 0.0, \"tpr\": 0.5625, \"n\": 14}, {\"threshold\": 0.974, \"p\": 16, \"fpr\": 0.0, \"tpr\": 0.5625, \"n\": 14}, {\"threshold\": 0.975, \"p\": 16, \"fpr\": 0.0, \"tpr\": 0.5625, \"n\": 14}, {\"threshold\": 0.976, \"p\": 16, \"fpr\": 0.0, \"tpr\": 0.5625, \"n\": 14}, {\"threshold\": 0.977, \"p\": 16, \"fpr\": 0.0, \"tpr\": 0.5625, \"n\": 14}, {\"threshold\": 0.978, \"p\": 16, \"fpr\": 0.0, \"tpr\": 0.5625, \"n\": 14}, {\"threshold\": 0.979, \"p\": 16, \"fpr\": 0.0, \"tpr\": 0.5, \"n\": 14}, {\"threshold\": 0.98, \"p\": 16, \"fpr\": 0.0, \"tpr\": 0.5, \"n\": 14}, {\"threshold\": 0.981, \"p\": 16, \"fpr\": 0.0, \"tpr\": 0.5, \"n\": 14}, {\"threshold\": 0.982, \"p\": 16, \"fpr\": 0.0, \"tpr\": 0.5, \"n\": 14}, {\"threshold\": 0.983, \"p\": 16, \"fpr\": 0.0, \"tpr\": 0.5, \"n\": 14}, {\"threshold\": 0.984, \"p\": 16, \"fpr\": 0.0, \"tpr\": 0.5, \"n\": 14}, {\"threshold\": 0.985, \"p\": 16, \"fpr\": 0.0, \"tpr\": 0.5, \"n\": 14}, {\"threshold\": 0.986, \"p\": 16, \"fpr\": 0.0, \"tpr\": 0.5, \"n\": 14}, {\"threshold\": 0.987, \"p\": 16, \"fpr\": 0.0, \"tpr\": 0.5, \"n\": 14}, {\"threshold\": 0.988, \"p\": 16, \"fpr\": 0.0, \"tpr\": 0.5, \"n\": 14}, {\"threshold\": 0.989, \"p\": 16, \"fpr\": 0.0, \"tpr\": 0.5, \"n\": 14}, {\"threshold\": 0.99, \"p\": 16, \"fpr\": 0.0, \"tpr\": 0.5, \"n\": 14}, {\"threshold\": 0.991, \"p\": 16, \"fpr\": 0.0, \"tpr\": 0.5, \"n\": 14}, {\"threshold\": 0.992, \"p\": 16, \"fpr\": 0.0, \"tpr\": 0.5, \"n\": 14}, {\"threshold\": 0.993, \"p\": 16, \"fpr\": 0.0, \"tpr\": 0.5, \"n\": 14}, {\"threshold\": 0.994, \"p\": 16, \"fpr\": 0.0, \"tpr\": 0.5, \"n\": 14}, {\"threshold\": 0.995, \"p\": 16, \"fpr\": 0.0, \"tpr\": 0.5, \"n\": 14}, {\"threshold\": 0.996, \"p\": 16, \"fpr\": 0.0, \"tpr\": 0.5, \"n\": 14}, {\"threshold\": 0.997, \"p\": 16, \"fpr\": 0.0, \"tpr\": 0.5, \"n\": 14}, {\"threshold\": 0.998, \"p\": 16, \"fpr\": 0.0, \"tpr\": 0.5, \"n\": 14}, {\"threshold\": 0.999, \"p\": 16, \"fpr\": 0.0, \"tpr\": 0.375, \"n\": 14}, {\"threshold\": 1.0, \"p\": 16, \"fpr\": 0.0, \"tpr\": 0.0, \"n\": 14}]}]], \"type\": \"Model\"}, \"ipython\": true, \"view_params\": {\"model_type\": \"regression\", \"view\": \"Evaluation\"}, \"model_type\": \"regression\", \"attributes\": {\"section_titles\": [\"Schema\", \"Hyperparameters\", \"Training Summary\", \"Settings\", \"Highest Positive Coefficients\", \"Lowest Negative Coefficients\"], \"sections\": [[[\"Number of coefficients\", 975], [\"Number of examples\", 173], [\"Number of classes\", 2], [\"Number of feature columns\", 1], [\"Number of unpacked features\", 974]], [[\"L1 penalty\", 0.0], [\"L2 penalty\", 0.01]], [[\"Solver\", \"lbfgs\"], [\"Solver iterations\", 10], [\"Solver status\", \"TERMINATED: Iteration limit reached.\"], [\"Training time (sec)\", 0.027]], [[\"Log-likelihood\", 0.047]], [[\"word_count[@__its_ninja__:]\", 3.0822], [\"word_count[https://t.co/ko7spwru93']\", 1.894], [\"word_count[vc.\\\\n#gtu\\\\n#isupportabvp\\\\n#answerthearmy\\\\n#fightbackdu\\\\n#boycottabvp\\\\n#studentsagainstabvp\\\\n@abvpvoice\\\\u2026]\", 1.894], [\"word_count[gtu]\", 1.894], [\"word_count[voice]\", 1.894]], [[\"word_count[@135_raviabvpvoice]\", -7.6493], [\"word_count[@satishmaisuriyaabvpvoice']\", -6.3397], [\"word_count[u'abvpvoice']\", -6.3397], [\"word_count[@__its_ninja__abvpvoice]\", -5.5251], [\"word_count[https://t.co/qymkahzjoz']\", -4.6239]]]}, \"evaluations\": [[\"test_data\", {\"roc_curve\": [{\"threshold\": 0.0, \"p\": 16, \"fpr\": 1.0, \"tpr\": 1.0, \"n\": 14}, {\"threshold\": 0.001, \"p\": 16, \"fpr\": 0.7142857142857143, \"tpr\": 1.0, \"n\": 14}, {\"threshold\": 0.002, \"p\": 16, \"fpr\": 0.7142857142857143, \"tpr\": 1.0, \"n\": 14}, {\"threshold\": 0.003, \"p\": 16, \"fpr\": 0.6428571428571429, \"tpr\": 1.0, \"n\": 14}, {\"threshold\": 0.004, \"p\": 16, \"fpr\": 0.6428571428571429, \"tpr\": 1.0, \"n\": 14}, {\"threshold\": 0.005, \"p\": 16, \"fpr\": 0.6428571428571429, \"tpr\": 1.0, \"n\": 14}, {\"threshold\": 0.006, \"p\": 16, \"fpr\": 0.5714285714285714, \"tpr\": 1.0, \"n\": 14}, {\"threshold\": 0.007, \"p\": 16, \"fpr\": 0.5714285714285714, \"tpr\": 1.0, \"n\": 14}, {\"threshold\": 0.008, \"p\": 16, \"fpr\": 0.5714285714285714, \"tpr\": 1.0, \"n\": 14}, {\"threshold\": 0.009, \"p\": 16, \"fpr\": 0.5714285714285714, \"tpr\": 1.0, \"n\": 14}, {\"threshold\": 0.01, \"p\": 16, \"fpr\": 0.5714285714285714, \"tpr\": 1.0, \"n\": 14}, {\"threshold\": 0.011, \"p\": 16, \"fpr\": 0.5714285714285714, \"tpr\": 1.0, \"n\": 14}, {\"threshold\": 0.012, \"p\": 16, \"fpr\": 0.5714285714285714, \"tpr\": 1.0, \"n\": 14}, {\"threshold\": 0.013, \"p\": 16, \"fpr\": 0.5714285714285714, \"tpr\": 1.0, \"n\": 14}, {\"threshold\": 0.014, \"p\": 16, \"fpr\": 0.5714285714285714, \"tpr\": 1.0, \"n\": 14}, {\"threshold\": 0.015, \"p\": 16, \"fpr\": 0.5714285714285714, \"tpr\": 1.0, \"n\": 14}, {\"threshold\": 0.016, \"p\": 16, \"fpr\": 0.42857142857142855, \"tpr\": 1.0, \"n\": 14}, {\"threshold\": 0.017, \"p\": 16, \"fpr\": 0.42857142857142855, \"tpr\": 1.0, \"n\": 14}, {\"threshold\": 0.018, \"p\": 16, \"fpr\": 0.42857142857142855, \"tpr\": 1.0, \"n\": 14}, {\"threshold\": 0.019, \"p\": 16, \"fpr\": 0.42857142857142855, \"tpr\": 1.0, \"n\": 14}, {\"threshold\": 0.02, \"p\": 16, \"fpr\": 0.42857142857142855, \"tpr\": 1.0, \"n\": 14}, {\"threshold\": 0.021, \"p\": 16, \"fpr\": 0.42857142857142855, \"tpr\": 1.0, \"n\": 14}, {\"threshold\": 0.022, \"p\": 16, \"fpr\": 0.42857142857142855, \"tpr\": 1.0, \"n\": 14}, {\"threshold\": 0.023, \"p\": 16, \"fpr\": 0.42857142857142855, \"tpr\": 1.0, \"n\": 14}, {\"threshold\": 0.024, \"p\": 16, \"fpr\": 0.42857142857142855, \"tpr\": 1.0, \"n\": 14}, {\"threshold\": 0.025, \"p\": 16, \"fpr\": 0.42857142857142855, \"tpr\": 1.0, \"n\": 14}, {\"threshold\": 0.026, \"p\": 16, \"fpr\": 0.42857142857142855, \"tpr\": 1.0, \"n\": 14}, {\"threshold\": 0.027, \"p\": 16, \"fpr\": 0.42857142857142855, \"tpr\": 1.0, \"n\": 14}, {\"threshold\": 0.028, \"p\": 16, \"fpr\": 0.42857142857142855, \"tpr\": 1.0, \"n\": 14}, {\"threshold\": 0.029, \"p\": 16, \"fpr\": 0.42857142857142855, \"tpr\": 1.0, \"n\": 14}, {\"threshold\": 0.03, \"p\": 16, \"fpr\": 0.42857142857142855, \"tpr\": 1.0, \"n\": 14}, {\"threshold\": 0.031, \"p\": 16, \"fpr\": 0.42857142857142855, \"tpr\": 1.0, \"n\": 14}, {\"threshold\": 0.032, \"p\": 16, \"fpr\": 0.42857142857142855, \"tpr\": 1.0, \"n\": 14}, {\"threshold\": 0.033, \"p\": 16, \"fpr\": 0.42857142857142855, \"tpr\": 1.0, \"n\": 14}, {\"threshold\": 0.034, \"p\": 16, \"fpr\": 0.42857142857142855, \"tpr\": 1.0, \"n\": 14}, {\"threshold\": 0.035, \"p\": 16, \"fpr\": 0.42857142857142855, \"tpr\": 1.0, \"n\": 14}, {\"threshold\": 0.036, \"p\": 16, \"fpr\": 0.42857142857142855, \"tpr\": 1.0, \"n\": 14}, {\"threshold\": 0.037, \"p\": 16, \"fpr\": 0.42857142857142855, \"tpr\": 1.0, \"n\": 14}, {\"threshold\": 0.038, \"p\": 16, \"fpr\": 0.42857142857142855, \"tpr\": 1.0, \"n\": 14}, {\"threshold\": 0.039, \"p\": 16, \"fpr\": 0.42857142857142855, \"tpr\": 1.0, \"n\": 14}, {\"threshold\": 0.04, \"p\": 16, \"fpr\": 0.42857142857142855, \"tpr\": 1.0, \"n\": 14}, {\"threshold\": 0.041, \"p\": 16, \"fpr\": 0.42857142857142855, \"tpr\": 1.0, \"n\": 14}, {\"threshold\": 0.042, \"p\": 16, \"fpr\": 0.42857142857142855, \"tpr\": 1.0, \"n\": 14}, {\"threshold\": 0.043, \"p\": 16, \"fpr\": 0.42857142857142855, \"tpr\": 1.0, \"n\": 14}, {\"threshold\": 0.044, \"p\": 16, \"fpr\": 0.42857142857142855, \"tpr\": 1.0, \"n\": 14}, {\"threshold\": 0.045, \"p\": 16, \"fpr\": 0.42857142857142855, \"tpr\": 1.0, \"n\": 14}, {\"threshold\": 0.046, \"p\": 16, \"fpr\": 0.42857142857142855, \"tpr\": 1.0, \"n\": 14}, {\"threshold\": 0.047, \"p\": 16, \"fpr\": 0.42857142857142855, \"tpr\": 1.0, \"n\": 14}, {\"threshold\": 0.048, \"p\": 16, \"fpr\": 0.42857142857142855, \"tpr\": 1.0, \"n\": 14}, {\"threshold\": 0.049, \"p\": 16, \"fpr\": 0.42857142857142855, \"tpr\": 1.0, \"n\": 14}, {\"threshold\": 0.05, \"p\": 16, \"fpr\": 0.42857142857142855, \"tpr\": 1.0, \"n\": 14}, {\"threshold\": 0.051, \"p\": 16, \"fpr\": 0.42857142857142855, \"tpr\": 1.0, \"n\": 14}, {\"threshold\": 0.052, \"p\": 16, \"fpr\": 0.42857142857142855, \"tpr\": 1.0, \"n\": 14}, {\"threshold\": 0.053, \"p\": 16, \"fpr\": 0.42857142857142855, \"tpr\": 1.0, \"n\": 14}, {\"threshold\": 0.054, \"p\": 16, \"fpr\": 0.42857142857142855, \"tpr\": 1.0, \"n\": 14}, {\"threshold\": 0.055, \"p\": 16, \"fpr\": 0.42857142857142855, \"tpr\": 1.0, \"n\": 14}, {\"threshold\": 0.056, \"p\": 16, \"fpr\": 0.42857142857142855, \"tpr\": 1.0, \"n\": 14}, {\"threshold\": 0.057, \"p\": 16, \"fpr\": 0.42857142857142855, \"tpr\": 1.0, \"n\": 14}, {\"threshold\": 0.058, \"p\": 16, \"fpr\": 0.42857142857142855, \"tpr\": 1.0, \"n\": 14}, {\"threshold\": 0.059, \"p\": 16, \"fpr\": 0.42857142857142855, \"tpr\": 1.0, \"n\": 14}, {\"threshold\": 0.06, \"p\": 16, \"fpr\": 0.42857142857142855, \"tpr\": 1.0, \"n\": 14}, {\"threshold\": 0.061, \"p\": 16, \"fpr\": 0.42857142857142855, \"tpr\": 1.0, \"n\": 14}, {\"threshold\": 0.062, \"p\": 16, \"fpr\": 0.42857142857142855, \"tpr\": 1.0, \"n\": 14}, {\"threshold\": 0.063, \"p\": 16, \"fpr\": 0.42857142857142855, \"tpr\": 1.0, \"n\": 14}, {\"threshold\": 0.064, \"p\": 16, \"fpr\": 0.42857142857142855, \"tpr\": 1.0, \"n\": 14}, {\"threshold\": 0.065, \"p\": 16, \"fpr\": 0.42857142857142855, \"tpr\": 1.0, \"n\": 14}, {\"threshold\": 0.066, \"p\": 16, \"fpr\": 0.42857142857142855, \"tpr\": 1.0, \"n\": 14}, {\"threshold\": 0.067, \"p\": 16, \"fpr\": 0.42857142857142855, \"tpr\": 1.0, \"n\": 14}, {\"threshold\": 0.068, \"p\": 16, \"fpr\": 0.42857142857142855, \"tpr\": 1.0, \"n\": 14}, {\"threshold\": 0.069, \"p\": 16, \"fpr\": 0.42857142857142855, \"tpr\": 1.0, \"n\": 14}, {\"threshold\": 0.07, \"p\": 16, \"fpr\": 0.42857142857142855, \"tpr\": 1.0, \"n\": 14}, {\"threshold\": 0.071, \"p\": 16, \"fpr\": 0.42857142857142855, \"tpr\": 1.0, \"n\": 14}, {\"threshold\": 0.072, \"p\": 16, \"fpr\": 0.42857142857142855, \"tpr\": 1.0, \"n\": 14}, {\"threshold\": 0.073, \"p\": 16, \"fpr\": 0.42857142857142855, \"tpr\": 1.0, \"n\": 14}, {\"threshold\": 0.074, \"p\": 16, \"fpr\": 0.42857142857142855, \"tpr\": 1.0, \"n\": 14}, {\"threshold\": 0.075, \"p\": 16, \"fpr\": 0.42857142857142855, \"tpr\": 1.0, \"n\": 14}, {\"threshold\": 0.076, \"p\": 16, \"fpr\": 0.42857142857142855, \"tpr\": 1.0, \"n\": 14}, {\"threshold\": 0.077, \"p\": 16, \"fpr\": 0.42857142857142855, \"tpr\": 1.0, \"n\": 14}, {\"threshold\": 0.078, \"p\": 16, \"fpr\": 0.42857142857142855, \"tpr\": 1.0, \"n\": 14}, {\"threshold\": 0.079, \"p\": 16, \"fpr\": 0.42857142857142855, \"tpr\": 1.0, \"n\": 14}, {\"threshold\": 0.08, \"p\": 16, \"fpr\": 0.42857142857142855, \"tpr\": 1.0, \"n\": 14}, {\"threshold\": 0.081, \"p\": 16, \"fpr\": 0.42857142857142855, \"tpr\": 1.0, \"n\": 14}, {\"threshold\": 0.082, \"p\": 16, \"fpr\": 0.42857142857142855, \"tpr\": 1.0, \"n\": 14}, {\"threshold\": 0.083, \"p\": 16, \"fpr\": 0.42857142857142855, \"tpr\": 1.0, \"n\": 14}, {\"threshold\": 0.084, \"p\": 16, \"fpr\": 0.42857142857142855, \"tpr\": 1.0, \"n\": 14}, {\"threshold\": 0.085, \"p\": 16, \"fpr\": 0.42857142857142855, \"tpr\": 1.0, \"n\": 14}, {\"threshold\": 0.086, \"p\": 16, \"fpr\": 0.42857142857142855, \"tpr\": 1.0, \"n\": 14}, {\"threshold\": 0.087, \"p\": 16, \"fpr\": 0.42857142857142855, \"tpr\": 1.0, \"n\": 14}, {\"threshold\": 0.088, \"p\": 16, \"fpr\": 0.42857142857142855, \"tpr\": 1.0, \"n\": 14}, {\"threshold\": 0.089, \"p\": 16, \"fpr\": 0.42857142857142855, \"tpr\": 1.0, \"n\": 14}, {\"threshold\": 0.09, \"p\": 16, \"fpr\": 0.42857142857142855, \"tpr\": 1.0, \"n\": 14}, {\"threshold\": 0.091, \"p\": 16, \"fpr\": 0.42857142857142855, \"tpr\": 1.0, \"n\": 14}, {\"threshold\": 0.092, \"p\": 16, \"fpr\": 0.42857142857142855, \"tpr\": 1.0, \"n\": 14}, {\"threshold\": 0.093, \"p\": 16, \"fpr\": 0.42857142857142855, \"tpr\": 1.0, \"n\": 14}, {\"threshold\": 0.094, \"p\": 16, \"fpr\": 0.42857142857142855, \"tpr\": 1.0, \"n\": 14}, {\"threshold\": 0.095, \"p\": 16, \"fpr\": 0.42857142857142855, \"tpr\": 1.0, \"n\": 14}, {\"threshold\": 0.096, \"p\": 16, \"fpr\": 0.42857142857142855, \"tpr\": 1.0, \"n\": 14}, {\"threshold\": 0.097, \"p\": 16, \"fpr\": 0.42857142857142855, \"tpr\": 1.0, \"n\": 14}, {\"threshold\": 0.098, \"p\": 16, \"fpr\": 0.42857142857142855, \"tpr\": 1.0, \"n\": 14}, {\"threshold\": 0.099, \"p\": 16, \"fpr\": 0.42857142857142855, \"tpr\": 1.0, \"n\": 14}, {\"threshold\": 0.1, \"p\": 16, \"fpr\": 0.42857142857142855, \"tpr\": 1.0, \"n\": 14}, {\"threshold\": 0.101, \"p\": 16, \"fpr\": 0.42857142857142855, \"tpr\": 1.0, \"n\": 14}, {\"threshold\": 0.102, \"p\": 16, \"fpr\": 0.42857142857142855, \"tpr\": 1.0, \"n\": 14}, {\"threshold\": 0.103, \"p\": 16, \"fpr\": 0.42857142857142855, \"tpr\": 1.0, \"n\": 14}, {\"threshold\": 0.104, \"p\": 16, \"fpr\": 0.42857142857142855, \"tpr\": 1.0, \"n\": 14}, {\"threshold\": 0.105, \"p\": 16, \"fpr\": 0.42857142857142855, \"tpr\": 1.0, \"n\": 14}, {\"threshold\": 0.106, \"p\": 16, \"fpr\": 0.42857142857142855, \"tpr\": 1.0, \"n\": 14}, {\"threshold\": 0.107, \"p\": 16, \"fpr\": 0.42857142857142855, \"tpr\": 1.0, \"n\": 14}, {\"threshold\": 0.108, \"p\": 16, \"fpr\": 0.42857142857142855, \"tpr\": 1.0, \"n\": 14}, {\"threshold\": 0.109, \"p\": 16, \"fpr\": 0.42857142857142855, \"tpr\": 1.0, \"n\": 14}, {\"threshold\": 0.11, \"p\": 16, \"fpr\": 0.42857142857142855, \"tpr\": 1.0, \"n\": 14}, {\"threshold\": 0.111, \"p\": 16, \"fpr\": 0.42857142857142855, \"tpr\": 1.0, \"n\": 14}, {\"threshold\": 0.112, \"p\": 16, \"fpr\": 0.42857142857142855, \"tpr\": 1.0, \"n\": 14}, {\"threshold\": 0.113, \"p\": 16, \"fpr\": 0.42857142857142855, \"tpr\": 1.0, \"n\": 14}, {\"threshold\": 0.114, \"p\": 16, \"fpr\": 0.42857142857142855, \"tpr\": 1.0, \"n\": 14}, {\"threshold\": 0.115, \"p\": 16, \"fpr\": 0.42857142857142855, \"tpr\": 1.0, \"n\": 14}, {\"threshold\": 0.116, \"p\": 16, \"fpr\": 0.42857142857142855, \"tpr\": 1.0, \"n\": 14}, {\"threshold\": 0.117, \"p\": 16, \"fpr\": 0.42857142857142855, \"tpr\": 1.0, \"n\": 14}, {\"threshold\": 0.118, \"p\": 16, \"fpr\": 0.42857142857142855, \"tpr\": 1.0, \"n\": 14}, {\"threshold\": 0.119, \"p\": 16, \"fpr\": 0.42857142857142855, \"tpr\": 1.0, \"n\": 14}, {\"threshold\": 0.12, \"p\": 16, \"fpr\": 0.42857142857142855, \"tpr\": 1.0, \"n\": 14}, {\"threshold\": 0.121, \"p\": 16, \"fpr\": 0.42857142857142855, \"tpr\": 1.0, \"n\": 14}, {\"threshold\": 0.122, \"p\": 16, \"fpr\": 0.42857142857142855, \"tpr\": 1.0, \"n\": 14}, {\"threshold\": 0.123, \"p\": 16, \"fpr\": 0.42857142857142855, \"tpr\": 1.0, \"n\": 14}, {\"threshold\": 0.124, \"p\": 16, \"fpr\": 0.42857142857142855, \"tpr\": 1.0, \"n\": 14}, {\"threshold\": 0.125, \"p\": 16, \"fpr\": 0.42857142857142855, \"tpr\": 1.0, \"n\": 14}, {\"threshold\": 0.126, \"p\": 16, \"fpr\": 0.42857142857142855, \"tpr\": 1.0, \"n\": 14}, {\"threshold\": 0.127, \"p\": 16, \"fpr\": 0.42857142857142855, \"tpr\": 1.0, \"n\": 14}, {\"threshold\": 0.128, \"p\": 16, \"fpr\": 0.42857142857142855, \"tpr\": 1.0, \"n\": 14}, {\"threshold\": 0.129, \"p\": 16, \"fpr\": 0.42857142857142855, \"tpr\": 1.0, \"n\": 14}, {\"threshold\": 0.13, \"p\": 16, \"fpr\": 0.42857142857142855, \"tpr\": 1.0, \"n\": 14}, {\"threshold\": 0.131, \"p\": 16, \"fpr\": 0.42857142857142855, \"tpr\": 1.0, \"n\": 14}, {\"threshold\": 0.132, \"p\": 16, \"fpr\": 0.42857142857142855, \"tpr\": 1.0, \"n\": 14}, {\"threshold\": 0.133, \"p\": 16, \"fpr\": 0.42857142857142855, \"tpr\": 1.0, \"n\": 14}, {\"threshold\": 0.134, \"p\": 16, \"fpr\": 0.42857142857142855, \"tpr\": 1.0, \"n\": 14}, {\"threshold\": 0.135, \"p\": 16, \"fpr\": 0.42857142857142855, \"tpr\": 1.0, \"n\": 14}, {\"threshold\": 0.136, \"p\": 16, \"fpr\": 0.42857142857142855, \"tpr\": 1.0, \"n\": 14}, {\"threshold\": 0.137, \"p\": 16, \"fpr\": 0.42857142857142855, \"tpr\": 1.0, \"n\": 14}, {\"threshold\": 0.138, \"p\": 16, \"fpr\": 0.42857142857142855, \"tpr\": 1.0, \"n\": 14}, {\"threshold\": 0.139, \"p\": 16, \"fpr\": 0.42857142857142855, \"tpr\": 1.0, \"n\": 14}, {\"threshold\": 0.14, \"p\": 16, \"fpr\": 0.42857142857142855, \"tpr\": 1.0, \"n\": 14}, {\"threshold\": 0.141, \"p\": 16, \"fpr\": 0.42857142857142855, \"tpr\": 1.0, \"n\": 14}, {\"threshold\": 0.142, \"p\": 16, \"fpr\": 0.42857142857142855, \"tpr\": 1.0, \"n\": 14}, {\"threshold\": 0.143, \"p\": 16, \"fpr\": 0.42857142857142855, \"tpr\": 1.0, \"n\": 14}, {\"threshold\": 0.144, \"p\": 16, \"fpr\": 0.42857142857142855, \"tpr\": 1.0, \"n\": 14}, {\"threshold\": 0.145, \"p\": 16, \"fpr\": 0.42857142857142855, \"tpr\": 1.0, \"n\": 14}, {\"threshold\": 0.146, \"p\": 16, \"fpr\": 0.42857142857142855, \"tpr\": 1.0, \"n\": 14}, {\"threshold\": 0.147, \"p\": 16, \"fpr\": 0.42857142857142855, \"tpr\": 1.0, \"n\": 14}, {\"threshold\": 0.148, \"p\": 16, \"fpr\": 0.42857142857142855, \"tpr\": 1.0, \"n\": 14}, {\"threshold\": 0.149, \"p\": 16, \"fpr\": 0.42857142857142855, \"tpr\": 1.0, \"n\": 14}, {\"threshold\": 0.15, \"p\": 16, \"fpr\": 0.42857142857142855, \"tpr\": 1.0, \"n\": 14}, {\"threshold\": 0.151, \"p\": 16, \"fpr\": 0.42857142857142855, \"tpr\": 1.0, \"n\": 14}, {\"threshold\": 0.152, \"p\": 16, \"fpr\": 0.42857142857142855, \"tpr\": 1.0, \"n\": 14}, {\"threshold\": 0.153, \"p\": 16, \"fpr\": 0.35714285714285715, \"tpr\": 1.0, \"n\": 14}, {\"threshold\": 0.154, \"p\": 16, \"fpr\": 0.35714285714285715, \"tpr\": 1.0, \"n\": 14}, {\"threshold\": 0.155, \"p\": 16, \"fpr\": 0.35714285714285715, \"tpr\": 1.0, \"n\": 14}, {\"threshold\": 0.156, \"p\": 16, \"fpr\": 0.35714285714285715, \"tpr\": 1.0, \"n\": 14}, {\"threshold\": 0.157, \"p\": 16, \"fpr\": 0.35714285714285715, \"tpr\": 1.0, \"n\": 14}, {\"threshold\": 0.158, \"p\": 16, \"fpr\": 0.35714285714285715, \"tpr\": 1.0, \"n\": 14}, {\"threshold\": 0.159, \"p\": 16, \"fpr\": 0.35714285714285715, \"tpr\": 1.0, \"n\": 14}, {\"threshold\": 0.16, \"p\": 16, \"fpr\": 0.35714285714285715, \"tpr\": 1.0, \"n\": 14}, {\"threshold\": 0.161, \"p\": 16, \"fpr\": 0.35714285714285715, \"tpr\": 1.0, \"n\": 14}, {\"threshold\": 0.162, \"p\": 16, \"fpr\": 0.35714285714285715, \"tpr\": 1.0, \"n\": 14}, {\"threshold\": 0.163, \"p\": 16, \"fpr\": 0.35714285714285715, \"tpr\": 1.0, \"n\": 14}, {\"threshold\": 0.164, \"p\": 16, \"fpr\": 0.35714285714285715, \"tpr\": 1.0, \"n\": 14}, {\"threshold\": 0.165, \"p\": 16, \"fpr\": 0.35714285714285715, \"tpr\": 1.0, \"n\": 14}, {\"threshold\": 0.166, \"p\": 16, \"fpr\": 0.35714285714285715, \"tpr\": 1.0, \"n\": 14}, {\"threshold\": 0.167, \"p\": 16, \"fpr\": 0.35714285714285715, \"tpr\": 1.0, \"n\": 14}, {\"threshold\": 0.168, \"p\": 16, \"fpr\": 0.35714285714285715, \"tpr\": 1.0, \"n\": 14}, {\"threshold\": 0.169, \"p\": 16, \"fpr\": 0.35714285714285715, \"tpr\": 1.0, \"n\": 14}, {\"threshold\": 0.17, \"p\": 16, \"fpr\": 0.35714285714285715, \"tpr\": 1.0, \"n\": 14}, {\"threshold\": 0.171, \"p\": 16, \"fpr\": 0.35714285714285715, \"tpr\": 1.0, \"n\": 14}, {\"threshold\": 0.172, \"p\": 16, \"fpr\": 0.35714285714285715, \"tpr\": 1.0, \"n\": 14}, {\"threshold\": 0.173, \"p\": 16, \"fpr\": 0.35714285714285715, \"tpr\": 1.0, \"n\": 14}, {\"threshold\": 0.174, \"p\": 16, \"fpr\": 0.35714285714285715, \"tpr\": 1.0, \"n\": 14}, {\"threshold\": 0.175, \"p\": 16, \"fpr\": 0.35714285714285715, \"tpr\": 1.0, \"n\": 14}, {\"threshold\": 0.176, \"p\": 16, \"fpr\": 0.35714285714285715, \"tpr\": 1.0, \"n\": 14}, {\"threshold\": 0.177, \"p\": 16, \"fpr\": 0.35714285714285715, \"tpr\": 1.0, \"n\": 14}, {\"threshold\": 0.178, \"p\": 16, \"fpr\": 0.35714285714285715, \"tpr\": 1.0, \"n\": 14}, {\"threshold\": 0.179, \"p\": 16, \"fpr\": 0.35714285714285715, \"tpr\": 1.0, \"n\": 14}, {\"threshold\": 0.18, \"p\": 16, \"fpr\": 0.35714285714285715, \"tpr\": 1.0, \"n\": 14}, {\"threshold\": 0.181, \"p\": 16, \"fpr\": 0.35714285714285715, \"tpr\": 1.0, \"n\": 14}, {\"threshold\": 0.182, \"p\": 16, \"fpr\": 0.35714285714285715, \"tpr\": 1.0, \"n\": 14}, {\"threshold\": 0.183, \"p\": 16, \"fpr\": 0.35714285714285715, \"tpr\": 1.0, \"n\": 14}, {\"threshold\": 0.184, \"p\": 16, \"fpr\": 0.35714285714285715, \"tpr\": 1.0, \"n\": 14}, {\"threshold\": 0.185, \"p\": 16, \"fpr\": 0.35714285714285715, \"tpr\": 1.0, \"n\": 14}, {\"threshold\": 0.186, \"p\": 16, \"fpr\": 0.35714285714285715, \"tpr\": 1.0, \"n\": 14}, {\"threshold\": 0.187, \"p\": 16, \"fpr\": 0.35714285714285715, \"tpr\": 1.0, \"n\": 14}, {\"threshold\": 0.188, \"p\": 16, \"fpr\": 0.35714285714285715, \"tpr\": 1.0, \"n\": 14}, {\"threshold\": 0.189, \"p\": 16, \"fpr\": 0.35714285714285715, \"tpr\": 1.0, \"n\": 14}, {\"threshold\": 0.19, \"p\": 16, \"fpr\": 0.35714285714285715, \"tpr\": 1.0, \"n\": 14}, {\"threshold\": 0.191, \"p\": 16, \"fpr\": 0.35714285714285715, \"tpr\": 1.0, \"n\": 14}, {\"threshold\": 0.192, \"p\": 16, \"fpr\": 0.35714285714285715, \"tpr\": 1.0, \"n\": 14}, {\"threshold\": 0.193, \"p\": 16, \"fpr\": 0.35714285714285715, \"tpr\": 1.0, \"n\": 14}, {\"threshold\": 0.194, \"p\": 16, \"fpr\": 0.35714285714285715, \"tpr\": 1.0, \"n\": 14}, {\"threshold\": 0.195, \"p\": 16, \"fpr\": 0.35714285714285715, \"tpr\": 1.0, \"n\": 14}, {\"threshold\": 0.196, \"p\": 16, \"fpr\": 0.35714285714285715, \"tpr\": 1.0, \"n\": 14}, {\"threshold\": 0.197, \"p\": 16, \"fpr\": 0.35714285714285715, \"tpr\": 1.0, \"n\": 14}, {\"threshold\": 0.198, \"p\": 16, \"fpr\": 0.35714285714285715, \"tpr\": 1.0, \"n\": 14}, {\"threshold\": 0.199, \"p\": 16, \"fpr\": 0.35714285714285715, \"tpr\": 1.0, \"n\": 14}, {\"threshold\": 0.2, \"p\": 16, \"fpr\": 0.35714285714285715, \"tpr\": 1.0, \"n\": 14}, {\"threshold\": 0.201, \"p\": 16, \"fpr\": 0.35714285714285715, \"tpr\": 1.0, \"n\": 14}, {\"threshold\": 0.202, \"p\": 16, \"fpr\": 0.35714285714285715, \"tpr\": 1.0, \"n\": 14}, {\"threshold\": 0.203, \"p\": 16, \"fpr\": 0.35714285714285715, \"tpr\": 1.0, \"n\": 14}, {\"threshold\": 0.204, \"p\": 16, \"fpr\": 0.35714285714285715, \"tpr\": 1.0, \"n\": 14}, {\"threshold\": 0.205, \"p\": 16, \"fpr\": 0.35714285714285715, \"tpr\": 1.0, \"n\": 14}, {\"threshold\": 0.206, \"p\": 16, \"fpr\": 0.35714285714285715, \"tpr\": 1.0, \"n\": 14}, {\"threshold\": 0.207, \"p\": 16, \"fpr\": 0.35714285714285715, \"tpr\": 1.0, \"n\": 14}, {\"threshold\": 0.208, \"p\": 16, \"fpr\": 0.35714285714285715, \"tpr\": 1.0, \"n\": 14}, {\"threshold\": 0.209, \"p\": 16, \"fpr\": 0.35714285714285715, \"tpr\": 1.0, \"n\": 14}, {\"threshold\": 0.21, \"p\": 16, \"fpr\": 0.35714285714285715, \"tpr\": 1.0, \"n\": 14}, {\"threshold\": 0.211, \"p\": 16, \"fpr\": 0.35714285714285715, \"tpr\": 1.0, \"n\": 14}, {\"threshold\": 0.212, \"p\": 16, \"fpr\": 0.35714285714285715, \"tpr\": 1.0, \"n\": 14}, {\"threshold\": 0.213, \"p\": 16, \"fpr\": 0.35714285714285715, \"tpr\": 1.0, \"n\": 14}, {\"threshold\": 0.214, \"p\": 16, \"fpr\": 0.35714285714285715, \"tpr\": 1.0, \"n\": 14}, {\"threshold\": 0.215, \"p\": 16, \"fpr\": 0.35714285714285715, \"tpr\": 1.0, \"n\": 14}, {\"threshold\": 0.216, \"p\": 16, \"fpr\": 0.35714285714285715, \"tpr\": 1.0, \"n\": 14}, {\"threshold\": 0.217, \"p\": 16, \"fpr\": 0.35714285714285715, \"tpr\": 1.0, \"n\": 14}, {\"threshold\": 0.218, \"p\": 16, \"fpr\": 0.35714285714285715, \"tpr\": 1.0, \"n\": 14}, {\"threshold\": 0.219, \"p\": 16, \"fpr\": 0.35714285714285715, \"tpr\": 1.0, \"n\": 14}, {\"threshold\": 0.22, \"p\": 16, \"fpr\": 0.35714285714285715, \"tpr\": 1.0, \"n\": 14}, {\"threshold\": 0.221, \"p\": 16, \"fpr\": 0.35714285714285715, \"tpr\": 1.0, \"n\": 14}, {\"threshold\": 0.222, \"p\": 16, \"fpr\": 0.35714285714285715, \"tpr\": 1.0, \"n\": 14}, {\"threshold\": 0.223, \"p\": 16, \"fpr\": 0.35714285714285715, \"tpr\": 1.0, \"n\": 14}, {\"threshold\": 0.224, \"p\": 16, \"fpr\": 0.35714285714285715, \"tpr\": 1.0, \"n\": 14}, {\"threshold\": 0.225, \"p\": 16, \"fpr\": 0.35714285714285715, \"tpr\": 1.0, \"n\": 14}, {\"threshold\": 0.226, \"p\": 16, \"fpr\": 0.35714285714285715, \"tpr\": 1.0, \"n\": 14}, {\"threshold\": 0.227, \"p\": 16, \"fpr\": 0.35714285714285715, \"tpr\": 1.0, \"n\": 14}, {\"threshold\": 0.228, \"p\": 16, \"fpr\": 0.35714285714285715, \"tpr\": 1.0, \"n\": 14}, {\"threshold\": 0.229, \"p\": 16, \"fpr\": 0.35714285714285715, \"tpr\": 1.0, \"n\": 14}, {\"threshold\": 0.23, \"p\": 16, \"fpr\": 0.35714285714285715, \"tpr\": 1.0, \"n\": 14}, {\"threshold\": 0.231, \"p\": 16, \"fpr\": 0.35714285714285715, \"tpr\": 1.0, \"n\": 14}, {\"threshold\": 0.232, \"p\": 16, \"fpr\": 0.35714285714285715, \"tpr\": 1.0, \"n\": 14}, {\"threshold\": 0.233, \"p\": 16, \"fpr\": 0.35714285714285715, \"tpr\": 1.0, \"n\": 14}, {\"threshold\": 0.234, \"p\": 16, \"fpr\": 0.35714285714285715, \"tpr\": 1.0, \"n\": 14}, {\"threshold\": 0.235, \"p\": 16, \"fpr\": 0.35714285714285715, \"tpr\": 1.0, \"n\": 14}, {\"threshold\": 0.236, \"p\": 16, \"fpr\": 0.35714285714285715, \"tpr\": 1.0, \"n\": 14}, {\"threshold\": 0.237, \"p\": 16, \"fpr\": 0.35714285714285715, \"tpr\": 1.0, \"n\": 14}, {\"threshold\": 0.238, \"p\": 16, \"fpr\": 0.35714285714285715, \"tpr\": 1.0, \"n\": 14}, {\"threshold\": 0.239, \"p\": 16, \"fpr\": 0.35714285714285715, \"tpr\": 1.0, \"n\": 14}, {\"threshold\": 0.24, \"p\": 16, \"fpr\": 0.35714285714285715, \"tpr\": 1.0, \"n\": 14}, {\"threshold\": 0.241, \"p\": 16, \"fpr\": 0.35714285714285715, \"tpr\": 1.0, \"n\": 14}, {\"threshold\": 0.242, \"p\": 16, \"fpr\": 0.35714285714285715, \"tpr\": 1.0, \"n\": 14}, {\"threshold\": 0.243, \"p\": 16, \"fpr\": 0.35714285714285715, \"tpr\": 1.0, \"n\": 14}, {\"threshold\": 0.244, \"p\": 16, \"fpr\": 0.35714285714285715, \"tpr\": 1.0, \"n\": 14}, {\"threshold\": 0.245, \"p\": 16, \"fpr\": 0.35714285714285715, \"tpr\": 1.0, \"n\": 14}, {\"threshold\": 0.246, \"p\": 16, \"fpr\": 0.35714285714285715, \"tpr\": 1.0, \"n\": 14}, {\"threshold\": 0.247, \"p\": 16, \"fpr\": 0.35714285714285715, \"tpr\": 1.0, \"n\": 14}, {\"threshold\": 0.248, \"p\": 16, \"fpr\": 0.35714285714285715, \"tpr\": 1.0, \"n\": 14}, {\"threshold\": 0.249, \"p\": 16, \"fpr\": 0.35714285714285715, \"tpr\": 1.0, \"n\": 14}, {\"threshold\": 0.25, \"p\": 16, \"fpr\": 0.35714285714285715, \"tpr\": 1.0, \"n\": 14}, {\"threshold\": 0.251, \"p\": 16, \"fpr\": 0.35714285714285715, \"tpr\": 1.0, \"n\": 14}, {\"threshold\": 0.252, \"p\": 16, \"fpr\": 0.35714285714285715, \"tpr\": 1.0, \"n\": 14}, {\"threshold\": 0.253, \"p\": 16, \"fpr\": 0.35714285714285715, \"tpr\": 1.0, \"n\": 14}, {\"threshold\": 0.254, \"p\": 16, \"fpr\": 0.35714285714285715, \"tpr\": 1.0, \"n\": 14}, {\"threshold\": 0.255, \"p\": 16, \"fpr\": 0.35714285714285715, \"tpr\": 1.0, \"n\": 14}, {\"threshold\": 0.256, \"p\": 16, \"fpr\": 0.35714285714285715, \"tpr\": 1.0, \"n\": 14}, {\"threshold\": 0.257, \"p\": 16, \"fpr\": 0.35714285714285715, \"tpr\": 1.0, \"n\": 14}, {\"threshold\": 0.258, \"p\": 16, \"fpr\": 0.35714285714285715, \"tpr\": 1.0, \"n\": 14}, {\"threshold\": 0.259, \"p\": 16, \"fpr\": 0.35714285714285715, \"tpr\": 1.0, \"n\": 14}, {\"threshold\": 0.26, \"p\": 16, \"fpr\": 0.35714285714285715, \"tpr\": 1.0, \"n\": 14}, {\"threshold\": 0.261, \"p\": 16, \"fpr\": 0.35714285714285715, \"tpr\": 1.0, \"n\": 14}, {\"threshold\": 0.262, \"p\": 16, \"fpr\": 0.35714285714285715, \"tpr\": 1.0, \"n\": 14}, {\"threshold\": 0.263, \"p\": 16, \"fpr\": 0.35714285714285715, \"tpr\": 1.0, \"n\": 14}, {\"threshold\": 0.264, \"p\": 16, \"fpr\": 0.35714285714285715, \"tpr\": 1.0, \"n\": 14}, {\"threshold\": 0.265, \"p\": 16, \"fpr\": 0.35714285714285715, \"tpr\": 1.0, \"n\": 14}, {\"threshold\": 0.266, \"p\": 16, \"fpr\": 0.35714285714285715, \"tpr\": 1.0, \"n\": 14}, {\"threshold\": 0.267, \"p\": 16, \"fpr\": 0.35714285714285715, \"tpr\": 1.0, \"n\": 14}, {\"threshold\": 0.268, \"p\": 16, \"fpr\": 0.35714285714285715, \"tpr\": 1.0, \"n\": 14}, {\"threshold\": 0.269, \"p\": 16, \"fpr\": 0.35714285714285715, \"tpr\": 1.0, \"n\": 14}, {\"threshold\": 0.27, \"p\": 16, \"fpr\": 0.35714285714285715, \"tpr\": 1.0, \"n\": 14}, {\"threshold\": 0.271, \"p\": 16, \"fpr\": 0.35714285714285715, \"tpr\": 1.0, \"n\": 14}, {\"threshold\": 0.272, \"p\": 16, \"fpr\": 0.35714285714285715, \"tpr\": 1.0, \"n\": 14}, {\"threshold\": 0.273, \"p\": 16, \"fpr\": 0.35714285714285715, \"tpr\": 1.0, \"n\": 14}, {\"threshold\": 0.274, \"p\": 16, \"fpr\": 0.35714285714285715, \"tpr\": 1.0, \"n\": 14}, {\"threshold\": 0.275, \"p\": 16, \"fpr\": 0.35714285714285715, \"tpr\": 1.0, \"n\": 14}, {\"threshold\": 0.276, \"p\": 16, \"fpr\": 0.35714285714285715, \"tpr\": 1.0, \"n\": 14}, {\"threshold\": 0.277, \"p\": 16, \"fpr\": 0.2857142857142857, \"tpr\": 1.0, \"n\": 14}, {\"threshold\": 0.278, \"p\": 16, \"fpr\": 0.2857142857142857, \"tpr\": 1.0, \"n\": 14}, {\"threshold\": 0.279, \"p\": 16, \"fpr\": 0.2857142857142857, \"tpr\": 1.0, \"n\": 14}, {\"threshold\": 0.28, \"p\": 16, \"fpr\": 0.2857142857142857, \"tpr\": 1.0, \"n\": 14}, {\"threshold\": 0.281, \"p\": 16, \"fpr\": 0.2857142857142857, \"tpr\": 1.0, \"n\": 14}, {\"threshold\": 0.282, \"p\": 16, \"fpr\": 0.2857142857142857, \"tpr\": 1.0, \"n\": 14}, {\"threshold\": 0.283, \"p\": 16, \"fpr\": 0.2857142857142857, \"tpr\": 1.0, \"n\": 14}, {\"threshold\": 0.284, \"p\": 16, \"fpr\": 0.2857142857142857, \"tpr\": 1.0, \"n\": 14}, {\"threshold\": 0.285, \"p\": 16, \"fpr\": 0.2857142857142857, \"tpr\": 1.0, \"n\": 14}, {\"threshold\": 0.286, \"p\": 16, \"fpr\": 0.2857142857142857, \"tpr\": 1.0, \"n\": 14}, {\"threshold\": 0.287, \"p\": 16, \"fpr\": 0.2857142857142857, \"tpr\": 1.0, \"n\": 14}, {\"threshold\": 0.288, \"p\": 16, \"fpr\": 0.2857142857142857, \"tpr\": 1.0, \"n\": 14}, {\"threshold\": 0.289, \"p\": 16, \"fpr\": 0.2857142857142857, \"tpr\": 1.0, \"n\": 14}, {\"threshold\": 0.29, \"p\": 16, \"fpr\": 0.2857142857142857, \"tpr\": 1.0, \"n\": 14}, {\"threshold\": 0.291, \"p\": 16, \"fpr\": 0.2857142857142857, \"tpr\": 1.0, \"n\": 14}, {\"threshold\": 0.292, \"p\": 16, \"fpr\": 0.2857142857142857, \"tpr\": 1.0, \"n\": 14}, {\"threshold\": 0.293, \"p\": 16, \"fpr\": 0.2857142857142857, \"tpr\": 1.0, \"n\": 14}, {\"threshold\": 0.294, \"p\": 16, \"fpr\": 0.2857142857142857, \"tpr\": 1.0, \"n\": 14}, {\"threshold\": 0.295, \"p\": 16, \"fpr\": 0.2857142857142857, \"tpr\": 1.0, \"n\": 14}, {\"threshold\": 0.296, \"p\": 16, \"fpr\": 0.2857142857142857, \"tpr\": 1.0, \"n\": 14}, {\"threshold\": 0.297, \"p\": 16, \"fpr\": 0.2857142857142857, \"tpr\": 1.0, \"n\": 14}, {\"threshold\": 0.298, \"p\": 16, \"fpr\": 0.2857142857142857, \"tpr\": 1.0, \"n\": 14}, {\"threshold\": 0.299, \"p\": 16, \"fpr\": 0.2857142857142857, \"tpr\": 1.0, \"n\": 14}, {\"threshold\": 0.3, \"p\": 16, \"fpr\": 0.2857142857142857, \"tpr\": 1.0, \"n\": 14}, {\"threshold\": 0.301, \"p\": 16, \"fpr\": 0.2857142857142857, \"tpr\": 1.0, \"n\": 14}, {\"threshold\": 0.302, \"p\": 16, \"fpr\": 0.2857142857142857, \"tpr\": 1.0, \"n\": 14}, {\"threshold\": 0.303, \"p\": 16, \"fpr\": 0.2857142857142857, \"tpr\": 1.0, \"n\": 14}, {\"threshold\": 0.304, \"p\": 16, \"fpr\": 0.2857142857142857, \"tpr\": 1.0, \"n\": 14}, {\"threshold\": 0.305, \"p\": 16, \"fpr\": 0.2857142857142857, \"tpr\": 1.0, \"n\": 14}, {\"threshold\": 0.306, \"p\": 16, \"fpr\": 0.2857142857142857, \"tpr\": 1.0, \"n\": 14}, {\"threshold\": 0.307, \"p\": 16, \"fpr\": 0.2857142857142857, \"tpr\": 1.0, \"n\": 14}, {\"threshold\": 0.308, \"p\": 16, \"fpr\": 0.2857142857142857, \"tpr\": 1.0, \"n\": 14}, {\"threshold\": 0.309, \"p\": 16, \"fpr\": 0.2857142857142857, \"tpr\": 1.0, \"n\": 14}, {\"threshold\": 0.31, \"p\": 16, \"fpr\": 0.2857142857142857, \"tpr\": 1.0, \"n\": 14}, {\"threshold\": 0.311, \"p\": 16, \"fpr\": 0.2857142857142857, \"tpr\": 1.0, \"n\": 14}, {\"threshold\": 0.312, \"p\": 16, \"fpr\": 0.2857142857142857, \"tpr\": 1.0, \"n\": 14}, {\"threshold\": 0.313, \"p\": 16, \"fpr\": 0.2857142857142857, \"tpr\": 1.0, \"n\": 14}, {\"threshold\": 0.314, \"p\": 16, \"fpr\": 0.2857142857142857, \"tpr\": 1.0, \"n\": 14}, {\"threshold\": 0.315, \"p\": 16, \"fpr\": 0.2857142857142857, \"tpr\": 1.0, \"n\": 14}, {\"threshold\": 0.316, \"p\": 16, \"fpr\": 0.2857142857142857, \"tpr\": 1.0, \"n\": 14}, {\"threshold\": 0.317, \"p\": 16, \"fpr\": 0.2857142857142857, \"tpr\": 1.0, \"n\": 14}, {\"threshold\": 0.318, \"p\": 16, \"fpr\": 0.2857142857142857, \"tpr\": 1.0, \"n\": 14}, {\"threshold\": 0.319, \"p\": 16, \"fpr\": 0.2857142857142857, \"tpr\": 1.0, \"n\": 14}, {\"threshold\": 0.32, \"p\": 16, \"fpr\": 0.2857142857142857, \"tpr\": 1.0, \"n\": 14}, {\"threshold\": 0.321, \"p\": 16, \"fpr\": 0.2857142857142857, \"tpr\": 1.0, \"n\": 14}, {\"threshold\": 0.322, \"p\": 16, \"fpr\": 0.2857142857142857, \"tpr\": 1.0, \"n\": 14}, {\"threshold\": 0.323, \"p\": 16, \"fpr\": 0.2857142857142857, \"tpr\": 1.0, \"n\": 14}, {\"threshold\": 0.324, \"p\": 16, \"fpr\": 0.2857142857142857, \"tpr\": 1.0, \"n\": 14}, {\"threshold\": 0.325, \"p\": 16, \"fpr\": 0.2857142857142857, \"tpr\": 1.0, \"n\": 14}, {\"threshold\": 0.326, \"p\": 16, \"fpr\": 0.2857142857142857, \"tpr\": 1.0, \"n\": 14}, {\"threshold\": 0.327, \"p\": 16, \"fpr\": 0.2857142857142857, \"tpr\": 1.0, \"n\": 14}, {\"threshold\": 0.328, \"p\": 16, \"fpr\": 0.2857142857142857, \"tpr\": 1.0, \"n\": 14}, {\"threshold\": 0.329, \"p\": 16, \"fpr\": 0.2857142857142857, \"tpr\": 1.0, \"n\": 14}, {\"threshold\": 0.33, \"p\": 16, \"fpr\": 0.2857142857142857, \"tpr\": 1.0, \"n\": 14}, {\"threshold\": 0.331, \"p\": 16, \"fpr\": 0.2857142857142857, \"tpr\": 1.0, \"n\": 14}, {\"threshold\": 0.332, \"p\": 16, \"fpr\": 0.2857142857142857, \"tpr\": 1.0, \"n\": 14}, {\"threshold\": 0.333, \"p\": 16, \"fpr\": 0.2857142857142857, \"tpr\": 1.0, \"n\": 14}, {\"threshold\": 0.334, \"p\": 16, \"fpr\": 0.2857142857142857, \"tpr\": 1.0, \"n\": 14}, {\"threshold\": 0.335, \"p\": 16, \"fpr\": 0.2857142857142857, \"tpr\": 1.0, \"n\": 14}, {\"threshold\": 0.336, \"p\": 16, \"fpr\": 0.2857142857142857, \"tpr\": 1.0, \"n\": 14}, {\"threshold\": 0.337, \"p\": 16, \"fpr\": 0.2857142857142857, \"tpr\": 1.0, \"n\": 14}, {\"threshold\": 0.338, \"p\": 16, \"fpr\": 0.2857142857142857, \"tpr\": 1.0, \"n\": 14}, {\"threshold\": 0.339, \"p\": 16, \"fpr\": 0.2857142857142857, \"tpr\": 1.0, \"n\": 14}, {\"threshold\": 0.34, \"p\": 16, \"fpr\": 0.2857142857142857, \"tpr\": 1.0, \"n\": 14}, {\"threshold\": 0.341, \"p\": 16, \"fpr\": 0.2857142857142857, \"tpr\": 1.0, \"n\": 14}, {\"threshold\": 0.342, \"p\": 16, \"fpr\": 0.2857142857142857, \"tpr\": 1.0, \"n\": 14}, {\"threshold\": 0.343, \"p\": 16, \"fpr\": 0.2857142857142857, \"tpr\": 1.0, \"n\": 14}, {\"threshold\": 0.344, \"p\": 16, \"fpr\": 0.2857142857142857, \"tpr\": 1.0, \"n\": 14}, {\"threshold\": 0.345, \"p\": 16, \"fpr\": 0.2857142857142857, \"tpr\": 1.0, \"n\": 14}, {\"threshold\": 0.346, \"p\": 16, \"fpr\": 0.2857142857142857, \"tpr\": 1.0, \"n\": 14}, {\"threshold\": 0.347, \"p\": 16, \"fpr\": 0.2857142857142857, \"tpr\": 1.0, \"n\": 14}, {\"threshold\": 0.348, \"p\": 16, \"fpr\": 0.2857142857142857, \"tpr\": 1.0, \"n\": 14}, {\"threshold\": 0.349, \"p\": 16, \"fpr\": 0.2857142857142857, \"tpr\": 1.0, \"n\": 14}, {\"threshold\": 0.35, \"p\": 16, \"fpr\": 0.2857142857142857, \"tpr\": 1.0, \"n\": 14}, {\"threshold\": 0.351, \"p\": 16, \"fpr\": 0.2857142857142857, \"tpr\": 1.0, \"n\": 14}, {\"threshold\": 0.352, \"p\": 16, \"fpr\": 0.2857142857142857, \"tpr\": 1.0, \"n\": 14}, {\"threshold\": 0.353, \"p\": 16, \"fpr\": 0.2857142857142857, \"tpr\": 1.0, \"n\": 14}, {\"threshold\": 0.354, \"p\": 16, \"fpr\": 0.2857142857142857, \"tpr\": 1.0, \"n\": 14}, {\"threshold\": 0.355, \"p\": 16, \"fpr\": 0.2857142857142857, \"tpr\": 1.0, \"n\": 14}, {\"threshold\": 0.356, \"p\": 16, \"fpr\": 0.2857142857142857, \"tpr\": 1.0, \"n\": 14}, {\"threshold\": 0.357, \"p\": 16, \"fpr\": 0.2857142857142857, \"tpr\": 1.0, \"n\": 14}, {\"threshold\": 0.358, \"p\": 16, \"fpr\": 0.2857142857142857, \"tpr\": 1.0, \"n\": 14}, {\"threshold\": 0.359, \"p\": 16, \"fpr\": 0.2857142857142857, \"tpr\": 1.0, \"n\": 14}, {\"threshold\": 0.36, \"p\": 16, \"fpr\": 0.2857142857142857, \"tpr\": 1.0, \"n\": 14}, {\"threshold\": 0.361, \"p\": 16, \"fpr\": 0.2857142857142857, \"tpr\": 1.0, \"n\": 14}, {\"threshold\": 0.362, \"p\": 16, \"fpr\": 0.2857142857142857, \"tpr\": 1.0, \"n\": 14}, {\"threshold\": 0.363, \"p\": 16, \"fpr\": 0.2857142857142857, \"tpr\": 1.0, \"n\": 14}, {\"threshold\": 0.364, \"p\": 16, \"fpr\": 0.2857142857142857, \"tpr\": 1.0, \"n\": 14}, {\"threshold\": 0.365, \"p\": 16, \"fpr\": 0.2857142857142857, \"tpr\": 1.0, \"n\": 14}, {\"threshold\": 0.366, \"p\": 16, \"fpr\": 0.2857142857142857, \"tpr\": 1.0, \"n\": 14}, {\"threshold\": 0.367, \"p\": 16, \"fpr\": 0.2857142857142857, \"tpr\": 1.0, \"n\": 14}, {\"threshold\": 0.368, \"p\": 16, \"fpr\": 0.2857142857142857, \"tpr\": 1.0, \"n\": 14}, {\"threshold\": 0.369, \"p\": 16, \"fpr\": 0.2857142857142857, \"tpr\": 1.0, \"n\": 14}, {\"threshold\": 0.37, \"p\": 16, \"fpr\": 0.2857142857142857, \"tpr\": 1.0, \"n\": 14}, {\"threshold\": 0.371, \"p\": 16, \"fpr\": 0.2857142857142857, \"tpr\": 1.0, \"n\": 14}, {\"threshold\": 0.372, \"p\": 16, \"fpr\": 0.2857142857142857, \"tpr\": 1.0, \"n\": 14}, {\"threshold\": 0.373, \"p\": 16, \"fpr\": 0.2857142857142857, \"tpr\": 1.0, \"n\": 14}, {\"threshold\": 0.374, \"p\": 16, \"fpr\": 0.2857142857142857, \"tpr\": 1.0, \"n\": 14}, {\"threshold\": 0.375, \"p\": 16, \"fpr\": 0.2857142857142857, \"tpr\": 1.0, \"n\": 14}, {\"threshold\": 0.376, \"p\": 16, \"fpr\": 0.2857142857142857, \"tpr\": 1.0, \"n\": 14}, {\"threshold\": 0.377, \"p\": 16, \"fpr\": 0.2857142857142857, \"tpr\": 1.0, \"n\": 14}, {\"threshold\": 0.378, \"p\": 16, \"fpr\": 0.2857142857142857, \"tpr\": 1.0, \"n\": 14}, {\"threshold\": 0.379, \"p\": 16, \"fpr\": 0.2857142857142857, \"tpr\": 1.0, \"n\": 14}, {\"threshold\": 0.38, \"p\": 16, \"fpr\": 0.2857142857142857, \"tpr\": 1.0, \"n\": 14}, {\"threshold\": 0.381, \"p\": 16, \"fpr\": 0.2857142857142857, \"tpr\": 1.0, \"n\": 14}, {\"threshold\": 0.382, \"p\": 16, \"fpr\": 0.2857142857142857, \"tpr\": 1.0, \"n\": 14}, {\"threshold\": 0.383, \"p\": 16, \"fpr\": 0.2857142857142857, \"tpr\": 1.0, \"n\": 14}, {\"threshold\": 0.384, \"p\": 16, \"fpr\": 0.2857142857142857, \"tpr\": 1.0, \"n\": 14}, {\"threshold\": 0.385, \"p\": 16, \"fpr\": 0.2857142857142857, \"tpr\": 1.0, \"n\": 14}, {\"threshold\": 0.386, \"p\": 16, \"fpr\": 0.2857142857142857, \"tpr\": 1.0, \"n\": 14}, {\"threshold\": 0.387, \"p\": 16, \"fpr\": 0.2857142857142857, \"tpr\": 1.0, \"n\": 14}, {\"threshold\": 0.388, \"p\": 16, \"fpr\": 0.2857142857142857, \"tpr\": 1.0, \"n\": 14}, {\"threshold\": 0.389, \"p\": 16, \"fpr\": 0.2857142857142857, \"tpr\": 1.0, \"n\": 14}, {\"threshold\": 0.39, \"p\": 16, \"fpr\": 0.2857142857142857, \"tpr\": 1.0, \"n\": 14}, {\"threshold\": 0.391, \"p\": 16, \"fpr\": 0.2857142857142857, \"tpr\": 1.0, \"n\": 14}, {\"threshold\": 0.392, \"p\": 16, \"fpr\": 0.2857142857142857, \"tpr\": 1.0, \"n\": 14}, {\"threshold\": 0.393, \"p\": 16, \"fpr\": 0.2857142857142857, \"tpr\": 1.0, \"n\": 14}, {\"threshold\": 0.394, \"p\": 16, \"fpr\": 0.2857142857142857, \"tpr\": 1.0, \"n\": 14}, {\"threshold\": 0.395, \"p\": 16, \"fpr\": 0.2857142857142857, \"tpr\": 1.0, \"n\": 14}, {\"threshold\": 0.396, \"p\": 16, \"fpr\": 0.2857142857142857, \"tpr\": 1.0, \"n\": 14}, {\"threshold\": 0.397, \"p\": 16, \"fpr\": 0.2857142857142857, \"tpr\": 1.0, \"n\": 14}, {\"threshold\": 0.398, \"p\": 16, \"fpr\": 0.2857142857142857, \"tpr\": 1.0, \"n\": 14}, {\"threshold\": 0.399, \"p\": 16, \"fpr\": 0.2857142857142857, \"tpr\": 1.0, \"n\": 14}, {\"threshold\": 0.4, \"p\": 16, \"fpr\": 0.2857142857142857, \"tpr\": 1.0, \"n\": 14}, {\"threshold\": 0.401, \"p\": 16, \"fpr\": 0.2857142857142857, \"tpr\": 1.0, \"n\": 14}, {\"threshold\": 0.402, \"p\": 16, \"fpr\": 0.2857142857142857, \"tpr\": 1.0, \"n\": 14}, {\"threshold\": 0.403, \"p\": 16, \"fpr\": 0.2857142857142857, \"tpr\": 1.0, \"n\": 14}, {\"threshold\": 0.404, \"p\": 16, \"fpr\": 0.2857142857142857, \"tpr\": 1.0, \"n\": 14}, {\"threshold\": 0.405, \"p\": 16, \"fpr\": 0.2857142857142857, \"tpr\": 1.0, \"n\": 14}, {\"threshold\": 0.406, \"p\": 16, \"fpr\": 0.2857142857142857, \"tpr\": 1.0, \"n\": 14}, {\"threshold\": 0.407, \"p\": 16, \"fpr\": 0.2857142857142857, \"tpr\": 1.0, \"n\": 14}, {\"threshold\": 0.408, \"p\": 16, \"fpr\": 0.2857142857142857, \"tpr\": 1.0, \"n\": 14}, {\"threshold\": 0.409, \"p\": 16, \"fpr\": 0.2857142857142857, \"tpr\": 1.0, \"n\": 14}, {\"threshold\": 0.41, \"p\": 16, \"fpr\": 0.2857142857142857, \"tpr\": 1.0, \"n\": 14}, {\"threshold\": 0.411, \"p\": 16, \"fpr\": 0.21428571428571427, \"tpr\": 1.0, \"n\": 14}, {\"threshold\": 0.412, \"p\": 16, \"fpr\": 0.21428571428571427, \"tpr\": 1.0, \"n\": 14}, {\"threshold\": 0.413, \"p\": 16, \"fpr\": 0.21428571428571427, \"tpr\": 1.0, \"n\": 14}, {\"threshold\": 0.414, \"p\": 16, \"fpr\": 0.21428571428571427, \"tpr\": 1.0, \"n\": 14}, {\"threshold\": 0.415, \"p\": 16, \"fpr\": 0.21428571428571427, \"tpr\": 1.0, \"n\": 14}, {\"threshold\": 0.416, \"p\": 16, \"fpr\": 0.21428571428571427, \"tpr\": 1.0, \"n\": 14}, {\"threshold\": 0.417, \"p\": 16, \"fpr\": 0.21428571428571427, \"tpr\": 1.0, \"n\": 14}, {\"threshold\": 0.418, \"p\": 16, \"fpr\": 0.21428571428571427, \"tpr\": 1.0, \"n\": 14}, {\"threshold\": 0.419, \"p\": 16, \"fpr\": 0.21428571428571427, \"tpr\": 1.0, \"n\": 14}, {\"threshold\": 0.42, \"p\": 16, \"fpr\": 0.21428571428571427, \"tpr\": 1.0, \"n\": 14}, {\"threshold\": 0.421, \"p\": 16, \"fpr\": 0.21428571428571427, \"tpr\": 1.0, \"n\": 14}, {\"threshold\": 0.422, \"p\": 16, \"fpr\": 0.21428571428571427, \"tpr\": 1.0, \"n\": 14}, {\"threshold\": 0.423, \"p\": 16, \"fpr\": 0.21428571428571427, \"tpr\": 1.0, \"n\": 14}, {\"threshold\": 0.424, \"p\": 16, \"fpr\": 0.21428571428571427, \"tpr\": 1.0, \"n\": 14}, {\"threshold\": 0.425, \"p\": 16, \"fpr\": 0.21428571428571427, \"tpr\": 1.0, \"n\": 14}, {\"threshold\": 0.426, \"p\": 16, \"fpr\": 0.21428571428571427, \"tpr\": 1.0, \"n\": 14}, {\"threshold\": 0.427, \"p\": 16, \"fpr\": 0.21428571428571427, \"tpr\": 1.0, \"n\": 14}, {\"threshold\": 0.428, \"p\": 16, \"fpr\": 0.21428571428571427, \"tpr\": 1.0, \"n\": 14}, {\"threshold\": 0.429, \"p\": 16, \"fpr\": 0.21428571428571427, \"tpr\": 1.0, \"n\": 14}, {\"threshold\": 0.43, \"p\": 16, \"fpr\": 0.21428571428571427, \"tpr\": 1.0, \"n\": 14}, {\"threshold\": 0.431, \"p\": 16, \"fpr\": 0.21428571428571427, \"tpr\": 1.0, \"n\": 14}, {\"threshold\": 0.432, \"p\": 16, \"fpr\": 0.21428571428571427, \"tpr\": 1.0, \"n\": 14}, {\"threshold\": 0.433, \"p\": 16, \"fpr\": 0.21428571428571427, \"tpr\": 1.0, \"n\": 14}, {\"threshold\": 0.434, \"p\": 16, \"fpr\": 0.21428571428571427, \"tpr\": 1.0, \"n\": 14}, {\"threshold\": 0.435, \"p\": 16, \"fpr\": 0.21428571428571427, \"tpr\": 1.0, \"n\": 14}, {\"threshold\": 0.436, \"p\": 16, \"fpr\": 0.21428571428571427, \"tpr\": 1.0, \"n\": 14}, {\"threshold\": 0.437, \"p\": 16, \"fpr\": 0.21428571428571427, \"tpr\": 1.0, \"n\": 14}, {\"threshold\": 0.438, \"p\": 16, \"fpr\": 0.21428571428571427, \"tpr\": 1.0, \"n\": 14}, {\"threshold\": 0.439, \"p\": 16, \"fpr\": 0.21428571428571427, \"tpr\": 1.0, \"n\": 14}, {\"threshold\": 0.44, \"p\": 16, \"fpr\": 0.21428571428571427, \"tpr\": 1.0, \"n\": 14}, {\"threshold\": 0.441, \"p\": 16, \"fpr\": 0.21428571428571427, \"tpr\": 1.0, \"n\": 14}, {\"threshold\": 0.442, \"p\": 16, \"fpr\": 0.21428571428571427, \"tpr\": 1.0, \"n\": 14}, {\"threshold\": 0.443, \"p\": 16, \"fpr\": 0.21428571428571427, \"tpr\": 1.0, \"n\": 14}, {\"threshold\": 0.444, \"p\": 16, \"fpr\": 0.21428571428571427, \"tpr\": 1.0, \"n\": 14}, {\"threshold\": 0.445, \"p\": 16, \"fpr\": 0.21428571428571427, \"tpr\": 1.0, \"n\": 14}, {\"threshold\": 0.446, \"p\": 16, \"fpr\": 0.21428571428571427, \"tpr\": 1.0, \"n\": 14}, {\"threshold\": 0.447, \"p\": 16, \"fpr\": 0.21428571428571427, \"tpr\": 1.0, \"n\": 14}, {\"threshold\": 0.448, \"p\": 16, \"fpr\": 0.21428571428571427, \"tpr\": 1.0, \"n\": 14}, {\"threshold\": 0.449, \"p\": 16, \"fpr\": 0.21428571428571427, \"tpr\": 1.0, \"n\": 14}, {\"threshold\": 0.45, \"p\": 16, \"fpr\": 0.21428571428571427, \"tpr\": 1.0, \"n\": 14}, {\"threshold\": 0.451, \"p\": 16, \"fpr\": 0.21428571428571427, \"tpr\": 1.0, \"n\": 14}, {\"threshold\": 0.452, \"p\": 16, \"fpr\": 0.21428571428571427, \"tpr\": 1.0, \"n\": 14}, {\"threshold\": 0.453, \"p\": 16, \"fpr\": 0.21428571428571427, \"tpr\": 1.0, \"n\": 14}, {\"threshold\": 0.454, \"p\": 16, \"fpr\": 0.21428571428571427, \"tpr\": 1.0, \"n\": 14}, {\"threshold\": 0.455, \"p\": 16, \"fpr\": 0.21428571428571427, \"tpr\": 1.0, \"n\": 14}, {\"threshold\": 0.456, \"p\": 16, \"fpr\": 0.21428571428571427, \"tpr\": 1.0, \"n\": 14}, {\"threshold\": 0.457, \"p\": 16, \"fpr\": 0.21428571428571427, \"tpr\": 1.0, \"n\": 14}, {\"threshold\": 0.458, \"p\": 16, \"fpr\": 0.21428571428571427, \"tpr\": 1.0, \"n\": 14}, {\"threshold\": 0.459, \"p\": 16, \"fpr\": 0.21428571428571427, \"tpr\": 1.0, \"n\": 14}, {\"threshold\": 0.46, \"p\": 16, \"fpr\": 0.21428571428571427, \"tpr\": 1.0, \"n\": 14}, {\"threshold\": 0.461, \"p\": 16, \"fpr\": 0.21428571428571427, \"tpr\": 1.0, \"n\": 14}, {\"threshold\": 0.462, \"p\": 16, \"fpr\": 0.21428571428571427, \"tpr\": 1.0, \"n\": 14}, {\"threshold\": 0.463, \"p\": 16, \"fpr\": 0.21428571428571427, \"tpr\": 1.0, \"n\": 14}, {\"threshold\": 0.464, \"p\": 16, \"fpr\": 0.21428571428571427, \"tpr\": 1.0, \"n\": 14}, {\"threshold\": 0.465, \"p\": 16, \"fpr\": 0.21428571428571427, \"tpr\": 1.0, \"n\": 14}, {\"threshold\": 0.466, \"p\": 16, \"fpr\": 0.21428571428571427, \"tpr\": 1.0, \"n\": 14}, {\"threshold\": 0.467, \"p\": 16, \"fpr\": 0.21428571428571427, \"tpr\": 1.0, \"n\": 14}, {\"threshold\": 0.468, \"p\": 16, \"fpr\": 0.21428571428571427, \"tpr\": 1.0, \"n\": 14}, {\"threshold\": 0.469, \"p\": 16, \"fpr\": 0.21428571428571427, \"tpr\": 1.0, \"n\": 14}, {\"threshold\": 0.47, \"p\": 16, \"fpr\": 0.21428571428571427, \"tpr\": 1.0, \"n\": 14}, {\"threshold\": 0.471, \"p\": 16, \"fpr\": 0.21428571428571427, \"tpr\": 1.0, \"n\": 14}, {\"threshold\": 0.472, \"p\": 16, \"fpr\": 0.21428571428571427, \"tpr\": 1.0, \"n\": 14}, {\"threshold\": 0.473, \"p\": 16, \"fpr\": 0.21428571428571427, \"tpr\": 1.0, \"n\": 14}, {\"threshold\": 0.474, \"p\": 16, \"fpr\": 0.21428571428571427, \"tpr\": 1.0, \"n\": 14}, {\"threshold\": 0.475, \"p\": 16, \"fpr\": 0.21428571428571427, \"tpr\": 1.0, \"n\": 14}, {\"threshold\": 0.476, \"p\": 16, \"fpr\": 0.21428571428571427, \"tpr\": 1.0, \"n\": 14}, {\"threshold\": 0.477, \"p\": 16, \"fpr\": 0.21428571428571427, \"tpr\": 1.0, \"n\": 14}, {\"threshold\": 0.478, \"p\": 16, \"fpr\": 0.21428571428571427, \"tpr\": 1.0, \"n\": 14}, {\"threshold\": 0.479, \"p\": 16, \"fpr\": 0.21428571428571427, \"tpr\": 1.0, \"n\": 14}, {\"threshold\": 0.48, \"p\": 16, \"fpr\": 0.21428571428571427, \"tpr\": 1.0, \"n\": 14}, {\"threshold\": 0.481, \"p\": 16, \"fpr\": 0.21428571428571427, \"tpr\": 1.0, \"n\": 14}, {\"threshold\": 0.482, \"p\": 16, \"fpr\": 0.21428571428571427, \"tpr\": 1.0, \"n\": 14}, {\"threshold\": 0.483, \"p\": 16, \"fpr\": 0.21428571428571427, \"tpr\": 1.0, \"n\": 14}, {\"threshold\": 0.484, \"p\": 16, \"fpr\": 0.21428571428571427, \"tpr\": 1.0, \"n\": 14}, {\"threshold\": 0.485, \"p\": 16, \"fpr\": 0.21428571428571427, \"tpr\": 1.0, \"n\": 14}, {\"threshold\": 0.486, \"p\": 16, \"fpr\": 0.21428571428571427, \"tpr\": 1.0, \"n\": 14}, {\"threshold\": 0.487, \"p\": 16, \"fpr\": 0.21428571428571427, \"tpr\": 0.9375, \"n\": 14}, {\"threshold\": 0.488, \"p\": 16, \"fpr\": 0.21428571428571427, \"tpr\": 0.9375, \"n\": 14}, {\"threshold\": 0.489, \"p\": 16, \"fpr\": 0.21428571428571427, \"tpr\": 0.9375, \"n\": 14}, {\"threshold\": 0.49, \"p\": 16, \"fpr\": 0.21428571428571427, \"tpr\": 0.9375, \"n\": 14}, {\"threshold\": 0.491, \"p\": 16, \"fpr\": 0.21428571428571427, \"tpr\": 0.9375, \"n\": 14}, {\"threshold\": 0.492, \"p\": 16, \"fpr\": 0.21428571428571427, \"tpr\": 0.9375, \"n\": 14}, {\"threshold\": 0.493, \"p\": 16, \"fpr\": 0.21428571428571427, \"tpr\": 0.9375, \"n\": 14}, {\"threshold\": 0.494, \"p\": 16, \"fpr\": 0.21428571428571427, \"tpr\": 0.9375, \"n\": 14}, {\"threshold\": 0.495, \"p\": 16, \"fpr\": 0.21428571428571427, \"tpr\": 0.9375, \"n\": 14}, {\"threshold\": 0.496, \"p\": 16, \"fpr\": 0.21428571428571427, \"tpr\": 0.9375, \"n\": 14}, {\"threshold\": 0.497, \"p\": 16, \"fpr\": 0.21428571428571427, \"tpr\": 0.9375, \"n\": 14}, {\"threshold\": 0.498, \"p\": 16, \"fpr\": 0.21428571428571427, \"tpr\": 0.9375, \"n\": 14}, {\"threshold\": 0.499, \"p\": 16, \"fpr\": 0.21428571428571427, \"tpr\": 0.9375, \"n\": 14}, {\"threshold\": 0.5, \"p\": 16, \"fpr\": 0.21428571428571427, \"tpr\": 0.9375, \"n\": 14}, {\"threshold\": 0.501, \"p\": 16, \"fpr\": 0.21428571428571427, \"tpr\": 0.9375, \"n\": 14}, {\"threshold\": 0.502, \"p\": 16, \"fpr\": 0.21428571428571427, \"tpr\": 0.9375, \"n\": 14}, {\"threshold\": 0.503, \"p\": 16, \"fpr\": 0.21428571428571427, \"tpr\": 0.9375, \"n\": 14}, {\"threshold\": 0.504, \"p\": 16, \"fpr\": 0.21428571428571427, \"tpr\": 0.9375, \"n\": 14}, {\"threshold\": 0.505, \"p\": 16, \"fpr\": 0.21428571428571427, \"tpr\": 0.9375, \"n\": 14}, {\"threshold\": 0.506, \"p\": 16, \"fpr\": 0.21428571428571427, \"tpr\": 0.9375, \"n\": 14}, {\"threshold\": 0.507, \"p\": 16, \"fpr\": 0.21428571428571427, \"tpr\": 0.9375, \"n\": 14}, {\"threshold\": 0.508, \"p\": 16, \"fpr\": 0.21428571428571427, \"tpr\": 0.9375, \"n\": 14}, {\"threshold\": 0.509, \"p\": 16, \"fpr\": 0.21428571428571427, \"tpr\": 0.9375, \"n\": 14}, {\"threshold\": 0.51, \"p\": 16, \"fpr\": 0.21428571428571427, \"tpr\": 0.9375, \"n\": 14}, {\"threshold\": 0.511, \"p\": 16, \"fpr\": 0.21428571428571427, \"tpr\": 0.9375, \"n\": 14}, {\"threshold\": 0.512, \"p\": 16, \"fpr\": 0.21428571428571427, \"tpr\": 0.9375, \"n\": 14}, {\"threshold\": 0.513, \"p\": 16, \"fpr\": 0.21428571428571427, \"tpr\": 0.9375, \"n\": 14}, {\"threshold\": 0.514, \"p\": 16, \"fpr\": 0.21428571428571427, \"tpr\": 0.9375, \"n\": 14}, {\"threshold\": 0.515, \"p\": 16, \"fpr\": 0.21428571428571427, \"tpr\": 0.9375, \"n\": 14}, {\"threshold\": 0.516, \"p\": 16, \"fpr\": 0.21428571428571427, \"tpr\": 0.9375, \"n\": 14}, {\"threshold\": 0.517, \"p\": 16, \"fpr\": 0.21428571428571427, \"tpr\": 0.9375, \"n\": 14}, {\"threshold\": 0.518, \"p\": 16, \"fpr\": 0.21428571428571427, \"tpr\": 0.9375, \"n\": 14}, {\"threshold\": 0.519, \"p\": 16, \"fpr\": 0.21428571428571427, \"tpr\": 0.9375, \"n\": 14}, {\"threshold\": 0.52, \"p\": 16, \"fpr\": 0.21428571428571427, \"tpr\": 0.9375, \"n\": 14}, {\"threshold\": 0.521, \"p\": 16, \"fpr\": 0.21428571428571427, \"tpr\": 0.9375, \"n\": 14}, {\"threshold\": 0.522, \"p\": 16, \"fpr\": 0.21428571428571427, \"tpr\": 0.9375, \"n\": 14}, {\"threshold\": 0.523, \"p\": 16, \"fpr\": 0.21428571428571427, \"tpr\": 0.9375, \"n\": 14}, {\"threshold\": 0.524, \"p\": 16, \"fpr\": 0.21428571428571427, \"tpr\": 0.9375, \"n\": 14}, {\"threshold\": 0.525, \"p\": 16, \"fpr\": 0.21428571428571427, \"tpr\": 0.9375, \"n\": 14}, {\"threshold\": 0.526, \"p\": 16, \"fpr\": 0.21428571428571427, \"tpr\": 0.9375, \"n\": 14}, {\"threshold\": 0.527, \"p\": 16, \"fpr\": 0.21428571428571427, \"tpr\": 0.9375, \"n\": 14}, {\"threshold\": 0.528, \"p\": 16, \"fpr\": 0.21428571428571427, \"tpr\": 0.9375, \"n\": 14}, {\"threshold\": 0.529, \"p\": 16, \"fpr\": 0.21428571428571427, \"tpr\": 0.9375, \"n\": 14}, {\"threshold\": 0.53, \"p\": 16, \"fpr\": 0.21428571428571427, \"tpr\": 0.875, \"n\": 14}, {\"threshold\": 0.531, \"p\": 16, \"fpr\": 0.21428571428571427, \"tpr\": 0.875, \"n\": 14}, {\"threshold\": 0.532, \"p\": 16, \"fpr\": 0.21428571428571427, \"tpr\": 0.875, \"n\": 14}, {\"threshold\": 0.533, \"p\": 16, \"fpr\": 0.21428571428571427, \"tpr\": 0.875, \"n\": 14}, {\"threshold\": 0.534, \"p\": 16, \"fpr\": 0.21428571428571427, \"tpr\": 0.875, \"n\": 14}, {\"threshold\": 0.535, \"p\": 16, \"fpr\": 0.21428571428571427, \"tpr\": 0.875, \"n\": 14}, {\"threshold\": 0.536, \"p\": 16, \"fpr\": 0.21428571428571427, \"tpr\": 0.875, \"n\": 14}, {\"threshold\": 0.537, \"p\": 16, \"fpr\": 0.21428571428571427, \"tpr\": 0.875, \"n\": 14}, {\"threshold\": 0.538, \"p\": 16, \"fpr\": 0.21428571428571427, \"tpr\": 0.875, \"n\": 14}, {\"threshold\": 0.539, \"p\": 16, \"fpr\": 0.21428571428571427, \"tpr\": 0.875, \"n\": 14}, {\"threshold\": 0.54, \"p\": 16, \"fpr\": 0.21428571428571427, \"tpr\": 0.875, \"n\": 14}, {\"threshold\": 0.541, \"p\": 16, \"fpr\": 0.21428571428571427, \"tpr\": 0.875, \"n\": 14}, {\"threshold\": 0.542, \"p\": 16, \"fpr\": 0.21428571428571427, \"tpr\": 0.875, \"n\": 14}, {\"threshold\": 0.543, \"p\": 16, \"fpr\": 0.21428571428571427, \"tpr\": 0.875, \"n\": 14}, {\"threshold\": 0.544, \"p\": 16, \"fpr\": 0.21428571428571427, \"tpr\": 0.875, \"n\": 14}, {\"threshold\": 0.545, \"p\": 16, \"fpr\": 0.21428571428571427, \"tpr\": 0.875, \"n\": 14}, {\"threshold\": 0.546, \"p\": 16, \"fpr\": 0.21428571428571427, \"tpr\": 0.875, \"n\": 14}, {\"threshold\": 0.547, \"p\": 16, \"fpr\": 0.21428571428571427, \"tpr\": 0.875, \"n\": 14}, {\"threshold\": 0.548, \"p\": 16, \"fpr\": 0.21428571428571427, \"tpr\": 0.875, \"n\": 14}, {\"threshold\": 0.549, \"p\": 16, \"fpr\": 0.21428571428571427, \"tpr\": 0.875, \"n\": 14}, {\"threshold\": 0.55, \"p\": 16, \"fpr\": 0.21428571428571427, \"tpr\": 0.875, \"n\": 14}, {\"threshold\": 0.551, \"p\": 16, \"fpr\": 0.21428571428571427, \"tpr\": 0.875, \"n\": 14}, {\"threshold\": 0.552, \"p\": 16, \"fpr\": 0.21428571428571427, \"tpr\": 0.875, \"n\": 14}, {\"threshold\": 0.553, \"p\": 16, \"fpr\": 0.21428571428571427, \"tpr\": 0.875, \"n\": 14}, {\"threshold\": 0.554, \"p\": 16, \"fpr\": 0.21428571428571427, \"tpr\": 0.875, \"n\": 14}, {\"threshold\": 0.555, \"p\": 16, \"fpr\": 0.21428571428571427, \"tpr\": 0.875, \"n\": 14}, {\"threshold\": 0.556, \"p\": 16, \"fpr\": 0.21428571428571427, \"tpr\": 0.875, \"n\": 14}, {\"threshold\": 0.557, \"p\": 16, \"fpr\": 0.21428571428571427, \"tpr\": 0.875, \"n\": 14}, {\"threshold\": 0.558, \"p\": 16, \"fpr\": 0.21428571428571427, \"tpr\": 0.875, \"n\": 14}, {\"threshold\": 0.559, \"p\": 16, \"fpr\": 0.21428571428571427, \"tpr\": 0.875, \"n\": 14}, {\"threshold\": 0.56, \"p\": 16, \"fpr\": 0.21428571428571427, \"tpr\": 0.875, \"n\": 14}, {\"threshold\": 0.561, \"p\": 16, \"fpr\": 0.21428571428571427, \"tpr\": 0.875, \"n\": 14}, {\"threshold\": 0.562, \"p\": 16, \"fpr\": 0.21428571428571427, \"tpr\": 0.875, \"n\": 14}, {\"threshold\": 0.563, \"p\": 16, \"fpr\": 0.21428571428571427, \"tpr\": 0.875, \"n\": 14}, {\"threshold\": 0.564, \"p\": 16, \"fpr\": 0.21428571428571427, \"tpr\": 0.875, \"n\": 14}, {\"threshold\": 0.565, \"p\": 16, \"fpr\": 0.21428571428571427, \"tpr\": 0.875, \"n\": 14}, {\"threshold\": 0.566, \"p\": 16, \"fpr\": 0.21428571428571427, \"tpr\": 0.875, \"n\": 14}, {\"threshold\": 0.567, \"p\": 16, \"fpr\": 0.21428571428571427, \"tpr\": 0.875, \"n\": 14}, {\"threshold\": 0.568, \"p\": 16, \"fpr\": 0.21428571428571427, \"tpr\": 0.875, \"n\": 14}, {\"threshold\": 0.569, \"p\": 16, \"fpr\": 0.21428571428571427, \"tpr\": 0.875, \"n\": 14}, {\"threshold\": 0.57, \"p\": 16, \"fpr\": 0.21428571428571427, \"tpr\": 0.875, \"n\": 14}, {\"threshold\": 0.571, \"p\": 16, \"fpr\": 0.21428571428571427, \"tpr\": 0.875, \"n\": 14}, {\"threshold\": 0.572, \"p\": 16, \"fpr\": 0.21428571428571427, \"tpr\": 0.875, \"n\": 14}, {\"threshold\": 0.573, \"p\": 16, \"fpr\": 0.21428571428571427, \"tpr\": 0.875, \"n\": 14}, {\"threshold\": 0.574, \"p\": 16, \"fpr\": 0.21428571428571427, \"tpr\": 0.875, \"n\": 14}, {\"threshold\": 0.575, \"p\": 16, \"fpr\": 0.21428571428571427, \"tpr\": 0.875, \"n\": 14}, {\"threshold\": 0.576, \"p\": 16, \"fpr\": 0.21428571428571427, \"tpr\": 0.875, \"n\": 14}, {\"threshold\": 0.577, \"p\": 16, \"fpr\": 0.21428571428571427, \"tpr\": 0.875, \"n\": 14}, {\"threshold\": 0.578, \"p\": 16, \"fpr\": 0.21428571428571427, \"tpr\": 0.875, \"n\": 14}, {\"threshold\": 0.579, \"p\": 16, \"fpr\": 0.21428571428571427, \"tpr\": 0.875, \"n\": 14}, {\"threshold\": 0.58, \"p\": 16, \"fpr\": 0.21428571428571427, \"tpr\": 0.875, \"n\": 14}, {\"threshold\": 0.581, \"p\": 16, \"fpr\": 0.21428571428571427, \"tpr\": 0.875, \"n\": 14}, {\"threshold\": 0.582, \"p\": 16, \"fpr\": 0.21428571428571427, \"tpr\": 0.875, \"n\": 14}, {\"threshold\": 0.583, \"p\": 16, \"fpr\": 0.21428571428571427, \"tpr\": 0.875, \"n\": 14}, {\"threshold\": 0.584, \"p\": 16, \"fpr\": 0.21428571428571427, \"tpr\": 0.875, \"n\": 14}, {\"threshold\": 0.585, \"p\": 16, \"fpr\": 0.21428571428571427, \"tpr\": 0.875, \"n\": 14}, {\"threshold\": 0.586, \"p\": 16, \"fpr\": 0.21428571428571427, \"tpr\": 0.875, \"n\": 14}, {\"threshold\": 0.587, \"p\": 16, \"fpr\": 0.21428571428571427, \"tpr\": 0.875, \"n\": 14}, {\"threshold\": 0.588, \"p\": 16, \"fpr\": 0.21428571428571427, \"tpr\": 0.875, \"n\": 14}, {\"threshold\": 0.589, \"p\": 16, \"fpr\": 0.21428571428571427, \"tpr\": 0.875, \"n\": 14}, {\"threshold\": 0.59, \"p\": 16, \"fpr\": 0.21428571428571427, \"tpr\": 0.875, \"n\": 14}, {\"threshold\": 0.591, \"p\": 16, \"fpr\": 0.21428571428571427, \"tpr\": 0.875, \"n\": 14}, {\"threshold\": 0.592, \"p\": 16, \"fpr\": 0.21428571428571427, \"tpr\": 0.875, \"n\": 14}, {\"threshold\": 0.593, \"p\": 16, \"fpr\": 0.21428571428571427, \"tpr\": 0.875, \"n\": 14}, {\"threshold\": 0.594, \"p\": 16, \"fpr\": 0.21428571428571427, \"tpr\": 0.875, \"n\": 14}, {\"threshold\": 0.595, \"p\": 16, \"fpr\": 0.21428571428571427, \"tpr\": 0.875, \"n\": 14}, {\"threshold\": 0.596, \"p\": 16, \"fpr\": 0.21428571428571427, \"tpr\": 0.875, \"n\": 14}, {\"threshold\": 0.597, \"p\": 16, \"fpr\": 0.21428571428571427, \"tpr\": 0.875, \"n\": 14}, {\"threshold\": 0.598, \"p\": 16, \"fpr\": 0.21428571428571427, \"tpr\": 0.875, \"n\": 14}, {\"threshold\": 0.599, \"p\": 16, \"fpr\": 0.14285714285714285, \"tpr\": 0.875, \"n\": 14}, {\"threshold\": 0.6, \"p\": 16, \"fpr\": 0.14285714285714285, \"tpr\": 0.875, \"n\": 14}, {\"threshold\": 0.601, \"p\": 16, \"fpr\": 0.14285714285714285, \"tpr\": 0.875, \"n\": 14}, {\"threshold\": 0.602, \"p\": 16, \"fpr\": 0.14285714285714285, \"tpr\": 0.875, \"n\": 14}, {\"threshold\": 0.603, \"p\": 16, \"fpr\": 0.14285714285714285, \"tpr\": 0.875, \"n\": 14}, {\"threshold\": 0.604, \"p\": 16, \"fpr\": 0.14285714285714285, \"tpr\": 0.875, \"n\": 14}, {\"threshold\": 0.605, \"p\": 16, \"fpr\": 0.14285714285714285, \"tpr\": 0.875, \"n\": 14}, {\"threshold\": 0.606, \"p\": 16, \"fpr\": 0.14285714285714285, \"tpr\": 0.875, \"n\": 14}, {\"threshold\": 0.607, \"p\": 16, \"fpr\": 0.14285714285714285, \"tpr\": 0.875, \"n\": 14}, {\"threshold\": 0.608, \"p\": 16, \"fpr\": 0.14285714285714285, \"tpr\": 0.875, \"n\": 14}, {\"threshold\": 0.609, \"p\": 16, \"fpr\": 0.14285714285714285, \"tpr\": 0.875, \"n\": 14}, {\"threshold\": 0.61, \"p\": 16, \"fpr\": 0.14285714285714285, \"tpr\": 0.875, \"n\": 14}, {\"threshold\": 0.611, \"p\": 16, \"fpr\": 0.14285714285714285, \"tpr\": 0.875, \"n\": 14}, {\"threshold\": 0.612, \"p\": 16, \"fpr\": 0.14285714285714285, \"tpr\": 0.875, \"n\": 14}, {\"threshold\": 0.613, \"p\": 16, \"fpr\": 0.14285714285714285, \"tpr\": 0.875, \"n\": 14}, {\"threshold\": 0.614, \"p\": 16, \"fpr\": 0.14285714285714285, \"tpr\": 0.875, \"n\": 14}, {\"threshold\": 0.615, \"p\": 16, \"fpr\": 0.14285714285714285, \"tpr\": 0.875, \"n\": 14}, {\"threshold\": 0.616, \"p\": 16, \"fpr\": 0.14285714285714285, \"tpr\": 0.875, \"n\": 14}, {\"threshold\": 0.617, \"p\": 16, \"fpr\": 0.14285714285714285, \"tpr\": 0.875, \"n\": 14}, {\"threshold\": 0.618, \"p\": 16, \"fpr\": 0.14285714285714285, \"tpr\": 0.875, \"n\": 14}, {\"threshold\": 0.619, \"p\": 16, \"fpr\": 0.14285714285714285, \"tpr\": 0.875, \"n\": 14}, {\"threshold\": 0.62, \"p\": 16, \"fpr\": 0.14285714285714285, \"tpr\": 0.875, \"n\": 14}, {\"threshold\": 0.621, \"p\": 16, \"fpr\": 0.14285714285714285, \"tpr\": 0.875, \"n\": 14}, {\"threshold\": 0.622, \"p\": 16, \"fpr\": 0.14285714285714285, \"tpr\": 0.875, \"n\": 14}, {\"threshold\": 0.623, \"p\": 16, \"fpr\": 0.14285714285714285, \"tpr\": 0.875, \"n\": 14}, {\"threshold\": 0.624, \"p\": 16, \"fpr\": 0.14285714285714285, \"tpr\": 0.875, \"n\": 14}, {\"threshold\": 0.625, \"p\": 16, \"fpr\": 0.14285714285714285, \"tpr\": 0.875, \"n\": 14}, {\"threshold\": 0.626, \"p\": 16, \"fpr\": 0.14285714285714285, \"tpr\": 0.875, \"n\": 14}, {\"threshold\": 0.627, \"p\": 16, \"fpr\": 0.14285714285714285, \"tpr\": 0.875, \"n\": 14}, {\"threshold\": 0.628, \"p\": 16, \"fpr\": 0.14285714285714285, \"tpr\": 0.875, \"n\": 14}, {\"threshold\": 0.629, \"p\": 16, \"fpr\": 0.14285714285714285, \"tpr\": 0.875, \"n\": 14}, {\"threshold\": 0.63, \"p\": 16, \"fpr\": 0.14285714285714285, \"tpr\": 0.875, \"n\": 14}, {\"threshold\": 0.631, \"p\": 16, \"fpr\": 0.14285714285714285, \"tpr\": 0.875, \"n\": 14}, {\"threshold\": 0.632, \"p\": 16, \"fpr\": 0.14285714285714285, \"tpr\": 0.875, \"n\": 14}, {\"threshold\": 0.633, \"p\": 16, \"fpr\": 0.14285714285714285, \"tpr\": 0.875, \"n\": 14}, {\"threshold\": 0.634, \"p\": 16, \"fpr\": 0.14285714285714285, \"tpr\": 0.875, \"n\": 14}, {\"threshold\": 0.635, \"p\": 16, \"fpr\": 0.14285714285714285, \"tpr\": 0.875, \"n\": 14}, {\"threshold\": 0.636, \"p\": 16, \"fpr\": 0.14285714285714285, \"tpr\": 0.875, \"n\": 14}, {\"threshold\": 0.637, \"p\": 16, \"fpr\": 0.14285714285714285, \"tpr\": 0.875, \"n\": 14}, {\"threshold\": 0.638, \"p\": 16, \"fpr\": 0.14285714285714285, \"tpr\": 0.875, \"n\": 14}, {\"threshold\": 0.639, \"p\": 16, \"fpr\": 0.14285714285714285, \"tpr\": 0.875, \"n\": 14}, {\"threshold\": 0.64, \"p\": 16, \"fpr\": 0.14285714285714285, \"tpr\": 0.875, \"n\": 14}, {\"threshold\": 0.641, \"p\": 16, \"fpr\": 0.14285714285714285, \"tpr\": 0.875, \"n\": 14}, {\"threshold\": 0.642, \"p\": 16, \"fpr\": 0.14285714285714285, \"tpr\": 0.875, \"n\": 14}, {\"threshold\": 0.643, \"p\": 16, \"fpr\": 0.14285714285714285, \"tpr\": 0.875, \"n\": 14}, {\"threshold\": 0.644, \"p\": 16, \"fpr\": 0.14285714285714285, \"tpr\": 0.8125, \"n\": 14}, {\"threshold\": 0.645, \"p\": 16, \"fpr\": 0.14285714285714285, \"tpr\": 0.8125, \"n\": 14}, {\"threshold\": 0.646, \"p\": 16, \"fpr\": 0.14285714285714285, \"tpr\": 0.8125, \"n\": 14}, {\"threshold\": 0.647, \"p\": 16, \"fpr\": 0.14285714285714285, \"tpr\": 0.8125, \"n\": 14}, {\"threshold\": 0.648, \"p\": 16, \"fpr\": 0.14285714285714285, \"tpr\": 0.8125, \"n\": 14}, {\"threshold\": 0.649, \"p\": 16, \"fpr\": 0.14285714285714285, \"tpr\": 0.8125, \"n\": 14}, {\"threshold\": 0.65, \"p\": 16, \"fpr\": 0.14285714285714285, \"tpr\": 0.8125, \"n\": 14}, {\"threshold\": 0.651, \"p\": 16, \"fpr\": 0.14285714285714285, \"tpr\": 0.8125, \"n\": 14}, {\"threshold\": 0.652, \"p\": 16, \"fpr\": 0.14285714285714285, \"tpr\": 0.8125, \"n\": 14}, {\"threshold\": 0.653, \"p\": 16, \"fpr\": 0.14285714285714285, \"tpr\": 0.8125, \"n\": 14}, {\"threshold\": 0.654, \"p\": 16, \"fpr\": 0.14285714285714285, \"tpr\": 0.8125, \"n\": 14}, {\"threshold\": 0.655, \"p\": 16, \"fpr\": 0.14285714285714285, \"tpr\": 0.8125, \"n\": 14}, {\"threshold\": 0.656, \"p\": 16, \"fpr\": 0.14285714285714285, \"tpr\": 0.8125, \"n\": 14}, {\"threshold\": 0.657, \"p\": 16, \"fpr\": 0.14285714285714285, \"tpr\": 0.8125, \"n\": 14}, {\"threshold\": 0.658, \"p\": 16, \"fpr\": 0.14285714285714285, \"tpr\": 0.8125, \"n\": 14}, {\"threshold\": 0.659, \"p\": 16, \"fpr\": 0.14285714285714285, \"tpr\": 0.8125, \"n\": 14}, {\"threshold\": 0.66, \"p\": 16, \"fpr\": 0.14285714285714285, \"tpr\": 0.8125, \"n\": 14}, {\"threshold\": 0.661, \"p\": 16, \"fpr\": 0.14285714285714285, \"tpr\": 0.8125, \"n\": 14}, {\"threshold\": 0.662, \"p\": 16, \"fpr\": 0.14285714285714285, \"tpr\": 0.8125, \"n\": 14}, {\"threshold\": 0.663, \"p\": 16, \"fpr\": 0.14285714285714285, \"tpr\": 0.8125, \"n\": 14}, {\"threshold\": 0.664, \"p\": 16, \"fpr\": 0.14285714285714285, \"tpr\": 0.8125, \"n\": 14}, {\"threshold\": 0.665, \"p\": 16, \"fpr\": 0.14285714285714285, \"tpr\": 0.8125, \"n\": 14}, {\"threshold\": 0.666, \"p\": 16, \"fpr\": 0.14285714285714285, \"tpr\": 0.8125, \"n\": 14}, {\"threshold\": 0.667, \"p\": 16, \"fpr\": 0.14285714285714285, \"tpr\": 0.8125, \"n\": 14}, {\"threshold\": 0.668, \"p\": 16, \"fpr\": 0.14285714285714285, \"tpr\": 0.8125, \"n\": 14}, {\"threshold\": 0.669, \"p\": 16, \"fpr\": 0.14285714285714285, \"tpr\": 0.8125, \"n\": 14}, {\"threshold\": 0.67, \"p\": 16, \"fpr\": 0.14285714285714285, \"tpr\": 0.8125, \"n\": 14}, {\"threshold\": 0.671, \"p\": 16, \"fpr\": 0.14285714285714285, \"tpr\": 0.8125, \"n\": 14}, {\"threshold\": 0.672, \"p\": 16, \"fpr\": 0.14285714285714285, \"tpr\": 0.8125, \"n\": 14}, {\"threshold\": 0.673, \"p\": 16, \"fpr\": 0.14285714285714285, \"tpr\": 0.8125, \"n\": 14}, {\"threshold\": 0.674, \"p\": 16, \"fpr\": 0.14285714285714285, \"tpr\": 0.8125, \"n\": 14}, {\"threshold\": 0.675, \"p\": 16, \"fpr\": 0.14285714285714285, \"tpr\": 0.8125, \"n\": 14}, {\"threshold\": 0.676, \"p\": 16, \"fpr\": 0.14285714285714285, \"tpr\": 0.8125, \"n\": 14}, {\"threshold\": 0.677, \"p\": 16, \"fpr\": 0.14285714285714285, \"tpr\": 0.8125, \"n\": 14}, {\"threshold\": 0.678, \"p\": 16, \"fpr\": 0.14285714285714285, \"tpr\": 0.8125, \"n\": 14}, {\"threshold\": 0.679, \"p\": 16, \"fpr\": 0.14285714285714285, \"tpr\": 0.8125, \"n\": 14}, {\"threshold\": 0.68, \"p\": 16, \"fpr\": 0.14285714285714285, \"tpr\": 0.8125, \"n\": 14}, {\"threshold\": 0.681, \"p\": 16, \"fpr\": 0.14285714285714285, \"tpr\": 0.8125, \"n\": 14}, {\"threshold\": 0.682, \"p\": 16, \"fpr\": 0.14285714285714285, \"tpr\": 0.8125, \"n\": 14}, {\"threshold\": 0.683, \"p\": 16, \"fpr\": 0.14285714285714285, \"tpr\": 0.8125, \"n\": 14}, {\"threshold\": 0.684, \"p\": 16, \"fpr\": 0.14285714285714285, \"tpr\": 0.8125, \"n\": 14}, {\"threshold\": 0.685, \"p\": 16, \"fpr\": 0.14285714285714285, \"tpr\": 0.8125, \"n\": 14}, {\"threshold\": 0.686, \"p\": 16, \"fpr\": 0.14285714285714285, \"tpr\": 0.8125, \"n\": 14}, {\"threshold\": 0.687, \"p\": 16, \"fpr\": 0.07142857142857142, \"tpr\": 0.8125, \"n\": 14}, {\"threshold\": 0.688, \"p\": 16, \"fpr\": 0.07142857142857142, \"tpr\": 0.8125, \"n\": 14}, {\"threshold\": 0.689, \"p\": 16, \"fpr\": 0.07142857142857142, \"tpr\": 0.8125, \"n\": 14}, {\"threshold\": 0.69, \"p\": 16, \"fpr\": 0.07142857142857142, \"tpr\": 0.8125, \"n\": 14}, {\"threshold\": 0.691, \"p\": 16, \"fpr\": 0.07142857142857142, \"tpr\": 0.8125, \"n\": 14}, {\"threshold\": 0.692, \"p\": 16, \"fpr\": 0.07142857142857142, \"tpr\": 0.8125, \"n\": 14}, {\"threshold\": 0.693, \"p\": 16, \"fpr\": 0.07142857142857142, \"tpr\": 0.8125, \"n\": 14}, {\"threshold\": 0.694, \"p\": 16, \"fpr\": 0.07142857142857142, \"tpr\": 0.8125, \"n\": 14}, {\"threshold\": 0.695, \"p\": 16, \"fpr\": 0.07142857142857142, \"tpr\": 0.8125, \"n\": 14}, {\"threshold\": 0.696, \"p\": 16, \"fpr\": 0.07142857142857142, \"tpr\": 0.8125, \"n\": 14}, {\"threshold\": 0.697, \"p\": 16, \"fpr\": 0.07142857142857142, \"tpr\": 0.8125, \"n\": 14}, {\"threshold\": 0.698, \"p\": 16, \"fpr\": 0.07142857142857142, \"tpr\": 0.8125, \"n\": 14}, {\"threshold\": 0.699, \"p\": 16, \"fpr\": 0.07142857142857142, \"tpr\": 0.8125, \"n\": 14}, {\"threshold\": 0.7, \"p\": 16, \"fpr\": 0.07142857142857142, \"tpr\": 0.75, \"n\": 14}, {\"threshold\": 0.701, \"p\": 16, \"fpr\": 0.07142857142857142, \"tpr\": 0.75, \"n\": 14}, {\"threshold\": 0.702, \"p\": 16, \"fpr\": 0.07142857142857142, \"tpr\": 0.75, \"n\": 14}, {\"threshold\": 0.703, \"p\": 16, \"fpr\": 0.07142857142857142, \"tpr\": 0.75, \"n\": 14}, {\"threshold\": 0.704, \"p\": 16, \"fpr\": 0.07142857142857142, \"tpr\": 0.75, \"n\": 14}, {\"threshold\": 0.705, \"p\": 16, \"fpr\": 0.07142857142857142, \"tpr\": 0.75, \"n\": 14}, {\"threshold\": 0.706, \"p\": 16, \"fpr\": 0.07142857142857142, \"tpr\": 0.75, \"n\": 14}, {\"threshold\": 0.707, \"p\": 16, \"fpr\": 0.07142857142857142, \"tpr\": 0.75, \"n\": 14}, {\"threshold\": 0.708, \"p\": 16, \"fpr\": 0.07142857142857142, \"tpr\": 0.75, \"n\": 14}, {\"threshold\": 0.709, \"p\": 16, \"fpr\": 0.07142857142857142, \"tpr\": 0.75, \"n\": 14}, {\"threshold\": 0.71, \"p\": 16, \"fpr\": 0.07142857142857142, \"tpr\": 0.75, \"n\": 14}, {\"threshold\": 0.711, \"p\": 16, \"fpr\": 0.07142857142857142, \"tpr\": 0.75, \"n\": 14}, {\"threshold\": 0.712, \"p\": 16, \"fpr\": 0.07142857142857142, \"tpr\": 0.75, \"n\": 14}, {\"threshold\": 0.713, \"p\": 16, \"fpr\": 0.07142857142857142, \"tpr\": 0.75, \"n\": 14}, {\"threshold\": 0.714, \"p\": 16, \"fpr\": 0.07142857142857142, \"tpr\": 0.75, \"n\": 14}, {\"threshold\": 0.715, \"p\": 16, \"fpr\": 0.07142857142857142, \"tpr\": 0.75, \"n\": 14}, {\"threshold\": 0.716, \"p\": 16, \"fpr\": 0.07142857142857142, \"tpr\": 0.75, \"n\": 14}, {\"threshold\": 0.717, \"p\": 16, \"fpr\": 0.07142857142857142, \"tpr\": 0.75, \"n\": 14}, {\"threshold\": 0.718, \"p\": 16, \"fpr\": 0.07142857142857142, \"tpr\": 0.6875, \"n\": 14}, {\"threshold\": 0.719, \"p\": 16, \"fpr\": 0.07142857142857142, \"tpr\": 0.6875, \"n\": 14}, {\"threshold\": 0.72, \"p\": 16, \"fpr\": 0.07142857142857142, \"tpr\": 0.6875, \"n\": 14}, {\"threshold\": 0.721, \"p\": 16, \"fpr\": 0.07142857142857142, \"tpr\": 0.6875, \"n\": 14}, {\"threshold\": 0.722, \"p\": 16, \"fpr\": 0.07142857142857142, \"tpr\": 0.6875, \"n\": 14}, {\"threshold\": 0.723, \"p\": 16, \"fpr\": 0.07142857142857142, \"tpr\": 0.6875, \"n\": 14}, {\"threshold\": 0.724, \"p\": 16, \"fpr\": 0.07142857142857142, \"tpr\": 0.6875, \"n\": 14}, {\"threshold\": 0.725, \"p\": 16, \"fpr\": 0.07142857142857142, \"tpr\": 0.6875, \"n\": 14}, {\"threshold\": 0.726, \"p\": 16, \"fpr\": 0.07142857142857142, \"tpr\": 0.6875, \"n\": 14}, {\"threshold\": 0.727, \"p\": 16, \"fpr\": 0.07142857142857142, \"tpr\": 0.6875, \"n\": 14}, {\"threshold\": 0.728, \"p\": 16, \"fpr\": 0.07142857142857142, \"tpr\": 0.6875, \"n\": 14}, {\"threshold\": 0.729, \"p\": 16, \"fpr\": 0.07142857142857142, \"tpr\": 0.6875, \"n\": 14}, {\"threshold\": 0.73, \"p\": 16, \"fpr\": 0.07142857142857142, \"tpr\": 0.6875, \"n\": 14}, {\"threshold\": 0.731, \"p\": 16, \"fpr\": 0.07142857142857142, \"tpr\": 0.6875, \"n\": 14}, {\"threshold\": 0.732, \"p\": 16, \"fpr\": 0.07142857142857142, \"tpr\": 0.6875, \"n\": 14}, {\"threshold\": 0.733, \"p\": 16, \"fpr\": 0.07142857142857142, \"tpr\": 0.6875, \"n\": 14}, {\"threshold\": 0.734, \"p\": 16, \"fpr\": 0.07142857142857142, \"tpr\": 0.6875, \"n\": 14}, {\"threshold\": 0.735, \"p\": 16, \"fpr\": 0.07142857142857142, \"tpr\": 0.6875, \"n\": 14}, {\"threshold\": 0.736, \"p\": 16, \"fpr\": 0.07142857142857142, \"tpr\": 0.6875, \"n\": 14}, {\"threshold\": 0.737, \"p\": 16, \"fpr\": 0.07142857142857142, \"tpr\": 0.6875, \"n\": 14}, {\"threshold\": 0.738, \"p\": 16, \"fpr\": 0.07142857142857142, \"tpr\": 0.6875, \"n\": 14}, {\"threshold\": 0.739, \"p\": 16, \"fpr\": 0.07142857142857142, \"tpr\": 0.6875, \"n\": 14}, {\"threshold\": 0.74, \"p\": 16, \"fpr\": 0.07142857142857142, \"tpr\": 0.625, \"n\": 14}, {\"threshold\": 0.741, \"p\": 16, \"fpr\": 0.07142857142857142, \"tpr\": 0.625, \"n\": 14}, {\"threshold\": 0.742, \"p\": 16, \"fpr\": 0.07142857142857142, \"tpr\": 0.625, \"n\": 14}, {\"threshold\": 0.743, \"p\": 16, \"fpr\": 0.07142857142857142, \"tpr\": 0.625, \"n\": 14}, {\"threshold\": 0.744, \"p\": 16, \"fpr\": 0.07142857142857142, \"tpr\": 0.625, \"n\": 14}, {\"threshold\": 0.745, \"p\": 16, \"fpr\": 0.07142857142857142, \"tpr\": 0.625, \"n\": 14}, {\"threshold\": 0.746, \"p\": 16, \"fpr\": 0.07142857142857142, \"tpr\": 0.625, \"n\": 14}, {\"threshold\": 0.747, \"p\": 16, \"fpr\": 0.07142857142857142, \"tpr\": 0.625, \"n\": 14}, {\"threshold\": 0.748, \"p\": 16, \"fpr\": 0.07142857142857142, \"tpr\": 0.625, \"n\": 14}, {\"threshold\": 0.749, \"p\": 16, \"fpr\": 0.07142857142857142, \"tpr\": 0.625, \"n\": 14}, {\"threshold\": 0.75, \"p\": 16, \"fpr\": 0.07142857142857142, \"tpr\": 0.625, \"n\": 14}, {\"threshold\": 0.751, \"p\": 16, \"fpr\": 0.07142857142857142, \"tpr\": 0.625, \"n\": 14}, {\"threshold\": 0.752, \"p\": 16, \"fpr\": 0.07142857142857142, \"tpr\": 0.625, \"n\": 14}, {\"threshold\": 0.753, \"p\": 16, \"fpr\": 0.07142857142857142, \"tpr\": 0.625, \"n\": 14}, {\"threshold\": 0.754, \"p\": 16, \"fpr\": 0.07142857142857142, \"tpr\": 0.625, \"n\": 14}, {\"threshold\": 0.755, \"p\": 16, \"fpr\": 0.07142857142857142, \"tpr\": 0.625, \"n\": 14}, {\"threshold\": 0.756, \"p\": 16, \"fpr\": 0.07142857142857142, \"tpr\": 0.625, \"n\": 14}, {\"threshold\": 0.757, \"p\": 16, \"fpr\": 0.07142857142857142, \"tpr\": 0.625, \"n\": 14}, {\"threshold\": 0.758, \"p\": 16, \"fpr\": 0.07142857142857142, \"tpr\": 0.625, \"n\": 14}, {\"threshold\": 0.759, \"p\": 16, \"fpr\": 0.07142857142857142, \"tpr\": 0.625, \"n\": 14}, {\"threshold\": 0.76, \"p\": 16, \"fpr\": 0.07142857142857142, \"tpr\": 0.625, \"n\": 14}, {\"threshold\": 0.761, \"p\": 16, \"fpr\": 0.07142857142857142, \"tpr\": 0.625, \"n\": 14}, {\"threshold\": 0.762, \"p\": 16, \"fpr\": 0.07142857142857142, \"tpr\": 0.625, \"n\": 14}, {\"threshold\": 0.763, \"p\": 16, \"fpr\": 0.07142857142857142, \"tpr\": 0.625, \"n\": 14}, {\"threshold\": 0.764, \"p\": 16, \"fpr\": 0.07142857142857142, \"tpr\": 0.625, \"n\": 14}, {\"threshold\": 0.765, \"p\": 16, \"fpr\": 0.07142857142857142, \"tpr\": 0.625, \"n\": 14}, {\"threshold\": 0.766, \"p\": 16, \"fpr\": 0.07142857142857142, \"tpr\": 0.625, \"n\": 14}, {\"threshold\": 0.767, \"p\": 16, \"fpr\": 0.07142857142857142, \"tpr\": 0.625, \"n\": 14}, {\"threshold\": 0.768, \"p\": 16, \"fpr\": 0.07142857142857142, \"tpr\": 0.5625, \"n\": 14}, {\"threshold\": 0.769, \"p\": 16, \"fpr\": 0.07142857142857142, \"tpr\": 0.5625, \"n\": 14}, {\"threshold\": 0.77, \"p\": 16, \"fpr\": 0.07142857142857142, \"tpr\": 0.5625, \"n\": 14}, {\"threshold\": 0.771, \"p\": 16, \"fpr\": 0.07142857142857142, \"tpr\": 0.5625, \"n\": 14}, {\"threshold\": 0.772, \"p\": 16, \"fpr\": 0.07142857142857142, \"tpr\": 0.5625, \"n\": 14}, {\"threshold\": 0.773, \"p\": 16, \"fpr\": 0.07142857142857142, \"tpr\": 0.5625, \"n\": 14}, {\"threshold\": 0.774, \"p\": 16, \"fpr\": 0.07142857142857142, \"tpr\": 0.5625, \"n\": 14}, {\"threshold\": 0.775, \"p\": 16, \"fpr\": 0.07142857142857142, \"tpr\": 0.5625, \"n\": 14}, {\"threshold\": 0.776, \"p\": 16, \"fpr\": 0.07142857142857142, \"tpr\": 0.5625, \"n\": 14}, {\"threshold\": 0.777, \"p\": 16, \"fpr\": 0.07142857142857142, \"tpr\": 0.5625, \"n\": 14}, {\"threshold\": 0.778, \"p\": 16, \"fpr\": 0.07142857142857142, \"tpr\": 0.5625, \"n\": 14}, {\"threshold\": 0.779, \"p\": 16, \"fpr\": 0.07142857142857142, \"tpr\": 0.5625, \"n\": 14}, {\"threshold\": 0.78, \"p\": 16, \"fpr\": 0.07142857142857142, \"tpr\": 0.5625, \"n\": 14}, {\"threshold\": 0.781, \"p\": 16, \"fpr\": 0.07142857142857142, \"tpr\": 0.5625, \"n\": 14}, {\"threshold\": 0.782, \"p\": 16, \"fpr\": 0.07142857142857142, \"tpr\": 0.5625, \"n\": 14}, {\"threshold\": 0.783, \"p\": 16, \"fpr\": 0.07142857142857142, \"tpr\": 0.5625, \"n\": 14}, {\"threshold\": 0.784, \"p\": 16, \"fpr\": 0.07142857142857142, \"tpr\": 0.5625, \"n\": 14}, {\"threshold\": 0.785, \"p\": 16, \"fpr\": 0.07142857142857142, \"tpr\": 0.5625, \"n\": 14}, {\"threshold\": 0.786, \"p\": 16, \"fpr\": 0.07142857142857142, \"tpr\": 0.5625, \"n\": 14}, {\"threshold\": 0.787, \"p\": 16, \"fpr\": 0.07142857142857142, \"tpr\": 0.5625, \"n\": 14}, {\"threshold\": 0.788, \"p\": 16, \"fpr\": 0.07142857142857142, \"tpr\": 0.5625, \"n\": 14}, {\"threshold\": 0.789, \"p\": 16, \"fpr\": 0.07142857142857142, \"tpr\": 0.5625, \"n\": 14}, {\"threshold\": 0.79, \"p\": 16, \"fpr\": 0.07142857142857142, \"tpr\": 0.5625, \"n\": 14}, {\"threshold\": 0.791, \"p\": 16, \"fpr\": 0.07142857142857142, \"tpr\": 0.5625, \"n\": 14}, {\"threshold\": 0.792, \"p\": 16, \"fpr\": 0.07142857142857142, \"tpr\": 0.5625, \"n\": 14}, {\"threshold\": 0.793, \"p\": 16, \"fpr\": 0.07142857142857142, \"tpr\": 0.5625, \"n\": 14}, {\"threshold\": 0.794, \"p\": 16, \"fpr\": 0.07142857142857142, \"tpr\": 0.5625, \"n\": 14}, {\"threshold\": 0.795, \"p\": 16, \"fpr\": 0.07142857142857142, \"tpr\": 0.5625, \"n\": 14}, {\"threshold\": 0.796, \"p\": 16, \"fpr\": 0.07142857142857142, \"tpr\": 0.5625, \"n\": 14}, {\"threshold\": 0.797, \"p\": 16, \"fpr\": 0.07142857142857142, \"tpr\": 0.5625, \"n\": 14}, {\"threshold\": 0.798, \"p\": 16, \"fpr\": 0.07142857142857142, \"tpr\": 0.5625, \"n\": 14}, {\"threshold\": 0.799, \"p\": 16, \"fpr\": 0.07142857142857142, \"tpr\": 0.5625, \"n\": 14}, {\"threshold\": 0.8, \"p\": 16, \"fpr\": 0.07142857142857142, \"tpr\": 0.5625, \"n\": 14}, {\"threshold\": 0.801, \"p\": 16, \"fpr\": 0.07142857142857142, \"tpr\": 0.5625, \"n\": 14}, {\"threshold\": 0.802, \"p\": 16, \"fpr\": 0.07142857142857142, \"tpr\": 0.5625, \"n\": 14}, {\"threshold\": 0.803, \"p\": 16, \"fpr\": 0.07142857142857142, \"tpr\": 0.5625, \"n\": 14}, {\"threshold\": 0.804, \"p\": 16, \"fpr\": 0.07142857142857142, \"tpr\": 0.5625, \"n\": 14}, {\"threshold\": 0.805, \"p\": 16, \"fpr\": 0.07142857142857142, \"tpr\": 0.5625, \"n\": 14}, {\"threshold\": 0.806, \"p\": 16, \"fpr\": 0.07142857142857142, \"tpr\": 0.5625, \"n\": 14}, {\"threshold\": 0.807, \"p\": 16, \"fpr\": 0.07142857142857142, \"tpr\": 0.5625, \"n\": 14}, {\"threshold\": 0.808, \"p\": 16, \"fpr\": 0.07142857142857142, \"tpr\": 0.5625, \"n\": 14}, {\"threshold\": 0.809, \"p\": 16, \"fpr\": 0.07142857142857142, \"tpr\": 0.5625, \"n\": 14}, {\"threshold\": 0.81, \"p\": 16, \"fpr\": 0.07142857142857142, \"tpr\": 0.5625, \"n\": 14}, {\"threshold\": 0.811, \"p\": 16, \"fpr\": 0.07142857142857142, \"tpr\": 0.5625, \"n\": 14}, {\"threshold\": 0.812, \"p\": 16, \"fpr\": 0.07142857142857142, \"tpr\": 0.5625, \"n\": 14}, {\"threshold\": 0.813, \"p\": 16, \"fpr\": 0.07142857142857142, \"tpr\": 0.5625, \"n\": 14}, {\"threshold\": 0.814, \"p\": 16, \"fpr\": 0.07142857142857142, \"tpr\": 0.5625, \"n\": 14}, {\"threshold\": 0.815, \"p\": 16, \"fpr\": 0.07142857142857142, \"tpr\": 0.5625, \"n\": 14}, {\"threshold\": 0.816, \"p\": 16, \"fpr\": 0.07142857142857142, \"tpr\": 0.5625, \"n\": 14}, {\"threshold\": 0.817, \"p\": 16, \"fpr\": 0.07142857142857142, \"tpr\": 0.5625, \"n\": 14}, {\"threshold\": 0.818, \"p\": 16, \"fpr\": 0.07142857142857142, \"tpr\": 0.5625, \"n\": 14}, {\"threshold\": 0.819, \"p\": 16, \"fpr\": 0.07142857142857142, \"tpr\": 0.5625, \"n\": 14}, {\"threshold\": 0.82, \"p\": 16, \"fpr\": 0.07142857142857142, \"tpr\": 0.5625, \"n\": 14}, {\"threshold\": 0.821, \"p\": 16, \"fpr\": 0.07142857142857142, \"tpr\": 0.5625, \"n\": 14}, {\"threshold\": 0.822, \"p\": 16, \"fpr\": 0.07142857142857142, \"tpr\": 0.5625, \"n\": 14}, {\"threshold\": 0.823, \"p\": 16, \"fpr\": 0.07142857142857142, \"tpr\": 0.5625, \"n\": 14}, {\"threshold\": 0.824, \"p\": 16, \"fpr\": 0.07142857142857142, \"tpr\": 0.5625, \"n\": 14}, {\"threshold\": 0.825, \"p\": 16, \"fpr\": 0.07142857142857142, \"tpr\": 0.5625, \"n\": 14}, {\"threshold\": 0.826, \"p\": 16, \"fpr\": 0.07142857142857142, \"tpr\": 0.5625, \"n\": 14}, {\"threshold\": 0.827, \"p\": 16, \"fpr\": 0.07142857142857142, \"tpr\": 0.5625, \"n\": 14}, {\"threshold\": 0.828, \"p\": 16, \"fpr\": 0.07142857142857142, \"tpr\": 0.5625, \"n\": 14}, {\"threshold\": 0.829, \"p\": 16, \"fpr\": 0.07142857142857142, \"tpr\": 0.5625, \"n\": 14}, {\"threshold\": 0.83, \"p\": 16, \"fpr\": 0.07142857142857142, \"tpr\": 0.5625, \"n\": 14}, {\"threshold\": 0.831, \"p\": 16, \"fpr\": 0.07142857142857142, \"tpr\": 0.5625, \"n\": 14}, {\"threshold\": 0.832, \"p\": 16, \"fpr\": 0.07142857142857142, \"tpr\": 0.5625, \"n\": 14}, {\"threshold\": 0.833, \"p\": 16, \"fpr\": 0.07142857142857142, \"tpr\": 0.5625, \"n\": 14}, {\"threshold\": 0.834, \"p\": 16, \"fpr\": 0.07142857142857142, \"tpr\": 0.5625, \"n\": 14}, {\"threshold\": 0.835, \"p\": 16, \"fpr\": 0.07142857142857142, \"tpr\": 0.5625, \"n\": 14}, {\"threshold\": 0.836, \"p\": 16, \"fpr\": 0.07142857142857142, \"tpr\": 0.5625, \"n\": 14}, {\"threshold\": 0.837, \"p\": 16, \"fpr\": 0.07142857142857142, \"tpr\": 0.5625, \"n\": 14}, {\"threshold\": 0.838, \"p\": 16, \"fpr\": 0.07142857142857142, \"tpr\": 0.5625, \"n\": 14}, {\"threshold\": 0.839, \"p\": 16, \"fpr\": 0.07142857142857142, \"tpr\": 0.5625, \"n\": 14}, {\"threshold\": 0.84, \"p\": 16, \"fpr\": 0.07142857142857142, \"tpr\": 0.5625, \"n\": 14}, {\"threshold\": 0.841, \"p\": 16, \"fpr\": 0.07142857142857142, \"tpr\": 0.5625, \"n\": 14}, {\"threshold\": 0.842, \"p\": 16, \"fpr\": 0.07142857142857142, \"tpr\": 0.5625, \"n\": 14}, {\"threshold\": 0.843, \"p\": 16, \"fpr\": 0.07142857142857142, \"tpr\": 0.5625, \"n\": 14}, {\"threshold\": 0.844, \"p\": 16, \"fpr\": 0.07142857142857142, \"tpr\": 0.5625, \"n\": 14}, {\"threshold\": 0.845, \"p\": 16, \"fpr\": 0.07142857142857142, \"tpr\": 0.5625, \"n\": 14}, {\"threshold\": 0.846, \"p\": 16, \"fpr\": 0.07142857142857142, \"tpr\": 0.5625, \"n\": 14}, {\"threshold\": 0.847, \"p\": 16, \"fpr\": 0.07142857142857142, \"tpr\": 0.5625, \"n\": 14}, {\"threshold\": 0.848, \"p\": 16, \"fpr\": 0.07142857142857142, \"tpr\": 0.5625, \"n\": 14}, {\"threshold\": 0.849, \"p\": 16, \"fpr\": 0.07142857142857142, \"tpr\": 0.5625, \"n\": 14}, {\"threshold\": 0.85, \"p\": 16, \"fpr\": 0.07142857142857142, \"tpr\": 0.5625, \"n\": 14}, {\"threshold\": 0.851, \"p\": 16, \"fpr\": 0.07142857142857142, \"tpr\": 0.5625, \"n\": 14}, {\"threshold\": 0.852, \"p\": 16, \"fpr\": 0.07142857142857142, \"tpr\": 0.5625, \"n\": 14}, {\"threshold\": 0.853, \"p\": 16, \"fpr\": 0.07142857142857142, \"tpr\": 0.5625, \"n\": 14}, {\"threshold\": 0.854, \"p\": 16, \"fpr\": 0.07142857142857142, \"tpr\": 0.5625, \"n\": 14}, {\"threshold\": 0.855, \"p\": 16, \"fpr\": 0.07142857142857142, \"tpr\": 0.5625, \"n\": 14}, {\"threshold\": 0.856, \"p\": 16, \"fpr\": 0.07142857142857142, \"tpr\": 0.5625, \"n\": 14}, {\"threshold\": 0.857, \"p\": 16, \"fpr\": 0.07142857142857142, \"tpr\": 0.5625, \"n\": 14}, {\"threshold\": 0.858, \"p\": 16, \"fpr\": 0.07142857142857142, \"tpr\": 0.5625, \"n\": 14}, {\"threshold\": 0.859, \"p\": 16, \"fpr\": 0.07142857142857142, \"tpr\": 0.5625, \"n\": 14}, {\"threshold\": 0.86, \"p\": 16, \"fpr\": 0.07142857142857142, \"tpr\": 0.5625, \"n\": 14}, {\"threshold\": 0.861, \"p\": 16, \"fpr\": 0.07142857142857142, \"tpr\": 0.5625, \"n\": 14}, {\"threshold\": 0.862, \"p\": 16, \"fpr\": 0.07142857142857142, \"tpr\": 0.5625, \"n\": 14}, {\"threshold\": 0.863, \"p\": 16, \"fpr\": 0.07142857142857142, \"tpr\": 0.5625, \"n\": 14}, {\"threshold\": 0.864, \"p\": 16, \"fpr\": 0.07142857142857142, \"tpr\": 0.5625, \"n\": 14}, {\"threshold\": 0.865, \"p\": 16, \"fpr\": 0.07142857142857142, \"tpr\": 0.5625, \"n\": 14}, {\"threshold\": 0.866, \"p\": 16, \"fpr\": 0.07142857142857142, \"tpr\": 0.5625, \"n\": 14}, {\"threshold\": 0.867, \"p\": 16, \"fpr\": 0.07142857142857142, \"tpr\": 0.5625, \"n\": 14}, {\"threshold\": 0.868, \"p\": 16, \"fpr\": 0.07142857142857142, \"tpr\": 0.5625, \"n\": 14}, {\"threshold\": 0.869, \"p\": 16, \"fpr\": 0.07142857142857142, \"tpr\": 0.5625, \"n\": 14}, {\"threshold\": 0.87, \"p\": 16, \"fpr\": 0.07142857142857142, \"tpr\": 0.5625, \"n\": 14}, {\"threshold\": 0.871, \"p\": 16, \"fpr\": 0.07142857142857142, \"tpr\": 0.5625, \"n\": 14}, {\"threshold\": 0.872, \"p\": 16, \"fpr\": 0.07142857142857142, \"tpr\": 0.5625, \"n\": 14}, {\"threshold\": 0.873, \"p\": 16, \"fpr\": 0.07142857142857142, \"tpr\": 0.5625, \"n\": 14}, {\"threshold\": 0.874, \"p\": 16, \"fpr\": 0.07142857142857142, \"tpr\": 0.5625, \"n\": 14}, {\"threshold\": 0.875, \"p\": 16, \"fpr\": 0.07142857142857142, \"tpr\": 0.5625, \"n\": 14}, {\"threshold\": 0.876, \"p\": 16, \"fpr\": 0.07142857142857142, \"tpr\": 0.5625, \"n\": 14}, {\"threshold\": 0.877, \"p\": 16, \"fpr\": 0.07142857142857142, \"tpr\": 0.5625, \"n\": 14}, {\"threshold\": 0.878, \"p\": 16, \"fpr\": 0.07142857142857142, \"tpr\": 0.5625, \"n\": 14}, {\"threshold\": 0.879, \"p\": 16, \"fpr\": 0.07142857142857142, \"tpr\": 0.5625, \"n\": 14}, {\"threshold\": 0.88, \"p\": 16, \"fpr\": 0.07142857142857142, \"tpr\": 0.5625, \"n\": 14}, {\"threshold\": 0.881, \"p\": 16, \"fpr\": 0.07142857142857142, \"tpr\": 0.5625, \"n\": 14}, {\"threshold\": 0.882, \"p\": 16, \"fpr\": 0.07142857142857142, \"tpr\": 0.5625, \"n\": 14}, {\"threshold\": 0.883, \"p\": 16, \"fpr\": 0.07142857142857142, \"tpr\": 0.5625, \"n\": 14}, {\"threshold\": 0.884, \"p\": 16, \"fpr\": 0.07142857142857142, \"tpr\": 0.5625, \"n\": 14}, {\"threshold\": 0.885, \"p\": 16, \"fpr\": 0.07142857142857142, \"tpr\": 0.5625, \"n\": 14}, {\"threshold\": 0.886, \"p\": 16, \"fpr\": 0.07142857142857142, \"tpr\": 0.5625, \"n\": 14}, {\"threshold\": 0.887, \"p\": 16, \"fpr\": 0.07142857142857142, \"tpr\": 0.5625, \"n\": 14}, {\"threshold\": 0.888, \"p\": 16, \"fpr\": 0.07142857142857142, \"tpr\": 0.5625, \"n\": 14}, {\"threshold\": 0.889, \"p\": 16, \"fpr\": 0.07142857142857142, \"tpr\": 0.5625, \"n\": 14}, {\"threshold\": 0.89, \"p\": 16, \"fpr\": 0.07142857142857142, \"tpr\": 0.5625, \"n\": 14}, {\"threshold\": 0.891, \"p\": 16, \"fpr\": 0.07142857142857142, \"tpr\": 0.5625, \"n\": 14}, {\"threshold\": 0.892, \"p\": 16, \"fpr\": 0.07142857142857142, \"tpr\": 0.5625, \"n\": 14}, {\"threshold\": 0.893, \"p\": 16, \"fpr\": 0.07142857142857142, \"tpr\": 0.5625, \"n\": 14}, {\"threshold\": 0.894, \"p\": 16, \"fpr\": 0.07142857142857142, \"tpr\": 0.5625, \"n\": 14}, {\"threshold\": 0.895, \"p\": 16, \"fpr\": 0.07142857142857142, \"tpr\": 0.5625, \"n\": 14}, {\"threshold\": 0.896, \"p\": 16, \"fpr\": 0.07142857142857142, \"tpr\": 0.5625, \"n\": 14}, {\"threshold\": 0.897, \"p\": 16, \"fpr\": 0.07142857142857142, \"tpr\": 0.5625, \"n\": 14}, {\"threshold\": 0.898, \"p\": 16, \"fpr\": 0.07142857142857142, \"tpr\": 0.5625, \"n\": 14}, {\"threshold\": 0.899, \"p\": 16, \"fpr\": 0.07142857142857142, \"tpr\": 0.5625, \"n\": 14}, {\"threshold\": 0.9, \"p\": 16, \"fpr\": 0.07142857142857142, \"tpr\": 0.5625, \"n\": 14}, {\"threshold\": 0.901, \"p\": 16, \"fpr\": 0.07142857142857142, \"tpr\": 0.5625, \"n\": 14}, {\"threshold\": 0.902, \"p\": 16, \"fpr\": 0.07142857142857142, \"tpr\": 0.5625, \"n\": 14}, {\"threshold\": 0.903, \"p\": 16, \"fpr\": 0.07142857142857142, \"tpr\": 0.5625, \"n\": 14}, {\"threshold\": 0.904, \"p\": 16, \"fpr\": 0.07142857142857142, \"tpr\": 0.5625, \"n\": 14}, {\"threshold\": 0.905, \"p\": 16, \"fpr\": 0.07142857142857142, \"tpr\": 0.5625, \"n\": 14}, {\"threshold\": 0.906, \"p\": 16, \"fpr\": 0.07142857142857142, \"tpr\": 0.5625, \"n\": 14}, {\"threshold\": 0.907, \"p\": 16, \"fpr\": 0.07142857142857142, \"tpr\": 0.5625, \"n\": 14}, {\"threshold\": 0.908, \"p\": 16, \"fpr\": 0.07142857142857142, \"tpr\": 0.5625, \"n\": 14}, {\"threshold\": 0.909, \"p\": 16, \"fpr\": 0.07142857142857142, \"tpr\": 0.5625, \"n\": 14}, {\"threshold\": 0.91, \"p\": 16, \"fpr\": 0.07142857142857142, \"tpr\": 0.5625, \"n\": 14}, {\"threshold\": 0.911, \"p\": 16, \"fpr\": 0.07142857142857142, \"tpr\": 0.5625, \"n\": 14}, {\"threshold\": 0.912, \"p\": 16, \"fpr\": 0.0, \"tpr\": 0.5625, \"n\": 14}, {\"threshold\": 0.913, \"p\": 16, \"fpr\": 0.0, \"tpr\": 0.5625, \"n\": 14}, {\"threshold\": 0.914, \"p\": 16, \"fpr\": 0.0, \"tpr\": 0.5625, \"n\": 14}, {\"threshold\": 0.915, \"p\": 16, \"fpr\": 0.0, \"tpr\": 0.5625, \"n\": 14}, {\"threshold\": 0.916, \"p\": 16, \"fpr\": 0.0, \"tpr\": 0.5625, \"n\": 14}, {\"threshold\": 0.917, \"p\": 16, \"fpr\": 0.0, \"tpr\": 0.5625, \"n\": 14}, {\"threshold\": 0.918, \"p\": 16, \"fpr\": 0.0, \"tpr\": 0.5625, \"n\": 14}, {\"threshold\": 0.919, \"p\": 16, \"fpr\": 0.0, \"tpr\": 0.5625, \"n\": 14}, {\"threshold\": 0.92, \"p\": 16, \"fpr\": 0.0, \"tpr\": 0.5625, \"n\": 14}, {\"threshold\": 0.921, \"p\": 16, \"fpr\": 0.0, \"tpr\": 0.5625, \"n\": 14}, {\"threshold\": 0.922, \"p\": 16, \"fpr\": 0.0, \"tpr\": 0.5625, \"n\": 14}, {\"threshold\": 0.923, \"p\": 16, \"fpr\": 0.0, \"tpr\": 0.5625, \"n\": 14}, {\"threshold\": 0.924, \"p\": 16, \"fpr\": 0.0, \"tpr\": 0.5625, \"n\": 14}, {\"threshold\": 0.925, \"p\": 16, \"fpr\": 0.0, \"tpr\": 0.5625, \"n\": 14}, {\"threshold\": 0.926, \"p\": 16, \"fpr\": 0.0, \"tpr\": 0.5625, \"n\": 14}, {\"threshold\": 0.927, \"p\": 16, \"fpr\": 0.0, \"tpr\": 0.5625, \"n\": 14}, {\"threshold\": 0.928, \"p\": 16, \"fpr\": 0.0, \"tpr\": 0.5625, \"n\": 14}, {\"threshold\": 0.929, \"p\": 16, \"fpr\": 0.0, \"tpr\": 0.5625, \"n\": 14}, {\"threshold\": 0.93, \"p\": 16, \"fpr\": 0.0, \"tpr\": 0.5625, \"n\": 14}, {\"threshold\": 0.931, \"p\": 16, \"fpr\": 0.0, \"tpr\": 0.5625, \"n\": 14}, {\"threshold\": 0.932, \"p\": 16, \"fpr\": 0.0, \"tpr\": 0.5625, \"n\": 14}, {\"threshold\": 0.933, \"p\": 16, \"fpr\": 0.0, \"tpr\": 0.5625, \"n\": 14}, {\"threshold\": 0.934, \"p\": 16, \"fpr\": 0.0, \"tpr\": 0.5625, \"n\": 14}, {\"threshold\": 0.935, \"p\": 16, \"fpr\": 0.0, \"tpr\": 0.5625, \"n\": 14}, {\"threshold\": 0.936, \"p\": 16, \"fpr\": 0.0, \"tpr\": 0.5625, \"n\": 14}, {\"threshold\": 0.937, \"p\": 16, \"fpr\": 0.0, \"tpr\": 0.5625, \"n\": 14}, {\"threshold\": 0.938, \"p\": 16, \"fpr\": 0.0, \"tpr\": 0.5625, \"n\": 14}, {\"threshold\": 0.939, \"p\": 16, \"fpr\": 0.0, \"tpr\": 0.5625, \"n\": 14}, {\"threshold\": 0.94, \"p\": 16, \"fpr\": 0.0, \"tpr\": 0.5625, \"n\": 14}, {\"threshold\": 0.941, \"p\": 16, \"fpr\": 0.0, \"tpr\": 0.5625, \"n\": 14}, {\"threshold\": 0.942, \"p\": 16, \"fpr\": 0.0, \"tpr\": 0.5625, \"n\": 14}, {\"threshold\": 0.943, \"p\": 16, \"fpr\": 0.0, \"tpr\": 0.5625, \"n\": 14}, {\"threshold\": 0.944, \"p\": 16, \"fpr\": 0.0, \"tpr\": 0.5625, \"n\": 14}, {\"threshold\": 0.945, \"p\": 16, \"fpr\": 0.0, \"tpr\": 0.5625, \"n\": 14}, {\"threshold\": 0.946, \"p\": 16, \"fpr\": 0.0, \"tpr\": 0.5625, \"n\": 14}, {\"threshold\": 0.947, \"p\": 16, \"fpr\": 0.0, \"tpr\": 0.5625, \"n\": 14}, {\"threshold\": 0.948, \"p\": 16, \"fpr\": 0.0, \"tpr\": 0.5625, \"n\": 14}, {\"threshold\": 0.949, \"p\": 16, \"fpr\": 0.0, \"tpr\": 0.5625, \"n\": 14}, {\"threshold\": 0.95, \"p\": 16, \"fpr\": 0.0, \"tpr\": 0.5625, \"n\": 14}, {\"threshold\": 0.951, \"p\": 16, \"fpr\": 0.0, \"tpr\": 0.5625, \"n\": 14}, {\"threshold\": 0.952, \"p\": 16, \"fpr\": 0.0, \"tpr\": 0.5625, \"n\": 14}, {\"threshold\": 0.953, \"p\": 16, \"fpr\": 0.0, \"tpr\": 0.5625, \"n\": 14}, {\"threshold\": 0.954, \"p\": 16, \"fpr\": 0.0, \"tpr\": 0.5625, \"n\": 14}, {\"threshold\": 0.955, \"p\": 16, \"fpr\": 0.0, \"tpr\": 0.5625, \"n\": 14}, {\"threshold\": 0.956, \"p\": 16, \"fpr\": 0.0, \"tpr\": 0.5625, \"n\": 14}, {\"threshold\": 0.957, \"p\": 16, \"fpr\": 0.0, \"tpr\": 0.5625, \"n\": 14}, {\"threshold\": 0.958, \"p\": 16, \"fpr\": 0.0, \"tpr\": 0.5625, \"n\": 14}, {\"threshold\": 0.959, \"p\": 16, \"fpr\": 0.0, \"tpr\": 0.5625, \"n\": 14}, {\"threshold\": 0.96, \"p\": 16, \"fpr\": 0.0, \"tpr\": 0.5625, \"n\": 14}, {\"threshold\": 0.961, \"p\": 16, \"fpr\": 0.0, \"tpr\": 0.5625, \"n\": 14}, {\"threshold\": 0.962, \"p\": 16, \"fpr\": 0.0, \"tpr\": 0.5625, \"n\": 14}, {\"threshold\": 0.963, \"p\": 16, \"fpr\": 0.0, \"tpr\": 0.5625, \"n\": 14}, {\"threshold\": 0.964, \"p\": 16, \"fpr\": 0.0, \"tpr\": 0.5625, \"n\": 14}, {\"threshold\": 0.965, \"p\": 16, \"fpr\": 0.0, \"tpr\": 0.5625, \"n\": 14}, {\"threshold\": 0.966, \"p\": 16, \"fpr\": 0.0, \"tpr\": 0.5625, \"n\": 14}, {\"threshold\": 0.967, \"p\": 16, \"fpr\": 0.0, \"tpr\": 0.5625, \"n\": 14}, {\"threshold\": 0.968, \"p\": 16, \"fpr\": 0.0, \"tpr\": 0.5625, \"n\": 14}, {\"threshold\": 0.969, \"p\": 16, \"fpr\": 0.0, \"tpr\": 0.5625, \"n\": 14}, {\"threshold\": 0.97, \"p\": 16, \"fpr\": 0.0, \"tpr\": 0.5625, \"n\": 14}, {\"threshold\": 0.971, \"p\": 16, \"fpr\": 0.0, \"tpr\": 0.5625, \"n\": 14}, {\"threshold\": 0.972, \"p\": 16, \"fpr\": 0.0, \"tpr\": 0.5625, \"n\": 14}, {\"threshold\": 0.973, \"p\": 16, \"fpr\": 0.0, \"tpr\": 0.5625, \"n\": 14}, {\"threshold\": 0.974, \"p\": 16, \"fpr\": 0.0, \"tpr\": 0.5625, \"n\": 14}, {\"threshold\": 0.975, \"p\": 16, \"fpr\": 0.0, \"tpr\": 0.5625, \"n\": 14}, {\"threshold\": 0.976, \"p\": 16, \"fpr\": 0.0, \"tpr\": 0.5625, \"n\": 14}, {\"threshold\": 0.977, \"p\": 16, \"fpr\": 0.0, \"tpr\": 0.5625, \"n\": 14}, {\"threshold\": 0.978, \"p\": 16, \"fpr\": 0.0, \"tpr\": 0.5625, \"n\": 14}, {\"threshold\": 0.979, \"p\": 16, \"fpr\": 0.0, \"tpr\": 0.5, \"n\": 14}, {\"threshold\": 0.98, \"p\": 16, \"fpr\": 0.0, \"tpr\": 0.5, \"n\": 14}, {\"threshold\": 0.981, \"p\": 16, \"fpr\": 0.0, \"tpr\": 0.5, \"n\": 14}, {\"threshold\": 0.982, \"p\": 16, \"fpr\": 0.0, \"tpr\": 0.5, \"n\": 14}, {\"threshold\": 0.983, \"p\": 16, \"fpr\": 0.0, \"tpr\": 0.5, \"n\": 14}, {\"threshold\": 0.984, \"p\": 16, \"fpr\": 0.0, \"tpr\": 0.5, \"n\": 14}, {\"threshold\": 0.985, \"p\": 16, \"fpr\": 0.0, \"tpr\": 0.5, \"n\": 14}, {\"threshold\": 0.986, \"p\": 16, \"fpr\": 0.0, \"tpr\": 0.5, \"n\": 14}, {\"threshold\": 0.987, \"p\": 16, \"fpr\": 0.0, \"tpr\": 0.5, \"n\": 14}, {\"threshold\": 0.988, \"p\": 16, \"fpr\": 0.0, \"tpr\": 0.5, \"n\": 14}, {\"threshold\": 0.989, \"p\": 16, \"fpr\": 0.0, \"tpr\": 0.5, \"n\": 14}, {\"threshold\": 0.99, \"p\": 16, \"fpr\": 0.0, \"tpr\": 0.5, \"n\": 14}, {\"threshold\": 0.991, \"p\": 16, \"fpr\": 0.0, \"tpr\": 0.5, \"n\": 14}, {\"threshold\": 0.992, \"p\": 16, \"fpr\": 0.0, \"tpr\": 0.5, \"n\": 14}, {\"threshold\": 0.993, \"p\": 16, \"fpr\": 0.0, \"tpr\": 0.5, \"n\": 14}, {\"threshold\": 0.994, \"p\": 16, \"fpr\": 0.0, \"tpr\": 0.5, \"n\": 14}, {\"threshold\": 0.995, \"p\": 16, \"fpr\": 0.0, \"tpr\": 0.5, \"n\": 14}, {\"threshold\": 0.996, \"p\": 16, \"fpr\": 0.0, \"tpr\": 0.5, \"n\": 14}, {\"threshold\": 0.997, \"p\": 16, \"fpr\": 0.0, \"tpr\": 0.5, \"n\": 14}, {\"threshold\": 0.998, \"p\": 16, \"fpr\": 0.0, \"tpr\": 0.5, \"n\": 14}, {\"threshold\": 0.999, \"p\": 16, \"fpr\": 0.0, \"tpr\": 0.375, \"n\": 14}, {\"threshold\": 1.0, \"p\": 16, \"fpr\": 0.0, \"tpr\": 0.0, \"n\": 14}]}]]}, e);\n",
       "                });\n",
       "            })();\n",
       "        "
      ]
     },
     "metadata": {},
     "output_type": "display_data"
    }
   ],
   "source": [
    "sentiment_model.show(view='Evaluation')"
   ]
  },
  {
   "cell_type": "code",
   "execution_count": 194,
   "metadata": {
    "collapsed": false
   },
   "outputs": [
    {
     "data": {
      "text/html": [
       "<pre>Finished parsing file C:\\Users\\Jyoti\\file_name2.csv</pre>"
      ],
      "text/plain": [
       "Finished parsing file C:\\Users\\Jyoti\\file_name2.csv"
      ]
     },
     "metadata": {},
     "output_type": "display_data"
    },
    {
     "data": {
      "text/html": [
       "<pre>Parsing completed. Parsed 100 lines in 0.079005 secs.</pre>"
      ],
      "text/plain": [
       "Parsing completed. Parsed 100 lines in 0.079005 secs."
      ]
     },
     "metadata": {},
     "output_type": "display_data"
    },
    {
     "name": "stdout",
     "output_type": "stream",
     "text": [
      "------------------------------------------------------\n",
      "Inferred types from first 100 line(s) of file as \n",
      "column_type_hints=[str,str]\n",
      "If parsing fails due to incorrect types, you can correct\n",
      "the inferred type list above and pass it to read_csv in\n",
      "the column_type_hints argument\n",
      "------------------------------------------------------\n"
     ]
    },
    {
     "data": {
      "text/html": [
       "<pre>Finished parsing file C:\\Users\\Jyoti\\file_name2.csv</pre>"
      ],
      "text/plain": [
       "Finished parsing file C:\\Users\\Jyoti\\file_name2.csv"
      ]
     },
     "metadata": {},
     "output_type": "display_data"
    },
    {
     "data": {
      "text/html": [
       "<pre>Parsing completed. Parsed 117 lines in 0.104005 secs.</pre>"
      ],
      "text/plain": [
       "Parsing completed. Parsed 117 lines in 0.104005 secs."
      ]
     },
     "metadata": {},
     "output_type": "display_data"
    }
   ],
   "source": [
    "sf2=graphlab.SFrame.read_csv('file_name2.csv')"
   ]
  },
  {
   "cell_type": "code",
   "execution_count": 197,
   "metadata": {
    "collapsed": false
   },
   "outputs": [],
   "source": [
    "sf1['predicted_sentiment'] = sentiment_model.predict(sf1, output_type='probability')"
   ]
  },
  {
   "cell_type": "code",
   "execution_count": 199,
   "metadata": {
    "collapsed": false
   },
   "outputs": [],
   "source": [
    "sf2['word_count'] = graphlab.text_analytics.count_words(sf2['Text'])"
   ]
  },
  {
   "cell_type": "code",
   "execution_count": null,
   "metadata": {
    "collapsed": false
   },
   "outputs": [],
   "source": []
  },
  {
   "cell_type": "code",
   "execution_count": 215,
   "metadata": {
    "collapsed": false
   },
   "outputs": [
    {
     "data": {
      "application/javascript": [
       "$(\"head\").append($(\"<link/>\").attr({\n",
       "  rel:  \"stylesheet\",\n",
       "  type: \"text/css\",\n",
       "  href: \"//cdnjs.cloudflare.com/ajax/libs/font-awesome/4.1.0/css/font-awesome.min.css\"\n",
       "}));\n",
       "$(\"head\").append($(\"<link/>\").attr({\n",
       "  rel:  \"stylesheet\",\n",
       "  type: \"text/css\",\n",
       "  href: \"https://static.turi.com/products/graphlab-create/2.1/canvas/css/canvas.css\"\n",
       "}));\n",
       "\n",
       "            (function(){\n",
       "\n",
       "                var e = null;\n",
       "                if (typeof element == 'undefined') {\n",
       "                    var scripts = document.getElementsByTagName('script');\n",
       "                    var thisScriptTag = scripts[scripts.length-1];\n",
       "                    var parentDiv = thisScriptTag.parentNode;\n",
       "                    e = document.createElement('div');\n",
       "                    parentDiv.appendChild(e);\n",
       "                } else {\n",
       "                    e = element[0];\n",
       "                }\n",
       "\n",
       "                if (typeof requirejs !== 'undefined') {\n",
       "                    // disable load timeout; ipython_app.js is large and can take a while to load.\n",
       "                    requirejs.config({waitSeconds: 0});\n",
       "                }\n",
       "\n",
       "                require(['https://static.turi.com/products/graphlab-create/2.1/canvas/js/ipython_app.js'], function(IPythonApp){\n",
       "                    var app = new IPythonApp();\n",
       "                    app.attachView('sarray','Categorical', {\"ipython\": true, \"sketch\": {\"std\": 0.2795799527144637, \"complete\": true, \"min\": 0.0, \"max\": 1.0, \"quantile\": [0.0, 0.0, 0.0, 0.0, 0.0, 0.0, 0.0, 0.0, 0.0, 0.0, 0.0, 0.0, 0.0, 0.0, 0.0, 0.0, 0.0, 0.0, 0.0, 0.0, 0.0, 0.0, 0.0, 0.0, 0.0, 0.0, 0.0, 0.0, 0.0, 0.0, 0.0, 0.0, 0.0, 0.0, 0.0, 0.0, 0.0, 0.0, 0.0, 0.0, 0.0, 0.0, 0.0, 0.0, 0.0, 0.0, 0.0, 0.0, 0.0, 0.0, 0.0, 0.0, 0.0, 0.0, 0.0, 0.0, 0.0, 0.0, 0.0, 0.0, 0.0, 0.0, 0.0, 0.0, 0.0, 0.0, 0.0, 0.0, 0.0, 0.0, 0.0, 0.0, 0.0, 0.0, 0.0, 0.0, 0.0, 0.0, 0.0, 0.0, 0.0, 0.0, 0.0, 0.0, 0.0, 0.0, 0.0, 0.0, 0.0, 0.0, 0.0, 0.0, 1.0, 1.0, 1.0, 1.0, 1.0, 1.0, 1.0, 1.0, 1.0], \"median\": 0.0, \"numeric\": true, \"num_unique\": 2, \"num_undefined\": 0, \"var\": 0.07816494995982175, \"progress\": 1.0, \"size\": 117, \"frequent_items\": {\"0\": {\"frequency\": 107, \"value\": 0}, \"1\": {\"frequency\": 10, \"value\": 1}}, \"mean\": 0.08547008547008549}, \"selected_variable\": {\"name\": [\"<SArray>\"], \"dtype\": \"int\", \"view_component\": \"Categorical\", \"view_file\": \"sarray\", \"descriptives\": {\"rows\": 117}, \"type\": \"SArray\", \"view_components\": [\"Numeric\", \"Categorical\"]}, \"histogram\": {\"progress\": 1.0, \"histogram\": {\"max\": 1.0085200000000003, \"bins\": [107, 0, 0, 0, 0, 0, 0, 0, 0, 0, 0, 10], \"min\": -0.005239999999999911}, \"min\": 0, \"complete\": 1, \"max\": 1}}, e);\n",
       "                });\n",
       "            })();\n",
       "        "
      ]
     },
     "metadata": {},
     "output_type": "display_data"
    }
   ],
   "source": [
    "sf2['sentiment'].show(view='Categorical')"
   ]
  },
  {
   "cell_type": "code",
   "execution_count": null,
   "metadata": {
    "collapsed": false
   },
   "outputs": [],
   "source": []
  },
  {
   "cell_type": "code",
   "execution_count": null,
   "metadata": {
    "collapsed": false
   },
   "outputs": [],
   "source": []
  },
  {
   "cell_type": "code",
   "execution_count": 228,
   "metadata": {
    "collapsed": false
   },
   "outputs": [],
   "source": [
    "def awesome_count(cell):\n",
    "    if 'violence' in cell:\n",
    "        return cell['violence']\n",
    "    else:\n",
    "        return 0\n",
    "sf2['violence'] = sf2['word_count'].apply(awesome_count)"
   ]
  },
  {
   "cell_type": "code",
   "execution_count": 214,
   "metadata": {
    "collapsed": false,
    "scrolled": true
   },
   "outputs": [],
   "source": [
    "sf2['sentiment']= (sf2['violence']+sf2['ban']+sf2['Ban']+sf2['goons']+sf2['hate']+sf2['protest']) !=0"
   ]
  },
  {
   "cell_type": "code",
   "execution_count": null,
   "metadata": {
    "collapsed": false
   },
   "outputs": [],
   "source": []
  },
  {
   "cell_type": "code",
   "execution_count": 216,
   "metadata": {
    "collapsed": true
   },
   "outputs": [],
   "source": [
    "sf2['predicted_sentiment'] = sentiment_model.predict(sf2, output_type='probability')"
   ]
  },
  {
   "cell_type": "code",
   "execution_count": 217,
   "metadata": {
    "collapsed": false
   },
   "outputs": [
    {
     "data": {
      "text/html": [
       "<div style=\"max-height:1000px;max-width:1500px;overflow:auto;\"><table frame=\"box\" rules=\"cols\">\n",
       "    <tr>\n",
       "        <th style=\"padding-left: 1em; padding-right: 1em; text-align: center\">Text</th>\n",
       "        <th style=\"padding-left: 1em; padding-right: 1em; text-align: center\">ID</th>\n",
       "        <th style=\"padding-left: 1em; padding-right: 1em; text-align: center\">predicted_sentiment</th>\n",
       "        <th style=\"padding-left: 1em; padding-right: 1em; text-align: center\">word_count</th>\n",
       "        <th style=\"padding-left: 1em; padding-right: 1em; text-align: center\">hate</th>\n",
       "        <th style=\"padding-left: 1em; padding-right: 1em; text-align: center\">ban</th>\n",
       "    </tr>\n",
       "    <tr>\n",
       "        <td style=\"padding-left: 1em; padding-right: 1em; text-align: center; vertical-align: top\">  @vimleshk659: Why don't<br>we invite  IndianArmy ...</td>\n",
       "        <td style=\"padding-left: 1em; padding-right: 1em; text-align: center; vertical-align: top\">837714040927420416L</td>\n",
       "        <td style=\"padding-left: 1em; padding-right: 1em; text-align: center; vertical-align: top\">0.124540743498</td>\n",
       "        <td style=\"padding-left: 1em; padding-right: 1em; text-align: center; vertical-align: top\">{'@vimleshk659:': 1L,<br>'we': 1L, 'for': 1L, ...</td>\n",
       "        <td style=\"padding-left: 1em; padding-right: 1em; text-align: center; vertical-align: top\">0</td>\n",
       "        <td style=\"padding-left: 1em; padding-right: 1em; text-align: center; vertical-align: top\">0</td>\n",
       "    </tr>\n",
       "    <tr>\n",
       "        <td style=\"padding-left: 1em; padding-right: 1em; text-align: center; vertical-align: top\">@advmonikaarora:<br>Communists r able 2 r ...</td>\n",
       "        <td style=\"padding-left: 1em; padding-right: 1em; text-align: center; vertical-align: top\">837713636374286336L</td>\n",
       "        <td style=\"padding-left: 1em; padding-right: 1em; text-align: center; vertical-align: top\">0.480676756611</td>\n",
       "        <td style=\"padding-left: 1em; padding-right: 1em; text-align: center; vertical-align: top\">{'jnu': 1L, 'india': 1L,<br>'siachen': 1L, 'ramjas': ...</td>\n",
       "        <td style=\"padding-left: 1em; padding-right: 1em; text-align: center; vertical-align: top\">0</td>\n",
       "        <td style=\"padding-left: 1em; padding-right: 1em; text-align: center; vertical-align: top\">0</td>\n",
       "    </tr>\n",
       "    <tr>\n",
       "        <td style=\"padding-left: 1em; padding-right: 1em; text-align: center; vertical-align: top\">@LoKarloBaatt:<br>\\u0638\\u0644\\u0645 ...</td>\n",
       "        <td style=\"padding-left: 1em; padding-right: 1em; text-align: center; vertical-align: top\">837713344979210240L</td>\n",
       "        <td style=\"padding-left: 1em; padding-right: 1em; text-align: center; vertical-align: top\">0.0539102356006</td>\n",
       "        <td style=\"padding-left: 1em; padding-right: 1em; text-align: center; vertical-align: top\">{'hae': 1L, 'ramjas': 1L,<br>'jaata': 1L, 'hadd':  ...</td>\n",
       "        <td style=\"padding-left: 1em; padding-right: 1em; text-align: center; vertical-align: top\">0</td>\n",
       "        <td style=\"padding-left: 1em; padding-right: 1em; text-align: center; vertical-align: top\">0</td>\n",
       "    </tr>\n",
       "    <tr>\n",
       "        <td style=\"padding-left: 1em; padding-right: 1em; text-align: center; vertical-align: top\">  @UmarKhalidJNU: My<br>Ramjas presetation of ...</td>\n",
       "        <td style=\"padding-left: 1em; padding-right: 1em; text-align: center; vertical-align: top\">837713227601571842L</td>\n",
       "        <td style=\"padding-left: 1em; padding-right: 1em; text-align: center; vertical-align: top\">0.714376501252</td>\n",
       "        <td style=\"padding-left: 1em; padding-right: 1em; text-align: center; vertical-align: top\">{'in': 1L, '21st': 1L,<br>'feb': 1L, '\"cultures': ...</td>\n",
       "        <td style=\"padding-left: 1em; padding-right: 1em; text-align: center; vertical-align: top\">0</td>\n",
       "        <td style=\"padding-left: 1em; padding-right: 1em; text-align: center; vertical-align: top\">0</td>\n",
       "    </tr>\n",
       "    <tr>\n",
       "        <td style=\"padding-left: 1em; padding-right: 1em; text-align: center; vertical-align: top\">@Abhina_Prakash: Massive<br>students protest against ...</td>\n",
       "        <td style=\"padding-left: 1em; padding-right: 1em; text-align: center; vertical-align: top\">837712928849690625L</td>\n",
       "        <td style=\"padding-left: 1em; padding-right: 1em; text-align: center; vertical-align: top\">0.730157785795</td>\n",
       "        <td style=\"padding-left: 1em; padding-right: 1em; text-align: center; vertical-align: top\">{'students': 1L,<br>'organisations': 1L, ...</td>\n",
       "        <td style=\"padding-left: 1em; padding-right: 1em; text-align: center; vertical-align: top\">0</td>\n",
       "        <td style=\"padding-left: 1em; padding-right: 1em; text-align: center; vertical-align: top\">0</td>\n",
       "    </tr>\n",
       "    <tr>\n",
       "        <td style=\"padding-left: 1em; padding-right: 1em; text-align: center; vertical-align: top\">  @vishalnautamlal:<br>Intensification of the ...</td>\n",
       "        <td style=\"padding-left: 1em; padding-right: 1em; text-align: center; vertical-align: top\">837711356832931840L</td>\n",
       "        <td style=\"padding-left: 1em; padding-right: 1em; text-align: center; vertical-align: top\">0.417542257668</td>\n",
       "        <td style=\"padding-left: 1em; padding-right: 1em; text-align: center; vertical-align: top\">{'ramjas': 1L, 'ghq\\xe2\\x<br>9d\\x97\\xef\\xb8\\x8f': 1L, ...</td>\n",
       "        <td style=\"padding-left: 1em; padding-right: 1em; text-align: center; vertical-align: top\">0</td>\n",
       "        <td style=\"padding-left: 1em; padding-right: 1em; text-align: center; vertical-align: top\">0</td>\n",
       "    </tr>\n",
       "    <tr>\n",
       "        <td style=\"padding-left: 1em; padding-right: 1em; text-align: center; vertical-align: top\">  @timesofindia: NSUI<br>students start 'Gift a ...</td>\n",
       "        <td style=\"padding-left: 1em; padding-right: 1em; text-align: center; vertical-align: top\">837710521545732096L</td>\n",
       "        <td style=\"padding-left: 1em; padding-right: 1em; text-align: center; vertical-align: top\">0.754991541128</td>\n",
       "        <td style=\"padding-left: 1em; padding-right: 1em; text-align: center; vertical-align: top\">{\"'gift\": 1L, 'restore':<br>1L, 'peace': 1L, 'in': ...</td>\n",
       "        <td style=\"padding-left: 1em; padding-right: 1em; text-align: center; vertical-align: top\">0</td>\n",
       "        <td style=\"padding-left: 1em; padding-right: 1em; text-align: center; vertical-align: top\">0</td>\n",
       "    </tr>\n",
       "    <tr>\n",
       "        <td style=\"padding-left: 1em; padding-right: 1em; text-align: center; vertical-align: top\">@ABVPVoice:  AntiNational<br>Slogans were Allegedly ...</td>\n",
       "        <td style=\"padding-left: 1em; padding-right: 1em; text-align: center; vertical-align: top\">837708960119533568L</td>\n",
       "        <td style=\"padding-left: 1em; padding-right: 1em; text-align: center; vertical-align: top\">0.659050980184</td>\n",
       "        <td style=\"padding-left: 1em; padding-right: 1em; text-align: center; vertical-align: top\">{'ramjas': 1L, 'aisa':<br>1L, 'shouted': 1L, ...</td>\n",
       "        <td style=\"padding-left: 1em; padding-right: 1em; text-align: center; vertical-align: top\">0</td>\n",
       "        <td style=\"padding-left: 1em; padding-right: 1em; text-align: center; vertical-align: top\">0</td>\n",
       "    </tr>\n",
       "    <tr>\n",
       "        <td style=\"padding-left: 1em; padding-right: 1em; text-align: center; vertical-align: top\">WakeUpYuva First<br>JNUShame &amp;amp; now ...</td>\n",
       "        <td style=\"padding-left: 1em; padding-right: 1em; text-align: center; vertical-align: top\">837708676366487552L</td>\n",
       "        <td style=\"padding-left: 1em; padding-right: 1em; text-align: center; vertical-align: top\">0.480625974259</td>\n",
       "        <td style=\"padding-left: 1em; padding-right: 1em; text-align: center; vertical-align: top\">{'traitors': 1L,<br>'ramjas': 1L, ...</td>\n",
       "        <td style=\"padding-left: 1em; padding-right: 1em; text-align: center; vertical-align: top\">0</td>\n",
       "        <td style=\"padding-left: 1em; padding-right: 1em; text-align: center; vertical-align: top\">0</td>\n",
       "    </tr>\n",
       "    <tr>\n",
       "        <td style=\"padding-left: 1em; padding-right: 1em; text-align: center; vertical-align: top\">@advmonikaarora: Khalid<br>not allowed 2 enter ...</td>\n",
       "        <td style=\"padding-left: 1em; padding-right: 1em; text-align: center; vertical-align: top\">837708484393197569L</td>\n",
       "        <td style=\"padding-left: 1em; padding-right: 1em; text-align: center; vertical-align: top\">0.594188619008</td>\n",
       "        <td style=\"padding-left: 1em; padding-right: 1em; text-align: center; vertical-align: top\">{'vc': 1L, 'last': 1L,<br>'office': 1L, 'jnu': 1L, ...</td>\n",
       "        <td style=\"padding-left: 1em; padding-right: 1em; text-align: center; vertical-align: top\">0</td>\n",
       "        <td style=\"padding-left: 1em; padding-right: 1em; text-align: center; vertical-align: top\">0</td>\n",
       "    </tr>\n",
       "</table>\n",
       "<table frame=\"box\" rules=\"cols\">\n",
       "    <tr>\n",
       "        <th style=\"padding-left: 1em; padding-right: 1em; text-align: center\">Ban</th>\n",
       "        <th style=\"padding-left: 1em; padding-right: 1em; text-align: center\">goons</th>\n",
       "        <th style=\"padding-left: 1em; padding-right: 1em; text-align: center\">protest</th>\n",
       "        <th style=\"padding-left: 1em; padding-right: 1em; text-align: center\">violence</th>\n",
       "        <th style=\"padding-left: 1em; padding-right: 1em; text-align: center\">sentiment</th>\n",
       "    </tr>\n",
       "    <tr>\n",
       "        <td style=\"padding-left: 1em; padding-right: 1em; text-align: center; vertical-align: top\">0</td>\n",
       "        <td style=\"padding-left: 1em; padding-right: 1em; text-align: center; vertical-align: top\">0</td>\n",
       "        <td style=\"padding-left: 1em; padding-right: 1em; text-align: center; vertical-align: top\">0</td>\n",
       "        <td style=\"padding-left: 1em; padding-right: 1em; text-align: center; vertical-align: top\">0</td>\n",
       "        <td style=\"padding-left: 1em; padding-right: 1em; text-align: center; vertical-align: top\">0</td>\n",
       "    </tr>\n",
       "    <tr>\n",
       "        <td style=\"padding-left: 1em; padding-right: 1em; text-align: center; vertical-align: top\">0</td>\n",
       "        <td style=\"padding-left: 1em; padding-right: 1em; text-align: center; vertical-align: top\">0</td>\n",
       "        <td style=\"padding-left: 1em; padding-right: 1em; text-align: center; vertical-align: top\">0</td>\n",
       "        <td style=\"padding-left: 1em; padding-right: 1em; text-align: center; vertical-align: top\">0</td>\n",
       "        <td style=\"padding-left: 1em; padding-right: 1em; text-align: center; vertical-align: top\">0</td>\n",
       "    </tr>\n",
       "    <tr>\n",
       "        <td style=\"padding-left: 1em; padding-right: 1em; text-align: center; vertical-align: top\">0</td>\n",
       "        <td style=\"padding-left: 1em; padding-right: 1em; text-align: center; vertical-align: top\">0</td>\n",
       "        <td style=\"padding-left: 1em; padding-right: 1em; text-align: center; vertical-align: top\">0</td>\n",
       "        <td style=\"padding-left: 1em; padding-right: 1em; text-align: center; vertical-align: top\">0</td>\n",
       "        <td style=\"padding-left: 1em; padding-right: 1em; text-align: center; vertical-align: top\">0</td>\n",
       "    </tr>\n",
       "    <tr>\n",
       "        <td style=\"padding-left: 1em; padding-right: 1em; text-align: center; vertical-align: top\">0</td>\n",
       "        <td style=\"padding-left: 1em; padding-right: 1em; text-align: center; vertical-align: top\">1</td>\n",
       "        <td style=\"padding-left: 1em; padding-right: 1em; text-align: center; vertical-align: top\">0</td>\n",
       "        <td style=\"padding-left: 1em; padding-right: 1em; text-align: center; vertical-align: top\">0</td>\n",
       "        <td style=\"padding-left: 1em; padding-right: 1em; text-align: center; vertical-align: top\">1</td>\n",
       "    </tr>\n",
       "    <tr>\n",
       "        <td style=\"padding-left: 1em; padding-right: 1em; text-align: center; vertical-align: top\">0</td>\n",
       "        <td style=\"padding-left: 1em; padding-right: 1em; text-align: center; vertical-align: top\">0</td>\n",
       "        <td style=\"padding-left: 1em; padding-right: 1em; text-align: center; vertical-align: top\">1</td>\n",
       "        <td style=\"padding-left: 1em; padding-right: 1em; text-align: center; vertical-align: top\">0</td>\n",
       "        <td style=\"padding-left: 1em; padding-right: 1em; text-align: center; vertical-align: top\">1</td>\n",
       "    </tr>\n",
       "    <tr>\n",
       "        <td style=\"padding-left: 1em; padding-right: 1em; text-align: center; vertical-align: top\">0</td>\n",
       "        <td style=\"padding-left: 1em; padding-right: 1em; text-align: center; vertical-align: top\">0</td>\n",
       "        <td style=\"padding-left: 1em; padding-right: 1em; text-align: center; vertical-align: top\">0</td>\n",
       "        <td style=\"padding-left: 1em; padding-right: 1em; text-align: center; vertical-align: top\">0</td>\n",
       "        <td style=\"padding-left: 1em; padding-right: 1em; text-align: center; vertical-align: top\">0</td>\n",
       "    </tr>\n",
       "    <tr>\n",
       "        <td style=\"padding-left: 1em; padding-right: 1em; text-align: center; vertical-align: top\">0</td>\n",
       "        <td style=\"padding-left: 1em; padding-right: 1em; text-align: center; vertical-align: top\">0</td>\n",
       "        <td style=\"padding-left: 1em; padding-right: 1em; text-align: center; vertical-align: top\">0</td>\n",
       "        <td style=\"padding-left: 1em; padding-right: 1em; text-align: center; vertical-align: top\">0</td>\n",
       "        <td style=\"padding-left: 1em; padding-right: 1em; text-align: center; vertical-align: top\">0</td>\n",
       "    </tr>\n",
       "    <tr>\n",
       "        <td style=\"padding-left: 1em; padding-right: 1em; text-align: center; vertical-align: top\">0</td>\n",
       "        <td style=\"padding-left: 1em; padding-right: 1em; text-align: center; vertical-align: top\">0</td>\n",
       "        <td style=\"padding-left: 1em; padding-right: 1em; text-align: center; vertical-align: top\">0</td>\n",
       "        <td style=\"padding-left: 1em; padding-right: 1em; text-align: center; vertical-align: top\">0</td>\n",
       "        <td style=\"padding-left: 1em; padding-right: 1em; text-align: center; vertical-align: top\">0</td>\n",
       "    </tr>\n",
       "    <tr>\n",
       "        <td style=\"padding-left: 1em; padding-right: 1em; text-align: center; vertical-align: top\">0</td>\n",
       "        <td style=\"padding-left: 1em; padding-right: 1em; text-align: center; vertical-align: top\">0</td>\n",
       "        <td style=\"padding-left: 1em; padding-right: 1em; text-align: center; vertical-align: top\">0</td>\n",
       "        <td style=\"padding-left: 1em; padding-right: 1em; text-align: center; vertical-align: top\">0</td>\n",
       "        <td style=\"padding-left: 1em; padding-right: 1em; text-align: center; vertical-align: top\">0</td>\n",
       "    </tr>\n",
       "    <tr>\n",
       "        <td style=\"padding-left: 1em; padding-right: 1em; text-align: center; vertical-align: top\">0</td>\n",
       "        <td style=\"padding-left: 1em; padding-right: 1em; text-align: center; vertical-align: top\">0</td>\n",
       "        <td style=\"padding-left: 1em; padding-right: 1em; text-align: center; vertical-align: top\">0</td>\n",
       "        <td style=\"padding-left: 1em; padding-right: 1em; text-align: center; vertical-align: top\">0</td>\n",
       "        <td style=\"padding-left: 1em; padding-right: 1em; text-align: center; vertical-align: top\">0</td>\n",
       "    </tr>\n",
       "</table>\n",
       "[117 rows x 11 columns]<br/>Note: Only the head of the SFrame is printed.<br/>You can use print_rows(num_rows=m, num_columns=n) to print more rows and columns.\n",
       "</div>"
      ],
      "text/plain": [
       "Columns:\n",
       "\tText\tstr\n",
       "\tID\tstr\n",
       "\tpredicted_sentiment\tfloat\n",
       "\tword_count\tdict\n",
       "\thate\tint\n",
       "\tban\tint\n",
       "\tBan\tint\n",
       "\tgoons\tint\n",
       "\tprotest\tint\n",
       "\tviolence\tint\n",
       "\tsentiment\tint\n",
       "\n",
       "Rows: 117\n",
       "\n",
       "Data:\n",
       "+-------------------------------+---------------------+---------------------+\n",
       "|              Text             |          ID         | predicted_sentiment |\n",
       "+-------------------------------+---------------------+---------------------+\n",
       "|   @vimleshk659: Why don't ... | 837714040927420416L |    0.124540743498   |\n",
       "| @advmonikaarora: Communist... | 837713636374286336L |    0.480676756611   |\n",
       "| @LoKarloBaatt: \\u0638\\u064... | 837713344979210240L |   0.0539102356006   |\n",
       "|   @UmarKhalidJNU: My  Ramj... | 837713227601571842L |    0.714376501252   |\n",
       "| @Abhina_Prakash: Massive s... | 837712928849690625L |    0.730157785795   |\n",
       "|   @vishalnautamlal: Intens... | 837711356832931840L |    0.417542257668   |\n",
       "|   @timesofindia: NSUI stud... | 837710521545732096L |    0.754991541128   |\n",
       "| @ABVPVoice:  AntiNational ... | 837708960119533568L |    0.659050980184   |\n",
       "| WakeUpYuva First  JNUShame... | 837708676366487552L |    0.480625974259   |\n",
       "| @advmonikaarora: Khalid no... | 837708484393197569L |    0.594188619008   |\n",
       "+-------------------------------+---------------------+---------------------+\n",
       "+-------------------------------+------+-----+-----+-------+---------+----------+\n",
       "|           word_count          | hate | ban | Ban | goons | protest | violence |\n",
       "+-------------------------------+------+-----+-----+-------+---------+----------+\n",
       "| {'@vimleshk659:': 1L, 'we'... |  0   |  0  |  0  |   0   |    0    |    0     |\n",
       "| {'jnu': 1L, 'india': 1L, '... |  0   |  0  |  0  |   0   |    0    |    0     |\n",
       "| {'hae': 1L, 'ramjas': 1L, ... |  0   |  0  |  0  |   0   |    0    |    0     |\n",
       "| {'in': 1L, '21st': 1L, 'fe... |  0   |  0  |  0  |   1   |    0    |    0     |\n",
       "| {'students': 1L, 'organisa... |  0   |  0  |  0  |   0   |    1    |    0     |\n",
       "| {'ramjas': 1L, 'ghq\\xe2\\x9... |  0   |  0  |  0  |   0   |    0    |    0     |\n",
       "| {\"'gift\": 1L, 'restore': 1... |  0   |  0  |  0  |   0   |    0    |    0     |\n",
       "| {'ramjas': 1L, 'aisa': 1L,... |  0   |  0  |  0  |   0   |    0    |    0     |\n",
       "| {'traitors': 1L, 'ramjas':... |  0   |  0  |  0  |   0   |    0    |    0     |\n",
       "| {'vc': 1L, 'last': 1L, 'of... |  0   |  0  |  0  |   0   |    0    |    0     |\n",
       "+-------------------------------+------+-----+-----+-------+---------+----------+\n",
       "+-----------+\n",
       "| sentiment |\n",
       "+-----------+\n",
       "|     0     |\n",
       "|     0     |\n",
       "|     0     |\n",
       "|     1     |\n",
       "|     1     |\n",
       "|     0     |\n",
       "|     0     |\n",
       "|     0     |\n",
       "|     0     |\n",
       "|     0     |\n",
       "+-----------+\n",
       "[117 rows x 11 columns]\n",
       "Note: Only the head of the SFrame is printed.\n",
       "You can use print_rows(num_rows=m, num_columns=n) to print more rows and columns."
      ]
     },
     "execution_count": 217,
     "metadata": {},
     "output_type": "execute_result"
    }
   ],
   "source": [
    "sf2"
   ]
  },
  {
   "cell_type": "code",
   "execution_count": 221,
   "metadata": {
    "collapsed": false
   },
   "outputs": [],
   "source": [
    "sf3=sf2[['Text','ID','predicted_sentiment']]"
   ]
  },
  {
   "cell_type": "code",
   "execution_count": 222,
   "metadata": {
    "collapsed": false
   },
   "outputs": [
    {
     "data": {
      "text/html": [
       "<div style=\"max-height:1000px;max-width:1500px;overflow:auto;\"><table frame=\"box\" rules=\"cols\">\n",
       "    <tr>\n",
       "        <th style=\"padding-left: 1em; padding-right: 1em; text-align: center\">Text</th>\n",
       "        <th style=\"padding-left: 1em; padding-right: 1em; text-align: center\">ID</th>\n",
       "        <th style=\"padding-left: 1em; padding-right: 1em; text-align: center\">predicted_sentiment</th>\n",
       "    </tr>\n",
       "    <tr>\n",
       "        <td style=\"padding-left: 1em; padding-right: 1em; text-align: center; vertical-align: top\">  @vimleshk659: Why don't<br>we invite  IndianArmy ...</td>\n",
       "        <td style=\"padding-left: 1em; padding-right: 1em; text-align: center; vertical-align: top\">837714040927420416L</td>\n",
       "        <td style=\"padding-left: 1em; padding-right: 1em; text-align: center; vertical-align: top\">0.124540743498</td>\n",
       "    </tr>\n",
       "    <tr>\n",
       "        <td style=\"padding-left: 1em; padding-right: 1em; text-align: center; vertical-align: top\">@advmonikaarora:<br>Communists r able 2 r ...</td>\n",
       "        <td style=\"padding-left: 1em; padding-right: 1em; text-align: center; vertical-align: top\">837713636374286336L</td>\n",
       "        <td style=\"padding-left: 1em; padding-right: 1em; text-align: center; vertical-align: top\">0.480676756611</td>\n",
       "    </tr>\n",
       "    <tr>\n",
       "        <td style=\"padding-left: 1em; padding-right: 1em; text-align: center; vertical-align: top\">@LoKarloBaatt:<br>\\u0638\\u0644\\u0645 ...</td>\n",
       "        <td style=\"padding-left: 1em; padding-right: 1em; text-align: center; vertical-align: top\">837713344979210240L</td>\n",
       "        <td style=\"padding-left: 1em; padding-right: 1em; text-align: center; vertical-align: top\">0.0539102356006</td>\n",
       "    </tr>\n",
       "    <tr>\n",
       "        <td style=\"padding-left: 1em; padding-right: 1em; text-align: center; vertical-align: top\">  @UmarKhalidJNU: My<br>Ramjas presetation of ...</td>\n",
       "        <td style=\"padding-left: 1em; padding-right: 1em; text-align: center; vertical-align: top\">837713227601571842L</td>\n",
       "        <td style=\"padding-left: 1em; padding-right: 1em; text-align: center; vertical-align: top\">0.714376501252</td>\n",
       "    </tr>\n",
       "    <tr>\n",
       "        <td style=\"padding-left: 1em; padding-right: 1em; text-align: center; vertical-align: top\">@Abhina_Prakash: Massive<br>students protest against ...</td>\n",
       "        <td style=\"padding-left: 1em; padding-right: 1em; text-align: center; vertical-align: top\">837712928849690625L</td>\n",
       "        <td style=\"padding-left: 1em; padding-right: 1em; text-align: center; vertical-align: top\">0.730157785795</td>\n",
       "    </tr>\n",
       "    <tr>\n",
       "        <td style=\"padding-left: 1em; padding-right: 1em; text-align: center; vertical-align: top\">  @vishalnautamlal:<br>Intensification of the ...</td>\n",
       "        <td style=\"padding-left: 1em; padding-right: 1em; text-align: center; vertical-align: top\">837711356832931840L</td>\n",
       "        <td style=\"padding-left: 1em; padding-right: 1em; text-align: center; vertical-align: top\">0.417542257668</td>\n",
       "    </tr>\n",
       "    <tr>\n",
       "        <td style=\"padding-left: 1em; padding-right: 1em; text-align: center; vertical-align: top\">  @timesofindia: NSUI<br>students start 'Gift a ...</td>\n",
       "        <td style=\"padding-left: 1em; padding-right: 1em; text-align: center; vertical-align: top\">837710521545732096L</td>\n",
       "        <td style=\"padding-left: 1em; padding-right: 1em; text-align: center; vertical-align: top\">0.754991541128</td>\n",
       "    </tr>\n",
       "    <tr>\n",
       "        <td style=\"padding-left: 1em; padding-right: 1em; text-align: center; vertical-align: top\">@ABVPVoice:  AntiNational<br>Slogans were Allegedly ...</td>\n",
       "        <td style=\"padding-left: 1em; padding-right: 1em; text-align: center; vertical-align: top\">837708960119533568L</td>\n",
       "        <td style=\"padding-left: 1em; padding-right: 1em; text-align: center; vertical-align: top\">0.659050980184</td>\n",
       "    </tr>\n",
       "    <tr>\n",
       "        <td style=\"padding-left: 1em; padding-right: 1em; text-align: center; vertical-align: top\">WakeUpYuva First<br>JNUShame &amp;amp; now ...</td>\n",
       "        <td style=\"padding-left: 1em; padding-right: 1em; text-align: center; vertical-align: top\">837708676366487552L</td>\n",
       "        <td style=\"padding-left: 1em; padding-right: 1em; text-align: center; vertical-align: top\">0.480625974259</td>\n",
       "    </tr>\n",
       "    <tr>\n",
       "        <td style=\"padding-left: 1em; padding-right: 1em; text-align: center; vertical-align: top\">@advmonikaarora: Khalid<br>not allowed 2 enter ...</td>\n",
       "        <td style=\"padding-left: 1em; padding-right: 1em; text-align: center; vertical-align: top\">837708484393197569L</td>\n",
       "        <td style=\"padding-left: 1em; padding-right: 1em; text-align: center; vertical-align: top\">0.594188619008</td>\n",
       "    </tr>\n",
       "</table>\n",
       "[117 rows x 3 columns]<br/>Note: Only the head of the SFrame is printed.<br/>You can use print_rows(num_rows=m, num_columns=n) to print more rows and columns.\n",
       "</div>"
      ],
      "text/plain": [
       "Columns:\n",
       "\tText\tstr\n",
       "\tID\tstr\n",
       "\tpredicted_sentiment\tfloat\n",
       "\n",
       "Rows: 117\n",
       "\n",
       "Data:\n",
       "+-------------------------------+---------------------+---------------------+\n",
       "|              Text             |          ID         | predicted_sentiment |\n",
       "+-------------------------------+---------------------+---------------------+\n",
       "|   @vimleshk659: Why don't ... | 837714040927420416L |    0.124540743498   |\n",
       "| @advmonikaarora: Communist... | 837713636374286336L |    0.480676756611   |\n",
       "| @LoKarloBaatt: \\u0638\\u064... | 837713344979210240L |   0.0539102356006   |\n",
       "|   @UmarKhalidJNU: My  Ramj... | 837713227601571842L |    0.714376501252   |\n",
       "| @Abhina_Prakash: Massive s... | 837712928849690625L |    0.730157785795   |\n",
       "|   @vishalnautamlal: Intens... | 837711356832931840L |    0.417542257668   |\n",
       "|   @timesofindia: NSUI stud... | 837710521545732096L |    0.754991541128   |\n",
       "| @ABVPVoice:  AntiNational ... | 837708960119533568L |    0.659050980184   |\n",
       "| WakeUpYuva First  JNUShame... | 837708676366487552L |    0.480625974259   |\n",
       "| @advmonikaarora: Khalid no... | 837708484393197569L |    0.594188619008   |\n",
       "+-------------------------------+---------------------+---------------------+\n",
       "[117 rows x 3 columns]\n",
       "Note: Only the head of the SFrame is printed.\n",
       "You can use print_rows(num_rows=m, num_columns=n) to print more rows and columns."
      ]
     },
     "execution_count": 222,
     "metadata": {},
     "output_type": "execute_result"
    }
   ],
   "source": [
    "sf3"
   ]
  },
  {
   "cell_type": "code",
   "execution_count": 225,
   "metadata": {
    "collapsed": false
   },
   "outputs": [],
   "source": [
    "sf3 = sf3.sort('predicted_sentiment', ascending=False)"
   ]
  },
  {
   "cell_type": "code",
   "execution_count": 226,
   "metadata": {
    "collapsed": false
   },
   "outputs": [
    {
     "name": "stdout",
     "output_type": "stream",
     "text": [
      "+-------------------------------+---------------------+---------------------+\n",
      "|              Text             |          ID         | predicted_sentiment |\n",
      "+-------------------------------+---------------------+---------------------+\n",
      "| @ShariqAnsar: What is comm... | 837685431575658498L |    0.999295724422   |\n",
      "| @ShariqAnsar: What is comm... | 837693160755081216L |    0.999295724422   |\n",
      "| @AAPforINDIA: Modi Ji supp... | 837672103751139332L |    0.999101793738   |\n",
      "| @AAPforINDIA: Modi Ji supp... | 837656915610066944L |    0.999101793738   |\n",
      "| If u r against what happen... | 837687736077176833L |    0.989086934996   |\n",
      "|   @MTVIndia: \"IT'S NOT POL... | 837674907974664195L |    0.964484652423   |\n",
      "|   @MTVIndia: \"IT'S NOT POL... | 837658665570070529L |    0.964484652423   |\n",
      "| @AskRaushan: the nation is... | 838042099983478784L |    0.962517074675   |\n",
      "| @AskRaushan: the nation is... | 838038854619770880L |    0.962517074675   |\n",
      "| @AskRaushan: the nation is... | 838045353337372675L |    0.962517074675   |\n",
      "| @surnell news about  Ramja... | 837699298447917056L |    0.960417455258   |\n",
      "| u'#RamjasRow : ABVP \\u0915... | 838059916053053441L |    0.935907532584   |\n",
      "| @sunilrajguru:  Gurmehar  ... | 837682457155493889L |    0.934364597441   |\n",
      "|   @SirJadeja: Dear Student... | 837708315568320512L |    0.917623323998   |\n",
      "| \\u0926\\u0947\\u0936 \\u0915\\... | 837652641169752064L |    0.911127581102   |\n",
      "| @myvotetoday: \\u0915\\u094d... | 838051338349084672L |    0.910245958485   |\n",
      "| @sachoubey:  ABVP \\u0915\\u... | 837652469316468740L |    0.894029462481   |\n",
      "| @sachoubey:  ABVP \\u0915\\u... | 837668160073424898L |    0.894029462481   |\n",
      "| @sachoubey:  ABVP \\u0915\\u... | 837660612373053440L |    0.894029462481   |\n",
      "| u'\\u0915\\u094d\\u092f\\u093e... | 838026871392522241L |    0.846413543797   |\n",
      "| Hahah no wonder tht man ba... | 837674456495464448L |    0.845839991058   |\n",
      "| @YesIamSaffron: Must Watch... | 838025163530698752L |    0.843255379564   |\n",
      "| ABVP  SFD  GUNA \\u0928\\u09... | 837650897991790592L |    0.840249802251   |\n",
      "| If something unfortunate h... | 838046588937261057L |    0.838211301332   |\n",
      "| @Rkdruggist: Dear @mehartw... | 838043233863233537L |    0.835993855555   |\n",
      "| @myvotetoday: Was the #Ram... | 838051276768194561L |    0.832182004871   |\n",
      "| @myvotetoday: Was the #Ram... | 838042405131669504L |    0.832182004871   |\n",
      "| @myvotetoday: Was the #Ram... | 838051839107035136L |    0.832182004871   |\n",
      "| @myvotetoday: Was the #Ram... | 838059599135555584L |    0.832182004871   |\n",
      "| @myvotetoday: Was the #Ram... | 838050182042386432L |    0.832182004871   |\n",
      "| @myvotetoday: Was the #Ram... | 838049502288216064L |    0.832182004871   |\n",
      "| @ANI_news @SecularFraud gu... | 837674311787900928L |    0.831828711536   |\n",
      "| @TheQuint:  Ramjas College... | 837706243741528065L |    0.825378003657   |\n",
      "| @iftikharfariha: Students ... | 838057150882660353L |    0.785967282431   |\n",
      "| @shivamshukla242: \\u092d\\u... | 837677331665780738L |    0.760933305238   |\n",
      "|   @timesofindia: NSUI stud... | 837699237076951040L |    0.754991541128   |\n",
      "|   @timesofindia: NSUI stud... | 837710521545732096L |    0.754991541128   |\n",
      "|   @ANI_news: Delhi: NSUI s... | 837689947922513923L |    0.754991541128   |\n",
      "| @harishchawla74: \\u0936\\u0... | 838057930012393473L |    0.744591709662   |\n",
      "| @manoharparrikar @narendra... | 837697574823845888L |    0.735189519262   |\n",
      "| @Abhina_Prakash: Massive s... | 837678630062944257L |    0.730157785795   |\n",
      "| @Abhina_Prakash: Massive s... | 837712928849690625L |    0.730157785795   |\n",
      "|  .@RakeshSinha01 They go g... | 837660027921936385L |    0.723742239934   |\n",
      "|   @UmarKhalidJNU: My  Ramj... | 837713227601571842L |    0.714376501252   |\n",
      "| Kanhaiya faced University ... | 837683934335012864L |    0.71384468214    |\n",
      "| @rishibagree: We live in a... | 837687815810985985L |    0.678729434759   |\n",
      "| @News18India: #RamjasRow \\... | 838052304418791424L |    0.667177209645   |\n",
      "| @rishibagree: Our army is ... | 837688435620069376L |    0.662766493056   |\n",
      "| @ndtvindia: #JNU \\u0915\\u0... | 838035392309956608L |    0.661390467497   |\n",
      "| @archana651: \\u0932\\u0939\\... | 838025467680731138L |    0.660805927164   |\n",
      "| @ABVPVoice:  AntiNational ... | 837708960119533568L |    0.659050980184   |\n",
      "| @ABVPVoice\\n\\u0907\\u0924\\u... | 837699078431588352L |    0.649138908928   |\n",
      "| u'\\u0936\\u0939\\u0940\\u0926... | 838024661665529859L |    0.636286257859   |\n",
      "| JNU \\u0914\\u0930  RAMJAS  ... | 837684532253978629L |    0.60066845445    |\n",
      "| @advmonikaarora: Khalid no... | 837708484393197569L |    0.594188619008   |\n",
      "| u'#ramjasrow is it necessa... | 838018805645312000L |    0.590400093398   |\n",
      "| If its JNU or  Ramjas @abv... | 837697426689437697L |    0.583072307278   |\n",
      "| @agrwal_akhil: @ArvindKejr... | 837657032505319424L |    0.581378639613   |\n",
      "| @SirJadeja: Finally The Tr... | 838031308949504006L |    0.566377215843   |\n",
      "| @Pervertigaar:  Ramjas col... | 837649926867804160L |    0.558731128185   |\n",
      "| @waglenikhil: A must watch... | 837675916511838209L |    0.541622554885   |\n",
      "| @waglenikhil: A must watch... | 837705331065028608L |    0.541622554885   |\n",
      "| @Maharashtra1tv: VIDEO : \\... | 837680783544446976L |    0.522978322237   |\n",
      "| VIDEO : \\u0930\\u093e\\u092e... | 837680689331990528L |    0.522978322237   |\n",
      "| @vikrantkumar: \\U0001f601\\... | 838059901863641089L |    0.514312374774   |\n",
      "| @vikrantkumar: \\U0001f601\\... | 838048894273667072L |    0.514312374774   |\n",
      "| @AndColorPockeT  Ramjas me... | 837687863848337408L |    0.50689961202    |\n",
      "|  कुछ लोग देश तोङने की बाते... | 837681422852751360L |    0.485531720257   |\n",
      "|   u'मार्च आ गया\\nजल्दी आयकर...  | 838040953696976896L |    0.485531720257   |\n",
      "| @News18India: #Ramjasrow \\... | 838029374872031233L |    0.484265573437   |\n",
      "| @SherESharma: Watch @nsui ... | 838021064789733376L |    0.481948103017   |\n",
      "| @advmonikaarora: Communist... | 837713636374286336L |    0.480676756611   |\n",
      "| WakeUpYuva First  JNUShame... | 837708676366487552L |    0.480625974259   |\n",
      "| u'My article on the #Ramja... | 838024862325055489L |    0.448448440763   |\n",
      "|   @sakshichand8: Protestor... | 838043377039896576L |    0.430791434719   |\n",
      "| @NagarJitendra: #abhisaar_... | 838054951662288897L |    0.427986248183   |\n",
      "| @NagarJitendra: #abhisaar_... | 838025681212739588L |    0.427986248183   |\n",
      "| @NagarJitendra: #abhisaar_... | 838029170684923904L |    0.427986248183   |\n",
      "| @NagarJitendra: #abhisaar_... | 838034801290579968L |    0.427986248183   |\n",
      "| @NagarJitendra: #abhisaar_... | 838038790572691457L |    0.427986248183   |\n",
      "| @NagarJitendra: #abhisaar_... | 838044895801655297L |    0.427986248183   |\n",
      "| @News18India: \\u090f\\u092c... | 838058708236140544L |    0.42707359805    |\n",
      "|   @vishalnautamlal: Intens... | 837711356832931840L |    0.417542257668   |\n",
      "| @rawat_narayan: Anti-Natio... | 838052086059319297L |    0.401434183836   |\n",
      "| @rawat_narayan: Anti-Natio... | 838023198608355329L |    0.401434183836   |\n",
      "|   @sandhyatimes4u: Hello R... | 838019772671537152L |    0.379133942801   |\n",
      "|   @sandhyatimes4u: Hello R... | 838047011903504384L |    0.379133942801   |\n",
      "| @Outlookindia: Last yr JNU... | 837691534069927937L |    0.354604357343   |\n",
      "| @Outlookindia: Last yr JNU... | 837687822421225473L |    0.354604357343   |\n",
      "|   @firstpost:  Ramjas row:... | 837674321728454656L |    0.347769704806   |\n",
      "| #leftlib #india #IndiaFirs... | 838041013780348929L |    0.313868925093   |\n",
      "|    @jat_ra: मैकाले द्वारा स... | 838029570175455233L |    0.313868925093   |\n",
      "|    @jat_ra: मैकाले द्वारा स... | 838030205033668609L |    0.313868925093   |\n",
      "| u'AZAADI&lt;ZIMMEDARI \\n#A... | 838024835762630656L |    0.30188067439    |\n",
      "| #\\u092e\\u094b\\u0926\\u0940\\... | 838045884034199552L |    0.278049692122   |\n",
      "| @vaandematram: #\\u092e\\u09... | 838046875840360448L |    0.278049692122   |\n",
      "| @Rkumars99: \\u0917\\u0941\\u... | 838024586838994944L |    0.20809881223    |\n",
      "|   @firstpost:  PranabMukhe... | 837666019556614145L |    0.20742612658    |\n",
      "| @mwh_Pramod: This we call ... | 838023765682442242L |    0.18622088335    |\n",
      "| @AbhishekVermaG: &gt;3000 ... | 837677569327652864L |    0.185942104085   |\n",
      "| @AbhishekVermaG: &gt;3000 ... | 837658331774754816L |    0.185942104085   |\n",
      "| Brilliantly mind-blowing  ... | 837689050932908034L |    0.157249442463   |\n",
      "| 83% voters on this poll be... | 838048410099855360L |    0.154865808944   |\n",
      "| @TheQuint how about this? ... | 837660498267156482L |    0.138054902979   |\n",
      "|   @Mehta19Brijesh: #Gurmeh... | 838022788053020672L |    0.134646517915   |\n",
      "|   @vimleshk659: Why don't ... | 837714040927420416L |    0.124540743498   |\n",
      "| \\u0915\\u094c\\u0928 \\u0915\\... | 837650781952081920L |    0.116973423048   |\n",
      "|  u\"Been very busy lately b... | 838029844487221249L |   0.0943968095388   |\n",
      "| Post  Ramjas Tension in  P... | 837684815621021698L |   0.0888734245396   |\n",
      "| @nuclearprakashk:  Ramjas ... | 837670410695016448L |   0.0856163540757   |\n",
      "|   @JhaRahul_Bihar: Nationa... | 838039209072078853L |   0.0829088680802   |\n",
      "| Pornology class at #JNU #R... | 838047757575340037L |   0.0710489998481   |\n",
      "| u'@iamrana so #delhiuniver... | 838026285922177025L |   0.0687909145454   |\n",
      "| @LoKarloBaatt: \\u0638\\u064... | 837713344979210240L |   0.0539102356006   |\n",
      "| u'@News18India #RamjasRow ... | 838024766904750081L |   0.0372104238197   |\n",
      "| @abhilash_abvp:  ISupportA... | 837672875767259136L |   0.0282544264422   |\n",
      "| u'#GurMehar #JNUAzaadiLeag... | 838028535344295937L |   0.00335499325026  |\n",
      "+-------------------------------+---------------------+---------------------+\n",
      "[117 rows x 3 columns]\n",
      "\n"
     ]
    }
   ],
   "source": [
    "sf3.print_rows(num_rows=117, num_columns=3)"
   ]
  },
  {
   "cell_type": "code",
   "execution_count": null,
   "metadata": {
    "collapsed": true
   },
   "outputs": [],
   "source": []
  }
 ],
 "metadata": {
  "kernelspec": {
   "display_name": "Python 2",
   "language": "python",
   "name": "python2"
  },
  "language_info": {
   "codemirror_mode": {
    "name": "ipython",
    "version": 2
   },
   "file_extension": ".py",
   "mimetype": "text/x-python",
   "name": "python",
   "nbconvert_exporter": "python",
   "pygments_lexer": "ipython2",
   "version": "2.7.11"
  }
 },
 "nbformat": 4,
 "nbformat_minor": 0
}
